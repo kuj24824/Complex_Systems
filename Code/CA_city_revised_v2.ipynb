{
 "cells": [
  {
   "cell_type": "code",
   "execution_count": 2,
   "metadata": {},
   "outputs": [],
   "source": [
    "import math\n",
    "import numpy as np\n",
    "import matplotlib.pyplot as plt"
   ]
  },
  {
   "cell_type": "code",
   "execution_count": 3,
   "metadata": {},
   "outputs": [],
   "source": [
    "import numpy as np\n",
    "import matplotlib.pyplot as plt\n",
    "\n",
    "# Constants\n",
    "grid_size = 50\n",
    "states = {'V': 0, 'H': 1, 'I': 2, 'C': 3}  # V: vacant, H: housing, I: industrial, C: commercial\n",
    " \n",
    "num_iterations = 30  # Number of iterations\n",
    "\n",
    "# Initialize the grid and counts\n",
    "\n",
    "counts = {0: grid_size * grid_size, 1: 0, 2: 0, 3: 0}\n",
    "\n",
    "def initial_land_use(seed_number, grid_size, plot=True):\n",
    "    np.random.seed(seed_number)\n",
    "    \n",
    "    grid = np.zeros((grid_size, grid_size), dtype=int)\n",
    "\n",
    "    # Define initial conditions\n",
    "    center_x, center_y = grid_size // 2, grid_size // 2\n",
    "    \n",
    "    # Randomly select positions for commercial cells\n",
    "    commercial_cells = []\n",
    "    num_commercial = 3\n",
    "    min_dist_commercial = 1  # Minimum distance from center\n",
    "    \n",
    "    while len(commercial_cells) < num_commercial:\n",
    "        x = np.random.randint(center_x - min_dist_commercial, center_x + min_dist_commercial + 1)\n",
    "        y = np.random.randint(center_y - min_dist_commercial, center_y + min_dist_commercial + 1)\n",
    "        if (x, y) not in commercial_cells:\n",
    "            commercial_cells.append((x, y))\n",
    "\n",
    "    residential_cells = []\n",
    "    num_residential = 25\n",
    "    min_dist = 3  # Minimum distance from commercial cells\n",
    "\n",
    "    industrial_cells = []\n",
    "    num_industrial = 4\n",
    "    min_dist_industrial = 3  # Minimum distance from commercial cells\n",
    "\n",
    "    # Generate random residential cells around the commercial area\n",
    "    while len(residential_cells) < num_residential:\n",
    "        x = np.random.randint(center_x - min_dist, center_x + min_dist + 1)\n",
    "        y = np.random.randint(center_y - min_dist, center_y + min_dist + 1)\n",
    "        if (x, y) not in commercial_cells:\n",
    "            residential_cells.append((x, y))\n",
    "\n",
    "    # Generate random industrial cells around the commercial area\n",
    "    while len(industrial_cells) < num_industrial:\n",
    "        x = np.random.randint(center_x - min_dist_industrial, center_x + min_dist_industrial + 1)\n",
    "        y = np.random.randint(center_y - min_dist_industrial, center_y + min_dist_industrial + 1)\n",
    "        if (x, y) not in commercial_cells:\n",
    "            industrial_cells.append((x, y))\n",
    "\n",
    "    # Assign initial land use types\n",
    "    for x, y in commercial_cells:\n",
    "        grid[x, y] = states['C']  # Commercial\n",
    "    for x, y in residential_cells:\n",
    "        grid[x, y] = states['H']  # Residential\n",
    "    for x, y in industrial_cells:\n",
    "        grid[x, y] = states['I']  # Industrial\n",
    "\n",
    "    if plot:\n",
    "        # Set the figure size\n",
    "        plt.figure(figsize=(8, 8))\n",
    "        cmap = plt.cm.colors.ListedColormap(['white', 'skyblue', 'grey', 'orange'])\n",
    "        plt.imshow(grid, cmap=cmap, origin='lower', vmin=0, vmax=3)\n",
    "        plt.colorbar(ticks=[0, 1, 2, 3], label='Land Use')\n",
    "        plt.title('Initial Land Use')\n",
    "        plt.show()\n",
    "\n",
    "    return grid\n",
    "\n"
   ]
  },
  {
   "cell_type": "code",
   "execution_count": 4,
   "metadata": {},
   "outputs": [
    {
     "name": "stdout",
     "output_type": "stream",
     "text": [
      "The weight for transition=Vacant_Commerce, cell_type=H, distance_zone=1 is 3.5\n"
     ]
    }
   ],
   "source": [
    "weights_table = {\n",
    "    'Vacant_Commerce': {\n",
    "        'C': [25, 25, 25, -1, -1, -1, -1, -1, -1, -1, -1, -1, -1, -1, -1, -1, -1, -1],\n",
    "        'I': [0]*18,\n",
    "        'H': [4, 3.5, 3, 2.5, 2, 2, 2, 1.5, 1.5, 1.5, 1.5, 1, 1, 1, 1, 1, 1, 1],\n",
    "        'V': [0]*18\n",
    "    },\n",
    "    'Vacant_Industry': {\n",
    "        'C': [0]*18,\n",
    "        'I': [3, 3, 2, 1, 0, 0.2, 0.2, 0.2, 0.2, 0.2, 0.2, 0.2, 0.2, 0.2, 0.2, 0.2, 0.2, 0.2],\n",
    "        'H': [-1, -1, 0] + [0]*15,\n",
    "        'V': [0]*18\n",
    "    },\n",
    "    'Vacant_Housing': {\n",
    "        'C': [-2, -1, 2, 1, 1, 1, 0.5, 0.5, 0.4, 0.3, 0.2, 0.1, 0.1, 0.1, 0, 0, 0, 0],\n",
    "        'I': [-10, -10, -5, -3, -1] + [0]*13,\n",
    "        'H': [2, 2, 1.5, 1.5, 1, 1, 1, 1, 0.5, 0.5, 0.5, 0.5, 0.5, 0.1, 0.1, 0.1, 0.1, 0.1],\n",
    "        'V': [0]*18\n",
    "    },\n",
    "    'Industry_Commerce': {\n",
    "        'C': [25, 25, 25, -2, -2, -2, -2, -2, -2, -2, -2, -2, -2, -2, -2, -2, -2, -2],\n",
    "        'I': [-2, -2, -2] + [0]*15,\n",
    "        'H': [4, 3.5, 3, 2.5, 2, 2, 2, 1.5, 1.5, 1.5, 1.5, 1, 1, 1, 1, 1, 1, 1],\n",
    "        'V': [0]*18\n",
    "    },\n",
    "    'Industry_Industry': {\n",
    "        'C': [0]*18,\n",
    "        'I': [0]*18,\n",
    "        'H': [0]*18,\n",
    "        'V': [0]*18\n",
    "    },\n",
    "    'Industry_Housing': {\n",
    "        'C': [0]*18,\n",
    "        'I': [0]*18,\n",
    "        'H': [0]*18,\n",
    "        'V': [0]*18\n",
    "    },\n",
    "    'Housing_Commerce': {\n",
    "        'C': [25, 25, 25, -2, -2, -2, -2, -2, -2, -2, -2, -2, -2, -2, -2, -2, -2, -2],\n",
    "        'I': [-10, -10, -5, -3, -1] + [0]*13,\n",
    "        'H': [4, 3.5, 3, 2.5, 2, 2, 2, 1.5, 1.5, 1.5, 1.5, 1, 1, 1, 1, 1, 1, 1],\n",
    "        'V': [0]*18\n",
    "    },\n",
    "    'Housing_Industry': {\n",
    "        'C': [0]*18,\n",
    "        'I': [3, 3, 2, 1, 0, 0.2, 0.2, 0.2, 0.2, 0.2, 0.2, 0.2, 0.2, 0.2, 0.2, 0.2, 0.2, 0.2],\n",
    "        'H': [-1, -1, 0] + [0]*15,\n",
    "        'V': [0]*18\n",
    "    },\n",
    "    'Housing_Housing': {\n",
    "        'C': [0]*18,\n",
    "        'I': [0]*18,\n",
    "        'H': [0]*18,\n",
    "        'V': [0]*18\n",
    "    },\n",
    "}\n",
    "\n",
    "# Test of accessing a weight:\n",
    "transition = 'Vacant_Commerce'\n",
    "cell_type = 'H'\n",
    "distance_zone = 1\n",
    "# This is distance zone is from 0 to 17\n",
    "weight = weights_table[transition][cell_type][distance_zone]\n",
    "print(f\"The weight for transition={transition}, cell_type={cell_type}, distance_zone={distance_zone} is {weight}\")\n"
   ]
  },
  {
   "cell_type": "code",
   "execution_count": 5,
   "metadata": {},
   "outputs": [],
   "source": [
    "\n",
    "def get_distance_zone(distance):\n",
    "    zone_mapping = {0: 1, 1: 1.4, 2: 2, 3: 2.2, 4: 2.8, 5: 3, 6: 3.2, 7: 3.6, 8: 4, 9: 4.1, 10: 4.2, 11: 4.5, 12: 5, 13: 5.1, 14: 5.4, 15: 5.7, 16: 5.8, 17: 6}\n",
    "    for zone, max_distance in reversed(list(zone_mapping.items())):\n",
    "        if distance >= max_distance:\n",
    "            return zone\n",
    "    return 0  # Return 0 if distance is less than the minimum specified distance\n",
    "\n",
    "def get_neighbourhood(grid, row, col, radius):\n",
    "    rows, cols = grid.shape\n",
    "    square_row_range = range(max(0, row - radius), min(rows, row + radius + 1))\n",
    "    square_col_range = range(max(0, col - radius), min(cols, col + radius + 1))\n",
    "    square_neighbourhood = grid[np.ix_(square_row_range, square_col_range)]\n",
    "    circle_mask = np.zeros_like(square_neighbourhood, dtype=bool)\n",
    "    distance_zones = np.zeros_like(square_neighbourhood, dtype=int)\n",
    "    # Adjusted center coordinates inside the neighbourhood\n",
    "    center = min(row, radius), min(col, radius)\n",
    "    for i in range(square_neighbourhood.shape[0]):\n",
    "        for j in range(square_neighbourhood.shape[1]):\n",
    "            distance = np.sqrt((center[0] - i) ** 2 + (center[1] - j) ** 2)\n",
    "            if distance <= radius:\n",
    "                circle_mask[i, j] = True\n",
    "                distance_zones[i, j] = get_distance_zone(distance)\n",
    "    circle_mask[center] = False  # Exclude the center cell\n",
    "    return square_neighbourhood[circle_mask], distance_zones[circle_mask]\n",
    "\n",
    "\n",
    "\n",
    "\n",
    "def cell_type_to_states(state):\n",
    "    if state == 'Vacant':\n",
    "        return 0\n",
    "    elif state == 'Housing':\n",
    "        return 1\n",
    "    elif state == 'Industry':\n",
    "        return 2\n",
    "    elif state == 'Commerce':\n",
    "        return 3\n",
    "\n",
    "def states_to_cell_type(state):\n",
    "    if state == 0:\n",
    "        return 'V'\n",
    "    elif state == 1:\n",
    "        return 'H'\n",
    "    elif state == 2:\n",
    "        return 'I'\n",
    "    elif state == 3:\n",
    "        return 'C'\n",
    "\n",
    "\n",
    "def calculate_transition_potentials(grid, alpha, weights_table, radius):\n",
    "    transition_potentials = np.zeros((grid.shape[0], grid.shape[1], 4))  # 4 possible states\n",
    "    transitions = ['Vacant_Commerce', 'Vacant_Industry', 'Vacant_Housing', 'Industry_Commerce', 'Industry_Industry',\n",
    "                   'Industry_Housing', 'Housing_Commerce', 'Housing_Industry', 'Housing_Housing']\n",
    "    \n",
    "    for i in range(grid.shape[0]):\n",
    "        for j in range(grid.shape[1]):\n",
    "            neighbourhood, distance_zones = get_neighbourhood(grid, i, j, radius)\n",
    "            for transition in transitions:\n",
    "                # Extract the current state and desired state from the transition string\n",
    "                current_state, desired_state = transition.split('_')\n",
    "                \n",
    "                current_state_num = cell_type_to_states(current_state)\n",
    "                desired_state_num = cell_type_to_states(desired_state)\n",
    "                \n",
    "            \n",
    "                if grid[i, j] == current_state_num:\n",
    "                    sum_weights = 0\n",
    "                    for neighbor_state, distance_zone in zip(neighbourhood, distance_zones):\n",
    "                        \n",
    "                        neighbor_type = states_to_cell_type(neighbor_state)\n",
    "                        \n",
    "                        m_kd = weights_table[transition][neighbor_type][distance_zone]\n",
    "\n",
    "                        if neighbor_state == desired_state_num:\n",
    "                            sum_weights += m_kd\n",
    "\n",
    "                    \n",
    "                    R = np.random.uniform(0, 1)\n",
    "                    S = 1 + (-math.log(R))**alpha\n",
    "                    transition_potentials[i, j, desired_state_num] = S * (1 + sum_weights)\n",
    "    return transition_potentials\n",
    "\n",
    "\n",
    "\n",
    "\n",
    "\n"
   ]
  },
  {
   "cell_type": "code",
   "execution_count": 6,
   "metadata": {},
   "outputs": [
    {
     "name": "stdout",
     "output_type": "stream",
     "text": [
      "Transition Potentials:\n",
      "[[[ 0.          0.          0.          0.        ]\n",
      "  [ 0.          7.66412404  1.1492719  33.0375949 ]\n",
      "  [ 0.          8.36355251  3.92407208 67.73659871]\n",
      "  [ 0.          7.44688104  3.00485313  1.55827032]\n",
      "  [ 0.          5.40999165  1.31706866  1.46587167]]\n",
      "\n",
      " [[ 0.         12.17722791  1.2354498  38.67326568]\n",
      "  [ 0.          1.15400307  4.01855482 29.61557177]\n",
      "  [ 0.          2.70987743  9.04221341  4.02018082]\n",
      "  [ 0.          3.56104398  4.47710226  1.31769472]\n",
      "  [ 0.         15.52900955  3.04937292  2.96896655]]\n",
      "\n",
      " [[ 0.          8.24161737  4.50751349 29.85909253]\n",
      "  [ 0.          1.56652708  4.89764101  1.4996841 ]\n",
      "  [ 0.          1.13115304  1.37908236  1.30713336]\n",
      "  [ 0.          4.61432891  4.94535355  2.43079958]\n",
      "  [ 0.         13.09875327  5.71605564  2.74434956]]\n",
      "\n",
      " [[ 0.         12.98097981  2.11996323  1.46455987]\n",
      "  [ 0.          1.94104736 17.33417687  2.95850682]\n",
      "  [ 0.          1.46969506 10.09147309  1.17374498]\n",
      "  [ 0.          2.18978164  4.0867211   1.45156851]\n",
      "  [ 0.         10.3937159   2.47861764  2.48244237]]\n",
      "\n",
      " [[ 0.          4.83762248  1.12871293  1.20844224]\n",
      "  [ 0.         12.20048973  1.28573631  2.1582966 ]\n",
      "  [ 0.         26.31751681  5.1279164   1.08433691]\n",
      "  [ 0.          7.75267635  3.19706312  3.31881332]\n",
      "  [ 0.          4.35306366  2.86017628  1.0652013 ]]]\n"
     ]
    }
   ],
   "source": [
    "test_grid = np.array([\n",
    "    [3, 0, 0, 0, 0],\n",
    "    [0, 1, 1, 1, 0],\n",
    "    [0, 1, 2, 1, 0],\n",
    "    [0, 1, 1, 1, 0],\n",
    "    [0, 0, 0, 0, 0],\n",
    "])\n",
    "\n",
    "\n",
    "alpha = 1\n",
    "\n",
    "transition_potentials_test = calculate_transition_potentials(test_grid, alpha, weights_table, 2)\n",
    "print(\"Transition Potentials:\")\n",
    "print(transition_potentials_test)\n",
    "\n",
    "\n"
   ]
  },
  {
   "cell_type": "code",
   "execution_count": 13,
   "metadata": {},
   "outputs": [
    {
     "data": {
      "image/png": "[encoded data removed]",
      "text/plain": [
       "<Figure size 800x800 with 2 Axes>"
      ]
     },
     "metadata": {},
     "output_type": "display_data"
    },
    {
     "name": "stdout",
     "output_type": "stream",
     "text": [
      "Initial counts: {0: 9976, 1: 17, 2: 4, 3: 3}\n",
      "Running iteration 1...\n",
      "Counts at iteration 1: {0: 9856, 1: 114, 2: 24, 3: 6}\n",
      "Running iteration 2...\n",
      "Counts at iteration 2: {0: 9735, 1: 213, 2: 43, 3: 9}\n",
      "Running iteration 3...\n",
      "Counts at iteration 3: {0: 9615, 1: 311, 2: 62, 3: 12}\n",
      "Running iteration 4...\n",
      "Counts at iteration 4: {0: 9494, 1: 409, 2: 82, 3: 15}\n",
      "Running iteration 5...\n",
      "Counts at iteration 5: {0: 9372, 1: 508, 2: 102, 3: 18}\n",
      "Running iteration 6...\n",
      "Counts at iteration 6: {0: 9253, 1: 605, 2: 121, 3: 21}\n",
      "Running iteration 7...\n",
      "Counts at iteration 7: {0: 9136, 1: 699, 2: 141, 3: 24}\n",
      "Running iteration 8...\n",
      "Counts at iteration 8: {0: 9017, 1: 796, 2: 160, 3: 27}\n",
      "Running iteration 9...\n",
      "Counts at iteration 9: {0: 8898, 1: 893, 2: 179, 3: 30}\n",
      "Running iteration 10...\n",
      "Counts at iteration 10: {0: 8777, 1: 991, 2: 199, 3: 33}\n",
      "Running iteration 11...\n",
      "Counts at iteration 11: {0: 8659, 1: 1087, 2: 218, 3: 36}\n",
      "Running iteration 12...\n",
      "Counts at iteration 12: {0: 8540, 1: 1183, 2: 238, 3: 39}\n",
      "Running iteration 13...\n",
      "Counts at iteration 13: {0: 8425, 1: 1276, 2: 257, 3: 42}\n",
      "Running iteration 14...\n",
      "Counts at iteration 14: {0: 8306, 1: 1372, 2: 277, 3: 45}\n",
      "Running iteration 15...\n",
      "Counts at iteration 15: {0: 8189, 1: 1466, 2: 297, 3: 48}\n",
      "Running iteration 16...\n",
      "Counts at iteration 16: {0: 8076, 1: 1557, 2: 316, 3: 51}\n",
      "Running iteration 17...\n",
      "Counts at iteration 17: {0: 7958, 1: 1653, 2: 335, 3: 54}\n",
      "Running iteration 18...\n",
      "Counts at iteration 18: {0: 7845, 1: 1744, 2: 354, 3: 57}\n",
      "Running iteration 19...\n",
      "Counts at iteration 19: {0: 7728, 1: 1839, 2: 373, 3: 60}\n",
      "Running iteration 20...\n",
      "Counts at iteration 20: {0: 7614, 1: 1930, 2: 393, 3: 63}\n",
      "Running iteration 21...\n",
      "Counts at iteration 21: {0: 7502, 1: 2019, 2: 413, 3: 66}\n",
      "Running iteration 22...\n",
      "Counts at iteration 22: {0: 7386, 1: 2112, 2: 433, 3: 69}\n",
      "Running iteration 23...\n",
      "Counts at iteration 23: {0: 7270, 1: 2206, 2: 452, 3: 72}\n",
      "Running iteration 24...\n",
      "Counts at iteration 24: {0: 7156, 1: 2297, 2: 472, 3: 75}\n",
      "Running iteration 25...\n",
      "Counts at iteration 25: {0: 7042, 1: 2388, 2: 492, 3: 78}\n",
      "Running iteration 26...\n",
      "Counts at iteration 26: {0: 6923, 1: 2485, 2: 511, 3: 81}\n",
      "Running iteration 27...\n",
      "Counts at iteration 27: {0: 6806, 1: 2580, 2: 530, 3: 84}\n",
      "Running iteration 28...\n",
      "Counts at iteration 28: {0: 6692, 1: 2671, 2: 550, 3: 87}\n",
      "Running iteration 29...\n",
      "Counts at iteration 29: {0: 6580, 1: 2760, 2: 570, 3: 90}\n",
      "Running iteration 30...\n",
      "Counts at iteration 30: {0: 6464, 1: 2853, 2: 590, 3: 93}\n",
      "Running iteration 31...\n",
      "Counts at iteration 31: {0: 6348, 1: 2946, 2: 610, 3: 96}\n",
      "Running iteration 32...\n",
      "Counts at iteration 32: {0: 6232, 1: 3039, 2: 630, 3: 99}\n",
      "Running iteration 33...\n",
      "Counts at iteration 33: {0: 6118, 1: 3130, 2: 650, 3: 102}\n",
      "Running iteration 34...\n",
      "Counts at iteration 34: {0: 6008, 1: 3217, 2: 670, 3: 105}\n",
      "Running iteration 35...\n",
      "Counts at iteration 35: {0: 5895, 1: 3308, 2: 689, 3: 108}\n",
      "Running iteration 36...\n",
      "Counts at iteration 36: {0: 5783, 1: 3398, 2: 708, 3: 111}\n",
      "Running iteration 37...\n",
      "Counts at iteration 37: {0: 5668, 1: 3491, 2: 727, 3: 114}\n",
      "Running iteration 38...\n",
      "Counts at iteration 38: {0: 5552, 1: 3584, 2: 747, 3: 117}\n",
      "Running iteration 39...\n",
      "Counts at iteration 39: {0: 5440, 1: 3673, 2: 767, 3: 120}\n",
      "Running iteration 40...\n",
      "Counts at iteration 40: {0: 5325, 1: 3765, 2: 787, 3: 123}\n",
      "Running iteration 41...\n",
      "Counts at iteration 41: {0: 5217, 1: 3850, 2: 807, 3: 126}\n",
      "Running iteration 42...\n",
      "Counts at iteration 42: {0: 5102, 1: 3942, 2: 827, 3: 129}\n",
      "Running iteration 43...\n",
      "Counts at iteration 43: {0: 4986, 1: 4035, 2: 847, 3: 132}\n",
      "Running iteration 44...\n",
      "Counts at iteration 44: {0: 4868, 1: 4131, 2: 866, 3: 135}\n",
      "Running iteration 45...\n",
      "Counts at iteration 45: {0: 4754, 1: 4222, 2: 886, 3: 138}\n",
      "Running iteration 46...\n",
      "Counts at iteration 46: {0: 4639, 1: 4314, 2: 906, 3: 141}\n",
      "Running iteration 47...\n",
      "Counts at iteration 47: {0: 4526, 1: 4404, 2: 926, 3: 144}\n",
      "Running iteration 48...\n",
      "Counts at iteration 48: {0: 4409, 1: 4498, 2: 946, 3: 147}\n",
      "Running iteration 49...\n",
      "Counts at iteration 49: {0: 4294, 1: 4590, 2: 966, 3: 150}\n",
      "Running iteration 50...\n",
      "Counts at iteration 50: {0: 4185, 1: 4676, 2: 986, 3: 153}\n",
      "Running iteration 51...\n",
      "Counts at iteration 51: {0: 4073, 1: 4765, 2: 1006, 3: 156}\n",
      "Running iteration 52...\n",
      "Counts at iteration 52: {0: 3960, 1: 4855, 2: 1026, 3: 159}\n",
      "Running iteration 53...\n",
      "Counts at iteration 53: {0: 3849, 1: 4943, 2: 1046, 3: 162}\n",
      "Running iteration 54...\n",
      "Counts at iteration 54: {0: 3741, 1: 5028, 2: 1066, 3: 165}\n",
      "Running iteration 55...\n",
      "Counts at iteration 55: {0: 3630, 1: 5116, 2: 1086, 3: 168}\n",
      "Running iteration 56...\n",
      "Counts at iteration 56: {0: 3524, 1: 5200, 2: 1105, 3: 171}\n",
      "Running iteration 57...\n",
      "Counts at iteration 57: {0: 3416, 1: 5285, 2: 1125, 3: 174}\n",
      "Running iteration 58...\n",
      "Counts at iteration 58: {0: 3304, 1: 5374, 2: 1145, 3: 177}\n",
      "Running iteration 59...\n",
      "Counts at iteration 59: {0: 3200, 1: 5455, 2: 1165, 3: 180}\n",
      "Running iteration 60...\n",
      "Counts at iteration 60: {0: 3091, 1: 5542, 2: 1184, 3: 183}\n",
      "Running iteration 61...\n",
      "Counts at iteration 61: {0: 2979, 1: 5631, 2: 1204, 3: 186}\n",
      "Running iteration 62...\n",
      "Counts at iteration 62: {0: 2867, 1: 5721, 2: 1223, 3: 189}\n",
      "Running iteration 63...\n",
      "Counts at iteration 63: {0: 2763, 1: 5802, 2: 1243, 3: 192}\n",
      "Running iteration 64...\n",
      "Counts at iteration 64: {0: 2655, 1: 5887, 2: 1263, 3: 195}\n",
      "Running iteration 65...\n",
      "Counts at iteration 65: {0: 2550, 1: 5969, 2: 1283, 3: 198}\n",
      "Running iteration 66...\n",
      "Counts at iteration 66: {0: 2439, 1: 6057, 2: 1303, 3: 201}\n",
      "Running iteration 67...\n",
      "Counts at iteration 67: {0: 2330, 1: 6143, 2: 1323, 3: 204}\n",
      "Running iteration 68...\n",
      "Counts at iteration 68: {0: 2223, 1: 6227, 2: 1343, 3: 207}\n",
      "Running iteration 69...\n",
      "Counts at iteration 69: {0: 2117, 1: 6311, 2: 1362, 3: 210}\n",
      "Running iteration 70...\n",
      "Counts at iteration 70: {0: 2008, 1: 6397, 2: 1382, 3: 213}\n"
     ]
    },
    {
     "data": {
      "image/png": "[encoded data removed]",
      "text/plain": [
       "<Figure size 1000x1000 with 2 Axes>"
      ]
     },
     "metadata": {},
     "output_type": "display_data"
    }
   ],
   "source": [
    "def run_simulation(grid, weights_table, alpha, growth_rates, radius, seed, num_iterations):\n",
    "    np.random.seed(seed)\n",
    "    grid_size = grid.shape[0]\n",
    "    \n",
    "\n",
    "    counts = {0: 0, 1: 0, 2: 0, 3: 0}\n",
    "    for i in range(grid_size):\n",
    "        for j in range(grid_size):\n",
    "            counts[grid[i, j]] += 1\n",
    "\n",
    "    print(f\"Initial counts: {counts}\")\n",
    "\n",
    "    for iteration in range(num_iterations):\n",
    "        print(f\"Running iteration {iteration+1}...\")\n",
    "        transition_potentials = calculate_transition_potentials(grid, alpha, weights_table, radius)\n",
    "\n",
    "        highest_potentials = {}\n",
    "        for i in range(grid_size):\n",
    "            for j in range(grid_size):\n",
    "                if grid[i, j] == states['V']:\n",
    "                    potential_states = ['H', 'I', 'C']\n",
    "                elif grid[i, j] == states['H']:\n",
    "                    potential_states = ['I', 'C']\n",
    "                elif grid[i, j] == states['I']:\n",
    "                    potential_states = ['C']\n",
    "                else:\n",
    "                    potential_states = []\n",
    "                    \n",
    "                if potential_states:\n",
    "                    highest_potentials[(i, j)] = max(potential_states, key=lambda state: transition_potentials[i, j, states[state]])\n",
    "\n",
    "        for new_state_key in sorted(states, key=lambda k: states[k], reverse=True):\n",
    "            new_state = states[new_state_key]\n",
    "            if new_state_key != 'V':\n",
    "                num_to_convert = int(grid_size * grid_size * growth_rates[new_state_key])\n",
    "                potential_cells = [(i, j) for i, j in highest_potentials.keys() if highest_potentials[(i, j)] == new_state_key]\n",
    "                potential_cells.sort(key=lambda cell: transition_potentials[cell[0], cell[1], states[highest_potentials[cell]]], reverse=True)\n",
    "                \n",
    "                for cell in potential_cells[:num_to_convert]:\n",
    "                    counts[grid[cell]] -= 1\n",
    "                    counts[new_state] += 1\n",
    "                    grid[cell] = new_state\n",
    "\n",
    "        print(f\"Counts at iteration {iteration+1}: {counts}\")\n",
    "\n",
    "    plt.figure(figsize=(10, 10))\n",
    "    cmap = plt.cm.colors.ListedColormap(['white', 'skyblue', 'grey', 'orange'])\n",
    "    plt.imshow(grid, cmap=cmap, origin='lower', vmin=0, vmax=3)\n",
    "    plt.colorbar(ticks=[0, 1, 2, 3], label='Land Use')\n",
    "    plt.title('Final Land Use')\n",
    "    plt.show()\n",
    "\n",
    "\n",
    "growth_rates = {\n",
    "    'H': 0.01,  \n",
    "    'I': 0.002,\n",
    "    'C': 0.00035,\n",
    "}\n",
    "\n",
    "\n",
    "num_iterations = 70\n",
    "# Run the simulation\n",
    "grid = initial_land_use(seed_number=0, grid_size=100, plot=True)\n",
    "run_simulation(grid, weights_table, alpha=2.5, growth_rates=growth_rates, radius = 6, seed=3, num_iterations=num_iterations)\n"
   ]
  },
  {
   "cell_type": "code",
   "execution_count": null,
   "metadata": {},
   "outputs": [],
   "source": [
    "# make a plot of counts vs iterations\n"
   ]
  },
  {
   "cell_type": "code",
   "execution_count": 20,
   "metadata": {},
   "outputs": [
    {
     "name": "stdout",
     "output_type": "stream",
     "text": [
      "Running simulation with seed 39309...\n"
     ]
    },
    {
     "data": {
      "image/png": "[encoded data removed]",
      "text/plain": [
       "<Figure size 576x576 with 2 Axes>"
      ]
     },
     "metadata": {
      "needs_background": "light"
     },
     "output_type": "display_data"
    },
    {
     "name": "stdout",
     "output_type": "stream",
     "text": [
      "Running iteration 1...\n",
      "Running iteration 2...\n",
      "Running iteration 3...\n",
      "Running iteration 4...\n",
      "Running iteration 5...\n",
      "Running iteration 6...\n",
      "Running iteration 7...\n",
      "Running iteration 8...\n",
      "Running iteration 9...\n",
      "Running iteration 10...\n",
      "Running iteration 11...\n",
      "Running iteration 12...\n",
      "Running iteration 13...\n",
      "Running iteration 14...\n",
      "Running iteration 15...\n",
      "Running iteration 16...\n",
      "Running iteration 17...\n",
      "Running iteration 18...\n",
      "Running iteration 19...\n",
      "Running iteration 20...\n",
      "Running iteration 21...\n",
      "Running iteration 22...\n",
      "Running iteration 23...\n",
      "Running iteration 24...\n",
      "Running iteration 25...\n",
      "Running iteration 26...\n",
      "Running iteration 27...\n",
      "Running iteration 28...\n",
      "Running iteration 29...\n",
      "Running iteration 30...\n",
      "Running iteration 31...\n",
      "Running iteration 32...\n",
      "Running iteration 33...\n",
      "Running iteration 34...\n",
      "Running iteration 35...\n",
      "Running iteration 36...\n",
      "Running iteration 37...\n",
      "Running iteration 38...\n",
      "Running iteration 39...\n",
      "Running iteration 40...\n",
      "Running iteration 41...\n",
      "Running iteration 42...\n",
      "Running iteration 43...\n",
      "Running iteration 44...\n",
      "Running iteration 45...\n",
      "Running iteration 46...\n",
      "Running iteration 47...\n",
      "Running iteration 48...\n",
      "Running iteration 49...\n",
      "Running iteration 50...\n"
     ]
    },
    {
     "data": {
      "image/png": "[encoded data removed]",
      "text/plain": [
       "<Figure size 720x720 with 2 Axes>"
      ]
     },
     "metadata": {
      "needs_background": "light"
     },
     "output_type": "display_data"
    },
    {
     "name": "stdout",
     "output_type": "stream",
     "text": [
      "Simulation completed.\n",
      "\n",
      "Running simulation with seed 24381...\n"
     ]
    },
    {
     "data": {
      "image/png": "[encoded data removed]",
      "text/plain": [
       "<Figure size 576x576 with 2 Axes>"
      ]
     },
     "metadata": {
      "needs_background": "light"
     },
     "output_type": "display_data"
    },
    {
     "name": "stdout",
     "output_type": "stream",
     "text": [
      "Running iteration 1...\n",
      "Running iteration 2...\n",
      "Running iteration 3...\n",
      "Running iteration 4...\n",
      "Running iteration 5...\n",
      "Running iteration 6...\n",
      "Running iteration 7...\n",
      "Running iteration 8...\n",
      "Running iteration 9...\n",
      "Running iteration 10...\n",
      "Running iteration 11...\n",
      "Running iteration 12...\n",
      "Running iteration 13...\n",
      "Running iteration 14...\n",
      "Running iteration 15...\n",
      "Running iteration 16...\n",
      "Running iteration 17...\n",
      "Running iteration 18...\n",
      "Running iteration 19...\n",
      "Running iteration 20...\n",
      "Running iteration 21...\n",
      "Running iteration 22...\n",
      "Running iteration 23...\n",
      "Running iteration 24...\n",
      "Running iteration 25...\n",
      "Running iteration 26...\n",
      "Running iteration 27...\n",
      "Running iteration 28...\n",
      "Running iteration 29...\n",
      "Running iteration 30...\n",
      "Running iteration 31...\n",
      "Running iteration 32...\n",
      "Running iteration 33...\n",
      "Running iteration 34...\n",
      "Running iteration 35...\n",
      "Running iteration 36...\n",
      "Running iteration 37...\n",
      "Running iteration 38...\n",
      "Running iteration 39...\n",
      "Running iteration 40...\n",
      "Running iteration 41...\n",
      "Running iteration 42...\n",
      "Running iteration 43...\n",
      "Running iteration 44...\n",
      "Running iteration 45...\n",
      "Running iteration 46...\n",
      "Running iteration 47...\n",
      "Running iteration 48...\n",
      "Running iteration 49...\n",
      "Running iteration 50...\n"
     ]
    },
    {
     "data": {
      "image/png": "[encoded data removed]",
      "text/plain": [
       "<Figure size 720x720 with 2 Axes>"
      ]
     },
     "metadata": {
      "needs_background": "light"
     },
     "output_type": "display_data"
    },
    {
     "name": "stdout",
     "output_type": "stream",
     "text": [
      "Simulation completed.\n",
      "\n",
      "Running simulation with seed 12973...\n"
     ]
    },
    {
     "data": {
      "image/png": "[encoded data removed]",
      "text/plain": [
       "<Figure size 576x576 with 2 Axes>"
      ]
     },
     "metadata": {
      "needs_background": "light"
     },
     "output_type": "display_data"
    },
    {
     "name": "stdout",
     "output_type": "stream",
     "text": [
      "Running iteration 1...\n",
      "Running iteration 2...\n",
      "Running iteration 3...\n",
      "Running iteration 4...\n",
      "Running iteration 5...\n",
      "Running iteration 6...\n",
      "Running iteration 7...\n",
      "Running iteration 8...\n",
      "Running iteration 9...\n",
      "Running iteration 10...\n",
      "Running iteration 11...\n",
      "Running iteration 12...\n",
      "Running iteration 13...\n",
      "Running iteration 14...\n",
      "Running iteration 15...\n",
      "Running iteration 16...\n",
      "Running iteration 17...\n",
      "Running iteration 18...\n",
      "Running iteration 19...\n",
      "Running iteration 20...\n",
      "Running iteration 21...\n",
      "Running iteration 22...\n",
      "Running iteration 23...\n",
      "Running iteration 24...\n",
      "Running iteration 25...\n",
      "Running iteration 26...\n",
      "Running iteration 27...\n",
      "Running iteration 28...\n",
      "Running iteration 29...\n",
      "Running iteration 30...\n",
      "Running iteration 31...\n",
      "Running iteration 32...\n",
      "Running iteration 33...\n",
      "Running iteration 34...\n",
      "Running iteration 35...\n",
      "Running iteration 36...\n",
      "Running iteration 37...\n",
      "Running iteration 38...\n",
      "Running iteration 39...\n",
      "Running iteration 40...\n",
      "Running iteration 41...\n",
      "Running iteration 42...\n",
      "Running iteration 43...\n",
      "Running iteration 44...\n",
      "Running iteration 45...\n",
      "Running iteration 46...\n",
      "Running iteration 47...\n",
      "Running iteration 48...\n",
      "Running iteration 49...\n",
      "Running iteration 50...\n"
     ]
    },
    {
     "data": {
      "image/png": "[encoded data removed]",
      "text/plain": [
       "<Figure size 720x720 with 2 Axes>"
      ]
     },
     "metadata": {
      "needs_background": "light"
     },
     "output_type": "display_data"
    },
    {
     "name": "stdout",
     "output_type": "stream",
     "text": [
      "Simulation completed.\n",
      "\n",
      "Running simulation with seed 10430...\n"
     ]
    },
    {
     "data": {
      "image/png": "[encoded data removed]",
      "text/plain": [
       "<Figure size 576x576 with 2 Axes>"
      ]
     },
     "metadata": {
      "needs_background": "light"
     },
     "output_type": "display_data"
    },
    {
     "name": "stdout",
     "output_type": "stream",
     "text": [
      "Running iteration 1...\n",
      "Running iteration 2...\n",
      "Running iteration 3...\n",
      "Running iteration 4...\n",
      "Running iteration 5...\n",
      "Running iteration 6...\n",
      "Running iteration 7...\n",
      "Running iteration 8...\n",
      "Running iteration 9...\n",
      "Running iteration 10...\n",
      "Running iteration 11...\n",
      "Running iteration 12...\n",
      "Running iteration 13...\n",
      "Running iteration 14...\n",
      "Running iteration 15...\n",
      "Running iteration 16...\n",
      "Running iteration 17...\n",
      "Running iteration 18...\n",
      "Running iteration 19...\n",
      "Running iteration 20...\n",
      "Running iteration 21...\n",
      "Running iteration 22...\n",
      "Running iteration 23...\n",
      "Running iteration 24...\n",
      "Running iteration 25...\n",
      "Running iteration 26...\n",
      "Running iteration 27...\n",
      "Running iteration 28...\n",
      "Running iteration 29...\n",
      "Running iteration 30...\n",
      "Running iteration 31...\n",
      "Running iteration 32...\n",
      "Running iteration 33...\n",
      "Running iteration 34...\n",
      "Running iteration 35...\n",
      "Running iteration 36...\n",
      "Running iteration 37...\n",
      "Running iteration 38...\n",
      "Running iteration 39...\n",
      "Running iteration 40...\n",
      "Running iteration 41...\n",
      "Running iteration 42...\n",
      "Running iteration 43...\n",
      "Running iteration 44...\n",
      "Running iteration 45...\n",
      "Running iteration 46...\n",
      "Running iteration 47...\n",
      "Running iteration 48...\n",
      "Running iteration 49...\n",
      "Running iteration 50...\n"
     ]
    },
    {
     "data": {
      "image/png": "[encoded data removed]",
      "text/plain": [
       "<Figure size 720x720 with 2 Axes>"
      ]
     },
     "metadata": {
      "needs_background": "light"
     },
     "output_type": "display_data"
    },
    {
     "name": "stdout",
     "output_type": "stream",
     "text": [
      "Simulation completed.\n",
      "\n",
      "Running simulation with seed 40712...\n"
     ]
    },
    {
     "data": {
      "image/png": "[encoded data removed]",
      "text/plain": [
       "<Figure size 576x576 with 2 Axes>"
      ]
     },
     "metadata": {
      "needs_background": "light"
     },
     "output_type": "display_data"
    },
    {
     "name": "stdout",
     "output_type": "stream",
     "text": [
      "Running iteration 1...\n",
      "Running iteration 2...\n",
      "Running iteration 3...\n",
      "Running iteration 4...\n",
      "Running iteration 5...\n",
      "Running iteration 6...\n",
      "Running iteration 7...\n",
      "Running iteration 8...\n",
      "Running iteration 9...\n",
      "Running iteration 10...\n",
      "Running iteration 11...\n",
      "Running iteration 12...\n",
      "Running iteration 13...\n",
      "Running iteration 14...\n",
      "Running iteration 15...\n",
      "Running iteration 16...\n",
      "Running iteration 17...\n",
      "Running iteration 18...\n",
      "Running iteration 19...\n",
      "Running iteration 20...\n",
      "Running iteration 21...\n",
      "Running iteration 22...\n",
      "Running iteration 23...\n",
      "Running iteration 24...\n",
      "Running iteration 25...\n",
      "Running iteration 26...\n",
      "Running iteration 27...\n",
      "Running iteration 28...\n",
      "Running iteration 29...\n",
      "Running iteration 30...\n",
      "Running iteration 31...\n",
      "Running iteration 32...\n",
      "Running iteration 33...\n",
      "Running iteration 34...\n",
      "Running iteration 35...\n",
      "Running iteration 36...\n",
      "Running iteration 37...\n",
      "Running iteration 38...\n",
      "Running iteration 39...\n",
      "Running iteration 40...\n",
      "Running iteration 41...\n",
      "Running iteration 42...\n",
      "Running iteration 43...\n",
      "Running iteration 44...\n",
      "Running iteration 45...\n",
      "Running iteration 46...\n",
      "Running iteration 47...\n",
      "Running iteration 48...\n",
      "Running iteration 49...\n",
      "Running iteration 50...\n"
     ]
    },
    {
     "data": {
      "image/png": "[encoded data removed]",
      "text/plain": [
       "<Figure size 720x720 with 2 Axes>"
      ]
     },
     "metadata": {
      "needs_background": "light"
     },
     "output_type": "display_data"
    },
    {
     "name": "stdout",
     "output_type": "stream",
     "text": [
      "Simulation completed.\n",
      "\n",
      "Running simulation with seed 10151...\n"
     ]
    },
    {
     "data": {
      "image/png": "[encoded data removed]",
      "text/plain": [
       "<Figure size 576x576 with 2 Axes>"
      ]
     },
     "metadata": {
      "needs_background": "light"
     },
     "output_type": "display_data"
    },
    {
     "name": "stdout",
     "output_type": "stream",
     "text": [
      "Running iteration 1...\n",
      "Running iteration 2...\n",
      "Running iteration 3...\n",
      "Running iteration 4...\n",
      "Running iteration 5...\n",
      "Running iteration 6...\n",
      "Running iteration 7...\n",
      "Running iteration 8...\n",
      "Running iteration 9...\n",
      "Running iteration 10...\n",
      "Running iteration 11...\n",
      "Running iteration 12...\n",
      "Running iteration 13...\n",
      "Running iteration 14...\n",
      "Running iteration 15...\n",
      "Running iteration 16...\n",
      "Running iteration 17...\n",
      "Running iteration 18...\n",
      "Running iteration 19...\n",
      "Running iteration 20...\n",
      "Running iteration 21...\n",
      "Running iteration 22...\n",
      "Running iteration 23...\n",
      "Running iteration 24...\n",
      "Running iteration 25...\n",
      "Running iteration 26...\n",
      "Running iteration 27...\n",
      "Running iteration 28...\n",
      "Running iteration 29...\n",
      "Running iteration 30...\n",
      "Running iteration 31...\n",
      "Running iteration 32...\n",
      "Running iteration 33...\n",
      "Running iteration 34...\n",
      "Running iteration 35...\n",
      "Running iteration 36...\n",
      "Running iteration 37...\n",
      "Running iteration 38...\n",
      "Running iteration 39...\n",
      "Running iteration 40...\n",
      "Running iteration 41...\n",
      "Running iteration 42...\n",
      "Running iteration 43...\n",
      "Running iteration 44...\n",
      "Running iteration 45...\n",
      "Running iteration 46...\n",
      "Running iteration 47...\n",
      "Running iteration 48...\n",
      "Running iteration 49...\n",
      "Running iteration 50...\n"
     ]
    },
    {
     "data": {
      "image/png": "[encoded data removed]",
      "text/plain": [
       "<Figure size 720x720 with 2 Axes>"
      ]
     },
     "metadata": {
      "needs_background": "light"
     },
     "output_type": "display_data"
    },
    {
     "name": "stdout",
     "output_type": "stream",
     "text": [
      "Simulation completed.\n",
      "\n",
      "Running simulation with seed 48186...\n"
     ]
    },
    {
     "data": {
      "image/png": "[encoded data removed]",
      "text/plain": [
       "<Figure size 576x576 with 2 Axes>"
      ]
     },
     "metadata": {
      "needs_background": "light"
     },
     "output_type": "display_data"
    },
    {
     "name": "stdout",
     "output_type": "stream",
     "text": [
      "Running iteration 1...\n",
      "Running iteration 2...\n",
      "Running iteration 3...\n",
      "Running iteration 4...\n",
      "Running iteration 5...\n",
      "Running iteration 6...\n",
      "Running iteration 7...\n",
      "Running iteration 8...\n",
      "Running iteration 9...\n",
      "Running iteration 10...\n",
      "Running iteration 11...\n",
      "Running iteration 12...\n",
      "Running iteration 13...\n",
      "Running iteration 14...\n",
      "Running iteration 15...\n",
      "Running iteration 16...\n",
      "Running iteration 17...\n",
      "Running iteration 18...\n",
      "Running iteration 19...\n",
      "Running iteration 20...\n",
      "Running iteration 21...\n",
      "Running iteration 22...\n",
      "Running iteration 23...\n",
      "Running iteration 24...\n",
      "Running iteration 25...\n",
      "Running iteration 26...\n",
      "Running iteration 27...\n",
      "Running iteration 28...\n",
      "Running iteration 29...\n",
      "Running iteration 30...\n",
      "Running iteration 31...\n",
      "Running iteration 32...\n",
      "Running iteration 33...\n",
      "Running iteration 34...\n",
      "Running iteration 35...\n",
      "Running iteration 36...\n",
      "Running iteration 37...\n",
      "Running iteration 38...\n",
      "Running iteration 39...\n",
      "Running iteration 40...\n",
      "Running iteration 41...\n",
      "Running iteration 42...\n",
      "Running iteration 43...\n",
      "Running iteration 44...\n",
      "Running iteration 45...\n",
      "Running iteration 46...\n",
      "Running iteration 47...\n",
      "Running iteration 48...\n",
      "Running iteration 49...\n",
      "Running iteration 50...\n"
     ]
    },
    {
     "data": {
      "image/png": "[encoded data removed]",
      "text/plain": [
       "<Figure size 720x720 with 2 Axes>"
      ]
     },
     "metadata": {
      "needs_background": "light"
     },
     "output_type": "display_data"
    },
    {
     "name": "stdout",
     "output_type": "stream",
     "text": [
      "Simulation completed.\n",
      "\n",
      "Running simulation with seed 22592...\n"
     ]
    },
    {
     "data": {
      "image/png": "[encoded data removed]",
      "text/plain": [
       "<Figure size 576x576 with 2 Axes>"
      ]
     },
     "metadata": {
      "needs_background": "light"
     },
     "output_type": "display_data"
    },
    {
     "name": "stdout",
     "output_type": "stream",
     "text": [
      "Running iteration 1...\n",
      "Running iteration 2...\n",
      "Running iteration 3...\n",
      "Running iteration 4...\n",
      "Running iteration 5...\n",
      "Running iteration 6...\n",
      "Running iteration 7...\n",
      "Running iteration 8...\n",
      "Running iteration 9...\n",
      "Running iteration 10...\n",
      "Running iteration 11...\n",
      "Running iteration 12...\n",
      "Running iteration 13...\n",
      "Running iteration 14...\n",
      "Running iteration 15...\n",
      "Running iteration 16...\n",
      "Running iteration 17...\n",
      "Running iteration 18...\n",
      "Running iteration 19...\n",
      "Running iteration 20...\n",
      "Running iteration 21...\n",
      "Running iteration 22...\n",
      "Running iteration 23...\n",
      "Running iteration 24...\n",
      "Running iteration 25...\n",
      "Running iteration 26...\n",
      "Running iteration 27...\n",
      "Running iteration 28...\n",
      "Running iteration 29...\n",
      "Running iteration 30...\n",
      "Running iteration 31...\n",
      "Running iteration 32...\n",
      "Running iteration 33...\n",
      "Running iteration 34...\n",
      "Running iteration 35...\n",
      "Running iteration 36...\n",
      "Running iteration 37...\n",
      "Running iteration 38...\n",
      "Running iteration 39...\n",
      "Running iteration 40...\n",
      "Running iteration 41...\n",
      "Running iteration 42...\n",
      "Running iteration 43...\n",
      "Running iteration 44...\n",
      "Running iteration 45...\n",
      "Running iteration 46...\n",
      "Running iteration 47...\n",
      "Running iteration 48...\n",
      "Running iteration 49...\n",
      "Running iteration 50...\n"
     ]
    },
    {
     "data": {
      "image/png": "[encoded data removed]",
      "text/plain": [
       "<Figure size 720x720 with 2 Axes>"
      ]
     },
     "metadata": {
      "needs_background": "light"
     },
     "output_type": "display_data"
    },
    {
     "name": "stdout",
     "output_type": "stream",
     "text": [
      "Simulation completed.\n",
      "\n",
      "Running simulation with seed 27099...\n"
     ]
    },
    {
     "data": {
      "image/png": "[encoded data removed]",
      "text/plain": [
       "<Figure size 576x576 with 2 Axes>"
      ]
     },
     "metadata": {
      "needs_background": "light"
     },
     "output_type": "display_data"
    },
    {
     "name": "stdout",
     "output_type": "stream",
     "text": [
      "Running iteration 1...\n",
      "Running iteration 2...\n",
      "Running iteration 3...\n",
      "Running iteration 4...\n",
      "Running iteration 5...\n",
      "Running iteration 6...\n",
      "Running iteration 7...\n",
      "Running iteration 8...\n",
      "Running iteration 9...\n",
      "Running iteration 10...\n",
      "Running iteration 11...\n",
      "Running iteration 12...\n",
      "Running iteration 13...\n",
      "Running iteration 14...\n",
      "Running iteration 15...\n",
      "Running iteration 16...\n",
      "Running iteration 17...\n",
      "Running iteration 18...\n",
      "Running iteration 19...\n",
      "Running iteration 20...\n",
      "Running iteration 21...\n",
      "Running iteration 22...\n",
      "Running iteration 23...\n",
      "Running iteration 24...\n",
      "Running iteration 25...\n",
      "Running iteration 26...\n",
      "Running iteration 27...\n",
      "Running iteration 28...\n",
      "Running iteration 29...\n",
      "Running iteration 30...\n",
      "Running iteration 31...\n",
      "Running iteration 32...\n",
      "Running iteration 33...\n",
      "Running iteration 34...\n",
      "Running iteration 35...\n",
      "Running iteration 36...\n",
      "Running iteration 37...\n",
      "Running iteration 38...\n",
      "Running iteration 39...\n",
      "Running iteration 40...\n",
      "Running iteration 41...\n",
      "Running iteration 42...\n",
      "Running iteration 43...\n",
      "Running iteration 44...\n",
      "Running iteration 45...\n",
      "Running iteration 46...\n",
      "Running iteration 47...\n",
      "Running iteration 48...\n",
      "Running iteration 49...\n",
      "Running iteration 50...\n"
     ]
    },
    {
     "data": {
      "image/png": "[encoded data removed]",
      "text/plain": [
       "<Figure size 720x720 with 2 Axes>"
      ]
     },
     "metadata": {
      "needs_background": "light"
     },
     "output_type": "display_data"
    },
    {
     "name": "stdout",
     "output_type": "stream",
     "text": [
      "Simulation completed.\n",
      "\n",
      "Running simulation with seed 55714...\n"
     ]
    },
    {
     "data": {
      "image/png": "[encoded data removed]",
      "text/plain": [
       "<Figure size 576x576 with 2 Axes>"
      ]
     },
     "metadata": {
      "needs_background": "light"
     },
     "output_type": "display_data"
    },
    {
     "name": "stdout",
     "output_type": "stream",
     "text": [
      "Running iteration 1...\n",
      "Running iteration 2...\n",
      "Running iteration 3...\n",
      "Running iteration 4...\n",
      "Running iteration 5...\n",
      "Running iteration 6...\n",
      "Running iteration 7...\n",
      "Running iteration 8...\n",
      "Running iteration 9...\n",
      "Running iteration 10...\n",
      "Running iteration 11...\n",
      "Running iteration 12...\n",
      "Running iteration 13...\n",
      "Running iteration 14...\n",
      "Running iteration 15...\n",
      "Running iteration 16...\n",
      "Running iteration 17...\n",
      "Running iteration 18...\n",
      "Running iteration 19...\n",
      "Running iteration 20...\n",
      "Running iteration 21...\n",
      "Running iteration 22...\n",
      "Running iteration 23...\n",
      "Running iteration 24...\n",
      "Running iteration 25...\n",
      "Running iteration 26...\n",
      "Running iteration 27...\n",
      "Running iteration 28...\n",
      "Running iteration 29...\n",
      "Running iteration 30...\n",
      "Running iteration 31...\n",
      "Running iteration 32...\n",
      "Running iteration 33...\n",
      "Running iteration 34...\n",
      "Running iteration 35...\n",
      "Running iteration 36...\n",
      "Running iteration 37...\n",
      "Running iteration 38...\n",
      "Running iteration 39...\n",
      "Running iteration 40...\n",
      "Running iteration 41...\n",
      "Running iteration 42...\n",
      "Running iteration 43...\n",
      "Running iteration 44...\n",
      "Running iteration 45...\n",
      "Running iteration 46...\n",
      "Running iteration 47...\n",
      "Running iteration 48...\n",
      "Running iteration 49...\n",
      "Running iteration 50...\n"
     ]
    },
    {
     "data": {
      "image/png": "[encoded data removed]",
      "text/plain": [
       "<Figure size 720x720 with 2 Axes>"
      ]
     },
     "metadata": {
      "needs_background": "light"
     },
     "output_type": "display_data"
    },
    {
     "name": "stdout",
     "output_type": "stream",
     "text": [
      "Simulation completed.\n",
      "\n"
     ]
    }
   ],
   "source": [
    "def run_simulation_multiple(grid, weights_table, alpha, growth_rates, radius, seed, num_iterations):\n",
    "    np.random.seed(seed)\n",
    "    \n",
    "    grid_size = grid.shape[0]\n",
    "\n",
    "\n",
    "\n",
    "    for iteration in range(num_iterations):\n",
    "        print(f\"Running iteration {iteration+1}...\")\n",
    "        transition_potentials = calculate_transition_potentials(grid, alpha, weights_table, radius)\n",
    "\n",
    "        highest_potentials = {}\n",
    "        for i in range(grid_size):\n",
    "            for j in range(grid_size):\n",
    "                if grid[i, j] == states['V']:\n",
    "                    potential_states = ['H', 'I', 'C']\n",
    "                elif grid[i, j] == states['H']:\n",
    "                    potential_states = ['I', 'C']\n",
    "                elif grid[i, j] == states['I']:\n",
    "                    potential_states = ['C']\n",
    "                else:\n",
    "                    potential_states = []\n",
    "                    \n",
    "                if potential_states:\n",
    "                    highest_potentials[(i, j)] = max(potential_states, key=lambda state: transition_potentials[i, j, states[state]])\n",
    "\n",
    "        for new_state_key in sorted(states, key=lambda k: states[k], reverse=True):\n",
    "            new_state = states[new_state_key]\n",
    "            if new_state_key != 'V':\n",
    "                num_to_convert = int(grid_size * grid_size * growth_rates[new_state_key])\n",
    "                potential_cells = [(i, j) for i, j in highest_potentials.keys() if highest_potentials[(i, j)] == new_state_key]\n",
    "                potential_cells.sort(key=lambda cell: transition_potentials[cell[0], cell[1], states[highest_potentials[cell]]], reverse=True)\n",
    "                \n",
    "                for cell in potential_cells[:num_to_convert]:\n",
    "                    \n",
    "                    grid[cell] = new_state\n",
    "\n",
    "        \n",
    "\n",
    "    plt.figure(figsize=(10, 10))\n",
    "    cmap = plt.cm.colors.ListedColormap(['white', 'skyblue', 'grey', 'orange'])\n",
    "    plt.imshow(grid, cmap=cmap, origin='lower', vmin=0, vmax=3)\n",
    "    plt.colorbar(ticks=[0, 1, 2, 3], label='Land Use')\n",
    "    plt.title('Final Land Use')\n",
    "    plt.show()\n",
    "\n",
    "# make seed to be 10 random integers from 0 to 100000\n",
    "seeds = np.random.randint(0, 100000, 10)\n",
    "\n",
    "growth_rates = {\n",
    "    'H': 0.007,  \n",
    "    'I': 0.002,\n",
    "    'C': 0.0005,\n",
    "}\n",
    "num_iterations = 50\n",
    "\n",
    "for seed in seeds:\n",
    "    print(f\"Running simulation with seed {seed}...\")\n",
    "    new_grid = initial_land_use(seed_number=seed, grid_size=grid_size, plot=True)\n",
    "    run_simulation_multiple(new_grid, weights_table, alpha=2.5, growth_rates=growth_rates, radius=6, seed=seed, num_iterations=num_iterations)\n",
    "    print(\"Simulation completed.\\n\")\n",
    "\n"
   ]
  }
 ],
 "metadata": {
  "kernelspec": {
   "display_name": "base",
   "language": "python",
   "name": "python3"
  },
  "language_info": {
   "codemirror_mode": {
    "name": "ipython",
    "version": 3
   },
   "file_extension": ".py",
   "mimetype": "text/x-python",
   "name": "python",
   "nbconvert_exporter": "python",
   "pygments_lexer": "ipython3",
   "version": "3.9.13"
  },
  "orig_nbformat": 4
 },
 "nbformat": 4,
 "nbformat_minor": 2
}
