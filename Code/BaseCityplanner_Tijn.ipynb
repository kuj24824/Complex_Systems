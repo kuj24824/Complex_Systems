{
 "cells": [
  {
   "cell_type": "code",
   "execution_count": 40,
   "id": "a09e564f",
   "metadata": {},
   "outputs": [],
   "source": [
    "import numpy as np\n",
    "import math\n",
    "import matplotlib.pyplot as plt\n",
    "#np.uint8(22)\n",
    "#pip install powerlaw\n",
    "#from fractal import fractal_dimension\n",
    "from scipy.ndimage import label, find_objects\n",
    "from scipy.ndimage import label, generate_binary_structure\n",
    "from scipy.ndimage.measurements import find_objects\n",
    "from scipy.ndimage.morphology import binary_dilation\n",
    "#import pyfrac"
   ]
  },
  {
   "cell_type": "code",
   "execution_count": 35,
   "id": "6a535fb2",
   "metadata": {},
   "outputs": [
    {
     "name": "stdout",
     "output_type": "stream",
     "text": [
      "Collecting pyfrac\n",
      "  Downloading pyfrac-0.0.1-py3-none-any.whl (5.3 kB)\n",
      "Installing collected packages: pyfrac\n",
      "Successfully installed pyfrac-0.0.1\n",
      "Note: you may need to restart the kernel to use updated packages.\n"
     ]
    },
    {
     "name": "stderr",
     "output_type": "stream",
     "text": [
      "\n",
      "[notice] A new release of pip available: 22.3.1 -> 23.1.2\n",
      "[notice] To update, run: C:\\Users\\tijn2\\AppData\\Local\\Programs\\Python\\Python37\\python.exe -m pip install --upgrade pip\n"
     ]
    }
   ],
   "source": [
    "pip install pyfrac"
   ]
  },
  {
   "cell_type": "code",
   "execution_count": 6,
   "id": "6df989f3",
   "metadata": {},
   "outputs": [
    {
     "name": "stdout",
     "output_type": "stream",
     "text": [
      "Collecting pycity\n",
      "  Downloading pycity-0.1.3.tar.gz (3.8 kB)\n",
      "  Preparing metadata (setup.py): started\n",
      "  Preparing metadata (setup.py): finished with status 'done'\n",
      "Building wheels for collected packages: pycity\n",
      "  Building wheel for pycity (setup.py): started\n",
      "  Building wheel for pycity (setup.py): finished with status 'done'\n",
      "  Created wheel for pycity: filename=pycity-0.1.3-py3-none-any.whl size=4191 sha256=45849f7ab26784b8c2722ae9262b115cc0e2f49ee232ffa97898b54a9fc5573e\n",
      "  Stored in directory: c:\\users\\tijn2\\appdata\\local\\pip\\cache\\wheels\\04\\2f\\b0\\513f3baab8a18679d9d2ea0788382ac0a0274be448ac8d3d87\n",
      "Successfully built pycity\n",
      "Installing collected packages: pycity\n",
      "Successfully installed pycity-0.1.3\n",
      "Note: you may need to restart the kernel to use updated packages.\n"
     ]
    },
    {
     "name": "stderr",
     "output_type": "stream",
     "text": [
      "\n",
      "[notice] A new release of pip available: 22.3.1 -> 23.1.2\n",
      "[notice] To update, run: C:\\Users\\tijn2\\AppData\\Local\\Programs\\Python\\Python37\\python.exe -m pip install --upgrade pip\n"
     ]
    }
   ],
   "source": [
    "pip install pycity"
   ]
  },
  {
   "cell_type": "code",
   "execution_count": 9,
   "id": "1a9877fa",
   "metadata": {},
   "outputs": [],
   "source": [
    "import pycity\n",
    "#from pycity import CityGenerator"
   ]
  },
  {
   "cell_type": "code",
   "execution_count": 2,
   "id": "fd39d40c",
   "metadata": {},
   "outputs": [],
   "source": [
    "def mincelfun(inarr, params = 3):\n",
    "    \"\"\"\n",
    "    The function takes a timeslice of the array and calculates of proportions of each neighbour in Moore neighbourhood.\n",
    "    \"\"\"\n",
    "    retprob = np.zeros(params)\n",
    "    totsum = 0\n",
    "    for rowarr in inarr:\n",
    "        for val in rowarr:\n",
    "            totsum += val[1] # Increases the total sum of cells that have some state\n",
    "            try:\n",
    "                retprob[int(val[0])] += float(val[1]) # Uses value to index type of cell and increase value in prob array.\n",
    "            except:\n",
    "                print(rowarr)\n",
    "    if (totsum == 0): # Is this correct? totsum is only 0 if the function is passed an empty matrix. \n",
    "        retprob = np.zeros(params)\n",
    "        retprob[0] = 1\n",
    "        return retprob\n",
    "    return retprob / float(totsum)\n",
    "\n",
    "def CA_city(init_mat, moore_n = 1, params = 3, debug = False):\n",
    "    \"\"\"\n",
    "    Loops through each cell and calculates its prob of changing state, then changes the state randomly.\n",
    "    \"\"\"\n",
    "    # Assumes initmat is of shape N,N,2 \n",
    "    init_dimx,init_dimy,init_pars = np.shape(init_mat)\n",
    "    \n",
    "    workgrid = np.zeros((init_dimx + 2 * moore_n, init_dimy + 2 * moore_n, init_pars))\n",
    "    retgrid = init_mat.copy()\n",
    "    workgrid[moore_n:-moore_n, moore_n:-moore_n] = init_mat\n",
    "    # Loops through the matrix dimensions, calls mincelfun() to find the values of neighbour cells. \n",
    "    for i,rowarr in enumerate(init_mat):\n",
    "        for j,val in enumerate(rowarr):\n",
    "            probs = mincelfun(workgrid[i:i+1 + 2*moore_n,j:j+1+2*moore_n], params = 3)\n",
    "            increase_param = np.random.choice(list(range(params)), 1, p = probs)\n",
    "            # if/else checks which value was randomly selected in previous line and updates matrix accordingly.\n",
    "            if increase_param == 0:\n",
    "                continue\n",
    "            elif increase_param == workgrid[i+moore_n, j+moore_n, 0]:\n",
    "                retgrid[i,j,1] += 1\n",
    "            else:\n",
    "                retgrid[i,j] = [increase_param,1]\n",
    "    return retgrid\n",
    "\n",
    "\n",
    "def init_grid(N,params):\n",
    "    \"\"\"\n",
    "    The function creates the initial state of the matrix and sets its values.\n",
    "    Takes the dimensions of the grid and parameters as arguments and returns initial condition of matrix.\n",
    "    \"\"\"\n",
    "    retgrid = np.zeros((N,N,2))\n",
    "    center = math.floor(N/2) # finds the center of the grid\n",
    "    retgrid[:,:,1] = 1 # sets the center of the grid as a 1.\n",
    "    retgrid[center,center,0] =1\n",
    "    \n",
    "    return retgrid"
   ]
  },
  {
   "cell_type": "code",
   "execution_count": 3,
   "id": "465bcec5",
   "metadata": {},
   "outputs": [
    {
     "name": "stderr",
     "output_type": "stream",
     "text": [
      "C:\\Users\\tijn2\\AppData\\Local\\Programs\\Python\\Python37\\lib\\site-packages\\ipykernel_launcher.py:41: DeprecationWarning: setting an array element with a sequence. This was supported in some cases where the elements are arrays with a single element. For example `np.array([1, np.array([2])], dtype=int)`. In the future this will raise the same ValueError as `np.array([1, [2]], dtype=int)`.\n"
     ]
    }
   ],
   "source": [
    "dimensions = 50\n",
    "time = 60\n",
    "solution_dev = np.empty((time,dimensions,dimensions,2))\n",
    "init_city = init_grid(dimensions,3)\n",
    "solution_dev[0] = init_city\n",
    "solution_dev[1] = CA_city(solution_dev[0])\n",
    "for step in range(2,time):\n",
    "    solution_dev[step] = CA_city(solution_dev[step-1])"
   ]
  },
  {
   "cell_type": "code",
   "execution_count": 4,
   "id": "cb927399",
   "metadata": {},
   "outputs": [
    {
     "data": {
      "text/plain": [
       "<matplotlib.image.AxesImage at 0x1ccb69f1f08>"
      ]
     },
     "execution_count": 4,
     "metadata": {},
     "output_type": "execute_result"
    },
    {
     "data": {
      "image/png": "[encoded data removed]",
      "text/plain": [
       "<Figure size 432x288 with 1 Axes>"
      ]
     },
     "metadata": {
      "needs_background": "light"
     },
     "output_type": "display_data"
    }
   ],
   "source": [
    "plt.imshow(solution_dev[59,:,:,1], cmap = 'nipy_spectral', vmin = 0, vmax = 60)"
   ]
  },
  {
   "cell_type": "code",
   "execution_count": 10,
   "id": "f6695f24",
   "metadata": {},
   "outputs": [],
   "source": [
    "#init_grid(50,3)"
   ]
  },
  {
   "cell_type": "code",
   "execution_count": 12,
   "id": "ecd5fff0",
   "metadata": {},
   "outputs": [
    {
     "name": "stdout",
     "output_type": "stream",
     "text": [
      "C R C C C R R R R I R I R R C R I I I R R R R C R C C I R R C R R R C C R C I R C R I R C C I C C C\n",
      "R I I R R R C R I R R C R I I R I R R R I R C R R R R R R R C C I R R I I R R I R C C R I I C I R R\n",
      "I C R I R R R I R I R R I R I R R I R C C I R C C I R I C R C I R C I R R C C I C R R R R R R R R R\n",
      "R C R R R R R R R R C R C R C R I R R R R R C R R R I C I I C C C R R C C C C C R I C C I C R I R R\n",
      "I R R C C C C I R C R C I R R R C R R C R R C R R R R C C C C C R I R C I I R R R I I R R R I C R R\n",
      "C R C R R R R R I R C R R C C I I I C I C C I R C R R C R R C R R R I R R R C R R R R R C C C R C I\n",
      "R R R R C R C I R I R I R R I I C R R R R R C R I R R C R I R C R R I C C I R R R I I I I R I R R I\n",
      "I R R R I C C R R I R R R R I R C C C R R C R R I R C C R R R I R R R R C R C R C R C C R C R C C I\n",
      "C C R R C I C I R I I C I I R R I R C R C I R C R C I I R R R I R R R R R R R I C R C R C C R R R I\n",
      "R C R I I R R R R C R R C I R R R C R R R R I I R C R R R C C C R R R I C I I C C R C R C R C I R C\n",
      "I C C C R R I I C R I R I R I C I R R C R R R R R C I I C C R R C I C C I R R R R R C I R R C R R R\n",
      "R I R I R C C R R R R C I I C R R I C C R C C I R C R R R C R C C R C R I R C R R I C R R C C R C R\n",
      "R C C R R R I C I C C R R R I R R C R R I I R R R R I C C C C I C C R C C R I R C R C C R I I C R R\n",
      "R R R C C R R R R R R I R I R I C I C I R R C R R I R C R C C C I R R R C I C C R C I R R C R I C R\n",
      "C R R R R I C R I C R R R R R C R I R R R R R C R C C R C R C R R C R R C R I R R R R R R R I C I I\n",
      "C R I C C R C R I I R I C I I C I R R I C R R R R C C R R C R R R R R R R R R C I R R R R R C R R C\n",
      "R R C R R R R R I R R R R R R C R R C R I R R R C I R C R C I R R R R C C R C C R R R C I I C R R R\n",
      "C I R C R I R R R I R R C R C R R C R R C I R R C C R I R R C R C I R C R C R R R R C I R C R R R C\n",
      "I C R I I R I R C R R C I C R R C C I C I R R I R C I I R R R C C C R I R I R C I I C R C R R I R R\n",
      "C C I C R C R R R I R R I R I I R R R I R R C R C R R C R R R R I R R R R I R C R C C R R R C I C I\n",
      "C R R R I R R R C C R R I I R R R C R R C I C R I R I C R R R C R R R R R I R I C R I R R I C C R R\n",
      "C R C I R R C R C C R C C I I C C R C C I R C I R C R C R R I C C I C R I R C C C R C I C R R R C C\n",
      "I R R I R C R C R R C C C C R R R C R R R R R C R I R C C R R C C C C I I R R R C R C R R C I R R R\n",
      "C R R R R R R R R R C I I R C C R R C R C R R R R R I I R R C I C R I R I R R C R C C C R R R R R C\n",
      "C R C R I R R R I R R I C R C I R I R R C C R R I I R C R R R I R R R R R C R R I C I R R R C R R I\n",
      "I C I R R R R I I I C C R I I I R R I R R R R C C C R C R C I R R R C R C R C C R R R C C R R R C C\n",
      "R C R R C R R R R I R R R I I C I R R C C C I I R R R C C R R R R R R R R I R R C R I I R R I R I C\n",
      "C I R C R C C R C I R I R C I R R C I I C C R R R C R I I C R I C C R R R C R R I C C I R I C C I C\n",
      "R I C I I R I C C C I R R C C R I R I C R C R R C C R C I R R R C R R R C C C R C R I R C I R C I C\n",
      "C R R R R C R C C I C R R R I I C I R C R R C C R C R R R R I C C C I I R R C R R R R I R I R R I R\n",
      "I C R R I R R R C C R C R R C C R R R C R R C R R C R R C C R R C R R I C R C I R C C R R C C R C R\n",
      "R R R C C R R C R R I C R R R C R R C R C R C C C C R R C C I R R R R R C R C R C C C R R R C R R R\n",
      "R R C R R R C C C R C C R C R R C C I C R C I R I C R I R I R R R R R R R R R I R R C C I C R C C I\n",
      "R C I C C R R R R R C R C I C R R R R R C C R R C C I C I R C R C R C I R R C R R I R C R R R C R R\n",
      "R C C R R I R R R R R R R I C R R I R R R R C R R C R I R C R I C R C C I C I C C C R I C C R I R R\n",
      "R R I R C I R C R C R I R R I R R C C I R R R I R C I C R R C R I I I R C C I I R R R R R R I R I R\n",
      "R C R I C I C R C R R C I R C I I C R I R R C R R I I R I C R C I I R C R R R R C C I R R R C R R I\n",
      "R I R C C C C I R R C R R C R R R R R C R C R R R R R R R R C R R C R C R R I R R R R C R C C C R C\n",
      "C R I R C I R I R I R C I C C R I R C R R R C R R C R R R R R C R R R C R I R R C R I R C C I R R I\n",
      "C I C C R I R R R R R I R C R C R C R R R I R I R R C R R I I C R C C R R C R R I R R C R R C R I R\n",
      "I R R R I I C C C R R R R C R I R R R I R C C R I R R R I C R I R C C R R C C C C R I R C R R C C I\n",
      "C R R R C I R C R C R C C I C I C R R R R C C R R R R R R I C C C C C I R C C C R R I C I C R C C I\n",
      "R R C R I R R R R R C C R R C C I C C I R C R R R C C R I I C R R R R R R C C C I I R C I R R R C R\n",
      "C I C R R R R I I I I R R R C R C R R I R C I C R R C C C C I R C R I R R R I C C R C I R R R R I I\n",
      "I R R R I R R R R C R I R C R C R C R C C R I I R I R C C R C R C I C C I R R C C R R R C C C C R R\n",
      "R R R R R R I R C R C R C R R R C R C R R R I C I R I I I R I C C C C R I R R I I R C R R C C C R C\n",
      "C C C R R R C R R I C R C R I I R R R C R R C R C C R R R R R I R R R C R R C R C I C R R I I C R R\n",
      "C R R C I R C R C C R C R R C R I R R R R R R R I C C C R C R R I I R C C R I R R R C C R C R C C R\n",
      "R R I C I C R R R C R R R C R R R R I C I C C C R R R R I R I C R R I R R C R C R I I C R C R R C C\n",
      "C C C R R C C I R R R C R R I C I C R C R R C R R I C I C I R R C I C R R R C C R I C I C I C R R R\n"
     ]
    }
   ],
   "source": [
    "# Set the size of the city (number of blocks)\n",
    "city_size = (50, 50)\n",
    "\n",
    "# Set the proportions of different land uses\n",
    "land_use_probs = {\n",
    "    'residential': 0.5,\n",
    "    'commercial': 0.3,\n",
    "    'industrial': 0.2\n",
    "}\n",
    "\n",
    "# Create an empty grid for the city\n",
    "grid = np.empty(city_size, dtype=str)\n",
    "\n",
    "# Generate the starting grid\n",
    "for i in range(city_size[0]):\n",
    "    for j in range(city_size[1]):\n",
    "        land_use_type = np.random.choice(list(land_use_probs.keys()), p=list(land_use_probs.values()))\n",
    "        grid[i, j] = land_use_type[0].upper()  # Use the first character as the code\n",
    "\n",
    "# Print the grid\n",
    "for row in grid:\n",
    "    print(' '.join(row))\n"
   ]
  },
  {
   "cell_type": "code",
   "execution_count": 45,
   "id": "3d3d067d",
   "metadata": {},
   "outputs": [
    {
     "data": {
      "image/png": "[encoded data removed]",
      "text/plain": [
       "<Figure size 432x288 with 1 Axes>"
      ]
     },
     "metadata": {
      "needs_background": "light"
     },
     "output_type": "display_data"
    }
   ],
   "source": [
    "# Set the size of the city (number of blocks)\n",
    "city_size = (50, 50)\n",
    "\n",
    "# Set the proportions of different land uses\n",
    "land_use_probs = {\n",
    "    'residential': 0.25,\n",
    "    'commercial': 0.1,\n",
    "    'industrial': 0.05,\n",
    "    'empty': 0.6\n",
    "}\n",
    "\n",
    "# Create an empty grid for the city\n",
    "grid = np.empty(city_size, dtype=str)\n",
    "\n",
    "# Generate the starting grid\n",
    "for i in range(city_size[0]):\n",
    "    for j in range(city_size[1]):\n",
    "        land_use_type = np.random.choice(list(land_use_probs.keys()), p=list(land_use_probs.values()))\n",
    "        grid[i, j] = land_use_type[0].upper()  # Use the first character as the code\n",
    "\n",
    "# Set up colors for the land use types\n",
    "colors = {'R': 'blue', 'C': 'red', 'I': 'green', 'E': 'white'}\n",
    "\n",
    "# Create a figure and axis\n",
    "fig, ax = plt.subplots()\n",
    "\n",
    "# Plot the grid with different colors for each state\n",
    "for i in range(city_size[0]):\n",
    "    for j in range(city_size[1]):\n",
    "        ax.add_patch(plt.Rectangle((j, i), 1, 1, color=colors[grid[i, j]], alpha=0.8))\n",
    "\n",
    "# Set the axis limits and labels\n",
    "ax.set_xlim(0, city_size[1])\n",
    "ax.set_ylim(0, city_size[0])\n",
    "ax.set_xticks(np.arange(city_size[1] + 1))\n",
    "ax.set_yticks(np.arange(city_size[0] + 1))\n",
    "ax.set_xticklabels([])\n",
    "ax.set_yticklabels([])\n",
    "\n",
    "# Add a legend for the land use types\n",
    "legend_patches = [plt.Rectangle((0, 0), 1, 1, color=color) for color in colors.values()]\n",
    "ax.legend(legend_patches, colors.keys(), loc='upper right')\n",
    "\n",
    "# Show the plot\n",
    "plt.show()\n"
   ]
  },
  {
   "cell_type": "code",
   "execution_count": 47,
   "id": "8d4c1f32",
   "metadata": {},
   "outputs": [
    {
     "data": {
      "text/plain": [
       "array([['E', 'E', 'E', ..., 'C', 'E', 'C'],\n",
       "       ['C', 'E', 'I', ..., 'E', 'E', 'R'],\n",
       "       ['R', 'E', 'E', ..., 'R', 'E', 'C'],\n",
       "       ...,\n",
       "       ['I', 'R', 'R', ..., 'C', 'I', 'E'],\n",
       "       ['C', 'E', 'R', ..., 'C', 'E', 'C'],\n",
       "       ['E', 'R', 'E', ..., 'E', 'E', 'E']], dtype='<U1')"
      ]
     },
     "execution_count": 47,
     "metadata": {},
     "output_type": "execute_result"
    }
   ],
   "source": [
    "grid"
   ]
  },
  {
   "cell_type": "code",
   "execution_count": 42,
   "id": "1f54d455",
   "metadata": {},
   "outputs": [],
   "source": [
    "ca = np.random.randint(0, 3, size=(100, 100))"
   ]
  },
  {
   "cell_type": "code",
   "execution_count": 50,
   "id": "c7984968",
   "metadata": {},
   "outputs": [
    {
     "name": "stdout",
     "output_type": "stream",
     "text": [
      "Fractal dimension for state R: 0.819590841310618\n",
      "Fractal dimension for state C: 0.9660006433777051\n",
      "Fractal dimension for state I: 1.0899080885828014\n",
      "Fractal dimension for state E: 0.7252147376003798\n"
     ]
    }
   ],
   "source": [
    "# Define the number of states in the cellular automaton\n",
    "num_states = ['R','C','I','E'] #4\n",
    "\n",
    "# Calculate the fractal dimension for each state\n",
    "fractal_dims = []\n",
    "for state in num_states:#range(num_states):\n",
    "    # Create a binary mask for the current state\n",
    "    state_mask = (grid == state)\n",
    "\n",
    "    # Calculate the fractal dimension for the state\n",
    "    bounding_box = find_objects(state_mask)[0]\n",
    "    width = bounding_box[0].stop - bounding_box[0].start\n",
    "    height = bounding_box[1].stop - bounding_box[1].start\n",
    "    area = np.count_nonzero(state_mask)\n",
    "    perimeter = 2 * (width + height)\n",
    "    fractal_dim = np.log(perimeter) / np.log(area)\n",
    "    fractal_dims.append(fractal_dim)\n",
    "\n",
    "# Print the fractal dimension for each state\n",
    "for state, fractal_dim in enumerate(fractal_dims):\n",
    "    print(f\"Fractal dimension for state {num_states[state]}: {fractal_dim}\")\n"
   ]
  },
  {
   "cell_type": "code",
   "execution_count": 51,
   "id": "573e3786",
   "metadata": {},
   "outputs": [
    {
     "data": {
      "text/plain": [
       "array([['E', 'E', 'E', ..., 'C', 'E', 'C'],\n",
       "       ['C', 'E', 'I', ..., 'E', 'E', 'R'],\n",
       "       ['R', 'E', 'E', ..., 'R', 'E', 'C'],\n",
       "       ...,\n",
       "       ['I', 'R', 'R', ..., 'C', 'I', 'E'],\n",
       "       ['C', 'E', 'R', ..., 'C', 'E', 'C'],\n",
       "       ['E', 'R', 'E', ..., 'E', 'E', 'E']], dtype='<U1')"
      ]
     },
     "execution_count": 51,
     "metadata": {},
     "output_type": "execute_result"
    }
   ],
   "source": [
    "grid"
   ]
  },
  {
   "cell_type": "code",
   "execution_count": 53,
   "id": "43c5f3a3",
   "metadata": {},
   "outputs": [
    {
     "name": "stdout",
     "output_type": "stream",
     "text": [
      "State C: Occurrence=241, Ratio=0.096\n",
      "State E: Occurrence=1489, Ratio=0.596\n",
      "State I: Occurrence=128, Ratio=0.051\n",
      "State R: Occurrence=642, Ratio=0.257\n"
     ]
    }
   ],
   "source": [
    "# Calculate occurrence of each state\n",
    "state_occurrence = np.unique(grid, return_counts=True)\n",
    "\n",
    "# Calculate ratio of each state over the total grid\n",
    "total_cells = grid.size\n",
    "state_ratio = state_occurrence[1] / total_cells\n",
    "\n",
    "# Print the occurrence and ratio of each state\n",
    "for state, occurrence, ratio in zip(state_occurrence[0], state_occurrence[1], state_ratio):\n",
    "    print(f\"State {state}: Occurrence={occurrence}, Ratio={ratio:.3f}\")"
   ]
  },
  {
   "cell_type": "code",
   "execution_count": 54,
   "id": "7fb17309",
   "metadata": {},
   "outputs": [
    {
     "ename": "TypeError",
     "evalue": "Image data of dtype <U1 cannot be converted to float",
     "output_type": "error",
     "traceback": [
      "\u001b[1;31m---------------------------------------------------------------------------\u001b[0m",
      "\u001b[1;31mTypeError\u001b[0m                                 Traceback (most recent call last)",
      "\u001b[1;32m<ipython-input-54-bda908077ab9>\u001b[0m in \u001b[0;36m<module>\u001b[1;34m\u001b[0m\n\u001b[1;32m----> 1\u001b[1;33m \u001b[0mplt\u001b[0m\u001b[1;33m.\u001b[0m\u001b[0mimshow\u001b[0m\u001b[1;33m(\u001b[0m\u001b[0mgrid\u001b[0m\u001b[1;33m,\u001b[0m \u001b[0mcmap\u001b[0m\u001b[1;33m=\u001b[0m\u001b[1;34m'viridis'\u001b[0m\u001b[1;33m)\u001b[0m\u001b[1;33m\u001b[0m\u001b[1;33m\u001b[0m\u001b[0m\n\u001b[0m\u001b[0;32m      2\u001b[0m \u001b[0mplt\u001b[0m\u001b[1;33m.\u001b[0m\u001b[0mcolorbar\u001b[0m\u001b[1;33m(\u001b[0m\u001b[1;33m)\u001b[0m\u001b[1;33m\u001b[0m\u001b[1;33m\u001b[0m\u001b[0m\n\u001b[0;32m      3\u001b[0m \u001b[0mplt\u001b[0m\u001b[1;33m.\u001b[0m\u001b[0mshow\u001b[0m\u001b[1;33m(\u001b[0m\u001b[1;33m)\u001b[0m\u001b[1;33m\u001b[0m\u001b[1;33m\u001b[0m\u001b[0m\n",
      "\u001b[1;32m~\\AppData\\Local\\Programs\\Python\\Python37\\lib\\site-packages\\matplotlib\\pyplot.py\u001b[0m in \u001b[0;36mimshow\u001b[1;34m(X, cmap, norm, aspect, interpolation, alpha, vmin, vmax, origin, extent, shape, filternorm, filterrad, imlim, resample, url, data, **kwargs)\u001b[0m\n\u001b[0;32m   2649\u001b[0m         \u001b[0mfilternorm\u001b[0m\u001b[1;33m=\u001b[0m\u001b[0mfilternorm\u001b[0m\u001b[1;33m,\u001b[0m \u001b[0mfilterrad\u001b[0m\u001b[1;33m=\u001b[0m\u001b[0mfilterrad\u001b[0m\u001b[1;33m,\u001b[0m \u001b[0mimlim\u001b[0m\u001b[1;33m=\u001b[0m\u001b[0mimlim\u001b[0m\u001b[1;33m,\u001b[0m\u001b[1;33m\u001b[0m\u001b[1;33m\u001b[0m\u001b[0m\n\u001b[0;32m   2650\u001b[0m         resample=resample, url=url, **({\"data\": data} if data is not\n\u001b[1;32m-> 2651\u001b[1;33m         None else {}), **kwargs)\n\u001b[0m\u001b[0;32m   2652\u001b[0m     \u001b[0msci\u001b[0m\u001b[1;33m(\u001b[0m\u001b[0m__ret\u001b[0m\u001b[1;33m)\u001b[0m\u001b[1;33m\u001b[0m\u001b[1;33m\u001b[0m\u001b[0m\n\u001b[0;32m   2653\u001b[0m     \u001b[1;32mreturn\u001b[0m \u001b[0m__ret\u001b[0m\u001b[1;33m\u001b[0m\u001b[1;33m\u001b[0m\u001b[0m\n",
      "\u001b[1;32m~\\AppData\\Local\\Programs\\Python\\Python37\\lib\\site-packages\\matplotlib\\__init__.py\u001b[0m in \u001b[0;36minner\u001b[1;34m(ax, data, *args, **kwargs)\u001b[0m\n\u001b[0;32m   1563\u001b[0m     \u001b[1;32mdef\u001b[0m \u001b[0minner\u001b[0m\u001b[1;33m(\u001b[0m\u001b[0max\u001b[0m\u001b[1;33m,\u001b[0m \u001b[1;33m*\u001b[0m\u001b[0margs\u001b[0m\u001b[1;33m,\u001b[0m \u001b[0mdata\u001b[0m\u001b[1;33m=\u001b[0m\u001b[1;32mNone\u001b[0m\u001b[1;33m,\u001b[0m \u001b[1;33m**\u001b[0m\u001b[0mkwargs\u001b[0m\u001b[1;33m)\u001b[0m\u001b[1;33m:\u001b[0m\u001b[1;33m\u001b[0m\u001b[1;33m\u001b[0m\u001b[0m\n\u001b[0;32m   1564\u001b[0m         \u001b[1;32mif\u001b[0m \u001b[0mdata\u001b[0m \u001b[1;32mis\u001b[0m \u001b[1;32mNone\u001b[0m\u001b[1;33m:\u001b[0m\u001b[1;33m\u001b[0m\u001b[1;33m\u001b[0m\u001b[0m\n\u001b[1;32m-> 1565\u001b[1;33m             \u001b[1;32mreturn\u001b[0m \u001b[0mfunc\u001b[0m\u001b[1;33m(\u001b[0m\u001b[0max\u001b[0m\u001b[1;33m,\u001b[0m \u001b[1;33m*\u001b[0m\u001b[0mmap\u001b[0m\u001b[1;33m(\u001b[0m\u001b[0msanitize_sequence\u001b[0m\u001b[1;33m,\u001b[0m \u001b[0margs\u001b[0m\u001b[1;33m)\u001b[0m\u001b[1;33m,\u001b[0m \u001b[1;33m**\u001b[0m\u001b[0mkwargs\u001b[0m\u001b[1;33m)\u001b[0m\u001b[1;33m\u001b[0m\u001b[1;33m\u001b[0m\u001b[0m\n\u001b[0m\u001b[0;32m   1566\u001b[0m \u001b[1;33m\u001b[0m\u001b[0m\n\u001b[0;32m   1567\u001b[0m         \u001b[0mbound\u001b[0m \u001b[1;33m=\u001b[0m \u001b[0mnew_sig\u001b[0m\u001b[1;33m.\u001b[0m\u001b[0mbind\u001b[0m\u001b[1;33m(\u001b[0m\u001b[0max\u001b[0m\u001b[1;33m,\u001b[0m \u001b[1;33m*\u001b[0m\u001b[0margs\u001b[0m\u001b[1;33m,\u001b[0m \u001b[1;33m**\u001b[0m\u001b[0mkwargs\u001b[0m\u001b[1;33m)\u001b[0m\u001b[1;33m\u001b[0m\u001b[1;33m\u001b[0m\u001b[0m\n",
      "\u001b[1;32m~\\AppData\\Local\\Programs\\Python\\Python37\\lib\\site-packages\\matplotlib\\cbook\\deprecation.py\u001b[0m in \u001b[0;36mwrapper\u001b[1;34m(*args, **kwargs)\u001b[0m\n\u001b[0;32m    356\u001b[0m                 \u001b[1;34mf\"%(removal)s.  If any parameter follows {name!r}, they \"\u001b[0m\u001b[1;33m\u001b[0m\u001b[1;33m\u001b[0m\u001b[0m\n\u001b[0;32m    357\u001b[0m                 f\"should be pass as keyword, not positionally.\")\n\u001b[1;32m--> 358\u001b[1;33m         \u001b[1;32mreturn\u001b[0m \u001b[0mfunc\u001b[0m\u001b[1;33m(\u001b[0m\u001b[1;33m*\u001b[0m\u001b[0margs\u001b[0m\u001b[1;33m,\u001b[0m \u001b[1;33m**\u001b[0m\u001b[0mkwargs\u001b[0m\u001b[1;33m)\u001b[0m\u001b[1;33m\u001b[0m\u001b[1;33m\u001b[0m\u001b[0m\n\u001b[0m\u001b[0;32m    359\u001b[0m \u001b[1;33m\u001b[0m\u001b[0m\n\u001b[0;32m    360\u001b[0m     \u001b[1;32mreturn\u001b[0m \u001b[0mwrapper\u001b[0m\u001b[1;33m\u001b[0m\u001b[1;33m\u001b[0m\u001b[0m\n",
      "\u001b[1;32m~\\AppData\\Local\\Programs\\Python\\Python37\\lib\\site-packages\\matplotlib\\cbook\\deprecation.py\u001b[0m in \u001b[0;36mwrapper\u001b[1;34m(*args, **kwargs)\u001b[0m\n\u001b[0;32m    356\u001b[0m                 \u001b[1;34mf\"%(removal)s.  If any parameter follows {name!r}, they \"\u001b[0m\u001b[1;33m\u001b[0m\u001b[1;33m\u001b[0m\u001b[0m\n\u001b[0;32m    357\u001b[0m                 f\"should be pass as keyword, not positionally.\")\n\u001b[1;32m--> 358\u001b[1;33m         \u001b[1;32mreturn\u001b[0m \u001b[0mfunc\u001b[0m\u001b[1;33m(\u001b[0m\u001b[1;33m*\u001b[0m\u001b[0margs\u001b[0m\u001b[1;33m,\u001b[0m \u001b[1;33m**\u001b[0m\u001b[0mkwargs\u001b[0m\u001b[1;33m)\u001b[0m\u001b[1;33m\u001b[0m\u001b[1;33m\u001b[0m\u001b[0m\n\u001b[0m\u001b[0;32m    359\u001b[0m \u001b[1;33m\u001b[0m\u001b[0m\n\u001b[0;32m    360\u001b[0m     \u001b[1;32mreturn\u001b[0m \u001b[0mwrapper\u001b[0m\u001b[1;33m\u001b[0m\u001b[1;33m\u001b[0m\u001b[0m\n",
      "\u001b[1;32m~\\AppData\\Local\\Programs\\Python\\Python37\\lib\\site-packages\\matplotlib\\axes\\_axes.py\u001b[0m in \u001b[0;36mimshow\u001b[1;34m(self, X, cmap, norm, aspect, interpolation, alpha, vmin, vmax, origin, extent, shape, filternorm, filterrad, imlim, resample, url, **kwargs)\u001b[0m\n\u001b[0;32m   5613\u001b[0m                               resample=resample, **kwargs)\n\u001b[0;32m   5614\u001b[0m \u001b[1;33m\u001b[0m\u001b[0m\n\u001b[1;32m-> 5615\u001b[1;33m         \u001b[0mim\u001b[0m\u001b[1;33m.\u001b[0m\u001b[0mset_data\u001b[0m\u001b[1;33m(\u001b[0m\u001b[0mX\u001b[0m\u001b[1;33m)\u001b[0m\u001b[1;33m\u001b[0m\u001b[1;33m\u001b[0m\u001b[0m\n\u001b[0m\u001b[0;32m   5616\u001b[0m         \u001b[0mim\u001b[0m\u001b[1;33m.\u001b[0m\u001b[0mset_alpha\u001b[0m\u001b[1;33m(\u001b[0m\u001b[0malpha\u001b[0m\u001b[1;33m)\u001b[0m\u001b[1;33m\u001b[0m\u001b[1;33m\u001b[0m\u001b[0m\n\u001b[0;32m   5617\u001b[0m         \u001b[1;32mif\u001b[0m \u001b[0mim\u001b[0m\u001b[1;33m.\u001b[0m\u001b[0mget_clip_path\u001b[0m\u001b[1;33m(\u001b[0m\u001b[1;33m)\u001b[0m \u001b[1;32mis\u001b[0m \u001b[1;32mNone\u001b[0m\u001b[1;33m:\u001b[0m\u001b[1;33m\u001b[0m\u001b[1;33m\u001b[0m\u001b[0m\n",
      "\u001b[1;32m~\\AppData\\Local\\Programs\\Python\\Python37\\lib\\site-packages\\matplotlib\\image.py\u001b[0m in \u001b[0;36mset_data\u001b[1;34m(self, A)\u001b[0m\n\u001b[0;32m    692\u001b[0m                 not np.can_cast(self._A.dtype, float, \"same_kind\")):\n\u001b[0;32m    693\u001b[0m             raise TypeError(\"Image data of dtype {} cannot be converted to \"\n\u001b[1;32m--> 694\u001b[1;33m                             \"float\".format(self._A.dtype))\n\u001b[0m\u001b[0;32m    695\u001b[0m \u001b[1;33m\u001b[0m\u001b[0m\n\u001b[0;32m    696\u001b[0m         if not (self._A.ndim == 2\n",
      "\u001b[1;31mTypeError\u001b[0m: Image data of dtype <U1 cannot be converted to float"
     ]
    },
    {
     "data": {
      "image/png": "[encoded data removed]",
      "text/plain": [
       "<Figure size 432x288 with 1 Axes>"
      ]
     },
     "metadata": {
      "needs_background": "light"
     },
     "output_type": "display_data"
    }
   ],
   "source": [
    "plt.imshow(grid, cmap='viridis')\n",
    "plt.colorbar()\n",
    "plt.show()"
   ]
  },
  {
   "cell_type": "code",
   "execution_count": 56,
   "id": "2c789511",
   "metadata": {},
   "outputs": [
    {
     "data": {
      "image/png": "[encoded data removed]",
      "text/plain": [
       "<Figure size 432x288 with 1 Axes>"
      ]
     },
     "metadata": {},
     "output_type": "display_data"
    }
   ],
   "source": [
    "import networkx as nx\n",
    "import matplotlib.pyplot as plt\n",
    "\n",
    "def count_neighbors(cellular_automaton, row, col):\n",
    "    state = cellular_automaton[row, col]\n",
    "    neighbors = []\n",
    "    for i in range(max(0, row - 1), min(row + 2, cellular_automaton.shape[0])):\n",
    "        for j in range(max(0, col - 1), min(col + 2, cellular_automaton.shape[1])):\n",
    "            if (i, j) != (row, col):\n",
    "                neighbors.append(cellular_automaton[i, j])\n",
    "    return neighbors\n",
    "\n",
    "# Example usage\n",
    "# cellular_automaton = np.array([\n",
    "#     ['R', 'C', 'I', 'R'],\n",
    "#     ['I', 'E', 'C', 'R'],\n",
    "#     ['C', 'R', 'R', 'I'],\n",
    "#     ['C', 'I', 'E', 'E']\n",
    "# ])\n",
    "\n",
    "G = nx.Graph()\n",
    "rows, cols = grid.shape\n",
    "\n",
    "for i in range(rows):\n",
    "    for j in range(cols):\n",
    "        state = grid[i, j]\n",
    "        if state != 'E':\n",
    "            G.add_node((i, j))\n",
    "\n",
    "for i in range(rows):\n",
    "    for j in range(cols):\n",
    "        if grid[i, j] != 'E':\n",
    "            neighbors = count_neighbors(grid, i, j)\n",
    "            for neighbor in neighbors:\n",
    "                if neighbor != 'E':\n",
    "                    G.add_edge((i, j), neighbor)\n",
    "\n",
    "nx.draw(G, with_labels=True)\n",
    "plt.show()\n"
   ]
  }
 ],
 "metadata": {
  "kernelspec": {
   "display_name": "Python 3",
   "language": "python",
   "name": "python3"
  },
  "language_info": {
   "codemirror_mode": {
    "name": "ipython",
    "version": 3
   },
   "file_extension": ".py",
   "mimetype": "text/x-python",
   "name": "python",
   "nbconvert_exporter": "python",
   "pygments_lexer": "ipython3",
   "version": "3.7.7"
  }
 },
 "nbformat": 4,
 "nbformat_minor": 5
}
