{
 "cells": [
  {
   "cell_type": "code",
   "execution_count": 159,
   "id": "dac11bc1",
   "metadata": {
    "tags": []
   },
   "outputs": [],
   "source": [
    "import numpy as np\n",
    "import math\n",
    "import matplotlib.pyplot as plt\n",
    "import pandas as pd\n",
    "import powerlaw\n",
    "import csv\n",
    "from collections import Counter"
   ]
  },
  {
   "cell_type": "code",
   "execution_count": 160,
   "id": "d4ef8d40",
   "metadata": {
    "tags": []
   },
   "outputs": [],
   "source": [
    "translation_rates = np.array([[[[0,0,0,0,0,0],[0,0,0,0,0,0],[0,0,0,0,0,0]],            #Transition from V to V based on V,R,C neighbor\n",
    "                     [[0,0,0,0,0,0],[ 2, 1.5, 1, 0.5,0.5,0.1],[-2,2, 1, 0.4, 0.1, 0]], #Transition from V to R based on V,R,C neighbor\n",
    "                     [[0,0,0,0,0,0],[4, 3, 2, 1.5, 1, 1],[25, 5, -1, -1, -1, -1]]],    #Transition from V to C based on V,R,C neighbor\n",
    "                     [[[0,0,0,0,0,0],[ -2, -1.5, -1, -0.5,-0.5,-0.1],[2,-2, -1, -0.4, -0.1, 0]],                   #Transition from R to V based on V,R,C neighbor\n",
    "                     [[0,0,0,0,0,0],[0,0,0,0,0,0],[0,0,0,0,0,0]],                      #Transition from R to R based on V,R,C neighbor\n",
    "                     [[0,0,0,0,0,0],[4, 3, 2, 1.5, 1, 1],[25, 5, -2, -2, -2, -2]]],   #Transition from R to C based on V,R,C neighbor\n",
    "                     [[[0,0,0,0,0,0],[-4, -3, -2, -1.5, -1, -1],[-25,-5, 2, 2, 2, 2]],  #Transition from C to V based on V,R,C neighbor\n",
    "                     [[0,0,0,0,0,0],[-4, -3, -2, -1.5, -1, -1],[-25,-5, 2, 2, 2, 2]],  #Transition from C to R based on V,R,C neighbor\n",
    "                      [[0,0,0,0,0,0],[0,0,0,0,0,0],[0,0,0,0,0,0]]]]                    #Transition from C to C based on V,R,C neighbor\n",
    "                            )\n",
    "\n",
    "translation_rates_bkp = np.array([[[[0,0,0,0,0,0],[0,0,0,0,0,0],[0,0,0,0,0,0]],            #Transition from V to V based on V,R,C neighbor\n",
    "                     [[0,0,0,0,0,0],[ 2, 1.5, 1, 0.5,0.5,0.1],[-2,2, 1, 0.4, 0.1, 0]], #Transition from V to R based on V,R,C neighbor\n",
    "                     [[0,0,0,0,0,0],[4, 3, 2, 1.5, 1, 1],[25, 25, -1, -1, -1, -1]]],    #Transition from V to C based on V,R,C neighbor\n",
    "                     [[[0,0,0,0,0,0],[0,0,0,0,0,0],[0,0,0,0,0,0]],                   #Transition from R to V based on V,R,C neighbor\n",
    "                     [[0,0,0,0,0,0],[0,0,0,0,0,0],[0,0,0,0,0,0]],                      #Transition from R to R based on V,R,C neighbor\n",
    "                     [[0,0,0,0,0,0],[4, 3, 2, 1.5, 1, 1],[25, 25, -2, -2, -2, -2]]],   #Transition from R to C based on V,R,C neighbor\n",
    "                     [[[0,0,0,0,0,0],[0,0,0,0,0,0],[0,0,0,0,0,0]],                     #Transition from C to V based on V,R,C neighbor\n",
    "                     [[0,0,0,0,0,0],[0,0,0,0,0,0],[0,0,0,0,0,0]],                      #Transition from C to R based on V,R,C neighbor\n",
    "                      [[0,0,0,0,0,0],[0,0,0,0,0,0],[0,0,0,0,0,0]]]]                    #Transition from C to C based on V,R,C neighbor\n",
    "                            )\n",
    "translation_rates_4params = np.array([[[[0,0,0,0,0,0],[0,0,0,0,0,0],[0,0,0,0,0,0],[0,0,0,0,0,0]],       #Transition from V to V based on V,R,C,I neighbor\n",
    "                      [[0,0,0,0,0,0],[ 2, 1.5, 1, 0.5,0.5,0.1],[-2,2, 1, 0.4, 0.1, 0],[-10,-5,0,0,0,0]],#Transition from V to R based on V,R,C,I neighbor\n",
    "                      [[0,0,0,0,0,0],[4, 3, 2, 1.5, 1, 1],[25, 25, -1, -1, -1, -1],[0,0,0,0,0,0]],      #Transition from V to C based on V,R,C,I neighbor\n",
    "                      [[0,0,0,0,0,0],[-1,0,0,0,0,0],[0,0,0,0,0,0],[3,2,0.2,0.2,0.2,0.2]]],              #Transition from V to I based on V,R,C,I neighbor\n",
    "                     [[[0,0,0,0,0,0],[ -2, -1.5, -1, -0.5,-0.5,-0.1],[2,-2, -1, -0.4, -0.1, 0],[0,0,0,0,0,0]],#Transition from R to V based on V,R,C,I neighbor\n",
    "                      [[0,0,0,0,0,0],[0,0,0,0,0,0],[0,0,0,0,0,0],[0,0,0,0,0,0]],                              #Transition from R to R based on V,R,C,I neighbor\n",
    "                      [[0,0,0,0,0,0],[4, 3, 2, 1.5, 1, 1],[25, 25, -2, -2, -2, -2],[1,1,0,0,0,0]],            #Transition from R to C based on V,R,C,I neighbor\n",
    "                      [[0,0,0,0,0,0],[-1,0,0,0,0,0],[1,0,0,0,0,0],[2,0,0,0,0,0]]],                            #Transition from R to I based on V,R,C,I neighbor\n",
    "                     [[[0,0,0,0,0,0],[-4, -3, -2, -1.5, -1, -1],[-25,-25, 2, 2, 2, 2],[0,0,0,0,0,0]],  #Transition from C to V based on V,R,C,I neighbor\n",
    "                      [[0,0,0,0,0,0],[-4, -3, -2, -1.5, -1, -1],[-25,-25, 2, 2, 2, 2],[0,0,0,0,0,0]],  #Transition from C to R based on V,R,C,I neighbor\n",
    "                      [[0,0,0,0,0,0],[0,0,0,0,0,0],[0,0,0,0,0,0],[0,0,0,0,0,0]],                       #Transition from C to C based on V,R,C,I neighbor\n",
    "                      [[0,0,0,0,0,0],[-4, -3, -2, -1.5, -1, -1],[-25,-25, 2, 2, 2, 2],[0,0,0,0,0,0]]], #Transition from C to I based on V,R,C,I neighbor\n",
    "                     [[[0,0,0,0,0,0],[1,0,0,0,0,0],[0,0,0,0,0,0],[-3,2,-0.2,-0.2,-0.2,-0.2]],#Transition from I to V based on V,R,C,I neighbor\n",
    "                      [[0,0,0,0,0,0],[1,0,0,0,0,0],[-1,0,0,0,0,0],[-2,0,0,0,0,0]],           #Transition from I to R based on V,R,C,I neighbor\n",
    "                      [[0,0,0,0,0,0],[4,3,2,1.5,1,1],[25,25,-2,-2,-2,-2],[-2,-2,0,0,0,0]],   #Transition from I to C based on V,R,C,I neighbor\n",
    "                      [[0,0,0,0,0,0],[0,0,0,0,0,0],[0,0,0,0,0,0],[0,0,0,0,0,0]]]]            #Transition from I to I based on V,R,C,I neighbor\n",
    "                            )\n",
    "\n",
    "def mincelfun(inarr, params = 4,preservance = 100000,perturbation=2.5,base = 1):\n",
    "    \"\"\"\n",
    "    The function takes a timeslice of the array and calculates of proportions of each neighbour in Moore neighbourhood.\n",
    "    \"\"\"\n",
    "    retprob = np.zeros(params)\n",
    "    totsum = 0\n",
    "    map_center = int(math.floor(len(inarr)/2))\n",
    "    center_param = int(inarr[map_center][map_center][0])\n",
    "    retprob[center_param] = preservance\n",
    "    for i, rowarr in enumerate(inarr):\n",
    "        for j, val in enumerate(rowarr):\n",
    "            mooredist = max([abs(i-map_center),abs(j-map_center)])-1\n",
    "            if mooredist ==0:\n",
    "                continue\n",
    "            n_param = int(val[0])\n",
    "            translations = [translation_rates_4params[center_param][towards][n_param][mooredist]for towards in range(params)]\n",
    "            retprob += translations # Uses value to index type of cell and increase value in prob array.\n",
    "    totsum = sum(retprob)\n",
    "    for g in range(params):\n",
    "        if retprob[g]<1:\n",
    "            retprob[g]=1\n",
    "        stochastic_perturbation = 1 + (-1* np.log(np.random.rand()))**perturbation\n",
    "        retprob[g] = stochastic_perturbation * retprob[g]\n",
    "    \n",
    "    totsum = sum(retprob)\n",
    "    if (totsum <= 0): # Is this correct? totsum is only 0 if the function is passed an empty matrix. \n",
    "        retprob = np.zeros(params)\n",
    "        retprob[center_param] = 1\n",
    "        return retprob\n",
    "    \n",
    "    return retprob / float(totsum)\n",
    "\n",
    "\n",
    "\n",
    "def CA_city(init_mat, moore_n = 6, params = 4, debug = False,perturbation=2.5):\n",
    "    \"\"\"\n",
    "    Loops through each cell and calculates its prob of changing state, then changes the state randomly.\n",
    "    \"\"\"\n",
    "    # Assumes initmat is of shape N,N,2 \n",
    "    init_dimx,init_dimy,init_pars = np.shape(init_mat)\n",
    "    \n",
    "    workgrid = np.zeros((init_dimx + 2 * moore_n, init_dimy + 2 * moore_n, init_pars)).astype(np.int8)\n",
    "    retgrid = init_mat.astype(np.int8)\n",
    "    workgrid[moore_n:-moore_n, moore_n:-moore_n] = init_mat.astype(np.int8)\n",
    "    # Loops through the matrix dimensions, calls mincelfun() to find the values of neighbour cells. \n",
    "    for i,rowarr in enumerate(init_mat):\n",
    "        for j,val in enumerate(rowarr):\n",
    "            probs = mincelfun(workgrid[i:i+1 + 2*moore_n,j:j+1+2*moore_n], params = params,perturbation=2.5)\n",
    "            increase_param = np.random.choice(list(range(params)), 1, p = probs)\n",
    "            # if/else checks which value was randomly selected in previous line and updates matrix accordingly.\n",
    "            if increase_param == 0:\n",
    "                continue\n",
    "            elif increase_param == workgrid[i+moore_n, j+moore_n, 0]:\n",
    "                retgrid[i,j,1] += 1\n",
    "            else:\n",
    "                retgrid[i,j] = [increase_param,1]\n",
    "    return retgrid\n",
    "\n",
    "\n",
    "def init_grid(N):\n",
    "    \"\"\"\n",
    "    The function creates the initial state of the matrix and sets its values.\n",
    "    Takes the dimensions of the grid and parameters as arguments and returns initial condition of matrix.\n",
    "    \"\"\"\n",
    "    retgrid = np.zeros((N,N,2)).astype(np.int8)\n",
    "    center = math.floor(N/2) # finds the center of the grid\n",
    "    retgrid[:,:,1] = 1 # sets the center of the grid as a 1.\n",
    "    retgrid[center-1:center+2,center-1:center+2,0] =1\n",
    "    \n",
    "    return retgrid\n",
    "\n",
    "def simulate_CA_city(dimensions = 100,time = 30,alpha=2.5,amplify_c = 8,amplify_r = 200,amplify_v = 10,amplify_i = 30):\n",
    "    \n",
    "    #From Vacant\n",
    "    translation_rates_4params[0][0][:]=translation_rates_4params[0][0][:] * amplify_v #Amplify occurance of V\n",
    "    translation_rates_4params[0][1][:]=translation_rates_4params[0][1][:] * amplify_r #Amplify occurance of R\n",
    "    translation_rates_4params[0][2][:]=translation_rates_4params[0][2][:] * amplify_c #Amplify occurance of C \n",
    "    translation_rates_4params[0][3][:]=translation_rates_4params[0][3][:] * amplify_i #Amplify occurance of I\n",
    "    #from residential\n",
    "    translation_rates_4params[1][0][:]=translation_rates_4params[1][0][:] * amplify_v #Amplify occurance of V\n",
    "    translation_rates_4params[1][1][:]=translation_rates_4params[1][1][:] * amplify_r #Amplify occurance of R\n",
    "    translation_rates_4params[1][2][:]=translation_rates_4params[1][2][:] * amplify_c #Amplify occurance of C\n",
    "    translation_rates_4params[1][3][:]=translation_rates_4params[1][3][:] * amplify_i #Amplify occurance of I\n",
    "    #from commercial\n",
    "    translation_rates_4params[2][0][:]=translation_rates_4params[2][0][:] * amplify_v #Amplify occurance of V\n",
    "    translation_rates_4params[2][1][:]=translation_rates_4params[2][1][:] * amplify_r #Amplify occurance of R\n",
    "    translation_rates_4params[2][2][:]=translation_rates_4params[2][2][:] * amplify_c #Amplify occurance of C\n",
    "    translation_rates_4params[2][3][:]=translation_rates_4params[2][3][:] * amplify_i #Amplify occurance of I\n",
    "    #from industrial\n",
    "    translation_rates_4params[3][0][:]=translation_rates_4params[3][0][:] * amplify_v #Amplify occurance of V\n",
    "    translation_rates_4params[3][1][:]=translation_rates_4params[3][1][:] * amplify_r #Amplify occurance of R\n",
    "    translation_rates_4params[3][2][:]=translation_rates_4params[3][2][:] * amplify_c #Amplify occurance of C\n",
    "    translation_rates_4params[3][3][:]=translation_rates_4params[3][3][:] * amplify_i #Amplify occurance of I\n",
    "    \n",
    "    ret_solution_dev = np.empty((time,dimensions,dimensions,2))\n",
    "    init_city = init_grid(dimensions)\n",
    "    ret_solution_dev[0] = init_city\n",
    "    for step in range(1,time):\n",
    "        ret_solution_dev[step] = CA_city(ret_solution_dev[step-1],moore_n=6,perturbation = alpha)\n",
    "    return ret_solution_dev\n",
    "\n",
    "\n",
    "def clustering(m, rtype):\n",
    "    \"\"\" Algorithm for finding clusters and labeling them. \n",
    "    INPUT: Matrix m with occupied 1 and unoccupied 0\"\"\"\n",
    "    assert type(rtype) == int\n",
    "    assert m.shape[0] == m.shape[1]\n",
    "    \n",
    "    dim = m.shape[0]\n",
    "    largest_label = 0\n",
    "    label = np.zeros([dim, dim])\n",
    "    for x in range(dim):\n",
    "        for y in range(dim):\n",
    "            above = m[x-1, y]\n",
    "            left = m[x, y-1]\n",
    "            # For the boundary conditions, set above and left to zero.\n",
    "            if x == 0:\n",
    "                above = 0\n",
    "            if y == 0:\n",
    "                left = 0\n",
    "            # Assign cluster IDs according to neighbours   \n",
    "            if m[x,y] == rtype:\n",
    "                if above != rtype and left != rtype: # no neighbors, new cluster id\n",
    "                    largest_label += 1\n",
    "                    label[x,y] = largest_label\n",
    "                elif above == rtype and left != rtype: # cluster extends from above, change id\n",
    "                    label[x,y] = label[x-1,y]\n",
    "                elif above != rtype and left == rtype: # cluster extends from left, change id\n",
    "                    label[x,y] = label[x,y-1]\n",
    "                elif above == rtype and left == rtype: # both belong to cluster, make a union\n",
    "                    m, label = cluster_union(m, label, x, y)             \n",
    "    return label\n",
    "            \n",
    "def cluster_union(m, label, x, y):\n",
    "    \"\"\"\n",
    "    Union the two clusters and labels both clusters the same.\n",
    "    \"\"\"\n",
    "    if label[x-1,y] == label[x,y-1]: # If labels are the same, then set x,y as same label\n",
    "        label[x,y] = label[x-1,y]\n",
    "        return m, label\n",
    "    else: # else different clusters so rename one\n",
    "        new_id, old_id = np.min([label[x-1,y], label[x,y-1]]), np.max([label[x-1,y], label[x,y-1]])\n",
    "        label[x,y] = new_id # set label of current x,y\n",
    "        label[label == old_id] = new_id # change all old IDs to the new one\n",
    "    return m, label\n",
    "\n",
    "def run_clustering(m):\n",
    "    \"\"\"\n",
    "    Runs the clustering algorithm for each of the cell types, returns a pandas dataframe with the columns cluster size, count, id.\n",
    "    INPUT: the matrix with the different IDs in the cells. \n",
    "    \"\"\"\n",
    "    clusters = pd.DataFrame()\n",
    "    # Run each of the cluster types in a loop\n",
    "    for i in np.unique(m)[1:]: # not the zeros\n",
    "        cluster_ids = clustering(m, int(i))\n",
    "        cluster_size = np.unique(cluster_ids, return_counts=True) # count size of clusters in matrix of cell types\n",
    "        size, count = np.unique(cluster_size[1][1:], return_counts=True) # select only the cells that contain something (first element is empty)\n",
    "        # f\n",
    "        clusters = pd.concat([clusters, pd.DataFrame([size, count, i * np.ones(len(count))]).T], axis = 0)\n",
    "        #print(cluster_ids)\n",
    "    clusters.columns = ['Cluster_size','Cluster_count','cell_type']\n",
    "    return clusters\n",
    "\n",
    "\n",
    "\n",
    "\n",
    "def conditional_entropy(grid):\n",
    "    counter = Counter()\n",
    "    total_count = 0\n",
    "\n",
    "    for i in range(grid.shape[0]):\n",
    "        for j in range(grid.shape[1]):\n",
    "            state = grid[i, j]\n",
    "            counter[state] += 1\n",
    "            total_count += 1\n",
    "\n",
    "    conditional_entropy = 0\n",
    "    for state, count in counter.items():\n",
    "        probability = count / total_count\n",
    "        conditional_entropy -= probability * np.log2(probability)\n",
    "\n",
    "    return conditional_entropy\n",
    "\n",
    "\n"
   ]
  },
  {
   "cell_type": "code",
   "execution_count": 151,
   "id": "bddc9fba",
   "metadata": {
    "tags": []
   },
   "outputs": [
    {
     "name": "stderr",
     "output_type": "stream",
     "text": [
      "C:\\Users\\alexk\\AppData\\Local\\Temp\\ipykernel_21792\\3530334139.py:95: DeprecationWarning: setting an array element with a sequence. This was supported in some cases where the elements are arrays with a single element. For example `np.array([1, np.array([2])], dtype=int)`. In the future this will raise the same ValueError as `np.array([1, [2]], dtype=int)`.\n",
      "  retgrid[i,j] = [increase_param,1]\n"
     ]
    },
    {
     "data": {
      "text/plain": [
       "<matplotlib.image.AxesImage at 0x187cc49ee50>"
      ]
     },
     "execution_count": 151,
     "metadata": {},
     "output_type": "execute_result"
    },
    {
     "data": {
      "image/png": "[encoded data removed]",
      "text/plain": [
       "<Figure size 640x480 with 1 Axes>"
      ]
     },
     "metadata": {},
     "output_type": "display_data"
    }
   ],
   "source": [
    "time = 25\n",
    "grid_size = 75\n",
    "solution_dev = simulate_CA_city(grid_size,time)\n",
    "plt.imshow(solution_dev[time-1,:,:,0], cmap = 'nipy_spectral', vmin = 0, vmax = 4)"
   ]
  },
  {
   "cell_type": "code",
   "execution_count": 152,
   "id": "26ca2d00",
   "metadata": {},
   "outputs": [
    {
     "data": {
      "text/plain": [
       "[(array([0., 1., 2.]), array([5605,   16,    4], dtype=int64)),\n",
       " (array([0., 1., 2.]), array([5598,   22,    5], dtype=int64)),\n",
       " (array([0., 1., 2.]), array([5592,   27,    6], dtype=int64)),\n",
       " (array([0., 1., 2.]), array([5581,   38,    6], dtype=int64)),\n",
       " (array([0., 1., 2., 3.]), array([5564,   51,    9,    1], dtype=int64)),\n",
       " (array([0., 1., 2., 3.]), array([5544,   68,   11,    2], dtype=int64)),\n",
       " (array([0., 1., 2., 3.]), array([5516,   90,   17,    2], dtype=int64)),\n",
       " (array([0., 1., 2., 3.]), array([5472,  128,   23,    2], dtype=int64)),\n",
       " (array([0., 1., 2., 3.]), array([5424,  173,   26,    2], dtype=int64)),\n",
       " (array([0., 1., 2., 3.]), array([5369,  224,   30,    2], dtype=int64)),\n",
       " (array([0., 1., 2., 3.]), array([5299,  279,   44,    3], dtype=int64)),\n",
       " (array([0., 1., 2., 3.]), array([5214,  352,   56,    3], dtype=int64)),\n",
       " (array([0., 1., 2., 3.]), array([5124,  423,   75,    3], dtype=int64)),\n",
       " (array([0., 1., 2., 3.]), array([5021,  507,   94,    3], dtype=int64)),\n",
       " (array([0., 1., 2., 3.]), array([4898,  603,  121,    3], dtype=int64)),\n",
       " (array([0., 1., 2., 3.]), array([4763,  708,  150,    4], dtype=int64)),\n",
       " (array([0., 1., 2., 3.]), array([4635,  808,  177,    5], dtype=int64)),\n",
       " (array([0., 1., 2., 3.]), array([4469,  940,  211,    5], dtype=int64)),\n",
       " (array([0., 1., 2., 3.]), array([4321, 1039,  260,    5], dtype=int64)),\n",
       " (array([0., 1., 2., 3.]), array([4145, 1181,  294,    5], dtype=int64)),\n",
       " (array([0., 1., 2., 3.]), array([3966, 1309,  345,    5], dtype=int64)),\n",
       " (array([0., 1., 2., 3.]), array([3770, 1461,  389,    5], dtype=int64)),\n",
       " (array([0., 1., 2., 3.]), array([3559, 1616,  446,    4], dtype=int64))]"
      ]
     },
     "execution_count": 152,
     "metadata": {},
     "output_type": "execute_result"
    }
   ],
   "source": [
    "state_occurrence = [np.unique(solution_dev[i,:,:,0], return_counts=True) for i in range(time)]\n",
    "state_occurrence[2:]"
   ]
  },
  {
   "cell_type": "code",
   "execution_count": 153,
   "id": "2eaf9063",
   "metadata": {},
   "outputs": [],
   "source": [
    "total_cells = solution_dev[6,:,:,0].size\n",
    "state_ratio = [state_occurrence[i][1] / total_cells for i in range(6,time)]\n"
   ]
  },
  {
   "cell_type": "code",
   "execution_count": 154,
   "id": "ac16b4c9",
   "metadata": {},
   "outputs": [
    {
     "data": {
      "text/plain": [
       "[<matplotlib.lines.Line2D at 0x187cb2096d0>,\n",
       " <matplotlib.lines.Line2D at 0x187cb209730>,\n",
       " <matplotlib.lines.Line2D at 0x187cb209850>,\n",
       " <matplotlib.lines.Line2D at 0x187cb209970>]"
      ]
     },
     "execution_count": 154,
     "metadata": {},
     "output_type": "execute_result"
    },
    {
     "data": {
      "image/png": "[encoded data removed]",
      "text/plain": [
       "<Figure size 640x480 with 1 Axes>"
      ]
     },
     "metadata": {},
     "output_type": "display_data"
    }
   ],
   "source": [
    "plt.plot(state_ratio)\n"
   ]
  },
  {
   "cell_type": "code",
   "execution_count": null,
   "id": "4db1e064",
   "metadata": {},
   "outputs": [],
   "source": [
    "from scipy.optimize import curve_fit\n",
    "\n",
    "def power_law(x, a, b):\n",
    "    return a*np.power(x, b)\n",
    "x = run_clustering(solution_dev[time-1,:,:,0])\n",
    "xx = x[x.cell_type == 1]\n",
    "pars, cov = curve_fit(f=power_law, xdata=xx.Cluster_size, ydata=xx.Cluster_count, p0=[300, -1.8], bounds=(-np.inf, np.inf))\n",
    "\n",
    "print(pars)"
   ]
  },
  {
   "cell_type": "code",
   "execution_count": null,
   "id": "8fba27b8",
   "metadata": {},
   "outputs": [],
   "source": [
    "r = np.arange(1,30)\n",
    "plt.scatter(xx.Cluster_size, xx.Cluster_count)\n",
    "plt.plot(r, power_law(r, pars[0], pars[1]), c= 'grey')\n",
    "\n",
    "plt.yscale('log'), plt.xscale('log')\n",
    "plt.show()"
   ]
  },
  {
   "cell_type": "code",
   "execution_count": null,
   "id": "dff8f467",
   "metadata": {},
   "outputs": [],
   "source": [
    "test_repeats = 5\n",
    "simulation_results = np.zeros((test_repeats,100,100)).astype(np.int8)\n",
    "for i in range(test_repeats):\n",
    "    solution_dev = simulate_CA_city(100,20)\n",
    "    simulation_results[i] = solution_dev[19,:,:,0]\n",
    "    \n",
    "np.save(\"simulation_results.npy\",simulation_results)\n",
    "#loadtry = np.load(\"simulation_results.npy\")\n"
   ]
  },
  {
   "cell_type": "code",
   "execution_count": null,
   "id": "77d2ecdc",
   "metadata": {},
   "outputs": [
    {
     "name": "stdout",
     "output_type": "stream",
     "text": [
      "4.0\n"
     ]
    },
    {
     "name": "stderr",
     "output_type": "stream",
     "text": [
      "C:\\Users\\alexk\\AppData\\Local\\Temp\\ipykernel_21792\\3530334139.py:95: DeprecationWarning: setting an array element with a sequence. This was supported in some cases where the elements are arrays with a single element. For example `np.array([1, np.array([2])], dtype=int)`. In the future this will raise the same ValueError as `np.array([1, [2]], dtype=int)`.\n",
      "  retgrid[i,j] = [increase_param,1]\n"
     ]
    }
   ],
   "source": [
    "#Code for Gray Scott Phase diagramm\n",
    "simulation_grid_repeats = 20\n",
    "alpha_start = 0\n",
    "alpha_stop = 3\n",
    "alpha_step = (alpha_stop-alpha_start)/(simulation_grid_repeats-1)\n",
    "simulation_results_grid = np.zeros((simulation_grid_repeats,simulation_grid_repeats,grid_size,grid_size)).astype(np.int8)\n",
    "#loop over 2^x scale for commercial growth rate 0.25-256\n",
    "\n",
    "for i in range(6,simulation_grid_repeats):\n",
    "    c_growth = 2**((i+2)/4)\n",
    "    print(c_growth)\n",
    "    #Loop over  alpha from 0.0 to 3.0 in 0.333 steps\n",
    "    for j,loc_alpha in enumerate(np.arange(alpha_start,alpha_stop+0.01,alpha_step)):\n",
    "        simulation_results_grid[i][j] = simulate_CA_city(grid_size,time,alpha = loc_alpha,amplify_c=c_growth)[time-1,:,:,0]\n",
    "        with open('Alex_sim_res/alpha_%.2f' % loc_alpha +'_c_growth_%.2f' % c_growth+'v2.csv', 'w',encoding=\"utf8\") as f:\n",
    "            writer = csv.writer(f)\n",
    "            for row in simulation_results_grid[i][j]:\n",
    "                rowhandle = ','.join(str(int(x)) for x in row)\n",
    "                writer.writerow(rowhandle)"
   ]
  },
  {
   "cell_type": "code",
   "execution_count": null,
   "id": "49a7b453",
   "metadata": {},
   "outputs": [],
   "source": [
    "#Code for Gray Scott Phase diagramm\n",
    "simulation_grid_repeats = 20\n",
    "alpha_start = 0\n",
    "alpha_stop = 3\n",
    "alpha_step = (alpha_stop-alpha_start)/(simulation_grid_repeats-1)\n",
    "#simulation_results_grid = np.zeros((simulation_grid_repeats,simulation_grid_repeats,grid_size,grid_size)).astype(np.int8)\n",
    "#loop over 2^x scale for commercial growth rate 0.25-256\n",
    "#\"\"\"\n",
    "for i in range(simulation_grid_repeats):\n",
    "    c_growth = 2**((i+2)/4)\n",
    "    #Loop over  alpha from 0.0 to 3.0 in 0.333 steps\n",
    "    for j,loc_alpha in enumerate(np.arange(alpha_start,alpha_stop+0.01,alpha_step)):\n",
    "        with open('Alex_sim_res/alpha_%.2f' % loc_alpha +'_c_growth_%.2f' % c_growth+'.csv', 'r',encoding=\"utf8\") as f:\n",
    "            data_raw = list(csv.reader(f))\n",
    "            data = np.empty((grid_size,grid_size))\n",
    "            reduce = 0\n",
    "            for j,row in enumerate(data_raw):\n",
    "                if row != []:\n",
    "                    data[j-reduce] = list(filter(lambda character: character != ',', row))\n",
    "                else:\n",
    "                    reduce +=1\n",
    "        simulation_results_grid[i][j] = data\n",
    "#\"\"\""
   ]
  },
  {
   "cell_type": "code",
   "execution_count": null,
   "id": "70de978d",
   "metadata": {},
   "outputs": [],
   "source": [
    "#version using sumulation_results_grid\n",
    "#Code for Gray Scott Phase diagramm\n",
    "simulation_grid_repeats = 10\n",
    "alpha_start = 0\n",
    "alpha_stop = 3\n",
    "alpha_step = (alpha_stop-alpha_start)/(simulation_grid_repeats-1)\n",
    "#simulation_results_grid = np.zeros((simulation_grid_repeats,simulation_grid_repeats,grid_size,grid_size)).astype(np.int8)\n",
    "#loop over 2^x scale for commercial growth rate 0.25-256\n",
    "\n",
    "heat_map_probabilistic_1 = np.zeros((simulation_grid_repeats,simulation_grid_repeats))\n",
    "heat_map_probabilistic_2 = np.zeros((simulation_grid_repeats,simulation_grid_repeats))\n",
    "heat_map_probabilistic_3 = np.zeros((simulation_grid_repeats,simulation_grid_repeats))\n",
    "#\"\"\"\n",
    "\n",
    "for i in range(simulation_grid_repeats):\n",
    "    for j in range(simulation_grid_repeats):\n",
    "        if (simulation_results_grid[i][j]==0).all():\n",
    "            heat_map_probabilistic_1[i][j] = 0\n",
    "            heat_map_probabilistic_2[i][j] = 0\n",
    "            heat_map_probabilistic_3[i][j] = 0\n",
    "        elif(simulation_results_grid[i][j]==1).all():\n",
    "            heat_map_probabilistic_1[i][j] = 4\n",
    "            heat_map_probabilistic_2[i][j] = 0\n",
    "            heat_map_probabilistic_3[i][j] = 0\n",
    "        elif(simulation_results_grid[i][j]==2).all() :\n",
    "            heat_map_probabilistic_1[i][j] = 0\n",
    "            heat_map_probabilistic_2[i][j] = 4\n",
    "            heat_map_probabilistic_3[i][j] = 0\n",
    "        elif(simulation_results_grid[i][j]==3).all():\n",
    "            heat_map_probabilistic_1[i][j] = 0\n",
    "            heat_map_probabilistic_2[i][j] = 0\n",
    "            heat_map_probabilistic_3[i][j] = 4\n",
    "        else:\n",
    "            wrk = run_clustering( simulation_results_grid[i][j])\n",
    "            print(wrk.Cluster_size)\n",
    "            if len(wrk.Cluster_size[wrk.cell_type==1]) !=0:\n",
    "                heat_map_probabilistic_1[i][j] = math.log(max(wrk.Cluster_size[wrk.cell_type==1]))\n",
    "            else:\n",
    "                heat_map_probabilistic_1[i][j] = 0\n",
    "            if len(wrk.Cluster_size[wrk.cell_type==2]) !=0:\n",
    "                heat_map_probabilistic_2[i][j] = math.log(max(wrk.Cluster_size[wrk.cell_type==2]))\n",
    "            else:\n",
    "                heat_map_probabilistic_2[i][j] = 0\n",
    "            if len(wrk.Cluster_size[wrk.cell_type==3]) !=0:\n",
    "                heat_map_probabilistic_3[i][j] = math.log(max(wrk.Cluster_size[wrk.cell_type==3]))\n",
    "            else:\n",
    "                heat_map_probabilistic_3[i][j] = 0\n",
    "#\"\"\""
   ]
  },
  {
   "cell_type": "code",
   "execution_count": 135,
   "id": "30e0ba60",
   "metadata": {},
   "outputs": [
    {
     "data": {
      "text/plain": [
       "'\\nfor i in range(simulation_grid_repeats):\\n    c_growth = 2**(i-2)\\n    #Loop over  alpha from 0.0 to 3.0 in 0.333 steps\\n    for j,loc_alpha in enumerate(np.arange(alpha_start,alpha_stop+0.01,alpha_step)):\\n        with open(\\'Alex_sim_res/alpha_%.2f\\' % loc_alpha +\\'_c_growth_%.2f\\' % c_growth+\\'.csv\\', \\'r\\',encoding=\"utf8\") as f:\\n            data_raw = list(csv.reader(f))\\n            data = np.empty((grid_size,grid_size))\\n            reduce = 0\\n            for j,row in enumerate(data_raw):\\n                if row != []:\\n                    data[j-reduce] = list(filter(lambda character: character != \\',\\', row))\\n                else:\\n                    reduce +=1\\n#'"
      ]
     },
     "execution_count": 135,
     "metadata": {},
     "output_type": "execute_result"
    }
   ],
   "source": []
  },
  {
   "cell_type": "code",
   "execution_count": null,
   "id": "77cdfbb7",
   "metadata": {},
   "outputs": [],
   "source": [
    " merge_count = []\n",
    "merge_size = []\n",
    "\n",
    "for sim_res in loadtry:\n",
    "    #sim_res = loadtry[1]\n",
    "\n",
    "\n",
    "    wrk = run_clustering( sim_res)\n",
    "    wrk_count = wrk.Cluster_count[wrk.cell_type == 1]\n",
    "    wrk_size = wrk.Cluster_size[wrk.cell_type == 1]\n",
    "\n",
    "\n",
    "    for i, size in enumerate(wrk_size):\n",
    "        if size in merge_size:\n",
    "            merge_count[merge_size==size] += wrk_count[i]\n",
    "        else:\n",
    "            merge_count = np.append(merge_count,wrk_count[i])\n",
    "            merge_size = np.append(merge_size,size)"
   ]
  },
  {
   "cell_type": "code",
   "execution_count": null,
   "id": "d90d30a9",
   "metadata": {},
   "outputs": [],
   "source": [
    "plt.imshow(simulation_results_grid[4][9])\n",
    "plt.show()\n",
    "print(run_clustering(simulation_results_grid[4][9]))\n",
    "plt.imshow(heat_map_probabilistic_2, cmap = 'nipy_spectral', vmin = 0, vmax = 10)\n",
    "heat_map_probabilistic_2"
   ]
  },
  {
   "cell_type": "code",
   "execution_count": null,
   "id": "74fff08c",
   "metadata": {},
   "outputs": [],
   "source": [
    "r = np.arange(1,30)\n",
    "plt.scatter(merge_size, merge_count/len(loadtry))\n",
    "#plt.plot(r, power_law(r, pars[0], pars[1]), c= 'grey')\n",
    "\n",
    "plt.yscale('log'), plt.xscale('log')\n",
    "plt.show()"
   ]
  },
  {
   "cell_type": "code",
   "execution_count": null,
   "id": "cbe70ffe",
   "metadata": {},
   "outputs": [],
   "source": [
    "plt.imshow(heat_map_probabilistic_1)"
   ]
  },
  {
   "cell_type": "code",
   "execution_count": null,
   "id": "641f10ed",
   "metadata": {},
   "outputs": [],
   "source": []
  }
 ],
 "metadata": {
  "kernelspec": {
   "display_name": "Python 3 (ipykernel)",
   "language": "python",
   "name": "python3"
  },
  "language_info": {
   "codemirror_mode": {
    "name": "ipython",
    "version": 3
   },
   "file_extension": ".py",
   "mimetype": "text/x-python",
   "name": "python",
   "nbconvert_exporter": "python",
   "pygments_lexer": "ipython3",
   "version": "3.9.13"
  }
 },
 "nbformat": 4,
 "nbformat_minor": 5
}
