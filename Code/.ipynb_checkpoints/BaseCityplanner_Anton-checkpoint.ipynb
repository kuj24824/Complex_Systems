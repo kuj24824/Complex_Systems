{
 "cells": [
  {
   "cell_type": "code",
   "execution_count": 51,
   "id": "dac11bc1",
   "metadata": {
    "tags": []
   },
   "outputs": [],
   "source": [
    "import numpy as np\n",
    "import math\n",
    "import matplotlib.pyplot as plt\n",
    "import pandas as pd\n",
    "import powerlaw\n"
   ]
  },
  {
   "cell_type": "code",
   "execution_count": 72,
   "id": "0a3e6b94-b23c-4393-9b4b-afab2ac14f13",
   "metadata": {
    "tags": []
   },
   "outputs": [],
   "source": [
    "# Hoshen-Kopelman Clustering algorithm\n",
    "#https://en.wikipedia.org/wiki/Hoshen–Kopelman_algorithm"
   ]
  },
  {
   "cell_type": "code",
   "execution_count": 50,
   "id": "956f1c7c-cd73-4d17-af51-be45e8321f19",
   "metadata": {
    "tags": []
   },
   "outputs": [
    {
     "name": "stdout",
     "output_type": "stream",
     "text": [
      "    Cluster_size  Cluster_count  cell_type\n",
      "0            1.0          764.0        1.0\n",
      "1            2.0          234.0        1.0\n",
      "2            3.0          124.0        1.0\n",
      "3            4.0           57.0        1.0\n",
      "4            5.0           38.0        1.0\n",
      "5            6.0           31.0        1.0\n",
      "6            7.0           11.0        1.0\n",
      "7            8.0            7.0        1.0\n",
      "8            9.0            6.0        1.0\n",
      "9           10.0            4.0        1.0\n",
      "10          12.0            3.0        1.0\n",
      "11          13.0            3.0        1.0\n",
      "12          14.0            2.0        1.0\n",
      "13          21.0            1.0        1.0\n",
      "0            1.0          813.0        2.0\n",
      "1            2.0          228.0        2.0\n",
      "2            3.0          100.0        2.0\n",
      "3            4.0           60.0        2.0\n",
      "4            5.0           44.0        2.0\n",
      "5            6.0           20.0        2.0\n",
      "6            7.0           17.0        2.0\n",
      "7            8.0            7.0        2.0\n",
      "8            9.0            5.0        2.0\n",
      "9           10.0            2.0        2.0\n",
      "10          11.0            3.0        2.0\n",
      "11          12.0            3.0        2.0\n",
      "12          14.0            2.0        2.0\n",
      "0            1.0          821.0        3.0\n",
      "1            2.0          211.0        3.0\n",
      "2            3.0          118.0        3.0\n",
      "3            4.0           75.0        3.0\n",
      "4            5.0           40.0        3.0\n",
      "5            6.0           25.0        3.0\n",
      "6            7.0           13.0        3.0\n",
      "7            8.0            5.0        3.0\n",
      "8            9.0            4.0        3.0\n",
      "9           10.0            5.0        3.0\n",
      "10          11.0            1.0        3.0\n",
      "11          18.0            1.0        3.0\n"
     ]
    },
    {
     "data": {
      "image/png": "[encoded data removed]",
      "text/plain": [
       "<Figure size 640x480 with 1 Axes>"
      ]
     },
     "metadata": {},
     "output_type": "display_data"
    }
   ],
   "source": [
    "def clustering(m, rtype):\n",
    "    \"\"\" Algorithm for finding clusters and labeling them. \n",
    "    INPUT: Matrix m with occupied 1 and unoccupied 0\"\"\"\n",
    "    assert type(rtype) == int\n",
    "    assert m.shape[0] == m.shape[1]\n",
    "    \n",
    "    dim = m.shape[0]\n",
    "    largest_label = 0;\n",
    "    label = np.zeros([dim, dim])\n",
    "    for x in range(dim):\n",
    "        for y in range(dim):\n",
    "            above = m[x-1, y]\n",
    "            left = m[x, y-1]\n",
    "            # For the boundary conditions, set above and left to zero.\n",
    "            if x == 0:\n",
    "                above = 0\n",
    "            if y == 0:\n",
    "                left = 0\n",
    "            # Assign cluster IDs according to neighbours   \n",
    "            if m[x,y] == rtype:\n",
    "                if above != rtype and left != rtype: # no neighbors, new cluster id\n",
    "                    largest_label += 1\n",
    "                    label[x,y] = largest_label\n",
    "                elif above == rtype and left != rtype: # cluster extends from above, change id\n",
    "                    label[x,y] = label[x-1,y]\n",
    "                elif above != rtype and left == rtype: # cluster extends from left, change id\n",
    "                    label[x,y] = label[x,y-1]\n",
    "                elif above == rtype and left == rtype: # both belong to cluster, make a union\n",
    "                    m, label = cluster_union(m, label, x, y)             \n",
    "    return label\n",
    "            \n",
    "def cluster_union(m, label, x, y):\n",
    "    \"\"\"\n",
    "    Union the two clusters and labels both clusters the same.\n",
    "    \"\"\"\n",
    "    if label[x-1,y] == label[x,y-1]: # If labels are the same, then set x,y as same label\n",
    "        label[x,y] = label[x-1,y]\n",
    "        return m, label\n",
    "    else: # else different clusters so rename one\n",
    "        new_id, old_id = np.min([label[x-1,y], label[x,y-1]]), np.max([label[x-1,y], label[x,y-1]])\n",
    "        label[x,y] = new_id # set label of current x,y\n",
    "        label[label == old_id] = new_id # change all old IDs to the new one\n",
    "    return m, label\n",
    "\n",
    "def run_clustering(m):\n",
    "    \"\"\"\n",
    "    Runs the clustering algorithm for each of the cell types, returns a pandas dataframe with the columns cluster size, count, id.\n",
    "    INPUT: the matrix with the different IDs in the cells. \n",
    "    \"\"\"\n",
    "    clusters = pd.DataFrame()\n",
    "    # Run each of the cluster types in a loop\n",
    "    for i in np.unique(m)[1:]: # not the zeros\n",
    "        cluster_ids = clustering(m, int(i))\n",
    "        cluster_size = np.unique(cluster_ids, return_counts=True) # count size of clusters in matrix of cell types\n",
    "        size, count = np.unique(cluster_size[1][1:], return_counts=True) # select only the cells that contain something (first element is empty)\n",
    "        # f\n",
    "        clusters = pd.concat([clusters, pd.DataFrame([size, count, i * np.ones(len(count))]).T], axis = 0)\n",
    "        \n",
    "    clusters.columns = ['Cluster_size','Cluster_count','cell_type']\n",
    "    return clusters\n",
    "\n",
    "m = np.random.randint(0,4, (100,100), dtype=int)\n",
    "\n",
    "x = run_clustering(m)\n",
    "print(x)\n",
    "# Just testing the log plotting\n",
    "plt.scatter(x.Cluster_size, x.Cluster_count)\n",
    "plt.yscale('log'), plt.xscale('log')\n",
    "plt.show()\n",
    "\n",
    "\n",
    "def test_powerlaw():\n",
    "    \"\"\"\n",
    "    Function to statistically test the power law relationships\n",
    "    Jeff Alstott, Ed Bullmore, Dietmar Plenz. (2014). powerlaw: a Python package for analysis of heavy-tailed distributions. PLoS ONE 9(1): e85777\n",
    "    \"\"\"\n",
    "    fit = powerlaw.Fit(empirical_data) # Fits the data to a power law parameter\n",
    "    # Then test if it is more likely to be a powerlaw or exponential or lognormal.\n",
    "    test1 = fit.distribution_compare('power_law', 'exponential')\n",
    "    test2 = fit.distribution_compare('power_law', 'lognormal')\n",
    "    return [fit, test1, test2]\n",
    "\n",
    "\n"
   ]
  },
  {
   "cell_type": "code",
   "execution_count": null,
   "id": "79f22575-fec3-4427-b715-0023455d104b",
   "metadata": {
    "tags": []
   },
   "outputs": [],
   "source": [
    "\n"
   ]
  },
  {
   "cell_type": "code",
   "execution_count": null,
   "id": "a3134f4d-83c6-400f-92fe-970b2b6105c4",
   "metadata": {
    "tags": []
   },
   "outputs": [],
   "source": []
  },
  {
   "cell_type": "code",
   "execution_count": null,
   "id": "8be33c7d-28d0-47ad-8d76-a1f0a5fb616b",
   "metadata": {},
   "outputs": [],
   "source": [
    "# Fractal Dimension from occupancy rate and radius from centre.\n",
    "from scipy.optimize import least_squares\n",
    "\n",
    "\n",
    "def fractal_dimension(m, centre, radius):\n",
    "    \"\"\"\n",
    "    Calculates the fractal dimension of the occupancy for each radius\n",
    "    \"\"\"\n",
    "    dim = m.shape[0] # get the array dimension\n",
    "    distance = np.zeros([dim,dim])\n",
    "    radius = np.zeros(10,2)\n",
    "    radius[:,0] = range(10) # sets the range to loop over for occupancy\n",
    "    for i in range(dim):\n",
    "        for j in range(dim):\n",
    "            distance[i,j] = np.sqrt((centre[0] - i) ** 2 + (centre[1] - j) ** 2)\n",
    "    # logic is to filter spots within distance, then multiply with m matrix to find spots where there are occupants\n",
    "    # assuming empty spots are marked with zero and sum the spots within raidus and with occupants.\n",
    "    for r in radius[:,0]: \n",
    "        current_distance = np.where(distance < radius, 1, 0)\n",
    "        radius[r,1] = (current_distance * m).sum()\n",
    "    \n",
    "    fractal_d = least_squares(np.log(radius[:,1]), np.log(radius[:,0])).x[1] # area is y axis and radius on x, returns coef\n",
    "    return fractal_d"
   ]
  },
  {
   "cell_type": "code",
   "execution_count": null,
   "id": "8e64412b-c295-40a0-8297-f786b031a0b2",
   "metadata": {},
   "outputs": [],
   "source": []
  }
 ],
 "metadata": {
  "kernelspec": {
   "display_name": "Python 3 (ipykernel)",
   "language": "python",
   "name": "python3"
  },
  "language_info": {
   "codemirror_mode": {
    "name": "ipython",
    "version": 3
   },
   "file_extension": ".py",
   "mimetype": "text/x-python",
   "name": "python",
   "nbconvert_exporter": "python",
   "pygments_lexer": "ipython3",
   "version": "3.9.13"
  }
 },
 "nbformat": 4,
 "nbformat_minor": 5
}
