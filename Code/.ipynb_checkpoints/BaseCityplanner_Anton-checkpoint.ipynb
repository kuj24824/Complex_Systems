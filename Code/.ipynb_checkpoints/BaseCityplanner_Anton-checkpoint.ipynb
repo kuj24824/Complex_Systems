{
 "cells": [
  {
   "cell_type": "code",
   "execution_count": 51,
   "id": "dac11bc1",
   "metadata": {
    "tags": []
   },
   "outputs": [],
   "source": [
    "import numpy as np\n",
    "import math\n",
    "import matplotlib.pyplot as plt\n",
    "import pandas as pd\n",
    "import powerlaw\n"
   ]
  },
  {
   "cell_type": "code",
   "execution_count": 72,
   "id": "0a3e6b94-b23c-4393-9b4b-afab2ac14f13",
   "metadata": {
    "tags": []
   },
   "outputs": [],
   "source": [
    "# Hoshen-Kopelman Clustering algorithm\n",
    "#https://en.wikipedia.org/wiki/Hoshen–Kopelman_algorithm"
   ]
  },
  {
   "cell_type": "code",
   "execution_count": 89,
   "id": "956f1c7c-cd73-4d17-af51-be45e8321f19",
   "metadata": {
    "tags": []
   },
   "outputs": [
    {
     "name": "stdout",
     "output_type": "stream",
     "text": [
      "[[3 3 2 0 0 2 0 3 0 1]\n",
      " [2 2 0 0 1 1 1 2 0 3]\n",
      " [3 0 1 0 2 3 0 1 2 3]\n",
      " [3 3 0 3 0 2 0 2 3 3]\n",
      " [0 0 2 0 0 0 1 2 3 0]\n",
      " [2 2 0 1 2 1 1 3 1 1]\n",
      " [2 1 2 1 0 2 0 1 0 3]\n",
      " [1 1 3 1 1 3 2 3 0 0]\n",
      " [0 0 0 2 3 0 3 2 0 1]\n",
      " [1 2 1 3 2 0 2 2 0 2]]\n",
      "[[ 0.  0.  0.  0.  0.  0.  0.  0.  0.  1.]\n",
      " [ 0.  0.  0.  0.  2.  2.  2.  0.  0.  0.]\n",
      " [ 0.  0.  3.  0.  0.  0.  0.  4.  0.  0.]\n",
      " [ 0.  0.  0.  0.  0.  0.  0.  0.  0.  0.]\n",
      " [ 0.  0.  0.  0.  0.  0.  5.  0.  0.  0.]\n",
      " [ 0.  0.  0.  6.  0.  5.  5.  0.  8.  8.]\n",
      " [ 0.  9.  0.  6.  0.  0.  0. 10.  0.  0.]\n",
      " [ 9.  9.  0.  6.  6.  0.  0.  0.  0.  0.]\n",
      " [ 0.  0.  0.  0.  0.  0.  0.  0.  0. 12.]\n",
      " [13.  0. 14.  0.  0.  0.  0.  0.  0.  0.]]\n",
      "[[ 0.  0.  1.  0.  0.  2.  0.  0.  0.  0.]\n",
      " [ 3.  3.  0.  0.  0.  0.  0.  4.  0.  0.]\n",
      " [ 0.  0.  0.  0.  5.  0.  0.  0.  6.  0.]\n",
      " [ 0.  0.  0.  0.  0.  7.  0.  8.  0.  0.]\n",
      " [ 0.  0.  9.  0.  0.  0.  0.  8.  0.  0.]\n",
      " [10. 10.  0.  0. 11.  0.  0.  0.  0.  0.]\n",
      " [10.  0. 12.  0.  0. 13.  0.  0.  0.  0.]\n",
      " [ 0.  0.  0.  0.  0.  0. 14.  0.  0.  0.]\n",
      " [ 0.  0.  0. 15.  0.  0.  0. 16.  0.  0.]\n",
      " [ 0. 17.  0.  0. 18.  0. 16. 16.  0. 20.]]\n",
      "[[ 1.  1.  0.  0.  0.  0.  0.  2.  0.  0.]\n",
      " [ 0.  0.  0.  0.  0.  0.  0.  0.  0.  3.]\n",
      " [ 4.  0.  0.  0.  0.  5.  0.  0.  0.  3.]\n",
      " [ 4.  4.  0.  6.  0.  0.  0.  0.  3.  3.]\n",
      " [ 0.  0.  0.  0.  0.  0.  0.  0.  3.  0.]\n",
      " [ 0.  0.  0.  0.  0.  0.  0.  8.  0.  0.]\n",
      " [ 0.  0.  0.  0.  0.  0.  0.  0.  0.  9.]\n",
      " [ 0.  0. 10.  0.  0. 11.  0. 12.  0.  0.]\n",
      " [ 0.  0.  0.  0. 13.  0. 14.  0.  0.  0.]\n",
      " [ 0.  0.  0. 15.  0.  0.  0.  0.  0.  0.]]\n",
      "   Cluster_size  Cluster_count  cell_type\n",
      "0           1.0            7.0        1.0\n",
      "1           2.0            1.0        1.0\n",
      "2           3.0            3.0        1.0\n",
      "3           4.0            1.0        1.0\n",
      "0           1.0           15.0        2.0\n",
      "1           2.0            2.0        2.0\n",
      "2           3.0            2.0        2.0\n",
      "0           1.0           11.0        3.0\n",
      "1           2.0            1.0        3.0\n",
      "2           3.0            1.0        3.0\n",
      "3           5.0            1.0        3.0\n"
     ]
    },
    {
     "data": {
      "image/png": "[encoded data removed]",
      "text/plain": [
       "<Figure size 640x480 with 1 Axes>"
      ]
     },
     "metadata": {},
     "output_type": "display_data"
    }
   ],
   "source": [
    "def clustering(m, rtype):\n",
    "    \"\"\" Algorithm for finding clusters and labeling them. \n",
    "    INPUT: Matrix m with occupied 1 and unoccupied 0\"\"\"\n",
    "    assert type(rtype) == int\n",
    "    assert m.shape[0] == m.shape[1]\n",
    "    \n",
    "    dim = m.shape[0]\n",
    "    largest_label = 0\n",
    "    label = np.zeros([dim, dim])\n",
    "    for x in range(dim):\n",
    "        for y in range(dim):\n",
    "            above = m[x-1, y]\n",
    "            left = m[x, y-1]\n",
    "            # For the boundary conditions, set above and left to zero.\n",
    "            if x == 0:\n",
    "                above = 0\n",
    "            if y == 0:\n",
    "                left = 0\n",
    "            # Assign cluster IDs according to neighbours   \n",
    "            if m[x,y] == rtype:\n",
    "                if above != rtype and left != rtype: # no neighbors, new cluster id\n",
    "                    largest_label += 1\n",
    "                    label[x,y] = largest_label\n",
    "                elif above == rtype and left != rtype: # cluster extends from above, change id\n",
    "                    label[x,y] = label[x-1,y]\n",
    "                elif above != rtype and left == rtype: # cluster extends from left, change id\n",
    "                    label[x,y] = label[x,y-1]\n",
    "                elif above == rtype and left == rtype: # both belong to cluster, make a union\n",
    "                    m, label = cluster_union(m, label, x, y)             \n",
    "    return label\n",
    "            \n",
    "def cluster_union(m, label, x, y):\n",
    "    \"\"\"\n",
    "    Union the two clusters and labels both clusters the same.\n",
    "    \"\"\"\n",
    "    if label[x-1,y] == label[x,y-1]: # If labels are the same, then set x,y as same label\n",
    "        label[x,y] = label[x-1,y]\n",
    "        return m, label\n",
    "    else: # else different clusters so rename one\n",
    "        new_id, old_id = np.min([label[x-1,y], label[x,y-1]]), np.max([label[x-1,y], label[x,y-1]])\n",
    "        label[x,y] = new_id # set label of current x,y\n",
    "        label[label == old_id] = new_id # change all old IDs to the new one\n",
    "    return m, label\n",
    "\n",
    "def run_clustering(m):\n",
    "    \"\"\"\n",
    "    Runs the clustering algorithm for each of the cell types, returns a pandas dataframe with the columns cluster size, count, id.\n",
    "    INPUT: the matrix with the different IDs in the cells. \n",
    "    \"\"\"\n",
    "    clusters = pd.DataFrame()\n",
    "    # Run each of the cluster types in a loop\n",
    "    for i in np.unique(m)[1:]: # not the zeros\n",
    "        cluster_ids = clustering(m, int(i))\n",
    "        cluster_size = np.unique(cluster_ids, return_counts=True) # count size of clusters in matrix of cell types\n",
    "        size, count = np.unique(cluster_size[1][1:], return_counts=True) # select only the cells that contain something (first element is empty)\n",
    "        # f\n",
    "        clusters = pd.concat([clusters, pd.DataFrame([size, count, i * np.ones(len(count))]).T], axis = 0)\n",
    "        print(cluster_ids)\n",
    "    clusters.columns = ['Cluster_size','Cluster_count','cell_type']\n",
    "    return clusters\n",
    "\n",
    "m = np.random.randint(0,4, (10,10), dtype=int)\n",
    "print(m)\n",
    "x = run_clustering(m)\n",
    "print(x)\n",
    "# Just testing the log plotting\n",
    "plt.scatter(x.Cluster_size, x.Cluster_count)\n",
    "plt.yscale('log'), plt.xscale('log')\n",
    "plt.show()\n",
    "\n",
    "\n",
    "\n",
    "\n"
   ]
  },
  {
   "cell_type": "code",
   "execution_count": 67,
   "id": "79f22575-fec3-4427-b715-0023455d104b",
   "metadata": {
    "tags": []
   },
   "outputs": [
    {
     "name": "stdout",
     "output_type": "stream",
     "text": [
      "[1.1325921 0.       ]Intel MKL WARNING: Support of Intel(R) Streaming SIMD Extensions 4.2 (Intel(R) SSE4.2) enabled only processors has been deprecated. Intel oneAPI Math Kernel Library 2025.0 will require Intel(R) Advanced Vector Extensions (Intel(R) AVX) instructions.\n",
      " [[4.68009461e-01 6.15745457e-09]\n",
      " [6.15745457e-09 1.35019519e-16]]\n"
     ]
    }
   ],
   "source": [
    "from scipy.optimize import curve_fit\n",
    "# Function to calculate the power-law with constants a and b\n",
    "def power_law(x, a, b):\n",
    "    return a*np.power(x, b)\n",
    "\n",
    "pars, cov = curve_fit(f=power_law, ydata=np.log(xx.Cluster_size), xdata=np.log(xx.Cluster_count), p0=[0, 0], bounds=(-np.inf, np.inf))\n",
    "print(pars, cov)\n",
    "xx = x[x.cell_type == 1]\n",
    "\n",
    "np.log(xx.Cluster_count)"
   ]
  },
  {
   "cell_type": "code",
   "execution_count": null,
   "id": "8be33c7d-28d0-47ad-8d76-a1f0a5fb616b",
   "metadata": {
    "jupyter": {
     "source_hidden": true
    },
    "tags": []
   },
   "outputs": [],
   "source": [
    "# Fractal Dimension from occupancy rate and radius from centre.\n",
    "from scipy.optimize import least_squares\n",
    "\n",
    "\n",
    "def fractal_dimension(m, centre, radius):\n",
    "    \"\"\"\n",
    "    Calculates the fractal dimension of the occupancy for each radius\n",
    "    \"\"\"\n",
    "    dim = m.shape[0] # get the array dimension\n",
    "    distance = np.zeros([dim,dim])\n",
    "    radius = np.zeros(10,2)\n",
    "    radius[:,0] = range(10) # sets the range to loop over for occupancy\n",
    "    for i in range(dim):\n",
    "        for j in range(dim):\n",
    "            distance[i,j] = np.sqrt((centre[0] - i) ** 2 + (centre[1] - j) ** 2)\n",
    "    # logic is to filter spots within distance, then multiply with m matrix to find spots where there are occupants\n",
    "    # assuming empty spots are marked with zero and sum the spots within raidus and with occupants.\n",
    "    for r in radius[:,0]: \n",
    "        current_distance = np.where(distance < radius, 1, 0)\n",
    "        radius[r,1] = (current_distance * m).sum()\n",
    "    \n",
    "    fractal_d = least_squares(np.log(radius[:,1]), np.log(radius[:,0])).x[1] # area is y axis and radius on x, returns coef\n",
    "    return fractal_d"
   ]
  },
  {
   "cell_type": "code",
   "execution_count": null,
   "id": "8e64412b-c295-40a0-8297-f786b031a0b2",
   "metadata": {},
   "outputs": [],
   "source": []
  },
  {
   "cell_type": "code",
   "execution_count": null,
   "id": "3d456677-1c9a-4e65-8470-0917eeb7be14",
   "metadata": {},
   "outputs": [],
   "source": [
    "from scipy.optimize import curve_fit\n",
    "\n",
    "def power_law(x, a, b):\n",
    "    return a*np.power(x, b)\n",
    "\n",
    "pars, cov = curve_fit(f=power_law, xdata=xx.Cluster_size, ydata=xx.Cluster_count, p0=[300, -1.8], bounds=(-np.inf, np.inf))\n",
    "\n",
    "print(pars)"
   ]
  },
  {
   "cell_type": "code",
   "execution_count": 157,
   "id": "c32e6f7e-f41c-4c74-9ed9-023c2ee94af9",
   "metadata": {
    "tags": []
   },
   "outputs": [
    {
     "data": {
      "text/plain": [
       "array([[1, 1, 0, ..., 0, 0, 1],\n",
       "       [0, 0, 0, ..., 1, 1, 1],\n",
       "       [0, 0, 1, ..., 0, 0, 1],\n",
       "       ...,\n",
       "       [0, 0, 0, ..., 0, 0, 1],\n",
       "       [0, 1, 0, ..., 1, 1, 1],\n",
       "       [1, 0, 1, ..., 0, 0, 1]])"
      ]
     },
     "execution_count": 157,
     "metadata": {},
     "output_type": "execute_result"
    }
   ],
   "source": [
    "m = np.random.randint(0,2, (51,51), dtype=int)\n",
    "m"
   ]
  },
  {
   "cell_type": "code",
   "execution_count": 165,
   "id": "345a5233-ddaa-43f5-ba21-f2641aead767",
   "metadata": {
    "tags": []
   },
   "outputs": [],
   "source": [
    "# Fractal Dimension from occupancy rate and radius from centre.\n",
    "from scipy.optimize import least_squares\n",
    "\n",
    "\n",
    "def fractal_dimension(m):\n",
    "    \"\"\"\n",
    "    Calculates the fractal dimension of the occupancy for each radius\n",
    "    \"\"\"\n",
    "    center = m.shape[0] // 2\n",
    "    dim = m.shape[0] # get the array dimension\n",
    "    distance = np.zeros([dim,dim])\n",
    "    \n",
    "    \n",
    "    radius = np.array(range(1, center)) # sets the range to loop over for occupancy\n",
    "    occupied_cells = np.zeros(center - 1)\n",
    "    for i in range(dim):\n",
    "        for j in range(dim):\n",
    "            distance[i,j] = np.sqrt((center - i) ** 2 + (center - j) ** 2)\n",
    "    # logic is to filter spots within distance, then multiply with m matrix to find spots where there are occupants\n",
    "    # assuming empty spots are marked with zero and sum the spots within raidus and with occupants.\n",
    "    \n",
    "    for r in range(len(radius)): # loop through radiuses and chekc which ones are within area and then count cells occupied.\n",
    "        current_distance = np.where(distance < radius[r], 1, 0)\n",
    "        area = (current_distance * m).sum()\n",
    "        occupied_cells[r] = area\n",
    "\n",
    "    fractal_d = np.polyfit(np.log(radius), np.log(occupied_cells), 1)\n",
    "    return fractal_d, occupied_cells, radius\n",
    "\n",
    "fractal_d, occupied_cells, radius = fractal_dimension(m)\n"
   ]
  },
  {
   "cell_type": "code",
   "execution_count": 173,
   "id": "1edd0093-a05a-455f-8780-36c4deda3cda",
   "metadata": {
    "tags": []
   },
   "outputs": [
    {
     "data": {
      "image/png": "[encoded data removed]",
      "text/plain": [
       "<Figure size 640x480 with 1 Axes>"
      ]
     },
     "metadata": {},
     "output_type": "display_data"
    }
   ],
   "source": [
    "plt.scatter(radius, occupied_cells, s = 12, marker = 'x')\n",
    "plt.plot(radius, np.exp(fractal_d[1]) + radius ** fractal_d[0], c = 'orange')\n",
    "plt.xlabel('Radius'), plt.ylabel('Occupied Cells')\n",
    "plt.yscale('log'), plt.xscale('log')\n",
    "plt.show()"
   ]
  },
  {
   "cell_type": "code",
   "execution_count": null,
   "id": "b4fc01b9-3b77-4833-a5a5-231a3ecb15c3",
   "metadata": {
    "tags": []
   },
   "outputs": [],
   "source": []
  },
  {
   "cell_type": "code",
   "execution_count": null,
   "id": "85157087-d506-4c79-a012-3a3fae40d79c",
   "metadata": {},
   "outputs": [],
   "source": []
  }
 ],
 "metadata": {
  "kernelspec": {
   "display_name": "Python 3 (ipykernel)",
   "language": "python",
   "name": "python3"
  },
  "language_info": {
   "codemirror_mode": {
    "name": "ipython",
    "version": 3
   },
   "file_extension": ".py",
   "mimetype": "text/x-python",
   "name": "python",
   "nbconvert_exporter": "python",
   "pygments_lexer": "ipython3",
   "version": "3.9.13"
  }
 },
 "nbformat": 4,
 "nbformat_minor": 5
}
