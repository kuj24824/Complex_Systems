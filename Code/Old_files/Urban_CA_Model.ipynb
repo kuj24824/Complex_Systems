{
  "cells": [
    {
      "cell_type": "code",
      "execution_count": 8,
      "id": "2a71c045-d1ff-4c27-aa2a-ec62d865d90b",
      "metadata": {
        "ExecuteTime": {
          "end_time": "2023-06-21T20:34:40.575442+00:00",
          "start_time": "2023-06-21T20:34:40.026288+00:00"
        },
        "jupyter": {
          "outputs_hidden": false,
          "source_hidden": false
        },
        "noteable": {
          "cell_type": "code"
        }
      },
      "outputs": [],
      "source": [
        "import matplotlib.pyplot as plt\n",
        "import numpy as np"
      ]
    },
    {
      "cell_type": "code",
      "execution_count": 9,
      "id": "f0de099f-1c56-4caa-866d-791662d5d783",
      "metadata": {
        "ExecuteTime": {
          "end_time": "2023-06-21T20:34:54.662590+00:00",
          "start_time": "2023-06-21T20:34:54.153974+00:00"
        },
        "noteable": {
          "cell_type": "code"
        }
      },
      "outputs": [
        {
          "data": {
            "image/png": "[encoded data removed]",
            "text/plain": [
              "<Figure size 576x576 with 2 Axes>"
            ]
          },
          "metadata": {
            "needs_background": "light"
          },
          "output_type": "display_data"
        }
      ],
      "source": [
        "# Step 1: Define the grid and the states\n",
        "\n",
        "# Define the grid size and the states\n",
        "grid_size = 50\n",
        "states = {'V': 0, 'H': 1, 'I': 2, 'C': 3}  # V: vacant, H: housing, I: industrial, C: commercial\n",
        "\n",
        "# Initialize the grid with vacant cells\n",
        "grid = np.full((grid_size, grid_size), states['V'])\n",
        "\n",
        "# set seed to be 4263047662\n",
        "np.random.seed(4)\n",
        "\n",
        "# Set up the grid\n",
        "grid_size = 50\n",
        "grid = np.zeros((grid_size, grid_size), dtype=int)\n",
        "\n",
        "# Define initial conditions\n",
        "center_x, center_y = grid_size // 2, grid_size // 2\n",
        "commercial_cells = [(center_x, center_y), (center_x + 1, center_y), (center_x, center_y + 1)]\n",
        "\n",
        "residential_cells = []\n",
        "num_residential = 30  # Number of residential cells\n",
        "min_dist = 3  # Minimum distance from commercial cells\n",
        "\n",
        "industrial_cells = []\n",
        "num_industrial = 4  # Number of industrial cells\n",
        "min_dist_industrial = 3  # Minimum distance from commercial cells\n",
        "\n",
        "# Generate random residential cells around the commercial area\n",
        "while len(residential_cells) < num_residential:\n",
        "    x = np.random.randint(center_x - min_dist, center_x + min_dist + 1)\n",
        "    y = np.random.randint(center_y - min_dist, center_y + min_dist + 1)\n",
        "    if (x, y) not in commercial_cells:\n",
        "        residential_cells.append((x, y))\n",
        "\n",
        "# Generate random industrial cells around the commercial area\n",
        "while len(industrial_cells) < num_industrial:\n",
        "    x = np.random.randint(center_x - min_dist_industrial, center_x + min_dist_industrial + 1)\n",
        "    y = np.random.randint(center_y - min_dist_industrial, center_y + min_dist_industrial + 1)\n",
        "    if (x, y) not in commercial_cells:\n",
        "        industrial_cells.append((x, y))\n",
        "\n",
        "# Assign initial land use types\n",
        "for x, y in commercial_cells:\n",
        "    grid[x, y] = 3  # Commercial\n",
        "for x, y in residential_cells:\n",
        "    grid[x, y] = 2  # Residential\n",
        "for x, y in industrial_cells:\n",
        "    grid[x, y] = 1  # Industrial\n",
        "\n",
        "# Set the figure size\n",
        "fig = plt.figure(figsize=(8, 8))  # Adjust the width and height as desired\n",
        "\n",
        "# Visualize the initial grid\n",
        "cmap = plt.cm.colors.ListedColormap(['white', 'orange', 'green', 'blue'])\n",
        "plt.imshow(grid, cmap=cmap, origin='lower', vmin=0, vmax=3)\n",
        "plt.colorbar(ticks=[0, 1, 2, 3], label='Land Use')\n",
        "plt.title('Initial Land Use')\n",
        "\n",
        "plt.show()\n",
        "\n"
      ]
    },
    {
      "cell_type": "code",
      "execution_count": 10,
      "id": "84310921-1210-40a8-aea9-0531131680ec",
      "metadata": {
        "ExecuteTime": {
          "end_time": "2023-06-21T20:35:00.246088+00:00",
          "start_time": "2023-06-21T20:35:00.083371+00:00"
        },
        "noteable": {
          "cell_type": "code"
        }
      },
      "outputs": [
        {
          "name": "stdout",
          "output_type": "stream",
          "text": [
            "Cells to convert at iteration 0: {'H': 30, 'I': 4, 'C': 3}\n",
            "Cells to convert at iteration 1: {'H': 60, 'I': 8, 'C': 6}\n"
          ]
        }
      ],
      "source": [
        "# Step 2: Define the exogenous growth rates and the initial number of cells to be converted\n",
        "\n",
        "# Define the exogenous growth rates for each urban function\n",
        "growth_rates = {'H': 1, 'I': 1, 'C': 1}  # H: housing, I: industrial, C: commercial\n",
        "\n",
        "# Define the initial number of cells to be converted\n",
        "initial_cells = {'H': 30, 'I': 4, 'C': 3}  # H: housing, I: industrial, C: commercial\n",
        "\n",
        "# Initialize a dictionary to store the number of cells to be converted for each state in the previous iteration\n",
        "previous_cells = initial_cells.copy()\n",
        "\n",
        "# Function to calculate the net number of cells to be converted at each iteration\n",
        "def calculate_cells_to_convert(iteration):\n",
        "    cells_to_convert = {}\n",
        "    for state in ['H', 'I', 'C']:\n",
        "        if iteration == 0:\n",
        "            # At the first iteration, use the initial number of cells to be converted\n",
        "            cells_to_convert[state] = initial_cells[state]\n",
        "        else:\n",
        "            # In subsequent iterations, apply the growth rate to the number of cells converted in the previous iteration\n",
        "            cells_to_convert[state] = int(previous_cells[state] * (1 + growth_rates[state]))\n",
        "            # Update the number of cells to be converted for the current state in the previous iteration\n",
        "            previous_cells[state] = cells_to_convert[state]\n",
        "    return cells_to_convert\n",
        "\n",
        "# Test the function\n",
        "print('Cells to convert at iteration 0:', calculate_cells_to_convert(0))\n",
        "print('Cells to convert at iteration 1:', calculate_cells_to_convert(1))"
      ]
    },
    {
      "cell_type": "code",
      "execution_count": 11,
      "id": "4d532e61-27a1-4c99-a1b1-16f74174352e",
      "metadata": {
        "ExecuteTime": {
          "end_time": "2023-06-21T20:35:03.352233+00:00",
          "start_time": "2023-06-21T20:35:03.189685+00:00"
        },
        "noteable": {
          "cell_type": "code"
        }
      },
      "outputs": [
        {
          "name": "stdout",
          "output_type": "stream",
          "text": [
            "Neighbourhood of the cell at (25, 25):\n",
            " [0 0 0 0 0 0 0 0 0 0 0 0 0 0 0 0 0 0 0 2 2 0 0 2 2 2 0 0 0 0 2 2 2 2 0 0 0\n",
            " 0 0 0 0 0 2 2 0 2 0 1 0 0 0 0 0 1 0 2 3 3 0 0 0 0 0 0 0 0 0 2 3 0 0 2 0 0\n",
            " 0 0 0 2 0 0 2 0 2 0 0 0 0 2 0 2 1 0 2 1 0 0 0 0 0 0 0 0 0 0 0 0 0 0 0 0 0\n",
            " 0 0]\n",
            "The number of Neighborss of the cell at the center is  113\n"
          ]
        }
      ],
      "source": [
        "# Step 3: Define the neighbourhood of a cell and calculate the transition potentials\n",
        "\n",
        "# Define the radius of the neighbourhood\n",
        "radius = 6\n",
        "\n",
        "# Function to get the neighbourhood of a cell\n",
        "def get_neighbourhood(grid, row, col):\n",
        "    # Define the range of the neighbourhood\n",
        "    row_range = range(max(0, row - radius), min(grid_size, row + radius + 1))\n",
        "    col_range = range(max(0, col - radius), min(grid_size, col + radius + 1))\n",
        "    # Get the square neighbourhood\n",
        "    square_neighbourhood = grid[np.ix_(row_range, col_range)]\n",
        "    # Create a mask for the circular neighbourhood\n",
        "    circle_mask = np.zeros_like(square_neighbourhood, dtype=bool)\n",
        "    center = radius, radius  # The center of the circle is the cell itself\n",
        "    for i in range(square_neighbourhood.shape[0]):\n",
        "        for j in range(square_neighbourhood.shape[1]):\n",
        "            # If the Euclidean distance from the center to the cell is less than or equal to the radius, include the cell in the circle\n",
        "            if np.sqrt((center[0] - i) ** 2 + (center[1] - j) ** 2) <= radius:\n",
        "                circle_mask[i, j] = True\n",
        "    # Return the circular neighbourhood\n",
        "    return square_neighbourhood[circle_mask]\n",
        "\n",
        "# Test the function\n",
        "print('Neighbourhood of the cell at (25, 25):\\n', get_neighbourhood(grid, 25, 25))\n",
        "print('The number of Neighborss of the cell at the center is ', len(get_neighbourhood(grid, 25, 25)))"
      ]
    },
    {
      "cell_type": "code",
      "execution_count": 12,
      "id": "b24f1624",
      "metadata": {},
      "outputs": [],
      "source": [
        "m_kd = {\n",
        "    'V': {\n",
        "        2: {'C': 25, 'I': 0, 'H': 4},\n",
        "        3: {'C': 25, 'I': 0, 'H': 3.5},\n",
        "        4: {'C': 25, 'I': 0, 'H': 3},\n",
        "        5: {'C': -1, 'I': 0, 'H': 2.5},\n",
        "        6: {'C': -1, 'I': 0, 'H': 2},\n",
        "        7: {'C': -1, 'I': 0, 'H': 2},\n",
        "        8: {'C': -1, 'I': 0, 'H': 2},\n",
        "        9: {'C': -1, 'I': 0, 'H': 1.5},\n",
        "        10: {'C': -1, 'I': 0, 'H': 1.5},\n",
        "        11: {'C': -1, 'I': 0, 'H': 1.5},\n",
        "        12: {'C': -1, 'I': 0, 'H': 1.5},\n",
        "        13: {'C': -1, 'I': 0, 'H': 1},\n",
        "        14: {'C': -1, 'I': 0, 'H': 1},\n",
        "        15: {'C': -1, 'I': 0, 'H': 1},\n",
        "        16: {'C': -1, 'I': 0, 'H': 1},\n",
        "        17: {'C': -1, 'I': 0, 'H': 1},\n",
        "        18: {'C': -1, 'I': 0, 'H': 1},\n",
        "        19: {'C': -1, 'I': 0, 'H': 1}\n",
        "    },\n",
        "    'C': {\n",
        "        2: {'C': 25, 'I': -2, 'H': 4},\n",
        "        3: {'C': 25, 'I': -2, 'H': 3.5},\n",
        "        4: {'C': 25, 'I': -2, 'H': 3},\n",
        "        5: {'C': -2, 'I': 0, 'H': 2.5},\n",
        "        6: {'C': -2, 'I': 0, 'H': 2},\n",
        "        7: {'C': -2, 'I': 0, 'H': 2},\n",
        "        8: {'C': -2, 'I': 0, 'H': 1.5},\n",
        "        9: {'C': -2, 'I': 0, 'H': 1.5},\n",
        "        10: {'C': -2, 'I': 0, 'H': 1.5},\n",
        "        11: {'C': -2, 'I': 0, 'H': 1.5},\n",
        "        12: {'C': -2, 'I': 0, 'H': 1},\n",
        "        13: {'C': -2, 'I': 0, 'H': 1},\n",
        "        14: {'C': -2, 'I': 0, 'H': 1},\n",
        "        15: {'C': -2, 'I': 0, 'H': 1},\n",
        "        16: {'C': -2, 'I': 0, 'H': 1},\n",
        "        17: {'C': -2, 'I': 0, 'H': 1},\n",
        "        18: {'C': -2, 'I': 0, 'H': 1},\n",
        "        19: {'C': -2, 'I': 0, 'H': 1}\n",
        "    },\n",
        "    'I': {\n",
        "        2: {'C': 0, 'I': 0, 'H': 3},\n",
        "        3: {'C': 0, 'I': 0, 'H': 3},\n",
        "        4: {'C': 0, 'I': 0, 'H': 2},\n",
        "        5: {'C': 0, 'I': 0, 'H': 1},\n",
        "        6: {'C': 0, 'I': 0, 'H': 0},\n",
        "        7: {'C': 0, 'I': 0, 'H': 0.2},\n",
        "        8: {'C': 0, 'I': 0.2, 'H': 20.2},\n",
        "        9: {'C': 0, 'I': 0.2, 'H': 20.2},\n",
        "        10: {'C': 0, 'I': 0.2, 'H': 0.2},\n",
        "        11: {'C': 0, 'I': 0.2, 'H': 0.2},\n",
        "        12: {'C': 0, 'I': 0.2, 'H': 0.2},\n",
        "        13: {'C': 0, 'I': 0.2, 'H': 0.2},\n",
        "        14: {'C': 0, 'I': 0.2, 'H': 0.2},\n",
        "        15: {'C': 0, 'I': 0.2, 'H': 20.2},\n",
        "        16: {'C': 0, 'I': 0.2, 'H': 0.2},\n",
        "        17: {'C': 0, 'I': 0.2, 'H': 0.2},\n",
        "        18: {'C': 0, 'I': 0.2, 'H': 0.2},\n",
        "        19: {'C': 0, 'I': 0.2, 'H': 0.2}\n",
        "    },\n",
        "    'H': {\n",
        "        2: {'C': -2, 'I': 1, 'H': 0},\n",
        "        3: {'C': -1, 'I': 1, 'H': 0},\n",
        "        4: {'C': 2, 'I': 0, 'H': 0},\n",
        "        5: {'C': 1, 'I': 0, 'H': 0},\n",
        "        6: {'C': 1, 'I': 0, 'H': 0},\n",
        "        7: {'C': 1, 'I': 0, 'H': 0},\n",
        "        8: {'C': 0.5, 'I': 0, 'H': 0},\n",
        "        9: {'C': 0.5, 'I': 0, 'H': 0},\n",
        "        10: {'C': 0.5, 'I': 0, 'H': 0},\n",
        "        11: {'C': 0.5, 'I': 0, 'H': 0},\n",
        "        12: {'C': 0.5, 'I': 0, 'H': 0},\n",
        "        13: {'C': 0.1, 'I': 0, 'H': 0},\n",
        "        14: {'C': 0.1, 'I': 0, 'H': 0},\n",
        "        15: {'C': 0.1, 'I': 0, 'H': 0},\n",
        "        16: {'C': 0.1, 'I': 0, 'H': 0},\n",
        "        17: {'C': 0.1, 'I': 0, 'H': 0},\n",
        "        18: {'C': 0.1, 'I': 0, 'H': 0},\n",
        "        19: {'C': 0, 'I': 0, 'H': 0}\n",
        "    }\n",
        "}\n"
      ]
    },
    {
      "cell_type": "code",
      "execution_count": 13,
      "id": "dfcaa538-88ff-436b-96cf-065eef2a698f",
      "metadata": {
        "ExecuteTime": {
          "end_time": "2023-06-21T21:50:51.775306+00:00",
          "start_time": "2023-06-21T21:50:51.227074+00:00"
        },
        "jupyter": {
          "outputs_hidden": false,
          "source_hidden": false
        },
        "noteable": {
          "cell_type": "code"
        }
      },
      "outputs": [],
      "source": [
        "\n",
        "def get_cells_in_distance_zone(grid, row, col, d):\n",
        "    # Calculate the Euclidean distance from the cell to all other cells\n",
        "    distances = np.sqrt((np.indices(grid.shape)[0] - row) ** 2 + (np.indices(grid.shape)[1] - col) ** 2)\n",
        "    # Return the cells in the distance zone\n",
        "    return grid[(distances >= d) & (distances < d + 1)]\n",
        "\n",
        "def calculate_transition_potential(grid, row, col):\n",
        "    # Calculate the transition potential for each possible transition\n",
        "    transition_potentials = {}\n",
        "    for transition, weights in m_kd.items():\n",
        "        # Initialize the weighted sum for the transition\n",
        "        weighted_sum = 0\n",
        "        # Iterate over all distance zones\n",
        "        for d, distance_weights in weights.items():\n",
        "            # Get the cells in the distance zone\n",
        "            zone_cells = get_cells_in_distance_zone(grid, row, col, d)\n",
        "            # Iterate over all states\n",
        "            for state, state_weight in distance_weights.items():\n",
        "                # Count the number of cells in the state in the distance zone\n",
        "                N_kd = np.sum(zone_cells == state)\n",
        "                # Add the weighted count to the weighted sum\n",
        "                weighted_sum += state_weight * N_kd\n",
        "\n",
        "        # Calculate the stochastic disturbance term\n",
        "        R = np.random.uniform(0, 1)\n",
        "        alpha = 1  # This parameter allows control of the size of the stochastic perturbation\n",
        "        S = 1 + (-np.log(R)) ** alpha\n",
        "        # Calculate the transition potential\n",
        "        P_ij = S * (1 + weighted_sum)\n",
        "        transition_potentials[transition] = P_ij\n",
        "\n",
        "    return transition_potentials\n",
        "\n",
        "\n",
        "\n",
        "\n"
      ]
    },
    {
      "cell_type": "code",
      "execution_count": 14,
      "metadata": {},
      "outputs": [
        {
          "name": "stderr",
          "output_type": "stream",
          "text": [
            "/var/folders/z4/tp6kp7y165g0bvx3x1wrblq00000gn/T/ipykernel_33663/2269967639.py:20: FutureWarning: elementwise comparison failed; returning scalar instead, but in the future will perform elementwise comparison\n",
            "  N_kd = np.sum(zone_cells == state)\n"
          ]
        },
        {
          "data": {
            "image/png": "[encoded data removed]",
            "text/plain": [
              "<Figure size 1440x360 with 12 Axes>"
            ]
          },
          "metadata": {
            "needs_background": "light"
          },
          "output_type": "display_data"
        }
      ],
      "source": [
        "import matplotlib.pyplot as plt\n",
        "import numpy as np\n",
        "\n",
        "# Define the grid size and the states\n",
        "grid_size = 50\n",
        "states = {'V': 0, 'H': 1, 'I': 2, 'C': 3}  # V: vacant, H: housing, I: industrial, C: commercial\n",
        "\n",
        "# Initialize the grid with vacant cells\n",
        "grid = np.full((grid_size, grid_size), states['V'])\n",
        "\n",
        "# Set up the initial land use configuration\n",
        "# Step 1: Define the grid and the states\n",
        "\n",
        "# Define the grid size and the states\n",
        "grid_size = 50\n",
        "states = {'V': 0, 'H': 1, 'I': 2, 'C': 3}  # V: vacant, H: housing, I: industrial, C: commercial\n",
        "\n",
        "# Initialize the grid with vacant cells\n",
        "grid = np.full((grid_size, grid_size), states['V'])\n",
        "\n",
        "# Set the seed for reproducibility\n",
        "np.random.seed(4)\n",
        "\n",
        "# Set up the grid\n",
        "grid_size = 50\n",
        "grid = np.zeros((grid_size, grid_size), dtype=int)\n",
        "\n",
        "# Define initial conditions\n",
        "center_x, center_y = grid_size // 2, grid_size // 2\n",
        "commercial_cells = [(center_x, center_y), (center_x + 1, center_y), (center_x, center_y + 1)]\n",
        "\n",
        "residential_cells = []\n",
        "num_residential = 30  # Number of residential cells\n",
        "min_dist = 3  # Minimum distance from commercial cells\n",
        "\n",
        "industrial_cells = []\n",
        "num_industrial = 4  # Number of industrial cells\n",
        "min_dist_industrial = 3  # Minimum distance from commercial cells\n",
        "\n",
        "# Generate random residential cells around the commercial area\n",
        "while len(residential_cells) < num_residential:\n",
        "    x = np.random.randint(center_x - min_dist, center_x + min_dist + 1)\n",
        "    y = np.random.randint(center_y - min_dist, center_y + min_dist + 1)\n",
        "    if (x, y) not in commercial_cells:\n",
        "        residential_cells.append((x, y))\n",
        "\n",
        "# Generate random industrial cells around the commercial area\n",
        "while len(industrial_cells) < num_industrial:\n",
        "    x = np.random.randint(center_x - min_dist_industrial, center_x + min_dist_industrial + 1)\n",
        "    y = np.random.randint(center_y - min_dist_industrial, center_y + min_dist_industrial + 1)\n",
        "    if (x, y) not in commercial_cells:\n",
        "        industrial_cells.append((x, y))\n",
        "\n",
        "# Assign initial land use types\n",
        "for x, y in commercial_cells:\n",
        "    grid[x, y] = states['C']  # Commercial\n",
        "for x, y in residential_cells:\n",
        "    grid[x, y] = states['H']  # Residential\n",
        "for x, y in industrial_cells:\n",
        "    grid[x, y] = states['I']  # Industrial\n",
        "\n",
        "# Set the number of iterations for the simulation\n",
        "num_iterations = 10\n",
        "\n",
        "# Create a list to store the grid at each iteration\n",
        "grid_history = [grid.copy()]\n",
        "\n",
        "# Perform the simulation\n",
        "for iteration in range(num_iterations):\n",
        "    # Calculate the net number of cells to be converted in the current iteration\n",
        "    cells_to_convert = calculate_cells_to_convert(iteration)\n",
        "\n",
        "    # Iterate over each cell in the grid\n",
        "    for row in range(grid_size):\n",
        "        for col in range(grid_size):\n",
        "            current_state = grid[row, col]\n",
        "\n",
        "            # Skip vacant cells\n",
        "            if current_state == states['V']:\n",
        "                continue\n",
        "\n",
        "            # Calculate the transition potentials for the current cell\n",
        "            transition_potentials = calculate_transition_potential(grid, row, col)\n",
        "\n",
        "            # Normalize the transition probabilities to ensure they sum up to 1\n",
        "            transition_probabilities = np.array(list(transition_potentials.values()))\n",
        "            transition_probabilities /= transition_probabilities.sum()\n",
        "\n",
        "            # Perform a weighted random choice based on the transition probabilities\n",
        "            transitions = list(transition_potentials.keys())\n",
        "            chosen_transition = np.random.choice(transitions, p=transition_probabilities)\n",
        "\n",
        "            # Convert the cell to the new state based on the chosen transition\n",
        "            new_state = states[chosen_transition]\n",
        "            grid[row, col] = new_state\n",
        "\n",
        "    # Append the current grid to the grid history\n",
        "    grid_history.append(grid.copy())\n",
        "\n",
        "# Visualize the land use evolution over time\n",
        "fig, axes = plt.subplots(1, num_iterations + 1, figsize=(20, 5), tight_layout=True)\n",
        "\n",
        "cmap = plt.cm.colors.ListedColormap(['white', 'orange', 'green', 'blue'])\n",
        "\n",
        "# Plot the initial land use\n",
        "axes[0].imshow(grid_history[0], cmap=cmap, origin='lower', vmin=0, vmax=3)\n",
        "axes[0].set_title('Iteration 0')\n",
        "\n",
        "# Plot the land use at each iteration\n",
        "for i in range(1, num_iterations + 1):\n",
        "    axes[i].imshow(grid_history[i], cmap=cmap, origin='lower', vmin=0, vmax=3)\n",
        "    axes[i].set_title(f'Iteration {i}')\n",
        "\n",
        "# Add a colorbar to the last plot\n",
        "cbar = plt.colorbar(axes[-1].imshow(grid_history[-1], cmap=cmap, origin='lower', vmin=0, vmax=3), ax=axes[-1])\n",
        "cbar.set_ticks([0, 1, 2, 3])\n",
        "cbar.set_label('Land Use')\n",
        "\n",
        "plt.show()\n"
      ]
    }
  ],
  "metadata": {
    "kernelspec": {
      "display_name": "base",
      "language": "python",
      "name": "python3"
    },
    "language_info": {
      "codemirror_mode": {
        "name": "ipython",
        "version": 3
      },
      "file_extension": ".py",
      "mimetype": "text/x-python",
      "name": "python",
      "nbconvert_exporter": "python",
      "pygments_lexer": "ipython3",
      "version": "3.9.12"
    },
    "noteable": {
      "last_delta_id": "b90761ec-1c61-42e6-8a33-adfc4bcf3c48",
      "last_transaction_id": "2fc2b9b9-b44b-4514-921a-98eadc91719b"
    },
    "noteable-chatgpt": {
      "create_notebook": {
        "openai_conversation_id": "1275ecf2-4775-5ecf-9204-026fdcbf7f20",
        "openai_ephemeral_user_id": "a084a494-81ce-592b-9129-c4d39cee6525",
        "openai_subdivision1_iso_code": "NL-NH"
      }
    },
    "nteract": {
      "version": "noteable@2.9.0"
    },
    "selected_hardware_size": "small"
  },
  "nbformat": 4,
  "nbformat_minor": 5
}
