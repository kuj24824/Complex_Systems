{
 "cells": [
  {
   "cell_type": "code",
   "execution_count": 1,
   "metadata": {
    "tags": []
   },
   "outputs": [
    {
     "name": "stdout",
     "output_type": "stream",
     "text": [
      "Intel MKL WARNING: Support of Intel(R) Streaming SIMD Extensions 4.2 (Intel(R) SSE4.2) enabled only processors has been deprecated. Intel oneAPI Math Kernel Library 2025.0 will require Intel(R) Advanced Vector Extensions (Intel(R) AVX) instructions.\n",
      "Intel MKL WARNING: Support of Intel(R) Streaming SIMD Extensions 4.2 (Intel(R) SSE4.2) enabled only processors has been deprecated. Intel oneAPI Math Kernel Library 2025.0 will require Intel(R) Advanced Vector Extensions (Intel(R) AVX) instructions.\n"
     ]
    }
   ],
   "source": [
    "import math\n",
    "import numpy as np\n",
    "import matplotlib.pyplot as plt\n",
    "import pandas as pd\n",
    "from scipy.optimize import least_squares\n",
    "import powerlaw\n",
    "from scipy.optimize import curve_fit\n",
    "from collections import Counter"
   ]
  },
  {
   "cell_type": "code",
   "execution_count": 2,
   "metadata": {
    "tags": []
   },
   "outputs": [],
   "source": [
    "import numpy as np\n",
    "import matplotlib.pyplot as plt\n",
    "\n",
    "# Constants\n",
    "grid_size = 50\n",
    "states = {'V': 0, 'H': 1, 'I': 2, 'C': 3}  # V: vacant, H: housing, I: industrial, C: commercial\n",
    "growth_rates = {1: 0.003, 2: 0.001, 3: 0.0014}  \n",
    "num_iterations = 30  # Number of iterations\n",
    "\n",
    "# Initialize the grid and counts\n",
    "\n",
    "counts = {0: grid_size * grid_size, 1: 0, 2: 0, 3: 0}\n",
    "\n",
    "def initial_land_use(seed_number, grid_size, plot=True):\n",
    "    np.random.seed(seed_number)\n",
    "    \n",
    "    grid = np.zeros((grid_size, grid_size), dtype=int)\n",
    "\n",
    "    # Define initial conditions\n",
    "    center_x, center_y = grid_size // 2, grid_size // 2\n",
    "    \n",
    "    # Randomly select positions for commercial cells\n",
    "    commercial_cells = []\n",
    "    num_commercial = 3\n",
    "    min_dist_commercial = 1  # Minimum distance from center\n",
    "    \n",
    "    while len(commercial_cells) < num_commercial:\n",
    "        x = np.random.randint(center_x - min_dist_commercial, center_x + min_dist_commercial + 1)\n",
    "        y = np.random.randint(center_y - min_dist_commercial, center_y + min_dist_commercial + 1)\n",
    "        if (x, y) not in commercial_cells:\n",
    "            commercial_cells.append((x, y))\n",
    "\n",
    "    residential_cells = []\n",
    "    num_residential = 25\n",
    "    min_dist = 3  # Minimum distance from commercial cells\n",
    "\n",
    "    industrial_cells = []\n",
    "    num_industrial = 4\n",
    "    min_dist_industrial = 3  # Minimum distance from commercial cells\n",
    "\n",
    "    # Generate random residential cells around the commercial area\n",
    "    while len(residential_cells) < num_residential:\n",
    "        x = np.random.randint(center_x - min_dist, center_x + min_dist + 1)\n",
    "        y = np.random.randint(center_y - min_dist, center_y + min_dist + 1)\n",
    "        if (x, y) not in commercial_cells:\n",
    "            residential_cells.append((x, y))\n",
    "\n",
    "    # Generate random industrial cells around the commercial area\n",
    "    while len(industrial_cells) < num_industrial:\n",
    "        x = np.random.randint(center_x - min_dist_industrial, center_x + min_dist_industrial + 1)\n",
    "        y = np.random.randint(center_y - min_dist_industrial, center_y + min_dist_industrial + 1)\n",
    "        if (x, y) not in commercial_cells:\n",
    "            industrial_cells.append((x, y))\n",
    "\n",
    "    # Assign initial land use types\n",
    "    for x, y in commercial_cells:\n",
    "        grid[x, y] = states['C']  # Commercial\n",
    "    for x, y in residential_cells:\n",
    "        grid[x, y] = states['H']  # Residential\n",
    "    for x, y in industrial_cells:\n",
    "        grid[x, y] = states['I']  # Industrial\n",
    "\n",
    "    if plot:\n",
    "        # Set the figure size\n",
    "        plt.figure(figsize=(8, 8))\n",
    "        cmap = plt.cm.colors.ListedColormap(['white', 'skyblue', 'grey', 'orange'])\n",
    "        plt.imshow(grid, cmap=cmap, origin='lower', vmin=0, vmax=3)\n",
    "        plt.colorbar(ticks=[0, 1, 2, 3], label='Land Use')\n",
    "        plt.title('Initial Land Use')\n",
    "        plt.show()\n",
    "\n",
    "    return grid\n",
    "\n"
   ]
  },
  {
   "cell_type": "code",
   "execution_count": 3,
   "metadata": {
    "tags": []
   },
   "outputs": [
    {
     "name": "stdout",
     "output_type": "stream",
     "text": [
      "The weight for transition=Vacant_Commerce, cell_type=H, distance_zone=1 is 3.5\n"
     ]
    }
   ],
   "source": [
    "weights_table = {\n",
    "    'Vacant_Commerce': {\n",
    "        'C': [6, 3.5, 3, 2.5, 2, 2, 2, 1.5, 1.5, 1.5, 1.5, 1, 1, 1, 1, 1, 1, 1],\n",
    "        'I': [0]*18,\n",
    "        'H': [4, 3.5, 3, 2.5, 2, 2, 2, 1.5, 1.5, 1.5, 1.5, 1, 1, 1, 1, 1, 1, 1],\n",
    "        'V': [0]*18\n",
    "    },\n",
    "    'Vacant_Industry': {\n",
    "        'C': [0]*18,\n",
    "        'I': [3, 3, 2, 1, 0, 0.2, 0.2, 0.2, 0.2, 0.2, 0.2, 0.2, 0.2, 0.2, 0.2, 0.2, 0.2, 0.2],\n",
    "        'H': [-1, -1, 0] + [0]*15,\n",
    "        'V': [0]*18\n",
    "    },\n",
    "    'Vacant_Housing': {\n",
    "        'C': [-2, -1, 2, 1, 1, 1, 0.5, 0.5, 0.4, 0.3, 0.2, 0.1, 0.1, 0.1, 0, 0, 0, 0],\n",
    "        'I': [-10, -10, -5, -3, -1] + [0]*13,\n",
    "        'H': [2, 2, 1.5, 1.5, 1, 1, 1, 1, 0.5, 0.5, 0.5, 0.5, 0.5, 0.1, 0.1, 0.1, 0.1, 0.1],\n",
    "        'V': [0]*18\n",
    "    },\n",
    "    'Industry_Commerce': {\n",
    "        'C': [25, 15, 10, -2, -2, -2, -2, -2, -2, -2, -2, -2, -2, -2, -2, -2, -2, -2],\n",
    "        'I': [-2, -2, -2] + [0]*15,\n",
    "        'H': [4, 3.5, 3, 2.5, 2, 2, 2, 1.5, 1.5, 1.5, 1.5, 1, 1, 1, 1, 1, 1, 1],\n",
    "        'V': [0]*18\n",
    "    },\n",
    "    'Industry_Industry': {\n",
    "        'C': [0]*18,\n",
    "        'I': [0]*18,\n",
    "        'H': [0]*18,\n",
    "        'V': [0]*18\n",
    "    },\n",
    "    'Industry_Housing': {\n",
    "        'C': [0]*18,\n",
    "        'I': [0]*18,\n",
    "        'H': [0]*18,\n",
    "        'V': [0]*18\n",
    "    },\n",
    "    'Housing_Commerce': {\n",
    "        'C': [25, 15, 10, -2, -2, -2, -2, -2, -2, -2, -2, -2, -2, -2, -2, -2, -2, -2],\n",
    "        'I': [-10, -10, -5, -3, -1] + [0]*13,\n",
    "        'H': [4, 3.5, 3, 2.5, 2, 2, 2, 1.5, 1.5, 1.5, 1.5, 1, 1, 1, 1, 1, 1, 1],\n",
    "        'V': [0]*18\n",
    "    },\n",
    "    'Housing_Industry': {\n",
    "        'C': [0]*18,\n",
    "        'I': [3, 3, 2, 1, 0, 0.2, 0.2, 0.2, 0.2, 0.2, 0.2, 0.2, 0.2, 0.2, 0.2, 0.2, 0.2, 0.2],\n",
    "        'H': [-1, -1, 0] + [0]*15,\n",
    "        'V': [0]*18\n",
    "    },\n",
    "    'Housing_Housing': {\n",
    "        'C': [0]*18,\n",
    "        'I': [0]*18,\n",
    "        'H': [0]*18,\n",
    "        'V': [0]*18\n",
    "    },\n",
    "}\n",
    "\n",
    "# Test of accessing a weight:\n",
    "transition = 'Vacant_Commerce'\n",
    "cell_type = 'H'\n",
    "distance_zone = 1\n",
    "# This is distance zone is from 0 to 17\n",
    "weight = weights_table[transition][cell_type][distance_zone]\n",
    "print(f\"The weight for transition={transition}, cell_type={cell_type}, distance_zone={distance_zone} is {weight}\")\n"
   ]
  },
  {
   "cell_type": "code",
   "execution_count": 4,
   "metadata": {
    "tags": []
   },
   "outputs": [],
   "source": [
    "\n",
    "def get_distance_zone(distance):\n",
    "    zone_mapping = {0: 1, 1: 1.4, 2: 2, 3: 2.2, 4: 2.8, 5: 3, 6: 3.2, 7: 3.6, 8: 4, 9: 4.1, 10: 4.2, 11: 4.5, 12: 5, 13: 5.1, 14: 5.4, 15: 5.7, 16: 5.8, 17: 6}\n",
    "    for zone, max_distance in reversed(list(zone_mapping.items())):\n",
    "        if distance >= max_distance:\n",
    "            return zone\n",
    "    return 0  # Return 0 if distance is less than the minimum specified distance\n",
    "\n",
    "def get_neighbourhood(grid, row, col, radius):\n",
    "    rows, cols = grid.shape\n",
    "    square_row_range = range(max(0, row - radius), min(rows, row + radius + 1))\n",
    "    square_col_range = range(max(0, col - radius), min(cols, col + radius + 1))\n",
    "    square_neighbourhood = grid[np.ix_(square_row_range, square_col_range)]\n",
    "    circle_mask = np.zeros_like(square_neighbourhood, dtype=bool)\n",
    "    distance_zones = np.zeros_like(square_neighbourhood, dtype=int)\n",
    "    # Adjusted center coordinates inside the neighbourhood\n",
    "    center = min(row, radius), min(col, radius)\n",
    "    for i in range(square_neighbourhood.shape[0]):\n",
    "        for j in range(square_neighbourhood.shape[1]):\n",
    "            distance = np.sqrt((center[0] - i) ** 2 + (center[1] - j) ** 2)\n",
    "            if distance <= radius:\n",
    "                circle_mask[i, j] = True\n",
    "                distance_zones[i, j] = get_distance_zone(distance)\n",
    "    circle_mask[center] = False  # Exclude the center cell\n",
    "    return square_neighbourhood[circle_mask], distance_zones[circle_mask]\n",
    "\n",
    "\n",
    "\n",
    "\n",
    "def cell_type_to_states(state):\n",
    "    if state == 'Vacant':\n",
    "        return 0\n",
    "    elif state == 'Housing':\n",
    "        return 1\n",
    "    elif state == 'Industry':\n",
    "        return 2\n",
    "    elif state == 'Commerce':\n",
    "        return 3\n",
    "\n",
    "def states_to_cell_type(state):\n",
    "    if state == 0:\n",
    "        return 'V'\n",
    "    elif state == 1:\n",
    "        return 'H'\n",
    "    elif state == 2:\n",
    "        return 'I'\n",
    "    elif state == 3:\n",
    "        return 'C'\n",
    "\n",
    "\n",
    "def calculate_transition_potentials(grid, alpha, weights_table, radius):\n",
    "    transition_potentials = np.zeros((grid.shape[0], grid.shape[1], 4))  # 4 possible states\n",
    "    transitions = ['Vacant_Commerce', 'Vacant_Industry', 'Vacant_Housing', 'Industry_Commerce', 'Industry_Industry',\n",
    "                   'Industry_Housing', 'Housing_Commerce', 'Housing_Industry', 'Housing_Housing']\n",
    "    \n",
    "    for i in range(grid.shape[0]):\n",
    "        for j in range(grid.shape[1]):\n",
    "            neighbourhood, distance_zones = get_neighbourhood(grid, i, j, radius)\n",
    "            for transition in transitions:\n",
    "                # Extract the current state and desired state from the transition string\n",
    "                current_state, desired_state = transition.split('_')\n",
    "                \n",
    "                current_state_num = cell_type_to_states(current_state)\n",
    "                desired_state_num = cell_type_to_states(desired_state)\n",
    "                \n",
    "            \n",
    "                if grid[i, j] == current_state_num:\n",
    "                    sum_weights = 0\n",
    "                    for neighbor_state, distance_zone in zip(neighbourhood, distance_zones):\n",
    "                        \n",
    "                        neighbor_type = states_to_cell_type(neighbor_state)\n",
    "                        \n",
    "                        m_kd = weights_table[transition][neighbor_type][distance_zone]\n",
    "\n",
    "                        if neighbor_state == desired_state_num:\n",
    "                            sum_weights += m_kd\n",
    "\n",
    "                    \n",
    "                    R = np.random.uniform(0, 1)\n",
    "                    S = 1 + (-math.log(R))**alpha\n",
    "                    transition_potentials[i, j, desired_state_num] = S * (1 + sum_weights)\n",
    "    return transition_potentials\n",
    "\n",
    "\n",
    "\n",
    "\n",
    "\n"
   ]
  },
  {
   "cell_type": "code",
   "execution_count": 5,
   "metadata": {
    "tags": []
   },
   "outputs": [
    {
     "name": "stdout",
     "output_type": "stream",
     "text": [
      "Transition Potentials:\n",
      "[[[ 0.          0.          0.          0.        ]\n",
      "  [ 0.         22.63013499  1.02977137 11.16546024]\n",
      "  [ 0.          9.71931537  3.63686369  5.45980392]\n",
      "  [ 0.         13.05895791  1.26887499  3.63781328]\n",
      "  [ 0.          4.7057408   2.69914302  1.40374966]]\n",
      "\n",
      " [[ 0.          8.85102844  1.83567302 15.03050649]\n",
      "  [ 0.          1.03966477  6.15294196 62.39778042]\n",
      "  [ 0.          1.57998544  6.32123907  1.13746053]\n",
      "  [ 0.          1.66921756  6.10443466  1.55500874]\n",
      "  [ 0.         22.95241546  1.77587303  3.24728003]]\n",
      "\n",
      " [[ 0.         12.07297433  4.64039677 14.34058937]\n",
      "  [ 0.          2.41189247  6.6383884   3.22994538]\n",
      "  [ 0.          2.12796843  4.10546475  2.95399843]\n",
      "  [ 0.          1.46088835  6.54256363  3.73696895]\n",
      "  [ 0.         18.69358204  4.39779943  2.86306131]]\n",
      "\n",
      " [[ 0.          9.18311404  2.19965033  1.48672905]\n",
      "  [ 0.          1.52071362  7.99028072  1.2486464 ]\n",
      "  [ 0.          2.36461435  7.68606921  2.14303996]\n",
      "  [ 0.          1.30849092  5.95327577  1.19618926]\n",
      "  [ 0.          8.73743751  1.61864468  1.83754833]]\n",
      "\n",
      " [[ 0.          3.1401392   2.18127591  1.47883968]\n",
      "  [ 0.         16.8468855   1.11960055  1.10518776]\n",
      "  [ 0.          7.01129548  6.1423822   2.61847975]\n",
      "  [ 0.         11.17590678  1.7563678   2.51251377]\n",
      "  [ 0.          4.11106444  1.53611854  1.57614715]]]\n"
     ]
    }
   ],
   "source": [
    "test_grid = np.array([\n",
    "    [3, 0, 0, 0, 0],\n",
    "    [0, 1, 1, 1, 0],\n",
    "    [0, 1, 2, 1, 0],\n",
    "    [0, 1, 1, 1, 0],\n",
    "    [0, 0, 0, 0, 0],\n",
    "])\n",
    "\n",
    "\n",
    "alpha = 1\n",
    "\n",
    "transition_potentials_test = calculate_transition_potentials(test_grid, alpha, weights_table, 2)\n",
    "print(\"Transition Potentials:\")\n",
    "print(transition_potentials_test)\n",
    "\n",
    "\n"
   ]
  },
  {
   "cell_type": "code",
   "execution_count": 133,
   "metadata": {
    "tags": []
   },
   "outputs": [],
   "source": [
    "def run_simulation(grid, weights_table, alpha, growth_rates, radius, seed, num_iterations, plot = False):\n",
    "    np.random.seed(seed)\n",
    "    grid_size = grid.shape[0]\n",
    "    # initialize the arrays to keep track of\n",
    "    powlaw_vals = np.zeros([num_iterations, 13])\n",
    "\n",
    "    for iteration in range(num_iterations):\n",
    "        transition_potentials = calculate_transition_potentials(grid, alpha, weights_table, radius)\n",
    "\n",
    "        highest_potentials = {}\n",
    "        for i in range(grid_size):\n",
    "            for j in range(grid_size):\n",
    "                if grid[i, j] == states['V']:\n",
    "                    potential_states = ['H', 'I', 'C']\n",
    "                elif grid[i, j] == states['H']:\n",
    "                    potential_states = ['I', 'C']\n",
    "                elif grid[i, j] == states['I']:\n",
    "                    potential_states = ['C']\n",
    "                else:\n",
    "                    potential_states = []\n",
    "                    \n",
    "                if potential_states:\n",
    "                    highest_potentials[(i, j)] = max(potential_states, key=lambda state: transition_potentials[i, j, states[state]])\n",
    "\n",
    "        for new_state_key in sorted(states, key=lambda k: states[k], reverse=True):\n",
    "            new_state = states[new_state_key]\n",
    "            if new_state_key != 'V':\n",
    "                num_to_convert = int(grid_size * grid_size * growth_rates[new_state_key])\n",
    "                potential_cells = [(i, j) for i, j in highest_potentials.keys() if highest_potentials[(i, j)] == new_state_key]\n",
    "                potential_cells.sort(key=lambda cell: transition_potentials[cell[0], cell[1], states[highest_potentials[cell]]], reverse=True)\n",
    "                \n",
    "                for cell in potential_cells[:num_to_convert]:\n",
    "                    grid[cell] = new_state\n",
    "\n",
    "        # This is where you run and append the powlaw vals\n",
    "        clusters = run_clustering(grid)\n",
    "        powlaw = tests_power_law(clusters)\n",
    "        powlaw_vals[iteration] = powlaw\n",
    "        \n",
    "    if plot:\n",
    "        plt.figure(figsize=(10, 10))\n",
    "        cmap = plt.cm.colors.ListedColormap(['white', 'skyblue', 'grey', 'orange'])\n",
    "        plt.imshow(grid, cmap=cmap, origin='lower', vmin=0, vmax=3)\n",
    "        plt.colorbar(ticks=[0, 1, 2, 3], label='Land Use')\n",
    "        plt.title('Final Land Use')\n",
    "        plt.show()\n",
    "\n",
    "    return grid, powlaw_vals\n"
   ]
  },
  {
   "cell_type": "code",
   "execution_count": 134,
   "metadata": {
    "tags": []
   },
   "outputs": [
    {
     "name": "stdout",
     "output_type": "stream",
     "text": [
      "Calculating best minimal value for power law fit\n",
      "xmin progress: 75%\r"
     ]
    },
    {
     "name": "stderr",
     "output_type": "stream",
     "text": [
      "Assuming nested distributions\n"
     ]
    },
    {
     "name": "stdout",
     "output_type": "stream",
     "text": [
      "Calculating best minimal value for power law fit\n",
      "xmin progress: 80%\r"
     ]
    },
    {
     "name": "stderr",
     "output_type": "stream",
     "text": [
      "Assuming nested distributions\n"
     ]
    },
    {
     "name": "stdout",
     "output_type": "stream",
     "text": [
      "Calculating best minimal value for power law fit\n",
      "xmin progress: 80%\r"
     ]
    },
    {
     "name": "stderr",
     "output_type": "stream",
     "text": [
      "Assuming nested distributions\n"
     ]
    },
    {
     "name": "stdout",
     "output_type": "stream",
     "text": [
      "Calculating best minimal value for power law fit\n",
      "xmin progress: 87%\r"
     ]
    },
    {
     "name": "stderr",
     "output_type": "stream",
     "text": [
      "Assuming nested distributions\n"
     ]
    },
    {
     "name": "stdout",
     "output_type": "stream",
     "text": [
      "Calculating best minimal value for power law fit\n",
      "xmin progress: 85%\r"
     ]
    },
    {
     "name": "stderr",
     "output_type": "stream",
     "text": [
      "Assuming nested distributions\n",
      "/Users/andu/opt/anaconda3/lib/python3.9/site-packages/powerlaw.py:1570: RuntimeWarning: invalid value encountered in true_divide\n",
      "  return likelihoods/norm\n"
     ]
    },
    {
     "name": "stdout",
     "output_type": "stream",
     "text": [
      "Calculating best minimal value for power law fit\n",
      "xmin progress: 87%\r"
     ]
    },
    {
     "name": "stderr",
     "output_type": "stream",
     "text": [
      "Assuming nested distributions\n",
      "/Users/andu/opt/anaconda3/lib/python3.9/site-packages/powerlaw.py:1570: RuntimeWarning: invalid value encountered in true_divide\n",
      "  return likelihoods/norm\n"
     ]
    },
    {
     "name": "stdout",
     "output_type": "stream",
     "text": [
      "Calculating best minimal value for power law fit\n",
      "xmin progress: 90%\r"
     ]
    },
    {
     "name": "stderr",
     "output_type": "stream",
     "text": [
      "Assuming nested distributions\n",
      "/Users/andu/opt/anaconda3/lib/python3.9/site-packages/powerlaw.py:1570: RuntimeWarning: invalid value encountered in true_divide\n",
      "  return likelihoods/norm\n"
     ]
    },
    {
     "name": "stdout",
     "output_type": "stream",
     "text": [
      "Calculating best minimal value for power law fit\n",
      "xmin progress: 91%\r"
     ]
    },
    {
     "name": "stderr",
     "output_type": "stream",
     "text": [
      "Assuming nested distributions\n"
     ]
    },
    {
     "name": "stdout",
     "output_type": "stream",
     "text": [
      "Calculating best minimal value for power law fit\n",
      "xmin progress: 92%\r"
     ]
    },
    {
     "name": "stderr",
     "output_type": "stream",
     "text": [
      "Assuming nested distributions\n"
     ]
    },
    {
     "name": "stdout",
     "output_type": "stream",
     "text": [
      "Calculating best minimal value for power law fit\n",
      "xmin progress: 92%\r"
     ]
    },
    {
     "name": "stderr",
     "output_type": "stream",
     "text": [
      "Assuming nested distributions\n"
     ]
    },
    {
     "name": "stdout",
     "output_type": "stream",
     "text": [
      "Calculating best minimal value for power law fit\n",
      "xmin progress: 94%\r"
     ]
    },
    {
     "name": "stderr",
     "output_type": "stream",
     "text": [
      "Assuming nested distributions\n"
     ]
    },
    {
     "name": "stdout",
     "output_type": "stream",
     "text": [
      "Calculating best minimal value for power law fit\n",
      "xmin progress: 94%\r"
     ]
    },
    {
     "name": "stderr",
     "output_type": "stream",
     "text": [
      "Assuming nested distributions\n"
     ]
    },
    {
     "name": "stdout",
     "output_type": "stream",
     "text": [
      "Calculating best minimal value for power law fit\n",
      "xmin progress: 95%\r"
     ]
    },
    {
     "name": "stderr",
     "output_type": "stream",
     "text": [
      "Assuming nested distributions\n"
     ]
    },
    {
     "name": "stdout",
     "output_type": "stream",
     "text": [
      "Calculating best minimal value for power law fit\n",
      "xmin progress: 95%\r"
     ]
    },
    {
     "name": "stderr",
     "output_type": "stream",
     "text": [
      "Assuming nested distributions\n"
     ]
    },
    {
     "name": "stdout",
     "output_type": "stream",
     "text": [
      "Calculating best minimal value for power law fit\n",
      "xmin progress: 95%\r"
     ]
    },
    {
     "name": "stderr",
     "output_type": "stream",
     "text": [
      "Assuming nested distributions\n"
     ]
    },
    {
     "name": "stdout",
     "output_type": "stream",
     "text": [
      "Calculating best minimal value for power law fit\n",
      "xmin progress: 95%\r"
     ]
    },
    {
     "name": "stderr",
     "output_type": "stream",
     "text": [
      "Assuming nested distributions\n"
     ]
    },
    {
     "name": "stdout",
     "output_type": "stream",
     "text": [
      "Calculating best minimal value for power law fit\n",
      "xmin progress: 95%\r"
     ]
    },
    {
     "name": "stderr",
     "output_type": "stream",
     "text": [
      "Assuming nested distributions\n"
     ]
    },
    {
     "name": "stdout",
     "output_type": "stream",
     "text": [
      "Calculating best minimal value for power law fit\n",
      "xmin progress: 95%\r"
     ]
    },
    {
     "name": "stderr",
     "output_type": "stream",
     "text": [
      "Assuming nested distributions\n"
     ]
    },
    {
     "name": "stdout",
     "output_type": "stream",
     "text": [
      "Calculating best minimal value for power law fit\n",
      "xmin progress: 96%\r"
     ]
    },
    {
     "name": "stderr",
     "output_type": "stream",
     "text": [
      "Assuming nested distributions\n"
     ]
    },
    {
     "name": "stdout",
     "output_type": "stream",
     "text": [
      "Calculating best minimal value for power law fit\n",
      "xmin progress: 96%\r"
     ]
    },
    {
     "name": "stderr",
     "output_type": "stream",
     "text": [
      "Assuming nested distributions\n"
     ]
    },
    {
     "name": "stdout",
     "output_type": "stream",
     "text": [
      "Calculating best minimal value for power law fit\n",
      "xmin progress: 96%\r"
     ]
    },
    {
     "name": "stderr",
     "output_type": "stream",
     "text": [
      "Assuming nested distributions\n"
     ]
    },
    {
     "name": "stdout",
     "output_type": "stream",
     "text": [
      "Calculating best minimal value for power law fit\n",
      "xmin progress: 96%\r"
     ]
    },
    {
     "name": "stderr",
     "output_type": "stream",
     "text": [
      "Assuming nested distributions\n",
      "/Users/andu/opt/anaconda3/lib/python3.9/site-packages/powerlaw.py:1570: RuntimeWarning: invalid value encountered in true_divide\n",
      "  return likelihoods/norm\n"
     ]
    },
    {
     "name": "stdout",
     "output_type": "stream",
     "text": [
      "Calculating best minimal value for power law fit\n",
      "xmin progress: 96%\r"
     ]
    },
    {
     "name": "stderr",
     "output_type": "stream",
     "text": [
      "Assuming nested distributions\n"
     ]
    },
    {
     "name": "stdout",
     "output_type": "stream",
     "text": [
      "Calculating best minimal value for power law fit\n",
      "xmin progress: 96%\r"
     ]
    },
    {
     "name": "stderr",
     "output_type": "stream",
     "text": [
      "Assuming nested distributions\n"
     ]
    },
    {
     "name": "stdout",
     "output_type": "stream",
     "text": [
      "Calculating best minimal value for power law fit\n",
      "xmin progress: 96%\r"
     ]
    },
    {
     "name": "stderr",
     "output_type": "stream",
     "text": [
      "Assuming nested distributions\n"
     ]
    },
    {
     "name": "stdout",
     "output_type": "stream",
     "text": [
      "Calculating best minimal value for power law fit\n",
      "xmin progress: 96%\r"
     ]
    },
    {
     "name": "stderr",
     "output_type": "stream",
     "text": [
      "Assuming nested distributions\n"
     ]
    },
    {
     "name": "stdout",
     "output_type": "stream",
     "text": [
      "Calculating best minimal value for power law fit\n",
      "xmin progress: 96%\r"
     ]
    },
    {
     "name": "stderr",
     "output_type": "stream",
     "text": [
      "Assuming nested distributions\n"
     ]
    },
    {
     "name": "stdout",
     "output_type": "stream",
     "text": [
      "Calculating best minimal value for power law fit\n",
      "xmin progress: 96%\r"
     ]
    },
    {
     "name": "stderr",
     "output_type": "stream",
     "text": [
      "Assuming nested distributions\n"
     ]
    },
    {
     "name": "stdout",
     "output_type": "stream",
     "text": [
      "Calculating best minimal value for power law fit\n",
      "xmin progress: 96%\r"
     ]
    },
    {
     "name": "stderr",
     "output_type": "stream",
     "text": [
      "Assuming nested distributions\n"
     ]
    },
    {
     "name": "stdout",
     "output_type": "stream",
     "text": [
      "Calculating best minimal value for power law fit\n",
      "xmin progress: 96%\r"
     ]
    },
    {
     "name": "stderr",
     "output_type": "stream",
     "text": [
      "Assuming nested distributions\n",
      "/Users/andu/opt/anaconda3/lib/python3.9/site-packages/powerlaw.py:1570: RuntimeWarning: invalid value encountered in true_divide\n",
      "  return likelihoods/norm\n"
     ]
    },
    {
     "name": "stdout",
     "output_type": "stream",
     "text": [
      "Calculating best minimal value for power law fit\n",
      "xmin progress: 96%\r"
     ]
    },
    {
     "name": "stderr",
     "output_type": "stream",
     "text": [
      "Assuming nested distributions\n",
      "/Users/andu/opt/anaconda3/lib/python3.9/site-packages/powerlaw.py:1570: RuntimeWarning: invalid value encountered in true_divide\n",
      "  return likelihoods/norm\n"
     ]
    },
    {
     "name": "stdout",
     "output_type": "stream",
     "text": [
      "Calculating best minimal value for power law fit\n",
      "xmin progress: 96%\r"
     ]
    },
    {
     "name": "stderr",
     "output_type": "stream",
     "text": [
      "Assuming nested distributions\n",
      "/Users/andu/opt/anaconda3/lib/python3.9/site-packages/powerlaw.py:1570: RuntimeWarning: invalid value encountered in true_divide\n",
      "  return likelihoods/norm\n"
     ]
    },
    {
     "name": "stdout",
     "output_type": "stream",
     "text": [
      "Calculating best minimal value for power law fit\n",
      "xmin progress: 96%\r"
     ]
    },
    {
     "name": "stderr",
     "output_type": "stream",
     "text": [
      "Assuming nested distributions\n",
      "/Users/andu/opt/anaconda3/lib/python3.9/site-packages/powerlaw.py:1570: RuntimeWarning: invalid value encountered in true_divide\n",
      "  return likelihoods/norm\n"
     ]
    },
    {
     "name": "stdout",
     "output_type": "stream",
     "text": [
      "Calculating best minimal value for power law fit\n",
      "xmin progress: 95%\r"
     ]
    },
    {
     "name": "stderr",
     "output_type": "stream",
     "text": [
      "Assuming nested distributions\n",
      "/Users/andu/opt/anaconda3/lib/python3.9/site-packages/powerlaw.py:1570: RuntimeWarning: invalid value encountered in true_divide\n",
      "  return likelihoods/norm\n"
     ]
    },
    {
     "name": "stdout",
     "output_type": "stream",
     "text": [
      "Calculating best minimal value for power law fit\n",
      "xmin progress: 95%\r"
     ]
    },
    {
     "name": "stderr",
     "output_type": "stream",
     "text": [
      "Assuming nested distributions\n",
      "/Users/andu/opt/anaconda3/lib/python3.9/site-packages/powerlaw.py:1570: RuntimeWarning: invalid value encountered in true_divide\n",
      "  return likelihoods/norm\n"
     ]
    },
    {
     "name": "stdout",
     "output_type": "stream",
     "text": [
      "Calculating best minimal value for power law fit\n",
      "xmin progress: 95%\r"
     ]
    },
    {
     "name": "stderr",
     "output_type": "stream",
     "text": [
      "Assuming nested distributions\n",
      "/Users/andu/opt/anaconda3/lib/python3.9/site-packages/powerlaw.py:1570: RuntimeWarning: invalid value encountered in true_divide\n",
      "  return likelihoods/norm\n"
     ]
    },
    {
     "name": "stdout",
     "output_type": "stream",
     "text": [
      "Calculating best minimal value for power law fit\n",
      "xmin progress: 95%\r"
     ]
    },
    {
     "name": "stderr",
     "output_type": "stream",
     "text": [
      "Assuming nested distributions\n",
      "/Users/andu/opt/anaconda3/lib/python3.9/site-packages/powerlaw.py:1570: RuntimeWarning: invalid value encountered in true_divide\n",
      "  return likelihoods/norm\n"
     ]
    },
    {
     "name": "stdout",
     "output_type": "stream",
     "text": [
      "Calculating best minimal value for power law fit\n",
      "xmin progress: 96%\r"
     ]
    },
    {
     "name": "stderr",
     "output_type": "stream",
     "text": [
      "Assuming nested distributions\n",
      "/Users/andu/opt/anaconda3/lib/python3.9/site-packages/powerlaw.py:1570: RuntimeWarning: invalid value encountered in true_divide\n",
      "  return likelihoods/norm\n"
     ]
    },
    {
     "name": "stdout",
     "output_type": "stream",
     "text": [
      "Calculating best minimal value for power law fit\n",
      "xmin progress: 95%\r"
     ]
    },
    {
     "name": "stderr",
     "output_type": "stream",
     "text": [
      "Assuming nested distributions\n",
      "/Users/andu/opt/anaconda3/lib/python3.9/site-packages/powerlaw.py:1570: RuntimeWarning: invalid value encountered in true_divide\n",
      "  return likelihoods/norm\n"
     ]
    },
    {
     "name": "stdout",
     "output_type": "stream",
     "text": [
      "Calculating best minimal value for power law fit\n",
      "xmin progress: 95%\r"
     ]
    },
    {
     "name": "stderr",
     "output_type": "stream",
     "text": [
      "Assuming nested distributions\n",
      "/Users/andu/opt/anaconda3/lib/python3.9/site-packages/powerlaw.py:1570: RuntimeWarning: invalid value encountered in true_divide\n",
      "  return likelihoods/norm\n"
     ]
    },
    {
     "name": "stdout",
     "output_type": "stream",
     "text": [
      "Calculating best minimal value for power law fit\n",
      "xmin progress: 75%\r"
     ]
    },
    {
     "name": "stderr",
     "output_type": "stream",
     "text": [
      "Assuming nested distributions\n"
     ]
    },
    {
     "name": "stdout",
     "output_type": "stream",
     "text": [
      "Calculating best minimal value for power law fit\n",
      "xmin progress: 83%\r"
     ]
    },
    {
     "name": "stderr",
     "output_type": "stream",
     "text": [
      "Assuming nested distributions\n"
     ]
    },
    {
     "name": "stdout",
     "output_type": "stream",
     "text": [
      "Calculating best minimal value for power law fit\n",
      "xmin progress: 87%\r"
     ]
    },
    {
     "name": "stderr",
     "output_type": "stream",
     "text": [
      "Assuming nested distributions\n"
     ]
    },
    {
     "name": "stdout",
     "output_type": "stream",
     "text": [
      "Calculating best minimal value for power law fit\n",
      "xmin progress: 88%\r"
     ]
    },
    {
     "name": "stderr",
     "output_type": "stream",
     "text": [
      "Assuming nested distributions\n"
     ]
    },
    {
     "name": "stdout",
     "output_type": "stream",
     "text": [
      "Calculating best minimal value for power law fit\n",
      "xmin progress: 90%\r"
     ]
    },
    {
     "name": "stderr",
     "output_type": "stream",
     "text": [
      "Assuming nested distributions\n"
     ]
    },
    {
     "name": "stdout",
     "output_type": "stream",
     "text": [
      "Calculating best minimal value for power law fit\n",
      "xmin progress: 90%\r"
     ]
    },
    {
     "name": "stderr",
     "output_type": "stream",
     "text": [
      "Assuming nested distributions\n"
     ]
    },
    {
     "name": "stdout",
     "output_type": "stream",
     "text": [
      "Calculating best minimal value for power law fit\n",
      "xmin progress: 91%\r"
     ]
    },
    {
     "name": "stderr",
     "output_type": "stream",
     "text": [
      "Assuming nested distributions\n",
      "/Users/andu/opt/anaconda3/lib/python3.9/site-packages/powerlaw.py:1570: RuntimeWarning: invalid value encountered in true_divide\n",
      "  return likelihoods/norm\n"
     ]
    },
    {
     "name": "stdout",
     "output_type": "stream",
     "text": [
      "Calculating best minimal value for power law fit\n",
      "xmin progress: 93%\r"
     ]
    },
    {
     "name": "stderr",
     "output_type": "stream",
     "text": [
      "Assuming nested distributions\n"
     ]
    },
    {
     "name": "stdout",
     "output_type": "stream",
     "text": [
      "Calculating best minimal value for power law fit\n",
      "xmin progress: 93%\r"
     ]
    },
    {
     "name": "stderr",
     "output_type": "stream",
     "text": [
      "Assuming nested distributions\n"
     ]
    },
    {
     "name": "stdout",
     "output_type": "stream",
     "text": [
      "Calculating best minimal value for power law fit\n",
      "xmin progress: 94%\r"
     ]
    },
    {
     "name": "stderr",
     "output_type": "stream",
     "text": [
      "Assuming nested distributions\n"
     ]
    },
    {
     "name": "stdout",
     "output_type": "stream",
     "text": [
      "Calculating best minimal value for power law fit\n",
      "xmin progress: 94%\r"
     ]
    },
    {
     "name": "stderr",
     "output_type": "stream",
     "text": [
      "Assuming nested distributions\n"
     ]
    },
    {
     "name": "stdout",
     "output_type": "stream",
     "text": [
      "Calculating best minimal value for power law fit\n",
      "xmin progress: 94%\r"
     ]
    },
    {
     "name": "stderr",
     "output_type": "stream",
     "text": [
      "Assuming nested distributions\n"
     ]
    },
    {
     "name": "stdout",
     "output_type": "stream",
     "text": [
      "Calculating best minimal value for power law fit\n",
      "xmin progress: 95%\r"
     ]
    },
    {
     "name": "stderr",
     "output_type": "stream",
     "text": [
      "Assuming nested distributions\n"
     ]
    },
    {
     "name": "stdout",
     "output_type": "stream",
     "text": [
      "Calculating best minimal value for power law fit\n",
      "xmin progress: 96%\r"
     ]
    },
    {
     "name": "stderr",
     "output_type": "stream",
     "text": [
      "Assuming nested distributions\n"
     ]
    },
    {
     "name": "stdout",
     "output_type": "stream",
     "text": [
      "Calculating best minimal value for power law fit\n",
      "xmin progress: 96%\r"
     ]
    },
    {
     "name": "stderr",
     "output_type": "stream",
     "text": [
      "Assuming nested distributions\n"
     ]
    },
    {
     "name": "stdout",
     "output_type": "stream",
     "text": [
      "Calculating best minimal value for power law fit\n",
      "xmin progress: 96%\r"
     ]
    },
    {
     "name": "stderr",
     "output_type": "stream",
     "text": [
      "Assuming nested distributions\n"
     ]
    },
    {
     "name": "stdout",
     "output_type": "stream",
     "text": [
      "Calculating best minimal value for power law fit\n",
      "xmin progress: 96%\r"
     ]
    },
    {
     "name": "stderr",
     "output_type": "stream",
     "text": [
      "Assuming nested distributions\n"
     ]
    },
    {
     "name": "stdout",
     "output_type": "stream",
     "text": [
      "Calculating best minimal value for power law fit\n",
      "xmin progress: 95%\r"
     ]
    },
    {
     "name": "stderr",
     "output_type": "stream",
     "text": [
      "Assuming nested distributions\n",
      "/Users/andu/opt/anaconda3/lib/python3.9/site-packages/powerlaw.py:1570: RuntimeWarning: invalid value encountered in true_divide\n",
      "  return likelihoods/norm\n"
     ]
    },
    {
     "name": "stdout",
     "output_type": "stream",
     "text": [
      "Calculating best minimal value for power law fit\n",
      "xmin progress: 96%\r"
     ]
    },
    {
     "name": "stderr",
     "output_type": "stream",
     "text": [
      "Assuming nested distributions\n"
     ]
    },
    {
     "name": "stdout",
     "output_type": "stream",
     "text": [
      "Calculating best minimal value for power law fit\n",
      "xmin progress: 96%\r"
     ]
    },
    {
     "name": "stderr",
     "output_type": "stream",
     "text": [
      "Assuming nested distributions\n"
     ]
    },
    {
     "name": "stdout",
     "output_type": "stream",
     "text": [
      "Calculating best minimal value for power law fit\n",
      "xmin progress: 96%\r"
     ]
    },
    {
     "name": "stderr",
     "output_type": "stream",
     "text": [
      "Assuming nested distributions\n",
      "/Users/andu/opt/anaconda3/lib/python3.9/site-packages/powerlaw.py:1570: RuntimeWarning: invalid value encountered in true_divide\n",
      "  return likelihoods/norm\n"
     ]
    },
    {
     "name": "stdout",
     "output_type": "stream",
     "text": [
      "Calculating best minimal value for power law fit\n",
      "xmin progress: 96%\r"
     ]
    },
    {
     "name": "stderr",
     "output_type": "stream",
     "text": [
      "Assuming nested distributions\n"
     ]
    },
    {
     "name": "stdout",
     "output_type": "stream",
     "text": [
      "Calculating best minimal value for power law fit\n",
      "xmin progress: 96%\r"
     ]
    },
    {
     "name": "stderr",
     "output_type": "stream",
     "text": [
      "Assuming nested distributions\n"
     ]
    },
    {
     "name": "stdout",
     "output_type": "stream",
     "text": [
      "Calculating best minimal value for power law fit\n",
      "xmin progress: 96%\r"
     ]
    },
    {
     "name": "stderr",
     "output_type": "stream",
     "text": [
      "Assuming nested distributions\n",
      "/Users/andu/opt/anaconda3/lib/python3.9/site-packages/powerlaw.py:1570: RuntimeWarning: invalid value encountered in true_divide\n",
      "  return likelihoods/norm\n"
     ]
    },
    {
     "name": "stdout",
     "output_type": "stream",
     "text": [
      "Calculating best minimal value for power law fit\n",
      "xmin progress: 96%\r"
     ]
    },
    {
     "name": "stderr",
     "output_type": "stream",
     "text": [
      "Assuming nested distributions\n",
      "/Users/andu/opt/anaconda3/lib/python3.9/site-packages/powerlaw.py:1570: RuntimeWarning: invalid value encountered in true_divide\n",
      "  return likelihoods/norm\n"
     ]
    },
    {
     "name": "stdout",
     "output_type": "stream",
     "text": [
      "Calculating best minimal value for power law fit\n",
      "xmin progress: 96%\r"
     ]
    },
    {
     "name": "stderr",
     "output_type": "stream",
     "text": [
      "Assuming nested distributions\n"
     ]
    },
    {
     "name": "stdout",
     "output_type": "stream",
     "text": [
      "Calculating best minimal value for power law fit\n",
      "xmin progress: 96%\r"
     ]
    },
    {
     "name": "stderr",
     "output_type": "stream",
     "text": [
      "Assuming nested distributions\n"
     ]
    },
    {
     "name": "stdout",
     "output_type": "stream",
     "text": [
      "Calculating best minimal value for power law fit\n",
      "xmin progress: 96%\r"
     ]
    },
    {
     "name": "stderr",
     "output_type": "stream",
     "text": [
      "Assuming nested distributions\n"
     ]
    },
    {
     "name": "stdout",
     "output_type": "stream",
     "text": [
      "Calculating best minimal value for power law fit\n",
      "xmin progress: 96%\r"
     ]
    },
    {
     "name": "stderr",
     "output_type": "stream",
     "text": [
      "Assuming nested distributions\n"
     ]
    },
    {
     "name": "stdout",
     "output_type": "stream",
     "text": [
      "Calculating best minimal value for power law fit\n",
      "xmin progress: 96%\r"
     ]
    },
    {
     "name": "stderr",
     "output_type": "stream",
     "text": [
      "Assuming nested distributions\n",
      "/Users/andu/opt/anaconda3/lib/python3.9/site-packages/powerlaw.py:1570: RuntimeWarning: invalid value encountered in true_divide\n",
      "  return likelihoods/norm\n"
     ]
    },
    {
     "name": "stdout",
     "output_type": "stream",
     "text": [
      "Calculating best minimal value for power law fit\n",
      "xmin progress: 96%\r"
     ]
    },
    {
     "name": "stderr",
     "output_type": "stream",
     "text": [
      "Assuming nested distributions\n"
     ]
    },
    {
     "name": "stdout",
     "output_type": "stream",
     "text": [
      "Calculating best minimal value for power law fit\n",
      "xmin progress: 96%\r"
     ]
    },
    {
     "name": "stderr",
     "output_type": "stream",
     "text": [
      "Assuming nested distributions\n"
     ]
    },
    {
     "name": "stdout",
     "output_type": "stream",
     "text": [
      "Calculating best minimal value for power law fit\n",
      "xmin progress: 96%\r"
     ]
    },
    {
     "name": "stderr",
     "output_type": "stream",
     "text": [
      "Assuming nested distributions\n",
      "/Users/andu/opt/anaconda3/lib/python3.9/site-packages/powerlaw.py:1570: RuntimeWarning: invalid value encountered in true_divide\n",
      "  return likelihoods/norm\n"
     ]
    },
    {
     "name": "stdout",
     "output_type": "stream",
     "text": [
      "Calculating best minimal value for power law fit\n",
      "xmin progress: 96%\r"
     ]
    },
    {
     "name": "stderr",
     "output_type": "stream",
     "text": [
      "Assuming nested distributions\n"
     ]
    },
    {
     "name": "stdout",
     "output_type": "stream",
     "text": [
      "Calculating best minimal value for power law fit\n",
      "xmin progress: 96%\r"
     ]
    },
    {
     "name": "stderr",
     "output_type": "stream",
     "text": [
      "Assuming nested distributions\n",
      "/Users/andu/opt/anaconda3/lib/python3.9/site-packages/powerlaw.py:1570: RuntimeWarning: invalid value encountered in true_divide\n",
      "  return likelihoods/norm\n"
     ]
    },
    {
     "name": "stdout",
     "output_type": "stream",
     "text": [
      "Calculating best minimal value for power law fit\n",
      "xmin progress: 96%\r"
     ]
    },
    {
     "name": "stderr",
     "output_type": "stream",
     "text": [
      "Assuming nested distributions\n",
      "/Users/andu/opt/anaconda3/lib/python3.9/site-packages/powerlaw.py:1570: RuntimeWarning: invalid value encountered in true_divide\n",
      "  return likelihoods/norm\n"
     ]
    },
    {
     "name": "stdout",
     "output_type": "stream",
     "text": [
      "Calculating best minimal value for power law fit\n",
      "xmin progress: 96%\r"
     ]
    },
    {
     "name": "stderr",
     "output_type": "stream",
     "text": [
      "Assuming nested distributions\n",
      "/Users/andu/opt/anaconda3/lib/python3.9/site-packages/powerlaw.py:1570: RuntimeWarning: invalid value encountered in true_divide\n",
      "  return likelihoods/norm\n"
     ]
    },
    {
     "name": "stdout",
     "output_type": "stream",
     "text": [
      "Calculating best minimal value for power law fit\n",
      "xmin progress: 95%\r"
     ]
    },
    {
     "name": "stderr",
     "output_type": "stream",
     "text": [
      "Assuming nested distributions\n",
      "/Users/andu/opt/anaconda3/lib/python3.9/site-packages/powerlaw.py:1570: RuntimeWarning: invalid value encountered in true_divide\n",
      "  return likelihoods/norm\n"
     ]
    },
    {
     "name": "stdout",
     "output_type": "stream",
     "text": [
      "Calculating best minimal value for power law fit\n",
      "xmin progress: 95%\r"
     ]
    },
    {
     "name": "stderr",
     "output_type": "stream",
     "text": [
      "Assuming nested distributions\n",
      "/Users/andu/opt/anaconda3/lib/python3.9/site-packages/powerlaw.py:1570: RuntimeWarning: invalid value encountered in true_divide\n",
      "  return likelihoods/norm\n"
     ]
    },
    {
     "name": "stdout",
     "output_type": "stream",
     "text": [
      "Calculating best minimal value for power law fit\n",
      "xmin progress: 94%\r"
     ]
    },
    {
     "name": "stderr",
     "output_type": "stream",
     "text": [
      "Assuming nested distributions\n",
      "/Users/andu/opt/anaconda3/lib/python3.9/site-packages/powerlaw.py:1570: RuntimeWarning: invalid value encountered in true_divide\n",
      "  return likelihoods/norm\n"
     ]
    },
    {
     "name": "stdout",
     "output_type": "stream",
     "text": [
      "Calculating best minimal value for power law fit\n",
      "xmin progress: 75%\r"
     ]
    },
    {
     "name": "stderr",
     "output_type": "stream",
     "text": [
      "Assuming nested distributions\n"
     ]
    },
    {
     "name": "stdout",
     "output_type": "stream",
     "text": [
      "Calculating best minimal value for power law fit\n",
      "xmin progress: 75%\r"
     ]
    },
    {
     "name": "stderr",
     "output_type": "stream",
     "text": [
      "Assuming nested distributions\n"
     ]
    },
    {
     "name": "stdout",
     "output_type": "stream",
     "text": [
      "Calculating best minimal value for power law fit\n",
      "xmin progress: 83%\r"
     ]
    },
    {
     "name": "stderr",
     "output_type": "stream",
     "text": [
      "Assuming nested distributions\n"
     ]
    },
    {
     "name": "stdout",
     "output_type": "stream",
     "text": [
      "Calculating best minimal value for power law fit\n",
      "xmin progress: 85%\r"
     ]
    },
    {
     "name": "stderr",
     "output_type": "stream",
     "text": [
      "Assuming nested distributions\n",
      "/Users/andu/opt/anaconda3/lib/python3.9/site-packages/powerlaw.py:1570: RuntimeWarning: invalid value encountered in true_divide\n",
      "  return likelihoods/norm\n"
     ]
    },
    {
     "name": "stdout",
     "output_type": "stream",
     "text": [
      "Calculating best minimal value for power law fit\n",
      "xmin progress: 88%\r"
     ]
    },
    {
     "name": "stderr",
     "output_type": "stream",
     "text": [
      "Assuming nested distributions\n"
     ]
    },
    {
     "name": "stdout",
     "output_type": "stream",
     "text": [
      "Calculating best minimal value for power law fit\n",
      "xmin progress: 91%\r"
     ]
    },
    {
     "name": "stderr",
     "output_type": "stream",
     "text": [
      "Assuming nested distributions\n"
     ]
    },
    {
     "name": "stdout",
     "output_type": "stream",
     "text": [
      "Calculating best minimal value for power law fit\n",
      "xmin progress: 91%\r"
     ]
    },
    {
     "name": "stderr",
     "output_type": "stream",
     "text": [
      "Assuming nested distributions\n"
     ]
    },
    {
     "name": "stdout",
     "output_type": "stream",
     "text": [
      "Calculating best minimal value for power law fit\n",
      "xmin progress: 92%\r"
     ]
    },
    {
     "name": "stderr",
     "output_type": "stream",
     "text": [
      "Assuming nested distributions\n"
     ]
    },
    {
     "name": "stdout",
     "output_type": "stream",
     "text": [
      "Calculating best minimal value for power law fit\n",
      "xmin progress: 93%\r"
     ]
    },
    {
     "name": "stderr",
     "output_type": "stream",
     "text": [
      "Assuming nested distributions\n"
     ]
    },
    {
     "name": "stdout",
     "output_type": "stream",
     "text": [
      "Calculating best minimal value for power law fit\n",
      "xmin progress: 94%\r"
     ]
    },
    {
     "name": "stderr",
     "output_type": "stream",
     "text": [
      "Assuming nested distributions\n"
     ]
    },
    {
     "name": "stdout",
     "output_type": "stream",
     "text": [
      "Calculating best minimal value for power law fit\n",
      "xmin progress: 95%\r"
     ]
    },
    {
     "name": "stderr",
     "output_type": "stream",
     "text": [
      "Assuming nested distributions\n"
     ]
    },
    {
     "name": "stdout",
     "output_type": "stream",
     "text": [
      "Calculating best minimal value for power law fit\n",
      "xmin progress: 95%\r"
     ]
    },
    {
     "name": "stderr",
     "output_type": "stream",
     "text": [
      "Assuming nested distributions\n"
     ]
    },
    {
     "name": "stdout",
     "output_type": "stream",
     "text": [
      "Calculating best minimal value for power law fit\n",
      "xmin progress: 95%\r"
     ]
    },
    {
     "name": "stderr",
     "output_type": "stream",
     "text": [
      "Assuming nested distributions\n"
     ]
    },
    {
     "name": "stdout",
     "output_type": "stream",
     "text": [
      "Calculating best minimal value for power law fit\n",
      "xmin progress: 95%\r"
     ]
    },
    {
     "name": "stderr",
     "output_type": "stream",
     "text": [
      "Assuming nested distributions\n"
     ]
    },
    {
     "name": "stdout",
     "output_type": "stream",
     "text": [
      "Calculating best minimal value for power law fit\n",
      "xmin progress: 95%\r"
     ]
    },
    {
     "name": "stderr",
     "output_type": "stream",
     "text": [
      "Assuming nested distributions\n"
     ]
    },
    {
     "name": "stdout",
     "output_type": "stream",
     "text": [
      "Calculating best minimal value for power law fit\n",
      "xmin progress: 96%\r"
     ]
    },
    {
     "name": "stderr",
     "output_type": "stream",
     "text": [
      "Assuming nested distributions\n"
     ]
    },
    {
     "name": "stdout",
     "output_type": "stream",
     "text": [
      "Calculating best minimal value for power law fit\n",
      "xmin progress: 96%\r"
     ]
    },
    {
     "name": "stderr",
     "output_type": "stream",
     "text": [
      "Assuming nested distributions\n"
     ]
    },
    {
     "name": "stdout",
     "output_type": "stream",
     "text": [
      "Calculating best minimal value for power law fit\n",
      "xmin progress: 95%\r"
     ]
    },
    {
     "name": "stderr",
     "output_type": "stream",
     "text": [
      "Assuming nested distributions\n"
     ]
    },
    {
     "name": "stdout",
     "output_type": "stream",
     "text": [
      "Calculating best minimal value for power law fit\n",
      "xmin progress: 96%\r"
     ]
    },
    {
     "name": "stderr",
     "output_type": "stream",
     "text": [
      "Assuming nested distributions\n"
     ]
    },
    {
     "name": "stdout",
     "output_type": "stream",
     "text": [
      "Calculating best minimal value for power law fit\n",
      "xmin progress: 96%\r"
     ]
    },
    {
     "name": "stderr",
     "output_type": "stream",
     "text": [
      "Assuming nested distributions\n"
     ]
    },
    {
     "name": "stdout",
     "output_type": "stream",
     "text": [
      "Calculating best minimal value for power law fit\n",
      "xmin progress: 96%\r"
     ]
    },
    {
     "name": "stderr",
     "output_type": "stream",
     "text": [
      "Assuming nested distributions\n"
     ]
    },
    {
     "name": "stdout",
     "output_type": "stream",
     "text": [
      "Calculating best minimal value for power law fit\n",
      "xmin progress: 96%\r"
     ]
    },
    {
     "name": "stderr",
     "output_type": "stream",
     "text": [
      "Assuming nested distributions\n"
     ]
    },
    {
     "name": "stdout",
     "output_type": "stream",
     "text": [
      "Calculating best minimal value for power law fit\n",
      "xmin progress: 96%\r"
     ]
    },
    {
     "name": "stderr",
     "output_type": "stream",
     "text": [
      "Assuming nested distributions\n"
     ]
    },
    {
     "name": "stdout",
     "output_type": "stream",
     "text": [
      "Calculating best minimal value for power law fit\n",
      "xmin progress: 96%\r"
     ]
    },
    {
     "name": "stderr",
     "output_type": "stream",
     "text": [
      "Assuming nested distributions\n",
      "/Users/andu/opt/anaconda3/lib/python3.9/site-packages/powerlaw.py:1570: RuntimeWarning: invalid value encountered in true_divide\n",
      "  return likelihoods/norm\n"
     ]
    },
    {
     "name": "stdout",
     "output_type": "stream",
     "text": [
      "Calculating best minimal value for power law fit\n",
      "xmin progress: 96%\r"
     ]
    },
    {
     "name": "stderr",
     "output_type": "stream",
     "text": [
      "Assuming nested distributions\n",
      "/Users/andu/opt/anaconda3/lib/python3.9/site-packages/powerlaw.py:1570: RuntimeWarning: invalid value encountered in true_divide\n",
      "  return likelihoods/norm\n"
     ]
    },
    {
     "name": "stdout",
     "output_type": "stream",
     "text": [
      "Calculating best minimal value for power law fit\n",
      "xmin progress: 96%\r"
     ]
    },
    {
     "name": "stderr",
     "output_type": "stream",
     "text": [
      "Assuming nested distributions\n",
      "/Users/andu/opt/anaconda3/lib/python3.9/site-packages/powerlaw.py:1570: RuntimeWarning: invalid value encountered in true_divide\n",
      "  return likelihoods/norm\n"
     ]
    },
    {
     "name": "stdout",
     "output_type": "stream",
     "text": [
      "Calculating best minimal value for power law fit\n",
      "xmin progress: 95%\r"
     ]
    },
    {
     "name": "stderr",
     "output_type": "stream",
     "text": [
      "Assuming nested distributions\n",
      "/Users/andu/opt/anaconda3/lib/python3.9/site-packages/powerlaw.py:1570: RuntimeWarning: invalid value encountered in true_divide\n",
      "  return likelihoods/norm\n"
     ]
    },
    {
     "name": "stdout",
     "output_type": "stream",
     "text": [
      "Calculating best minimal value for power law fit\n",
      "xmin progress: 96%\r"
     ]
    },
    {
     "name": "stderr",
     "output_type": "stream",
     "text": [
      "Assuming nested distributions\n",
      "/Users/andu/opt/anaconda3/lib/python3.9/site-packages/powerlaw.py:1570: RuntimeWarning: invalid value encountered in true_divide\n",
      "  return likelihoods/norm\n"
     ]
    },
    {
     "name": "stdout",
     "output_type": "stream",
     "text": [
      "Calculating best minimal value for power law fit\n",
      "xmin progress: 95%\r"
     ]
    },
    {
     "name": "stderr",
     "output_type": "stream",
     "text": [
      "Assuming nested distributions\n",
      "/Users/andu/opt/anaconda3/lib/python3.9/site-packages/powerlaw.py:1570: RuntimeWarning: invalid value encountered in true_divide\n",
      "  return likelihoods/norm\n"
     ]
    },
    {
     "name": "stdout",
     "output_type": "stream",
     "text": [
      "Calculating best minimal value for power law fit\n",
      "xmin progress: 95%\r"
     ]
    },
    {
     "name": "stderr",
     "output_type": "stream",
     "text": [
      "Assuming nested distributions\n",
      "/Users/andu/opt/anaconda3/lib/python3.9/site-packages/powerlaw.py:1570: RuntimeWarning: invalid value encountered in true_divide\n",
      "  return likelihoods/norm\n"
     ]
    },
    {
     "name": "stdout",
     "output_type": "stream",
     "text": [
      "Calculating best minimal value for power law fit\n",
      "xmin progress: 95%\r"
     ]
    },
    {
     "name": "stderr",
     "output_type": "stream",
     "text": [
      "Assuming nested distributions\n",
      "/Users/andu/opt/anaconda3/lib/python3.9/site-packages/powerlaw.py:1570: RuntimeWarning: invalid value encountered in true_divide\n",
      "  return likelihoods/norm\n"
     ]
    },
    {
     "name": "stdout",
     "output_type": "stream",
     "text": [
      "Calculating best minimal value for power law fit\n",
      "xmin progress: 94%\r"
     ]
    },
    {
     "name": "stderr",
     "output_type": "stream",
     "text": [
      "Assuming nested distributions\n",
      "/Users/andu/opt/anaconda3/lib/python3.9/site-packages/powerlaw.py:1570: RuntimeWarning: invalid value encountered in true_divide\n",
      "  return likelihoods/norm\n"
     ]
    },
    {
     "name": "stdout",
     "output_type": "stream",
     "text": [
      "Calculating best minimal value for power law fit\n",
      "xmin progress: 93%\r"
     ]
    },
    {
     "name": "stderr",
     "output_type": "stream",
     "text": [
      "Assuming nested distributions\n",
      "/Users/andu/opt/anaconda3/lib/python3.9/site-packages/powerlaw.py:1570: RuntimeWarning: invalid value encountered in true_divide\n",
      "  return likelihoods/norm\n"
     ]
    },
    {
     "name": "stdout",
     "output_type": "stream",
     "text": [
      "Calculating best minimal value for power law fit\n",
      "xmin progress: 94%\r"
     ]
    },
    {
     "name": "stderr",
     "output_type": "stream",
     "text": [
      "Assuming nested distributions\n",
      "/Users/andu/opt/anaconda3/lib/python3.9/site-packages/powerlaw.py:1570: RuntimeWarning: invalid value encountered in true_divide\n",
      "  return likelihoods/norm\n"
     ]
    },
    {
     "name": "stdout",
     "output_type": "stream",
     "text": [
      "Calculating best minimal value for power law fit\n",
      "xmin progress: 94%\r"
     ]
    },
    {
     "name": "stderr",
     "output_type": "stream",
     "text": [
      "Assuming nested distributions\n",
      "/Users/andu/opt/anaconda3/lib/python3.9/site-packages/powerlaw.py:1570: RuntimeWarning: invalid value encountered in true_divide\n",
      "  return likelihoods/norm\n"
     ]
    },
    {
     "name": "stdout",
     "output_type": "stream",
     "text": [
      "Calculating best minimal value for power law fit\n",
      "xmin progress: 94%\r"
     ]
    },
    {
     "name": "stderr",
     "output_type": "stream",
     "text": [
      "Assuming nested distributions\n",
      "/Users/andu/opt/anaconda3/lib/python3.9/site-packages/powerlaw.py:1570: RuntimeWarning: invalid value encountered in true_divide\n",
      "  return likelihoods/norm\n"
     ]
    },
    {
     "name": "stdout",
     "output_type": "stream",
     "text": [
      "Calculating best minimal value for power law fit\n",
      "xmin progress: 94%\r"
     ]
    },
    {
     "name": "stderr",
     "output_type": "stream",
     "text": [
      "Assuming nested distributions\n",
      "/Users/andu/opt/anaconda3/lib/python3.9/site-packages/powerlaw.py:1570: RuntimeWarning: invalid value encountered in true_divide\n",
      "  return likelihoods/norm\n"
     ]
    },
    {
     "name": "stdout",
     "output_type": "stream",
     "text": [
      "Calculating best minimal value for power law fit\n",
      "xmin progress: 93%\r"
     ]
    },
    {
     "name": "stderr",
     "output_type": "stream",
     "text": [
      "Assuming nested distributions\n"
     ]
    },
    {
     "name": "stdout",
     "output_type": "stream",
     "text": [
      "Calculating best minimal value for power law fit\n",
      "xmin progress: 94%\r"
     ]
    },
    {
     "name": "stderr",
     "output_type": "stream",
     "text": [
      "Assuming nested distributions\n"
     ]
    },
    {
     "name": "stdout",
     "output_type": "stream",
     "text": [
      "Calculating best minimal value for power law fit\n",
      "xmin progress: 94%\r"
     ]
    },
    {
     "name": "stderr",
     "output_type": "stream",
     "text": [
      "Assuming nested distributions\n"
     ]
    },
    {
     "name": "stdout",
     "output_type": "stream",
     "text": [
      "Calculating best minimal value for power law fit\n",
      "xmin progress: 80%\r"
     ]
    },
    {
     "name": "stderr",
     "output_type": "stream",
     "text": [
      "Assuming nested distributions\n"
     ]
    },
    {
     "name": "stdout",
     "output_type": "stream",
     "text": [
      "Calculating best minimal value for power law fit\n",
      "xmin progress: 80%\r"
     ]
    },
    {
     "name": "stderr",
     "output_type": "stream",
     "text": [
      "Assuming nested distributions\n",
      "/Users/andu/opt/anaconda3/lib/python3.9/site-packages/powerlaw.py:1570: RuntimeWarning: invalid value encountered in true_divide\n",
      "  return likelihoods/norm\n"
     ]
    },
    {
     "name": "stdout",
     "output_type": "stream",
     "text": [
      "Calculating best minimal value for power law fit\n",
      "xmin progress: 80%\r"
     ]
    },
    {
     "name": "stderr",
     "output_type": "stream",
     "text": [
      "Assuming nested distributions\n",
      "/Users/andu/opt/anaconda3/lib/python3.9/site-packages/powerlaw.py:1570: RuntimeWarning: invalid value encountered in true_divide\n",
      "  return likelihoods/norm\n"
     ]
    },
    {
     "name": "stdout",
     "output_type": "stream",
     "text": [
      "Calculating best minimal value for power law fit\n",
      "xmin progress: 87%\r"
     ]
    },
    {
     "name": "stderr",
     "output_type": "stream",
     "text": [
      "Assuming nested distributions\n",
      "/Users/andu/opt/anaconda3/lib/python3.9/site-packages/powerlaw.py:1570: RuntimeWarning: invalid value encountered in true_divide\n",
      "  return likelihoods/norm\n"
     ]
    },
    {
     "name": "stdout",
     "output_type": "stream",
     "text": [
      "Calculating best minimal value for power law fit\n",
      "xmin progress: 88%\r"
     ]
    },
    {
     "name": "stderr",
     "output_type": "stream",
     "text": [
      "Assuming nested distributions\n"
     ]
    },
    {
     "name": "stdout",
     "output_type": "stream",
     "text": [
      "Calculating best minimal value for power law fit\n",
      "xmin progress: 90%\r"
     ]
    },
    {
     "name": "stderr",
     "output_type": "stream",
     "text": [
      "Assuming nested distributions\n"
     ]
    },
    {
     "name": "stdout",
     "output_type": "stream",
     "text": [
      "Calculating best minimal value for power law fit\n",
      "xmin progress: 92%\r"
     ]
    },
    {
     "name": "stderr",
     "output_type": "stream",
     "text": [
      "Assuming nested distributions\n"
     ]
    },
    {
     "name": "stdout",
     "output_type": "stream",
     "text": [
      "Calculating best minimal value for power law fit\n",
      "xmin progress: 93%\r"
     ]
    },
    {
     "name": "stderr",
     "output_type": "stream",
     "text": [
      "Assuming nested distributions\n"
     ]
    },
    {
     "name": "stdout",
     "output_type": "stream",
     "text": [
      "Calculating best minimal value for power law fit\n",
      "xmin progress: 94%\r"
     ]
    },
    {
     "name": "stderr",
     "output_type": "stream",
     "text": [
      "Assuming nested distributions\n"
     ]
    },
    {
     "name": "stdout",
     "output_type": "stream",
     "text": [
      "Calculating best minimal value for power law fit\n",
      "xmin progress: 94%\r"
     ]
    },
    {
     "name": "stderr",
     "output_type": "stream",
     "text": [
      "Assuming nested distributions\n"
     ]
    },
    {
     "name": "stdout",
     "output_type": "stream",
     "text": [
      "Calculating best minimal value for power law fit\n",
      "xmin progress: 95%\r"
     ]
    },
    {
     "name": "stderr",
     "output_type": "stream",
     "text": [
      "Assuming nested distributions\n"
     ]
    },
    {
     "name": "stdout",
     "output_type": "stream",
     "text": [
      "Calculating best minimal value for power law fit\n",
      "xmin progress: 95%\r"
     ]
    },
    {
     "name": "stderr",
     "output_type": "stream",
     "text": [
      "Assuming nested distributions\n"
     ]
    },
    {
     "name": "stdout",
     "output_type": "stream",
     "text": [
      "Calculating best minimal value for power law fit\n",
      "xmin progress: 95%\r"
     ]
    },
    {
     "name": "stderr",
     "output_type": "stream",
     "text": [
      "Assuming nested distributions\n"
     ]
    },
    {
     "name": "stdout",
     "output_type": "stream",
     "text": [
      "Calculating best minimal value for power law fit\n",
      "xmin progress: 95%\r"
     ]
    },
    {
     "name": "stderr",
     "output_type": "stream",
     "text": [
      "Assuming nested distributions\n"
     ]
    },
    {
     "name": "stdout",
     "output_type": "stream",
     "text": [
      "Calculating best minimal value for power law fit\n",
      "xmin progress: 96%\r"
     ]
    },
    {
     "name": "stderr",
     "output_type": "stream",
     "text": [
      "Assuming nested distributions\n"
     ]
    },
    {
     "name": "stdout",
     "output_type": "stream",
     "text": [
      "Calculating best minimal value for power law fit\n",
      "xmin progress: 96%\r"
     ]
    },
    {
     "name": "stderr",
     "output_type": "stream",
     "text": [
      "Assuming nested distributions\n",
      "/Users/andu/opt/anaconda3/lib/python3.9/site-packages/powerlaw.py:1570: RuntimeWarning: invalid value encountered in true_divide\n",
      "  return likelihoods/norm\n"
     ]
    },
    {
     "name": "stdout",
     "output_type": "stream",
     "text": [
      "Calculating best minimal value for power law fit\n",
      "xmin progress: 95%\r"
     ]
    },
    {
     "name": "stderr",
     "output_type": "stream",
     "text": [
      "Assuming nested distributions\n"
     ]
    },
    {
     "name": "stdout",
     "output_type": "stream",
     "text": [
      "Calculating best minimal value for power law fit\n",
      "xmin progress: 96%\r"
     ]
    },
    {
     "name": "stderr",
     "output_type": "stream",
     "text": [
      "Assuming nested distributions\n"
     ]
    },
    {
     "name": "stdout",
     "output_type": "stream",
     "text": [
      "Calculating best minimal value for power law fit\n",
      "xmin progress: 96%\r"
     ]
    },
    {
     "name": "stderr",
     "output_type": "stream",
     "text": [
      "Assuming nested distributions\n"
     ]
    },
    {
     "name": "stdout",
     "output_type": "stream",
     "text": [
      "Calculating best minimal value for power law fit\n",
      "xmin progress: 96%\r"
     ]
    },
    {
     "name": "stderr",
     "output_type": "stream",
     "text": [
      "Assuming nested distributions\n"
     ]
    },
    {
     "name": "stdout",
     "output_type": "stream",
     "text": [
      "Calculating best minimal value for power law fit\n",
      "xmin progress: 96%\r"
     ]
    },
    {
     "name": "stderr",
     "output_type": "stream",
     "text": [
      "Assuming nested distributions\n"
     ]
    },
    {
     "name": "stdout",
     "output_type": "stream",
     "text": [
      "Calculating best minimal value for power law fit\n",
      "xmin progress: 96%\r"
     ]
    },
    {
     "name": "stderr",
     "output_type": "stream",
     "text": [
      "Assuming nested distributions\n"
     ]
    },
    {
     "name": "stdout",
     "output_type": "stream",
     "text": [
      "Calculating best minimal value for power law fit\n",
      "xmin progress: 96%\r"
     ]
    },
    {
     "name": "stderr",
     "output_type": "stream",
     "text": [
      "Assuming nested distributions\n"
     ]
    },
    {
     "name": "stdout",
     "output_type": "stream",
     "text": [
      "Calculating best minimal value for power law fit\n",
      "xmin progress: 96%\r"
     ]
    },
    {
     "name": "stderr",
     "output_type": "stream",
     "text": [
      "Assuming nested distributions\n",
      "/Users/andu/opt/anaconda3/lib/python3.9/site-packages/powerlaw.py:1570: RuntimeWarning: invalid value encountered in true_divide\n",
      "  return likelihoods/norm\n"
     ]
    },
    {
     "name": "stdout",
     "output_type": "stream",
     "text": [
      "Calculating best minimal value for power law fit\n",
      "xmin progress: 96%\r"
     ]
    },
    {
     "name": "stderr",
     "output_type": "stream",
     "text": [
      "Assuming nested distributions\n",
      "/Users/andu/opt/anaconda3/lib/python3.9/site-packages/powerlaw.py:1570: RuntimeWarning: invalid value encountered in true_divide\n",
      "  return likelihoods/norm\n"
     ]
    },
    {
     "name": "stdout",
     "output_type": "stream",
     "text": [
      "Calculating best minimal value for power law fit\n",
      "xmin progress: 96%\r"
     ]
    },
    {
     "name": "stderr",
     "output_type": "stream",
     "text": [
      "Assuming nested distributions\n",
      "/Users/andu/opt/anaconda3/lib/python3.9/site-packages/powerlaw.py:1570: RuntimeWarning: invalid value encountered in true_divide\n",
      "  return likelihoods/norm\n"
     ]
    },
    {
     "name": "stdout",
     "output_type": "stream",
     "text": [
      "Calculating best minimal value for power law fit\n",
      "xmin progress: 96%\r"
     ]
    },
    {
     "name": "stderr",
     "output_type": "stream",
     "text": [
      "Assuming nested distributions\n",
      "/Users/andu/opt/anaconda3/lib/python3.9/site-packages/powerlaw.py:1570: RuntimeWarning: invalid value encountered in true_divide\n",
      "  return likelihoods/norm\n"
     ]
    },
    {
     "name": "stdout",
     "output_type": "stream",
     "text": [
      "Calculating best minimal value for power law fit\n",
      "xmin progress: 96%\r"
     ]
    },
    {
     "name": "stderr",
     "output_type": "stream",
     "text": [
      "Assuming nested distributions\n",
      "/Users/andu/opt/anaconda3/lib/python3.9/site-packages/powerlaw.py:1570: RuntimeWarning: invalid value encountered in true_divide\n",
      "  return likelihoods/norm\n"
     ]
    },
    {
     "name": "stdout",
     "output_type": "stream",
     "text": [
      "Calculating best minimal value for power law fit\n",
      "xmin progress: 96%\r"
     ]
    },
    {
     "name": "stderr",
     "output_type": "stream",
     "text": [
      "Assuming nested distributions\n",
      "/Users/andu/opt/anaconda3/lib/python3.9/site-packages/powerlaw.py:1570: RuntimeWarning: invalid value encountered in true_divide\n",
      "  return likelihoods/norm\n"
     ]
    },
    {
     "name": "stdout",
     "output_type": "stream",
     "text": [
      "Calculating best minimal value for power law fit\n",
      "xmin progress: 96%\r"
     ]
    },
    {
     "name": "stderr",
     "output_type": "stream",
     "text": [
      "Assuming nested distributions\n"
     ]
    },
    {
     "name": "stdout",
     "output_type": "stream",
     "text": [
      "Calculating best minimal value for power law fit\n",
      "xmin progress: 96%\r"
     ]
    },
    {
     "name": "stderr",
     "output_type": "stream",
     "text": [
      "Assuming nested distributions\n",
      "/Users/andu/opt/anaconda3/lib/python3.9/site-packages/powerlaw.py:1570: RuntimeWarning: invalid value encountered in true_divide\n",
      "  return likelihoods/norm\n"
     ]
    },
    {
     "name": "stdout",
     "output_type": "stream",
     "text": [
      "Calculating best minimal value for power law fit\n",
      "xmin progress: 96%\r"
     ]
    },
    {
     "name": "stderr",
     "output_type": "stream",
     "text": [
      "Assuming nested distributions\n",
      "/Users/andu/opt/anaconda3/lib/python3.9/site-packages/powerlaw.py:1570: RuntimeWarning: invalid value encountered in true_divide\n",
      "  return likelihoods/norm\n"
     ]
    },
    {
     "name": "stdout",
     "output_type": "stream",
     "text": [
      "Calculating best minimal value for power law fit\n",
      "xmin progress: 96%\r"
     ]
    },
    {
     "name": "stderr",
     "output_type": "stream",
     "text": [
      "Assuming nested distributions\n",
      "/Users/andu/opt/anaconda3/lib/python3.9/site-packages/powerlaw.py:1570: RuntimeWarning: invalid value encountered in true_divide\n",
      "  return likelihoods/norm\n"
     ]
    },
    {
     "name": "stdout",
     "output_type": "stream",
     "text": [
      "Calculating best minimal value for power law fit\n",
      "xmin progress: 96%\r"
     ]
    },
    {
     "name": "stderr",
     "output_type": "stream",
     "text": [
      "Assuming nested distributions\n"
     ]
    },
    {
     "name": "stdout",
     "output_type": "stream",
     "text": [
      "Calculating best minimal value for power law fit\n",
      "xmin progress: 96%\r"
     ]
    },
    {
     "name": "stderr",
     "output_type": "stream",
     "text": [
      "Assuming nested distributions\n"
     ]
    },
    {
     "name": "stdout",
     "output_type": "stream",
     "text": [
      "Calculating best minimal value for power law fit\n",
      "xmin progress: 95%\r"
     ]
    },
    {
     "name": "stderr",
     "output_type": "stream",
     "text": [
      "Assuming nested distributions\n",
      "/Users/andu/opt/anaconda3/lib/python3.9/site-packages/powerlaw.py:1570: RuntimeWarning: invalid value encountered in true_divide\n",
      "  return likelihoods/norm\n"
     ]
    },
    {
     "name": "stdout",
     "output_type": "stream",
     "text": [
      "Calculating best minimal value for power law fit\n",
      "xmin progress: 95%\r"
     ]
    },
    {
     "name": "stderr",
     "output_type": "stream",
     "text": [
      "Assuming nested distributions\n",
      "/Users/andu/opt/anaconda3/lib/python3.9/site-packages/powerlaw.py:1570: RuntimeWarning: invalid value encountered in true_divide\n",
      "  return likelihoods/norm\n"
     ]
    },
    {
     "name": "stdout",
     "output_type": "stream",
     "text": [
      "Calculating best minimal value for power law fit\n",
      "xmin progress: 95%\r"
     ]
    },
    {
     "name": "stderr",
     "output_type": "stream",
     "text": [
      "Assuming nested distributions\n",
      "/Users/andu/opt/anaconda3/lib/python3.9/site-packages/powerlaw.py:1570: RuntimeWarning: invalid value encountered in true_divide\n",
      "  return likelihoods/norm\n"
     ]
    },
    {
     "name": "stdout",
     "output_type": "stream",
     "text": [
      "Calculating best minimal value for power law fit\n",
      "xmin progress: 95%\r"
     ]
    },
    {
     "name": "stderr",
     "output_type": "stream",
     "text": [
      "Assuming nested distributions\n",
      "/Users/andu/opt/anaconda3/lib/python3.9/site-packages/powerlaw.py:1570: RuntimeWarning: invalid value encountered in true_divide\n",
      "  return likelihoods/norm\n"
     ]
    },
    {
     "name": "stdout",
     "output_type": "stream",
     "text": [
      "Calculating best minimal value for power law fit\n",
      "xmin progress: 95%\r"
     ]
    },
    {
     "name": "stderr",
     "output_type": "stream",
     "text": [
      "Assuming nested distributions\n",
      "/Users/andu/opt/anaconda3/lib/python3.9/site-packages/powerlaw.py:1570: RuntimeWarning: invalid value encountered in true_divide\n",
      "  return likelihoods/norm\n"
     ]
    },
    {
     "name": "stdout",
     "output_type": "stream",
     "text": [
      "Calculating best minimal value for power law fit\n",
      "xmin progress: 75%\r"
     ]
    },
    {
     "name": "stderr",
     "output_type": "stream",
     "text": [
      "Assuming nested distributions\n"
     ]
    },
    {
     "name": "stdout",
     "output_type": "stream",
     "text": [
      "Calculating best minimal value for power law fit\n",
      "xmin progress: 75%\r"
     ]
    },
    {
     "name": "stderr",
     "output_type": "stream",
     "text": [
      "Assuming nested distributions\n",
      "/Users/andu/opt/anaconda3/lib/python3.9/site-packages/powerlaw.py:1570: RuntimeWarning: invalid value encountered in true_divide\n",
      "  return likelihoods/norm\n"
     ]
    },
    {
     "name": "stdout",
     "output_type": "stream",
     "text": [
      "Calculating best minimal value for power law fit\n",
      "xmin progress: 80%\r"
     ]
    },
    {
     "name": "stderr",
     "output_type": "stream",
     "text": [
      "Assuming nested distributions\n"
     ]
    },
    {
     "name": "stdout",
     "output_type": "stream",
     "text": [
      "Calculating best minimal value for power law fit\n",
      "xmin progress: 87%\r"
     ]
    },
    {
     "name": "stderr",
     "output_type": "stream",
     "text": [
      "Assuming nested distributions\n"
     ]
    },
    {
     "name": "stdout",
     "output_type": "stream",
     "text": [
      "Calculating best minimal value for power law fit\n",
      "xmin progress: 90%\r"
     ]
    },
    {
     "name": "stderr",
     "output_type": "stream",
     "text": [
      "Assuming nested distributions\n"
     ]
    },
    {
     "name": "stdout",
     "output_type": "stream",
     "text": [
      "Calculating best minimal value for power law fit\n",
      "xmin progress: 92%\r"
     ]
    },
    {
     "name": "stderr",
     "output_type": "stream",
     "text": [
      "Assuming nested distributions\n"
     ]
    },
    {
     "name": "stdout",
     "output_type": "stream",
     "text": [
      "Calculating best minimal value for power law fit\n",
      "xmin progress: 90%\r"
     ]
    },
    {
     "name": "stderr",
     "output_type": "stream",
     "text": [
      "Assuming nested distributions\n"
     ]
    },
    {
     "name": "stdout",
     "output_type": "stream",
     "text": [
      "Calculating best minimal value for power law fit\n",
      "xmin progress: 92%\r"
     ]
    },
    {
     "name": "stderr",
     "output_type": "stream",
     "text": [
      "Assuming nested distributions\n"
     ]
    },
    {
     "name": "stdout",
     "output_type": "stream",
     "text": [
      "Calculating best minimal value for power law fit\n",
      "xmin progress: 94%\r"
     ]
    },
    {
     "name": "stderr",
     "output_type": "stream",
     "text": [
      "Assuming nested distributions\n"
     ]
    },
    {
     "name": "stdout",
     "output_type": "stream",
     "text": [
      "Calculating best minimal value for power law fit\n",
      "xmin progress: 94%\r"
     ]
    },
    {
     "name": "stderr",
     "output_type": "stream",
     "text": [
      "Assuming nested distributions\n"
     ]
    },
    {
     "name": "stdout",
     "output_type": "stream",
     "text": [
      "Calculating best minimal value for power law fit\n",
      "xmin progress: 94%\r"
     ]
    },
    {
     "name": "stderr",
     "output_type": "stream",
     "text": [
      "Assuming nested distributions\n"
     ]
    },
    {
     "name": "stdout",
     "output_type": "stream",
     "text": [
      "Calculating best minimal value for power law fit\n",
      "xmin progress: 95%\r"
     ]
    },
    {
     "name": "stderr",
     "output_type": "stream",
     "text": [
      "Assuming nested distributions\n"
     ]
    },
    {
     "name": "stdout",
     "output_type": "stream",
     "text": [
      "Calculating best minimal value for power law fit\n",
      "xmin progress: 95%\r"
     ]
    },
    {
     "name": "stderr",
     "output_type": "stream",
     "text": [
      "Assuming nested distributions\n"
     ]
    },
    {
     "name": "stdout",
     "output_type": "stream",
     "text": [
      "Calculating best minimal value for power law fit\n",
      "xmin progress: 95%\r"
     ]
    },
    {
     "name": "stderr",
     "output_type": "stream",
     "text": [
      "Assuming nested distributions\n"
     ]
    },
    {
     "name": "stdout",
     "output_type": "stream",
     "text": [
      "Calculating best minimal value for power law fit\n",
      "xmin progress: 96%\r"
     ]
    },
    {
     "name": "stderr",
     "output_type": "stream",
     "text": [
      "Assuming nested distributions\n"
     ]
    },
    {
     "name": "stdout",
     "output_type": "stream",
     "text": [
      "Calculating best minimal value for power law fit\n",
      "xmin progress: 96%\r"
     ]
    },
    {
     "name": "stderr",
     "output_type": "stream",
     "text": [
      "Assuming nested distributions\n"
     ]
    },
    {
     "name": "stdout",
     "output_type": "stream",
     "text": [
      "Calculating best minimal value for power law fit\n",
      "xmin progress: 96%\r"
     ]
    },
    {
     "name": "stderr",
     "output_type": "stream",
     "text": [
      "Assuming nested distributions\n"
     ]
    },
    {
     "name": "stdout",
     "output_type": "stream",
     "text": [
      "Calculating best minimal value for power law fit\n",
      "xmin progress: 96%\r"
     ]
    },
    {
     "name": "stderr",
     "output_type": "stream",
     "text": [
      "Assuming nested distributions\n"
     ]
    },
    {
     "name": "stdout",
     "output_type": "stream",
     "text": [
      "Calculating best minimal value for power law fit\n",
      "xmin progress: 96%\r"
     ]
    },
    {
     "name": "stderr",
     "output_type": "stream",
     "text": [
      "Assuming nested distributions\n"
     ]
    },
    {
     "name": "stdout",
     "output_type": "stream",
     "text": [
      "Calculating best minimal value for power law fit\n",
      "xmin progress: 96%\r"
     ]
    },
    {
     "name": "stderr",
     "output_type": "stream",
     "text": [
      "Assuming nested distributions\n"
     ]
    },
    {
     "name": "stdout",
     "output_type": "stream",
     "text": [
      "Calculating best minimal value for power law fit\n",
      "xmin progress: 96%\r"
     ]
    },
    {
     "name": "stderr",
     "output_type": "stream",
     "text": [
      "Assuming nested distributions\n"
     ]
    },
    {
     "name": "stdout",
     "output_type": "stream",
     "text": [
      "Calculating best minimal value for power law fit\n",
      "xmin progress: 96%\r"
     ]
    },
    {
     "name": "stderr",
     "output_type": "stream",
     "text": [
      "Assuming nested distributions\n"
     ]
    },
    {
     "name": "stdout",
     "output_type": "stream",
     "text": [
      "Calculating best minimal value for power law fit\n",
      "xmin progress: 96%\r"
     ]
    },
    {
     "name": "stderr",
     "output_type": "stream",
     "text": [
      "Assuming nested distributions\n",
      "/Users/andu/opt/anaconda3/lib/python3.9/site-packages/powerlaw.py:1570: RuntimeWarning: invalid value encountered in true_divide\n",
      "  return likelihoods/norm\n"
     ]
    },
    {
     "name": "stdout",
     "output_type": "stream",
     "text": [
      "Calculating best minimal value for power law fit\n",
      "xmin progress: 96%\r"
     ]
    },
    {
     "name": "stderr",
     "output_type": "stream",
     "text": [
      "Assuming nested distributions\n",
      "/Users/andu/opt/anaconda3/lib/python3.9/site-packages/powerlaw.py:1570: RuntimeWarning: invalid value encountered in true_divide\n",
      "  return likelihoods/norm\n"
     ]
    },
    {
     "name": "stdout",
     "output_type": "stream",
     "text": [
      "Calculating best minimal value for power law fit\n",
      "xmin progress: 95%\r"
     ]
    },
    {
     "name": "stderr",
     "output_type": "stream",
     "text": [
      "Assuming nested distributions\n",
      "/Users/andu/opt/anaconda3/lib/python3.9/site-packages/powerlaw.py:1570: RuntimeWarning: invalid value encountered in true_divide\n",
      "  return likelihoods/norm\n"
     ]
    },
    {
     "name": "stdout",
     "output_type": "stream",
     "text": [
      "Calculating best minimal value for power law fit\n",
      "xmin progress: 95%\r"
     ]
    },
    {
     "name": "stderr",
     "output_type": "stream",
     "text": [
      "Assuming nested distributions\n",
      "/Users/andu/opt/anaconda3/lib/python3.9/site-packages/powerlaw.py:1570: RuntimeWarning: invalid value encountered in true_divide\n",
      "  return likelihoods/norm\n"
     ]
    },
    {
     "name": "stdout",
     "output_type": "stream",
     "text": [
      "Calculating best minimal value for power law fit\n",
      "xmin progress: 95%\r"
     ]
    },
    {
     "name": "stderr",
     "output_type": "stream",
     "text": [
      "Assuming nested distributions\n",
      "/Users/andu/opt/anaconda3/lib/python3.9/site-packages/powerlaw.py:1570: RuntimeWarning: invalid value encountered in true_divide\n",
      "  return likelihoods/norm\n"
     ]
    },
    {
     "name": "stdout",
     "output_type": "stream",
     "text": [
      "Calculating best minimal value for power law fit\n",
      "xmin progress: 95%\r"
     ]
    },
    {
     "name": "stderr",
     "output_type": "stream",
     "text": [
      "Assuming nested distributions\n",
      "/Users/andu/opt/anaconda3/lib/python3.9/site-packages/powerlaw.py:1570: RuntimeWarning: invalid value encountered in true_divide\n",
      "  return likelihoods/norm\n"
     ]
    },
    {
     "name": "stdout",
     "output_type": "stream",
     "text": [
      "Calculating best minimal value for power law fit\n",
      "xmin progress: 95%\r"
     ]
    },
    {
     "name": "stderr",
     "output_type": "stream",
     "text": [
      "Assuming nested distributions\n",
      "/Users/andu/opt/anaconda3/lib/python3.9/site-packages/powerlaw.py:1570: RuntimeWarning: invalid value encountered in true_divide\n",
      "  return likelihoods/norm\n"
     ]
    },
    {
     "name": "stdout",
     "output_type": "stream",
     "text": [
      "Calculating best minimal value for power law fit\n",
      "xmin progress: 95%\r"
     ]
    },
    {
     "name": "stderr",
     "output_type": "stream",
     "text": [
      "Assuming nested distributions\n",
      "/Users/andu/opt/anaconda3/lib/python3.9/site-packages/powerlaw.py:1570: RuntimeWarning: invalid value encountered in true_divide\n",
      "  return likelihoods/norm\n"
     ]
    },
    {
     "name": "stdout",
     "output_type": "stream",
     "text": [
      "Calculating best minimal value for power law fit\n",
      "xmin progress: 94%\r"
     ]
    },
    {
     "name": "stderr",
     "output_type": "stream",
     "text": [
      "Assuming nested distributions\n",
      "/Users/andu/opt/anaconda3/lib/python3.9/site-packages/powerlaw.py:1570: RuntimeWarning: invalid value encountered in true_divide\n",
      "  return likelihoods/norm\n"
     ]
    },
    {
     "name": "stdout",
     "output_type": "stream",
     "text": [
      "Calculating best minimal value for power law fit\n",
      "xmin progress: 94%\r"
     ]
    },
    {
     "name": "stderr",
     "output_type": "stream",
     "text": [
      "Assuming nested distributions\n"
     ]
    },
    {
     "name": "stdout",
     "output_type": "stream",
     "text": [
      "Calculating best minimal value for power law fit\n",
      "xmin progress: 95%\r"
     ]
    },
    {
     "name": "stderr",
     "output_type": "stream",
     "text": [
      "Assuming nested distributions\n"
     ]
    },
    {
     "name": "stdout",
     "output_type": "stream",
     "text": [
      "Calculating best minimal value for power law fit\n",
      "xmin progress: 95%\r"
     ]
    },
    {
     "name": "stderr",
     "output_type": "stream",
     "text": [
      "Assuming nested distributions\n",
      "/Users/andu/opt/anaconda3/lib/python3.9/site-packages/powerlaw.py:1570: RuntimeWarning: invalid value encountered in true_divide\n",
      "  return likelihoods/norm\n"
     ]
    },
    {
     "name": "stdout",
     "output_type": "stream",
     "text": [
      "Calculating best minimal value for power law fit\n",
      "xmin progress: 95%\r"
     ]
    },
    {
     "name": "stderr",
     "output_type": "stream",
     "text": [
      "Assuming nested distributions\n",
      "/Users/andu/opt/anaconda3/lib/python3.9/site-packages/powerlaw.py:1570: RuntimeWarning: invalid value encountered in true_divide\n",
      "  return likelihoods/norm\n"
     ]
    },
    {
     "name": "stdout",
     "output_type": "stream",
     "text": [
      "Calculating best minimal value for power law fit\n",
      "xmin progress: 95%\r"
     ]
    },
    {
     "name": "stderr",
     "output_type": "stream",
     "text": [
      "Assuming nested distributions\n",
      "/Users/andu/opt/anaconda3/lib/python3.9/site-packages/powerlaw.py:1570: RuntimeWarning: invalid value encountered in true_divide\n",
      "  return likelihoods/norm\n"
     ]
    },
    {
     "name": "stdout",
     "output_type": "stream",
     "text": [
      "Calculating best minimal value for power law fit\n",
      "xmin progress: 94%\r"
     ]
    },
    {
     "name": "stderr",
     "output_type": "stream",
     "text": [
      "Assuming nested distributions\n",
      "/Users/andu/opt/anaconda3/lib/python3.9/site-packages/powerlaw.py:1570: RuntimeWarning: invalid value encountered in true_divide\n",
      "  return likelihoods/norm\n"
     ]
    },
    {
     "name": "stdout",
     "output_type": "stream",
     "text": [
      "Calculating best minimal value for power law fit\n",
      "xmin progress: 95%\r"
     ]
    },
    {
     "name": "stderr",
     "output_type": "stream",
     "text": [
      "Assuming nested distributions\n",
      "/Users/andu/opt/anaconda3/lib/python3.9/site-packages/powerlaw.py:1570: RuntimeWarning: invalid value encountered in true_divide\n",
      "  return likelihoods/norm\n"
     ]
    },
    {
     "name": "stdout",
     "output_type": "stream",
     "text": [
      "Calculating best minimal value for power law fit\n",
      "xmin progress: 95%\r"
     ]
    },
    {
     "name": "stderr",
     "output_type": "stream",
     "text": [
      "Assuming nested distributions\n",
      "/Users/andu/opt/anaconda3/lib/python3.9/site-packages/powerlaw.py:1570: RuntimeWarning: invalid value encountered in true_divide\n",
      "  return likelihoods/norm\n"
     ]
    },
    {
     "name": "stdout",
     "output_type": "stream",
     "text": [
      "Calculating best minimal value for power law fit\n",
      "xmin progress: 94%\r"
     ]
    },
    {
     "name": "stderr",
     "output_type": "stream",
     "text": [
      "Assuming nested distributions\n",
      "/Users/andu/opt/anaconda3/lib/python3.9/site-packages/powerlaw.py:1570: RuntimeWarning: invalid value encountered in true_divide\n",
      "  return likelihoods/norm\n"
     ]
    }
   ],
   "source": [
    "def run_sim_time_plot(growth_rates, grid_size, sims, num_iterations):\n",
    "    \"\"\"\n",
    "    Function is for running multiple sims with same params and storing results.\n",
    "    \"\"\"\n",
    "    # Here are the arrays to track the results. \n",
    "    powlaw_array = np.zeros([sims, num_iterations, 13])\n",
    "    end_grids = np.zeros([sims, grid_size, grid_size])\n",
    "    # Then loop through nr. of sims and store results.\n",
    "    for sim in range(sims):\n",
    "        rn = np.random.randint(0, 100000, 1)\n",
    "        grid = initial_land_use(seed_number=rn, grid_size=grid_size, plot=False)\n",
    "        final_grid, power_fit = run_simulation(grid, weights_table, alpha=2.5, growth_rates=growth_rates, radius = 6, seed=rn, num_iterations=num_iterations, plot=False)\n",
    "        \n",
    "        end_grids[sim] = final_grid\n",
    "        powlaw_array[sim] = power_fit\n",
    "    return end_grids, powlaw_array\n",
    "\n",
    "growth_rates = {\n",
    "    'H': 0.01,  \n",
    "    'I': 0.002,\n",
    "    'C': 0.001,\n",
    "}\n",
    "grid_size = 100\n",
    "sims, num_iterations = 5, 40\n",
    "end_grids, powlaw_array = run_sim_time_plot(growth_rates, grid_size, sims, num_iterations)\n"
   ]
  },
  {
   "cell_type": "code",
   "execution_count": 137,
   "metadata": {
    "tags": []
   },
   "outputs": [
    {
     "data": {
      "image/png": "[encoded data removed]",
      "text/plain": [
       "<Figure size 1700x400 with 3 Axes>"
      ]
     },
     "metadata": {},
     "output_type": "display_data"
    }
   ],
   "source": [
    "plot_mean = np.mean(powlaw_array[:,:,0], axis = 0)\n",
    "f, (ax1, ax2, ax3) = plt.subplots(1, 3, figsize=(17, 4))\n",
    "true_count = np.sum(np.where(powlaw_array[:,:,[1,3,5,7,9]] > 0, 1, 0), axis = 2)\n",
    "\n",
    "for time in range(sims):\n",
    "    ax1.plot(range(10,40), powlaw_array[time,10:,0], alpha = 0.35, c = 'cornflowerblue') # power law coef\n",
    "    ax2.plot(true_count[time,10:], alpha = 0.35, c = 'cornflowerblue') # count of passed tests\n",
    "    ax3.plot(powlaw_array[time,10:,-1], alpha = 0.35, c = 'cornflowerblue') # p-vals passed\n",
    "    \n",
    "ax1.plot(range(10,40), plot_mean[10:], c = 'black')\n",
    "ax2.plot(np.mean(true_count, axis = 0)[10:], c = 'black')\n",
    "ax3.plot(np.mean(powlaw_array[:,:,-1], axis = 0)[10:], c = 'black')\n",
    "\n",
    "ax1.set_xlabel('Time'), ax1.set_ylabel('Power Law Coefficient')\n",
    "ax2.set_xlabel('Time'), ax2.set_ylabel('Count of positive test values')\n",
    "ax3.set_xlabel('Time'), ax3.set_ylabel('Count of p-value < 0.05')\n",
    "ax1.set_title('Time evolution of power law coefficient')\n",
    "ax2.set_title('Count of positive test values')\n",
    "ax3.set_title('Count of p values less than 0.05')\n",
    "plt.savefig('test.jpg')\n",
    "plt.show()\n"
   ]
  },
  {
   "cell_type": "code",
   "execution_count": 164,
   "metadata": {
    "tags": []
   },
   "outputs": [
    {
     "name": "stdout",
     "output_type": "stream",
     "text": [
      "Calculating best minimal value for power law fit\n",
      "xmin progress: 95%\r"
     ]
    },
    {
     "name": "stderr",
     "output_type": "stream",
     "text": [
      "Assuming nested distributions\n",
      "/Users/andu/opt/anaconda3/lib/python3.9/site-packages/powerlaw.py:1570: RuntimeWarning: invalid value encountered in true_divide\n",
      "  return likelihoods/norm\n"
     ]
    },
    {
     "data": {
      "text/plain": [
       "[2.0157134570801127,\n",
       " 3.873602625380211,\n",
       " 0.00010723821787974416,\n",
       " 3.33631264736551,\n",
       " 0.03201106751992414,\n",
       " -0.15679764597729395,\n",
       " 0.5754823049605126,\n",
       " -8.111900790254904,\n",
       " 0.26981628550230186,\n",
       " 18.90764058824566,\n",
       " 0.00012783013359084328,\n",
       " 3,\n",
       " 3]"
      ]
     },
     "execution_count": 164,
     "metadata": {},
     "output_type": "execute_result"
    }
   ],
   "source": [
    "x = run_clustering(end_grids[0])\n",
    "xx = x[x.cell_type == 1]\n",
    "y = tests_power_law(xx)\n",
    "y"
   ]
  },
  {
   "cell_type": "code",
   "execution_count": 171,
   "metadata": {
    "tags": []
   },
   "outputs": [
    {
     "name": "stdout",
     "output_type": "stream",
     "text": [
      "Intel MKL WARNING: Support of Intel(R) Streaming SIMD Extensions 4.2 (Intel(R) SSE4.2) enabled only processors has been deprecated. Intel oneAPI Math Kernel Library 2025.0 will require Intel(R) Advanced Vector Extensions (Intel(R) AVX) instructions.\n"
     ]
    },
    {
     "data": {
      "image/png": "[encoded data removed]",
      "text/plain": [
       "<Figure size 640x480 with 1 Axes>"
      ]
     },
     "metadata": {},
     "output_type": "display_data"
    },
    {
     "data": {
      "text/plain": [
       "1.763378355604341"
      ]
     },
     "execution_count": 171,
     "metadata": {},
     "output_type": "execute_result"
    }
   ],
   "source": [
    "run_fractal_analysis(end_grids[0])"
   ]
  },
  {
   "cell_type": "code",
   "execution_count": 168,
   "metadata": {
    "tags": []
   },
   "outputs": [
    {
     "data": {
      "text/plain": [
       "array([[0., 0., 0., ..., 0., 0., 0.],\n",
       "       [0., 0., 0., ..., 1., 0., 0.],\n",
       "       [0., 0., 0., ..., 0., 0., 0.],\n",
       "       ...,\n",
       "       [0., 0., 0., ..., 0., 0., 0.],\n",
       "       [0., 0., 0., ..., 0., 0., 0.],\n",
       "       [0., 0., 0., ..., 0., 0., 0.]])"
      ]
     },
     "execution_count": 168,
     "metadata": {},
     "output_type": "execute_result"
    }
   ],
   "source": []
  },
  {
   "cell_type": "code",
   "execution_count": null,
   "metadata": {},
   "outputs": [],
   "source": []
  },
  {
   "cell_type": "code",
   "execution_count": 130,
   "metadata": {
    "tags": []
   },
   "outputs": [],
   "source": [
    "import pickle\n",
    "\n",
    "with open(r\"powlaw_array.pkl\", \"wb\") as output_file:\n",
    "    pickle.dump(powlaw_array, output_file)"
   ]
  },
  {
   "cell_type": "code",
   "execution_count": 161,
   "metadata": {
    "tags": []
   },
   "outputs": [
    {
     "name": "stdout",
     "output_type": "stream",
     "text": [
      "          0         1         2         3          4\n",
      "0  3.873603  3.336313 -0.156798 -8.111901  18.907641\n",
      "1  3.732411  3.084382 -0.131204 -8.024333  16.060567\n",
      "2  3.152265 -0.063082 -0.353339 -0.058572   0.158229\n",
      "3  3.959362  1.561134 -0.025938 -7.831471   6.105026\n",
      "4  4.089920  2.369749 -0.093783 -7.935654  13.321460\n",
      "          0         1         2         3         4\n",
      "0  0.000107  0.032011  0.575482  0.269816  0.000128\n",
      "1  0.000190  0.033032  0.608471  0.282169  0.000704\n",
      "2  0.001620  0.868130  0.400549  0.782952  0.820910\n",
      "3  0.000075  0.021832  0.819829  0.303944  0.002063\n",
      "4  0.000043  0.069660  0.664951  0.290471  0.001306\n"
     ]
    }
   ],
   "source": [
    "print(pd.DataFrame(powlaw_array[:,-1,[1,3,5,7,9]]))\n",
    "print(pd.DataFrame(powlaw_array[:,-1,[2,4,6,8,10]]))"
   ]
  },
  {
   "cell_type": "code",
   "execution_count": 167,
   "metadata": {
    "tags": []
   },
   "outputs": [
    {
     "data": {
      "image/png": "[encoded data removed]",
      "text/plain": [
       "<Figure size 640x480 with 1 Axes>"
      ]
     },
     "metadata": {},
     "output_type": "display_data"
    }
   ],
   "source": [
    "plt.scatter(xx.Cluster_size, xx.Cluster_count)\n",
    "plt.plot(xx.Cluster_size, 200 * xx.Cluster_size ** -y[0], c = 'orange')\n",
    "plt.xlim(0.5, 1210) \n",
    "plt.ylim(0.5, 350)\n",
    "plt.yscale('log'), plt.xscale('log')\n",
    "plt.xlabel('Cluster size'), plt.ylabel('Cluster count')\n",
    "plt.title('Cluster size distribution with fitted power law')\n",
    "plt.savefig('power_law_fit.jpg')\n",
    "plt.show()"
   ]
  },
  {
   "cell_type": "markdown",
   "metadata": {},
   "source": [
    "## --- The below cell is just for testing the function, you can just jump to the next cell and run it. "
   ]
  },
  {
   "cell_type": "code",
   "execution_count": null,
   "metadata": {
    "tags": []
   },
   "outputs": [],
   "source": []
  },
  {
   "cell_type": "code",
   "execution_count": 132,
   "metadata": {
    "tags": []
   },
   "outputs": [],
   "source": [
    "def tests_power_law(clusters):\n",
    "    \"\"\"\n",
    "    Test the power law against alternative distributions and run p-value. \n",
    "    \"\"\"\n",
    "    # Create the list\n",
    "    clusters = clusters[clusters.cell_type == 1]\n",
    "    cluster_list = []\n",
    "    # rearrange data for powerlaw package functions\n",
    "    for index, row in clusters.iterrows():\n",
    "        for c in range(int(row.Cluster_count)):\n",
    "            cluster_list.append(row.Cluster_size)\n",
    "    # run all the different tests\n",
    "    fit = powerlaw.Fit(cluster_list, discrete=True)\n",
    "    alpha = fit.power_law.alpha\n",
    "    t1, t11 = fit.distribution_compare('power_law', 'exponential', normalized_ratio=True)\n",
    "    t2, t21 = fit.distribution_compare('power_law', 'stretched_exponential')\n",
    "    t3, t31 = fit.distribution_compare('power_law', 'truncated_power_law')\n",
    "    t4, t41 = fit.distribution_compare('power_law', 'lognormal')\n",
    "    t5, t51 = fit.distribution_compare('power_law', 'lognormal_positive')\n",
    "    test_count = np.sum(np.where(np.array([t1, t2, t3, t4, t5]) > 0, 1, 0))\n",
    "    pval_count = np.sum(np.where(np.array([t11, t21, t31, t41, t51]) < 0.05, 1, 0))\n",
    "    return [alpha, t1, t11, t2, t21, t3, t31, t4, t41, t5, t51, test_count, pval_count] "
   ]
  },
  {
   "cell_type": "code",
   "execution_count": 7,
   "metadata": {
    "tags": []
   },
   "outputs": [],
   "source": [
    "def calculate_joint_probability(ca_grid):\n",
    "    joint_counts = np.zeros((4, 4))  # 4x4 matrix to store joint counts\n",
    "    height, width = ca_grid.shape\n",
    "\n",
    "    # Count the occurrences of pairs of states in the CA grid\n",
    "    for i in range(height):\n",
    "        for j in range(width):\n",
    "            if i < height - 1:\n",
    "                x = ca_grid[i, j]\n",
    "                y = ca_grid[i + 1, j]\n",
    "                joint_counts[x, y] += 1\n",
    "            if j < width - 1:\n",
    "                x = ca_grid[i, j]\n",
    "                y = ca_grid[i, j + 1]\n",
    "                joint_counts[x, y] += 1\n",
    "\n",
    "    # Compute joint probabilities by dividing by the total number of pairs\n",
    "    joint_probabilities = joint_counts / (height * width)\n",
    "    return joint_probabilities\n",
    "\n",
    "def calculate_conditional_probability(joint_probabilities):\n",
    "    marginal_probabilities = np.sum(joint_probabilities, axis=1)\n",
    "    conditional_probabilities = joint_probabilities / marginal_probabilities[:, np.newaxis]\n",
    "    return conditional_probabilities\n",
    "\n",
    "def calculate_conditional_entropy(conditional_probabilities):\n",
    "    conditional_entropy = -np.sum(conditional_probabilities * np.log2(conditional_probabilities))\n",
    "    return conditional_entropy\n",
    "\n",
    "def run_simulation_and_compute_entropy(growth_rate_values_H, growth_rate_values_I, growth_rate_values_C, alpha_values, seed=0, grid_size=50, radius=6, num_iterations=40, export_csv=False, plot=False):\n",
    "    entropy_results = []\n",
    "    for alpha in alpha_values:\n",
    "        for growth_rate_H in growth_rate_values_H:\n",
    "            for growth_rate_I in growth_rate_values_I:\n",
    "                for growth_rate_C in growth_rate_values_C:\n",
    "                    growth_rates = {\n",
    "                        'H': growth_rate_H,\n",
    "                        'I': growth_rate_I,\n",
    "                        'C': growth_rate_C,\n",
    "                    }\n",
    "                    grid = initial_land_use(seed_number=seed, grid_size=grid_size, plot=plot)\n",
    "                    run_simulation(grid, weights_table, alpha=alpha, growth_rates=growth_rates, radius=radius, seed=seed, num_iterations=num_iterations)\n",
    "                    joint_probs = calculate_joint_probability(grid)\n",
    "                    conditional_probs = calculate_conditional_probability(joint_probs)\n",
    "                    conditional_entropy = calculate_conditional_entropy(conditional_probs)\n",
    "                    entropy_results.append((alpha, conditional_entropy))\n",
    "                    print(f\"Alpha: {alpha}, Conditional Entropy: {conditional_entropy}\")\n",
    "\n",
    "    # Plot the results\n",
    "    alphas, entropies = zip(*entropy_results)\n",
    "    plt.plot(alphas, entropies, 'o-')\n",
    "    plt.xlabel('Alpha')\n",
    "    plt.ylabel('Conditional Entropy')\n",
    "    plt.show()\n",
    "\n",
    "# Example usage:\n",
    "alpha_values = [2.0, 2.5, 3.0]\n",
    "growth_rate_values_H = [0.01]\n",
    "growth_rate_values_I = [0.002]\n",
    "growth_rate_values_C = [0.001]\n",
    "#run_simulation_and_compute_entropy(growth_rate_values_H, growth_rate_values_I, growth_rate_values_C, alpha_values)\n"
   ]
  },
  {
   "cell_type": "markdown",
   "metadata": {},
   "source": [
    "# Functions "
   ]
  },
  {
   "cell_type": "code",
   "execution_count": 8,
   "metadata": {
    "tags": []
   },
   "outputs": [],
   "source": [
    "def clustering(m, rtype):\n",
    "    \"\"\" Algorithm for finding clusters and labeling them. \n",
    "    INPUT: Matrix m with occupied 1 and unoccupied 0\"\"\"\n",
    "    assert type(rtype) == int\n",
    "    assert m.shape[0] == m.shape[1]\n",
    "    \n",
    "    dim = m.shape[0]\n",
    "    largest_label = 0\n",
    "    label = np.zeros([dim, dim])\n",
    "    for x in range(dim):\n",
    "        for y in range(dim):\n",
    "            above = m[x-1, y]\n",
    "            left = m[x, y-1]\n",
    "            # For the boundary conditions, set above and left to zero.\n",
    "            if x == 0:\n",
    "                above = 0\n",
    "            if y == 0:\n",
    "                left = 0\n",
    "            # Assign cluster IDs according to neighbours   \n",
    "            if m[x,y] == rtype:\n",
    "                if above != rtype and left != rtype: # no neighbors, new cluster id\n",
    "                    largest_label += 1\n",
    "                    label[x,y] = largest_label\n",
    "                elif above == rtype and left != rtype: # cluster extends from above, change id\n",
    "                    label[x,y] = label[x-1,y]\n",
    "                elif above != rtype and left == rtype: # cluster extends from left, change id\n",
    "                    label[x,y] = label[x,y-1]\n",
    "                elif above == rtype and left == rtype: # both belong to cluster, make a union\n",
    "                    m, label = cluster_union(m, label, x, y)             \n",
    "    return label\n",
    "            \n",
    "def cluster_union(m, label, x, y):\n",
    "    \"\"\"\n",
    "    Union the two clusters and labels both clusters the same.\n",
    "    \"\"\"\n",
    "    if label[x-1,y] == label[x,y-1]: # If labels are the same, then set x,y as same label\n",
    "        label[x,y] = label[x-1,y]\n",
    "        return m, label\n",
    "    else: # else different clusters so rename one\n",
    "        new_id, old_id = np.min([label[x-1,y], label[x,y-1]]), np.max([label[x-1,y], label[x,y-1]])\n",
    "        label[x,y] = new_id # set label of current x,y\n",
    "        label[label == old_id] = new_id # change all old IDs to the new one\n",
    "    return m, label\n",
    "\n",
    "def run_clustering(m):\n",
    "    \"\"\"\n",
    "    Runs the clustering algorithm for each of the cell types, returns a pandas dataframe with the columns cluster size, count, id.\n",
    "    INPUT: the matrix with the different IDs in the cells. \n",
    "    \"\"\"\n",
    "    clusters = pd.DataFrame()\n",
    "    # Run each of the cluster types in a loop\n",
    "    for i in np.unique(m)[1:]: # not the zeros\n",
    "        cluster_ids = clustering(m, int(i))\n",
    "        cluster_size = np.unique(cluster_ids, return_counts=True) # count size of clusters in matrix of cell types\n",
    "        size, count = np.unique(cluster_size[1][1:], return_counts=True) # select only the cells that contain something (first element is empty)\n",
    "        # f\n",
    "        clusters = pd.concat([clusters, pd.DataFrame([size, count, i * np.ones(len(count))]).T], axis = 0)\n",
    "\n",
    "    clusters.columns = ['Cluster_size','Cluster_count','cell_type']\n",
    "    return clusters\n",
    "\n",
    "\n",
    "def power_law(x, a, b):\n",
    "    return a*np.power(x, b)\n",
    "\n",
    "def fractal_dimension(m):\n",
    "    \"\"\"\n",
    "    Calculates the fractal dimension of the occupancy for each radius\n",
    "    \"\"\"\n",
    "    center = m.shape[0] // 2\n",
    "    dim = m.shape[0] # get the array dimension\n",
    "    distance = np.zeros([dim,dim])\n",
    "    m = np.where(m > 0, 1, 0)\n",
    "    \n",
    "    radius = np.array(range(1, center)) # sets the range to loop over for occupancy\n",
    "    occupied_cells = np.zeros(center - 1)\n",
    "    for i in range(dim):\n",
    "        for j in range(dim):\n",
    "            distance[i,j] = np.sqrt((center - i) ** 2 + (center - j) ** 2)\n",
    "    # logic is to filter spots within distance, then multiply with m matrix to find spots where there are occupants\n",
    "    # assuming empty spots are marked with zero and sum the spots within raidus and with occupants.\n",
    "\n",
    "    for r in range(len(radius)): # loop through radiuses and chekc which ones are within area and then count cells occupied.\n",
    "        current_distance = np.where(distance < radius[r], 1, 0)\n",
    "        \n",
    "        area = (current_distance * m).sum()\n",
    "        occupied_cells[r] = area\n",
    "        \n",
    "    pars, cov = curve_fit(f=power_law, xdata=radius, ydata=occupied_cells, p0=[0, 0]) # gives higher weight to large values\n",
    "    fractal_d = np.polyfit(np.log(radius), np.log(occupied_cells), 1) # gives higher weight to small values\n",
    "    return fractal_d, occupied_cells, radius, pars\n",
    "\n",
    "\n",
    "def conditional_entropy(grid):\n",
    "    counter = Counter()\n",
    "    total_count = 0\n",
    "\n",
    "    for i in range(grid.shape[0]):\n",
    "        for j in range(grid.shape[1]):\n",
    "            state = grid[i, j]\n",
    "            counter[state] += 1\n",
    "            total_count += 1\n",
    "\n",
    "    conditional_entropy = 0\n",
    "    for state, count in counter.items():\n",
    "        probability = count / total_count\n",
    "        conditional_entropy -= probability * np.log2(probability)\n",
    "\n",
    "    return conditional_entropy\n"
   ]
  },
  {
   "cell_type": "markdown",
   "metadata": {},
   "source": [
    "## Run the code in below cell optionally to test your functions"
   ]
  },
  {
   "cell_type": "code",
   "execution_count": 170,
   "metadata": {
    "tags": []
   },
   "outputs": [],
   "source": [
    "\n",
    "def run_fractal_analysis(grid):\n",
    "    fractal_d, occupied_cells, radius, pars = fractal_dimension(grid)\n",
    "\n",
    "    plt.scatter(radius[3:], occupied_cells[3:], s = 12, marker = 'x')\n",
    "    #plt.plot(radius, np.exp(fractal_d[1]) + radius ** fractal_d[0], c = 'orange')\n",
    "    plt.plot(radius[3:], pars[0] * radius[3:] ** pars[1], c = 'orange')\n",
    "    plt.xlabel('Radius'), plt.ylabel('Occupied Cells')\n",
    "    plt.yscale('log'), plt.xscale('log')\n",
    "    plt.savefig('fractal_dim_fig.jpg')\n",
    "    plt.show()\n",
    "    return pars[1]\n",
    "    \n",
    "    \n",
    "    \n",
    "#run_fractal_analysis(final_grid)"
   ]
  },
  {
   "cell_type": "markdown",
   "metadata": {},
   "source": [
    "### Conditional Entropy --- Moore Neighborhood"
   ]
  },
  {
   "cell_type": "code",
   "execution_count": 10,
   "metadata": {
    "tags": []
   },
   "outputs": [],
   "source": [
    "def calculate_joint_counts(grid):\n",
    "    # Initialize a dictionary to store the joint counts\n",
    "    joint_counts = {}\n",
    "\n",
    "    # Loop over each cell in the grid\n",
    "    for i in range(1, grid.shape[0] - 1):\n",
    "        for j in range(1, grid.shape[1] - 1):\n",
    "            # Get the state of the cell and its neighbors\n",
    "            state_vector = tuple(grid[i-1:i+2, j-1:j+2].flatten())\n",
    "\n",
    "            # Increment the count for this state vector\n",
    "            if state_vector in joint_counts:\n",
    "                joint_counts[state_vector] += 1\n",
    "            else:\n",
    "                joint_counts[state_vector] = 1\n",
    "\n",
    "    return joint_counts\n",
    "\n",
    "def calculate_conditional_entropy_Moore(grid):\n",
    "    # Calculate the joint counts\n",
    "    joint_counts = calculate_joint_counts(grid)\n",
    "\n",
    "    # Calculate the joint probabilities\n",
    "    total_counts = sum(joint_counts.values())\n",
    "    joint_probabilities = {state_vector: count / total_counts for state_vector, count in joint_counts.items()}\n",
    "\n",
    "    # Calculate the marginal probabilities\n",
    "    marginal_probabilities = {}\n",
    "    for state_vector, joint_probability in joint_probabilities.items():\n",
    "        cell_state = state_vector[4]  # The cell's state is at the center of the state vector\n",
    "        if cell_state in marginal_probabilities:\n",
    "            marginal_probabilities[cell_state] += joint_probability\n",
    "        else:\n",
    "            marginal_probabilities[cell_state] = joint_probability\n",
    "\n",
    "    # Calculate the conditional probabilities and the conditional entropy\n",
    "    conditional_entropy = 0\n",
    "    for state_vector, joint_probability in joint_probabilities.items():\n",
    "        cell_state = state_vector[4]\n",
    "        conditional_probability = joint_probability / marginal_probabilities[cell_state]\n",
    "        conditional_entropy -= conditional_probability * np.log2(conditional_probability)\n",
    "\n",
    "    return conditional_entropy\n",
    "\n",
    "#print('The conditional entropy is:', calculate_conditional_entropy_Moore(final_grid), 'for final grid with size', final_grid.shape[0], 'x', final_grid.shape[1])\n",
    "\n"
   ]
  },
  {
   "cell_type": "markdown",
   "metadata": {},
   "source": [
    "### Conditional Entropy --- Neumann Neighborhood"
   ]
  },
  {
   "cell_type": "code",
   "execution_count": 11,
   "metadata": {
    "tags": []
   },
   "outputs": [],
   "source": [
    "import numpy as np\n",
    "\n",
    "def calculate_conditional_entropy_Neumann(grid):\n",
    "    grid_size = grid.shape[0]\n",
    "    \n",
    "    # Initialize joint counts\n",
    "    joint_counts = np.zeros((4, 4, 4, 4, 4))\n",
    "\n",
    "    # Count joint occurrences of states\n",
    "    for i in range(1, grid_size - 1):\n",
    "        for j in range(1, grid_size - 1):\n",
    "            cell_state = int(grid[i, j])\n",
    "            north_state = int(grid[i - 1, j])\n",
    "            east_state = int(grid[i, j + 1])\n",
    "            south_state = int(grid[i + 1, j])\n",
    "            west_state = int(grid[i, j - 1])\n",
    "            joint_counts[cell_state, north_state, east_state, south_state, west_state] += 1\n",
    "\n",
    "    # Compute joint probabilities\n",
    "    joint_probabilities = joint_counts / np.sum(joint_counts)\n",
    "\n",
    "    # Compute conditional probabilities\n",
    "    marginal_probabilities = np.sum(joint_probabilities, axis=(1, 2, 3, 4))\n",
    "    conditional_probabilities = joint_probabilities / marginal_probabilities[:, np.newaxis, np.newaxis, np.newaxis, np.newaxis]\n",
    "\n",
    "    # Compute conditional entropy\n",
    "    conditional_entropy = -np.nansum(conditional_probabilities * np.log2(conditional_probabilities))\n",
    "    \n",
    "    return conditional_entropy\n",
    "\n",
    "# Use the function\n",
    "#conditional_entropy = calculate_conditional_entropy(final_grid)\n",
    "#print(\"Conditional Entropy:\", conditional_entropy)\n"
   ]
  },
  {
   "cell_type": "markdown",
   "metadata": {},
   "source": [
    "## ------------------------------ Start Storing Data--------------------------------"
   ]
  },
  {
   "cell_type": "code",
   "execution_count": 12,
   "metadata": {
    "tags": []
   },
   "outputs": [
    {
     "name": "stdout",
     "output_type": "stream",
     "text": [
      "Initial counts: {0: 5599, 1: 19, 2: 4, 3: 3}\n",
      "Final counts: {0: 2062, 1: 2423, 2: 787, 3: 353}\n",
      "Overall progress: 4.00%Intel MKL WARNING: Support of Intel(R) Streaming SIMD Extensions 4.2 (Intel(R) SSE4.2) enabled only processors has been deprecated. Intel oneAPI Math Kernel Library 2025.0 will require Intel(R) Advanced Vector Extensions (Intel(R) AVX) instructions.\n",
      "Initial counts: {0: 5599, 1: 19, 2: 4, 3: 3}\n",
      "Final counts: {0: 1996, 1: 2502, 2: 774, 3: 353}\n",
      "Overall progress: 8.00%Initial counts: {0: 5599, 1: 19, 2: 4, 3: 3}\n",
      "Intel MKL WARNING: Support of Intel(R) Streaming SIMD Extensions 4.2 (Intel(R) SSE4.2) enabled only processors has been deprecated. Intel oneAPI Math Kernel Library 2025.0 will require Intel(R) Advanced Vector Extensions (Intel(R) AVX) instructions.\n",
      "Final counts: {0: 1960, 1: 2537, 2: 775, 3: 353}\n",
      "Overall progress: 12.00%Initial counts: {0: 5599, 1: 19, 2: 4, 3: 3}\n",
      "Intel MKL WARNING: Support of Intel(R) Streaming SIMD Extensions 4.2 (Intel(R) SSE4.2) enabled only processors has been deprecated. Intel oneAPI Math Kernel Library 2025.0 will require Intel(R) Advanced Vector Extensions (Intel(R) AVX) instructions.\n",
      "Final counts: {0: 1890, 1: 2595, 2: 787, 3: 353}\n",
      "Overall progress: 16.00%Initial counts: {0: 5599, 1: 19, 2: 4, 3: 3}\n",
      "Intel MKL WARNING: Support of Intel(R) Streaming SIMD Extensions 4.2 (Intel(R) SSE4.2) enabled only processors has been deprecated. Intel oneAPI Math Kernel Library 2025.0 will require Intel(R) Advanced Vector Extensions (Intel(R) AVX) instructions.\n",
      "Final counts: {0: 1953, 1: 2527, 2: 792, 3: 353}\n",
      "Overall progress: 20.00%rt of Intel(R) Streaming SIMD Extensions 4.2 (Intel(R) SSE4.2) enabled only processors has been deprecated. Intel oneAPI Math Kernel Library 2025.0 will require Intel(R) Advanced Vector Extensions (Intel(R) AVX) instructions.\n",
      "Initial counts: {0: 5599, 1: 19, 2: 4, 3: 3}\n",
      "Final counts: {0: 1939, 1: 2540, 2: 793, 3: 353}\n",
      "Overall progress: 24.00%Initial counts: {0: 5599, 1: 19, 2: 4, 3: 3}\n",
      "Intel MKL WARNING: Support of Intel(R) Streaming SIMD Extensions 4.2 (Intel(R) SSE4.2) enabled only processors has been deprecated. Intel oneAPI Math Kernel Library 2025.0 will require Intel(R) Advanced Vector Extensions (Intel(R) AVX) instructions.\n",
      "Final counts: {0: 1902, 1: 2577, 2: 793, 3: 353}\n",
      "Overall progress: 28.00%Initial counts: {0: 5599, 1: 19, 2: 4, 3: 3}\n",
      "Intel MKL WARNING: Support of Intel(R) Streaming SIMD Extensions 4.2 (Intel(R) SSE4.2) enabled only processors has been deprecated. Intel oneAPI Math Kernel Library 2025.0 will require Intel(R) Advanced Vector Extensions (Intel(R) AVX) instructions.\n",
      "Final counts: {0: 2038, 1: 2466, 2: 768, 3: 353}\n",
      "Intel MKL WARNING: Support of Intel(R) Streaming SIMD Extensions 4.2 (Intel(R) SSE4.2) enabled only processors has been deprecated. Intel oneAPI Math Kernel Library 2025.0 will require Intel(R) Advanced Vector Extensions (Intel(R) AVX) instructions.\n",
      "Overall progress: 32.00%Initial counts: {0: 5599, 1: 19, 2: 4, 3: 3}\n",
      "Final counts: {0: 1938, 1: 2554, 2: 780, 3: 353}\n",
      "Overall progress: 36.00%Initial counts: {0: 5599, 1: 19, 2: 4, 3: 3}\n",
      "Intel MKL WARNING: Support of Intel(R) Streaming SIMD Extensions 4.2 (Intel(R) SSE4.2) enabled only processors has been deprecated. Intel oneAPI Math Kernel Library 2025.0 will require Intel(R) Advanced Vector Extensions (Intel(R) AVX) instructions.\n",
      "Final counts: {0: 1859, 1: 2617, 2: 796, 3: 353}\n",
      "Overall progress: 40.00%Initial counts: {0: 5599, 1: 19, 2: 4, 3: 3}\n",
      "Intel MKL WARNING: Support of Intel(R) Streaming SIMD Extensions 4.2 (Intel(R) SSE4.2) enabled only processors has been deprecated. Intel oneAPI Math Kernel Library 2025.0 will require Intel(R) Advanced Vector Extensions (Intel(R) AVX) instructions.\n",
      "Final counts: {0: 1899, 1: 2581, 2: 792, 3: 353}\n",
      "Overall progress: 44.00%Initial counts: {0: 5599, 1: 19, 2: 4, 3: 3}\n",
      "Intel MKL WARNING: Support of Intel(R) Streaming SIMD Extensions 4.2 (Intel(R) SSE4.2) enabled only processors has been deprecated. Intel oneAPI Math Kernel Library 2025.0 will require Intel(R) Advanced Vector Extensions (Intel(R) AVX) instructions.\n",
      "Final counts: {0: 1903, 1: 2571, 2: 798, 3: 353}\n",
      "Overall progress: 48.00%Initial counts: {0: 5599, 1: 19, 2: 4, 3: 3}\n",
      "Intel MKL WARNING: Support of Intel(R) Streaming SIMD Extensions 4.2 (Intel(R) SSE4.2) enabled only processors has been deprecated. Intel oneAPI Math Kernel Library 2025.0 will require Intel(R) Advanced Vector Extensions (Intel(R) AVX) instructions.\n",
      "Final counts: {0: 1914, 1: 2568, 2: 790, 3: 353}\n",
      "Overall progress: 52.00%Initial counts: {0: 5599, 1: 19, 2: 4, 3: 3}\n",
      "Intel MKL WARNING: Support of Intel(R) Streaming SIMD Extensions 4.2 (Intel(R) SSE4.2) enabled only processors has been deprecated. Intel oneAPI Math Kernel Library 2025.0 will require Intel(R) Advanced Vector Extensions (Intel(R) AVX) instructions.\n",
      "Final counts: {0: 1885, 1: 2595, 2: 792, 3: 353}\n",
      "Overall progress: 56.00%Initial counts: {0: 5599, 1: 19, 2: 4, 3: 3}\n",
      "Intel MKL WARNING: Support of Intel(R) Streaming SIMD Extensions 4.2 (Intel(R) SSE4.2) enabled only processors has been deprecated. Intel oneAPI Math Kernel Library 2025.0 will require Intel(R) Advanced Vector Extensions (Intel(R) AVX) instructions.\n",
      "Final counts: {0: 1900, 1: 2579, 2: 793, 3: 353}\n",
      "Overall progress: 60.00%Initial counts: {0: 5599, 1: 19, 2: 4, 3: 3}\n",
      "Intel MKL WARNING: Support of Intel(R) Streaming SIMD Extensions 4.2 (Intel(R) SSE4.2) enabled only processors has been deprecated. Intel oneAPI Math Kernel Library 2025.0 will require Intel(R) Advanced Vector Extensions (Intel(R) AVX) instructions.\n",
      "Final counts: {0: 1954, 1: 2522, 2: 796, 3: 353}\n",
      "Intel MKL WARNING: Support of Intel(R) Streaming SIMD Extensions 4.2 (Intel(R) SSE4.2) enabled only processors has been deprecated. Intel oneAPI Math Kernel Library 2025.0 will require Intel(R) Advanced Vector Extensions (Intel(R) AVX) instructions.\n",
      "Overall progress: 64.00%Initial counts: {0: 5599, 1: 19, 2: 4, 3: 3}\n",
      "Final counts: {0: 1947, 1: 2530, 2: 795, 3: 353}\n",
      "Intel MKL WARNING: Support of Intel(R) Streaming SIMD Extensions 4.2 (Intel(R) SSE4.2) enabled only processors has been deprecated. Intel oneAPI Math Kernel Library 2025.0 will require Intel(R) Advanced Vector Extensions (Intel(R) AVX) instructions.\n",
      "Overall progress: 68.00%Initial counts: {0: 5599, 1: 19, 2: 4, 3: 3}\n",
      "Final counts: {0: 1953, 1: 2532, 2: 787, 3: 353}\n",
      "Overall progress: 72.00%Initial counts: {0: 5599, 1: 19, 2: 4, 3: 3}\n",
      "Intel MKL WARNING: Support of Intel(R) Streaming SIMD Extensions 4.2 (Intel(R) SSE4.2) enabled only processors has been deprecated. Intel oneAPI Math Kernel Library 2025.0 will require Intel(R) Advanced Vector Extensions (Intel(R) AVX) instructions.\n",
      "Final counts: {0: 1927, 1: 2553, 2: 792, 3: 353}\n",
      "Overall progress: 76.00%Initial counts: {0: 5599, 1: 19, 2: 4, 3: 3}\n",
      "Intel MKL WARNING: Support of Intel(R) Streaming SIMD Extensions 4.2 (Intel(R) SSE4.2) enabled only processors has been deprecated. Intel oneAPI Math Kernel Library 2025.0 will require Intel(R) Advanced Vector Extensions (Intel(R) AVX) instructions.\n",
      "Final counts: {0: 1918, 1: 2562, 2: 792, 3: 353}\n",
      "Overall progress: 80.00%Initial counts: {0: 5599, 1: 19, 2: 4, 3: 3}\n",
      "Intel MKL WARNING: Support of Intel(R) Streaming SIMD Extensions 4.2 (Intel(R) SSE4.2) enabled only processors has been deprecated. Intel oneAPI Math Kernel Library 2025.0 will require Intel(R) Advanced Vector Extensions (Intel(R) AVX) instructions.\n",
      "Final counts: {0: 1930, 1: 2549, 2: 793, 3: 353}\n",
      "Intel MKL WARNING: Support of Intel(R) Streaming SIMD Extensions 4.2 (Intel(R) SSE4.2) enabled only processors has been deprecated. Intel oneAPI Math Kernel Library 2025.0 will require Intel(R) Advanced Vector Extensions (Intel(R) AVX) instructions.\n",
      "Overall progress: 84.00%Initial counts: {0: 5599, 1: 19, 2: 4, 3: 3}\n",
      "Final counts: {0: 1958, 1: 2530, 2: 784, 3: 353}\n",
      "Overall progress: 88.00%Initial counts: {0: 5599, 1: 19, 2: 4, 3: 3}\n",
      "Intel MKL WARNING: Support of Intel(R) Streaming SIMD Extensions 4.2 (Intel(R) SSE4.2) enabled only processors has been deprecated. Intel oneAPI Math Kernel Library 2025.0 will require Intel(R) Advanced Vector Extensions (Intel(R) AVX) instructions.\n",
      "Final counts: {0: 1934, 1: 2544, 2: 794, 3: 353}\n",
      "Overall progress: 92.00%Initial counts: {0: 5599, 1: 19, 2: 4, 3: 3}\n",
      "Intel MKL WARNING: Support of Intel(R) Streaming SIMD Extensions 4.2 (Intel(R) SSE4.2) enabled only processors has been deprecated. Intel oneAPI Math Kernel Library 2025.0 will require Intel(R) Advanced Vector Extensions (Intel(R) AVX) instructions.\n",
      "Final counts: {0: 1938, 1: 2546, 2: 788, 3: 353}\n",
      "Overall progress: 96.00%Initial counts: {0: 5599, 1: 19, 2: 4, 3: 3}\n",
      "Intel MKL WARNING: Support of Intel(R) Streaming SIMD Extensions 4.2 (Intel(R) SSE4.2) enabled only processors has been deprecated. Intel oneAPI Math Kernel Library 2025.0 will require Intel(R) Advanced Vector Extensions (Intel(R) AVX) instructions.\n",
      "Final counts: {0: 1943, 1: 2547, 2: 782, 3: 353}\n",
      "Overall progress: 100.00%\n",
      "Simulation completed!\n",
      "Intel MKL WARNING: Support of Intel(R) Streaming SIMD Extensions 4.2 (Intel(R) SSE4.2) enabled only processors has been deprecated. Intel oneAPI Math Kernel Library 2025.0 will require Intel(R) Advanced Vector Extensions (Intel(R) AVX) instructions.\n"
     ]
    }
   ],
   "source": [
    "def run_simulation_with_clustering(seed, grid_size, alpha, growth_rates, radius, num_iterations):\n",
    "    # Run the simulation\n",
    "    grid = initial_land_use(seed_number=seed, grid_size=grid_size, plot=False)\n",
    "    final_grid = run_simulation(grid, weights_table, alpha=alpha, growth_rates=growth_rates, radius=radius, seed=seed, num_iterations=num_iterations)\n",
    "\n",
    "    # Compute cluster sizes\n",
    "    clusters = run_clustering(final_grid)\n",
    "    clusters['growth_rate_H'] = growth_rates['H']\n",
    "    clusters['growth_rate_I'] = growth_rates['I']\n",
    "    clusters['growth_rate_C'] = growth_rates['C']\n",
    "    clusters['seed'] = seed\n",
    "    clusters['alpha'] = alpha\n",
    "    return clusters, final_grid\n",
    "\n",
    "\n",
    "\n",
    "\n",
    "def run_multiple_simulations(params):\n",
    "    all_clusters = pd.DataFrame()\n",
    "    num_total_simulations = (\n",
    "        len(params['growth_rate_values_H'])\n",
    "        * len(params['growth_rate_values_I'])\n",
    "        * len(params['growth_rate_values_C'])\n",
    "        * len(params['alpha_values'])\n",
    "    )\n",
    "    current_simulation = 0\n",
    "\n",
    "    for growth_rate_H in params['growth_rate_values_H']:\n",
    "        for growth_rate_I in params['growth_rate_values_I']:\n",
    "            for growth_rate_C in params['growth_rate_values_C']:\n",
    "                for alpha in params['alpha_values']:\n",
    "                    growth_rates = {'H': growth_rate_H, 'I': growth_rate_I, 'C': growth_rate_C}\n",
    "                    clusters, final_grid = run_simulation_with_clustering(params['seed'], params['grid_size'], alpha, growth_rates, params['radius'], params['num_iterations'])\n",
    "                    \n",
    "                    # Compute conditional entropy\n",
    "                    condi_entropy = calculate_conditional_entropy_Moore(final_grid)\n",
    "                    \n",
    "                    # Compute fractal dimension\n",
    "                    fractal_d, _, _, _ = fractal_dimension(final_grid)\n",
    "                    \n",
    "                    # Add conditional entropy and fractal dimension to the DataFrame\n",
    "                    clusters['conditional_entropy'] = pd.Series([condi_entropy]*len(clusters), index=clusters.index)\n",
    "                    clusters['fractal_dimension'] = pd.Series([fractal_d[0]]*len(clusters), index=clusters.index)\n",
    "\n",
    "                    all_clusters = pd.concat([all_clusters, clusters])\n",
    "\n",
    "                    # Update and print the overall progress\n",
    "                    current_simulation += 1\n",
    "                    percentage_done = (current_simulation / num_total_simulations) * 100\n",
    "                    print(f\"\\rOverall progress: {percentage_done:.2f}%\", end='')\n",
    "\n",
    "    print(\"\\nSimulation completed!\")\n",
    "      \n",
    "    if params['export_csv']:\n",
    "        all_clusters.to_csv('CA_simulation_data.csv', index=False)\n",
    "        \n",
    "    if params['plot']:\n",
    "        for land_use_type in all_clusters['cell_type'].unique():\n",
    "            cluster_sizes = all_clusters[all_clusters['cell_type'] == land_use_type]['Cluster_size']\n",
    "            cluster_counts = all_clusters[all_clusters['cell_type'] == land_use_type]['Cluster_count']\n",
    "            plt.scatter(cluster_sizes, cluster_counts)\n",
    "            plt.yscale('log')\n",
    "            plt.xscale('log')\n",
    "            plt.title(f'Cluster Sizes for Land Use Type {land_use_type}')\n",
    "            plt.xlabel('Cluster Size')\n",
    "            plt.ylabel('Frequency')\n",
    "            plt.show()\n",
    "            \n",
    "    return all_clusters\n",
    "\n",
    "\n",
    "params = {\n",
    "    'growth_rate_values_H': [0.01],\n",
    "    'growth_rate_values_I': [0.003],\n",
    "    'growth_rate_values_C': [0.0013]  , # adjust this  [0.0013, 0.00136, 0.00142, 0.00148, 0.00154]\n",
    "    'alpha_values': [1.0, 1.125, 1.25, 1.375, 1.5, 1.625, 1.75, 1.875, 2.0, 2.125, 2.25, 2.375, 2.5, 2.625, 2.75, 2.875, 3.0, 3.125, 3.25, 3.375, 3.5, 3.625, 3.75, 3.875, 4.0], # change this to the string as shown in the Whatapp chat\n",
    "    'seed': 4, # change this number, for whatever you like (@ v @ ~). \n",
    "    'grid_size': 75,\n",
    "    'radius': 6,\n",
    "    'num_iterations': 50,\n",
    "    'export_csv': True,\n",
    "    'plot': False\n",
    "}\n",
    "\n",
    "all_clusters = run_multiple_simulations(params)\n"
   ]
  },
  {
   "cell_type": "code",
   "execution_count": 14,
   "metadata": {
    "tags": []
   },
   "outputs": [
    {
     "data": {
      "text/html": [
       "<div>\n",
       "<style scoped>\n",
       "    .dataframe tbody tr th:only-of-type {\n",
       "        vertical-align: middle;\n",
       "    }\n",
       "\n",
       "    .dataframe tbody tr th {\n",
       "        vertical-align: top;\n",
       "    }\n",
       "\n",
       "    .dataframe thead th {\n",
       "        text-align: right;\n",
       "    }\n",
       "</style>\n",
       "<table border=\"1\" class=\"dataframe\">\n",
       "  <thead>\n",
       "    <tr style=\"text-align: right;\">\n",
       "      <th></th>\n",
       "      <th>Cluster_size</th>\n",
       "      <th>Cluster_count</th>\n",
       "      <th>cell_type</th>\n",
       "      <th>growth_rate_H</th>\n",
       "      <th>growth_rate_I</th>\n",
       "      <th>growth_rate_C</th>\n",
       "      <th>seed</th>\n",
       "      <th>alpha</th>\n",
       "      <th>conditional_entropy</th>\n",
       "      <th>fractal_dimension</th>\n",
       "    </tr>\n",
       "  </thead>\n",
       "  <tbody>\n",
       "    <tr>\n",
       "      <th>0</th>\n",
       "      <td>1.0</td>\n",
       "      <td>16.0</td>\n",
       "      <td>1.0</td>\n",
       "      <td>0.01</td>\n",
       "      <td>0.003</td>\n",
       "      <td>0.0013</td>\n",
       "      <td>4</td>\n",
       "      <td>1.0</td>\n",
       "      <td>10.721076</td>\n",
       "      <td>2.135918</td>\n",
       "    </tr>\n",
       "    <tr>\n",
       "      <th>1</th>\n",
       "      <td>2.0</td>\n",
       "      <td>1.0</td>\n",
       "      <td>1.0</td>\n",
       "      <td>0.01</td>\n",
       "      <td>0.003</td>\n",
       "      <td>0.0013</td>\n",
       "      <td>4</td>\n",
       "      <td>1.0</td>\n",
       "      <td>10.721076</td>\n",
       "      <td>2.135918</td>\n",
       "    </tr>\n",
       "    <tr>\n",
       "      <th>2</th>\n",
       "      <td>242.0</td>\n",
       "      <td>1.0</td>\n",
       "      <td>1.0</td>\n",
       "      <td>0.01</td>\n",
       "      <td>0.003</td>\n",
       "      <td>0.0013</td>\n",
       "      <td>4</td>\n",
       "      <td>1.0</td>\n",
       "      <td>10.721076</td>\n",
       "      <td>2.135918</td>\n",
       "    </tr>\n",
       "    <tr>\n",
       "      <th>3</th>\n",
       "      <td>2163.0</td>\n",
       "      <td>1.0</td>\n",
       "      <td>1.0</td>\n",
       "      <td>0.01</td>\n",
       "      <td>0.003</td>\n",
       "      <td>0.0013</td>\n",
       "      <td>4</td>\n",
       "      <td>1.0</td>\n",
       "      <td>10.721076</td>\n",
       "      <td>2.135918</td>\n",
       "    </tr>\n",
       "    <tr>\n",
       "      <th>0</th>\n",
       "      <td>1.0</td>\n",
       "      <td>11.0</td>\n",
       "      <td>2.0</td>\n",
       "      <td>0.01</td>\n",
       "      <td>0.003</td>\n",
       "      <td>0.0013</td>\n",
       "      <td>4</td>\n",
       "      <td>1.0</td>\n",
       "      <td>10.721076</td>\n",
       "      <td>2.135918</td>\n",
       "    </tr>\n",
       "    <tr>\n",
       "      <th>...</th>\n",
       "      <td>...</td>\n",
       "      <td>...</td>\n",
       "      <td>...</td>\n",
       "      <td>...</td>\n",
       "      <td>...</td>\n",
       "      <td>...</td>\n",
       "      <td>...</td>\n",
       "      <td>...</td>\n",
       "      <td>...</td>\n",
       "      <td>...</td>\n",
       "    </tr>\n",
       "    <tr>\n",
       "      <th>6</th>\n",
       "      <td>7.0</td>\n",
       "      <td>2.0</td>\n",
       "      <td>3.0</td>\n",
       "      <td>0.01</td>\n",
       "      <td>0.003</td>\n",
       "      <td>0.0013</td>\n",
       "      <td>4</td>\n",
       "      <td>4.0</td>\n",
       "      <td>37.246368</td>\n",
       "      <td>2.047321</td>\n",
       "    </tr>\n",
       "    <tr>\n",
       "      <th>7</th>\n",
       "      <td>8.0</td>\n",
       "      <td>1.0</td>\n",
       "      <td>3.0</td>\n",
       "      <td>0.01</td>\n",
       "      <td>0.003</td>\n",
       "      <td>0.0013</td>\n",
       "      <td>4</td>\n",
       "      <td>4.0</td>\n",
       "      <td>37.246368</td>\n",
       "      <td>2.047321</td>\n",
       "    </tr>\n",
       "    <tr>\n",
       "      <th>8</th>\n",
       "      <td>18.0</td>\n",
       "      <td>1.0</td>\n",
       "      <td>3.0</td>\n",
       "      <td>0.01</td>\n",
       "      <td>0.003</td>\n",
       "      <td>0.0013</td>\n",
       "      <td>4</td>\n",
       "      <td>4.0</td>\n",
       "      <td>37.246368</td>\n",
       "      <td>2.047321</td>\n",
       "    </tr>\n",
       "    <tr>\n",
       "      <th>9</th>\n",
       "      <td>48.0</td>\n",
       "      <td>1.0</td>\n",
       "      <td>3.0</td>\n",
       "      <td>0.01</td>\n",
       "      <td>0.003</td>\n",
       "      <td>0.0013</td>\n",
       "      <td>4</td>\n",
       "      <td>4.0</td>\n",
       "      <td>37.246368</td>\n",
       "      <td>2.047321</td>\n",
       "    </tr>\n",
       "    <tr>\n",
       "      <th>10</th>\n",
       "      <td>55.0</td>\n",
       "      <td>1.0</td>\n",
       "      <td>3.0</td>\n",
       "      <td>0.01</td>\n",
       "      <td>0.003</td>\n",
       "      <td>0.0013</td>\n",
       "      <td>4</td>\n",
       "      <td>4.0</td>\n",
       "      <td>37.246368</td>\n",
       "      <td>2.047321</td>\n",
       "    </tr>\n",
       "  </tbody>\n",
       "</table>\n",
       "<p>934 rows × 10 columns</p>\n",
       "</div>"
      ],
      "text/plain": [
       "    Cluster_size  Cluster_count  cell_type  growth_rate_H  growth_rate_I  \\\n",
       "0            1.0           16.0        1.0           0.01          0.003   \n",
       "1            2.0            1.0        1.0           0.01          0.003   \n",
       "2          242.0            1.0        1.0           0.01          0.003   \n",
       "3         2163.0            1.0        1.0           0.01          0.003   \n",
       "0            1.0           11.0        2.0           0.01          0.003   \n",
       "..           ...            ...        ...            ...            ...   \n",
       "6            7.0            2.0        3.0           0.01          0.003   \n",
       "7            8.0            1.0        3.0           0.01          0.003   \n",
       "8           18.0            1.0        3.0           0.01          0.003   \n",
       "9           48.0            1.0        3.0           0.01          0.003   \n",
       "10          55.0            1.0        3.0           0.01          0.003   \n",
       "\n",
       "    growth_rate_C  seed  alpha  conditional_entropy  fractal_dimension  \n",
       "0          0.0013     4    1.0            10.721076           2.135918  \n",
       "1          0.0013     4    1.0            10.721076           2.135918  \n",
       "2          0.0013     4    1.0            10.721076           2.135918  \n",
       "3          0.0013     4    1.0            10.721076           2.135918  \n",
       "0          0.0013     4    1.0            10.721076           2.135918  \n",
       "..            ...   ...    ...                  ...                ...  \n",
       "6          0.0013     4    4.0            37.246368           2.047321  \n",
       "7          0.0013     4    4.0            37.246368           2.047321  \n",
       "8          0.0013     4    4.0            37.246368           2.047321  \n",
       "9          0.0013     4    4.0            37.246368           2.047321  \n",
       "10         0.0013     4    4.0            37.246368           2.047321  \n",
       "\n",
       "[934 rows x 10 columns]"
      ]
     },
     "execution_count": 14,
     "metadata": {},
     "output_type": "execute_result"
    }
   ],
   "source": [
    "all_clusters"
   ]
  },
  {
   "cell_type": "code",
   "execution_count": 31,
   "metadata": {
    "tags": []
   },
   "outputs": [
    {
     "data": {
      "text/html": [
       "<div>\n",
       "<style scoped>\n",
       "    .dataframe tbody tr th:only-of-type {\n",
       "        vertical-align: middle;\n",
       "    }\n",
       "\n",
       "    .dataframe tbody tr th {\n",
       "        vertical-align: top;\n",
       "    }\n",
       "\n",
       "    .dataframe thead th {\n",
       "        text-align: right;\n",
       "    }\n",
       "</style>\n",
       "<table border=\"1\" class=\"dataframe\">\n",
       "  <thead>\n",
       "    <tr style=\"text-align: right;\">\n",
       "      <th>alpha</th>\n",
       "      <th>1.000</th>\n",
       "      <th>1.125</th>\n",
       "      <th>1.250</th>\n",
       "      <th>1.375</th>\n",
       "      <th>1.500</th>\n",
       "      <th>1.625</th>\n",
       "      <th>1.750</th>\n",
       "      <th>1.875</th>\n",
       "      <th>2.000</th>\n",
       "      <th>2.125</th>\n",
       "      <th>...</th>\n",
       "      <th>2.875</th>\n",
       "      <th>3.000</th>\n",
       "      <th>3.125</th>\n",
       "      <th>3.250</th>\n",
       "      <th>3.375</th>\n",
       "      <th>3.500</th>\n",
       "      <th>3.625</th>\n",
       "      <th>3.750</th>\n",
       "      <th>3.875</th>\n",
       "      <th>4.000</th>\n",
       "    </tr>\n",
       "    <tr>\n",
       "      <th>growth_rate_C</th>\n",
       "      <th></th>\n",
       "      <th></th>\n",
       "      <th></th>\n",
       "      <th></th>\n",
       "      <th></th>\n",
       "      <th></th>\n",
       "      <th></th>\n",
       "      <th></th>\n",
       "      <th></th>\n",
       "      <th></th>\n",
       "      <th></th>\n",
       "      <th></th>\n",
       "      <th></th>\n",
       "      <th></th>\n",
       "      <th></th>\n",
       "      <th></th>\n",
       "      <th></th>\n",
       "      <th></th>\n",
       "      <th></th>\n",
       "      <th></th>\n",
       "      <th></th>\n",
       "    </tr>\n",
       "  </thead>\n",
       "  <tbody>\n",
       "    <tr>\n",
       "      <th>0.0013</th>\n",
       "      <td>2.135918</td>\n",
       "      <td>2.145148</td>\n",
       "      <td>2.144972</td>\n",
       "      <td>2.145939</td>\n",
       "      <td>2.146693</td>\n",
       "      <td>2.139953</td>\n",
       "      <td>2.123846</td>\n",
       "      <td>2.101956</td>\n",
       "      <td>2.078972</td>\n",
       "      <td>2.083718</td>\n",
       "      <td>...</td>\n",
       "      <td>2.052031</td>\n",
       "      <td>2.040444</td>\n",
       "      <td>2.03808</td>\n",
       "      <td>2.050182</td>\n",
       "      <td>2.042196</td>\n",
       "      <td>2.042491</td>\n",
       "      <td>2.024837</td>\n",
       "      <td>2.040958</td>\n",
       "      <td>2.033518</td>\n",
       "      <td>2.047321</td>\n",
       "    </tr>\n",
       "  </tbody>\n",
       "</table>\n",
       "<p>1 rows × 25 columns</p>\n",
       "</div>"
      ],
      "text/plain": [
       "alpha             1.000     1.125     1.250     1.375     1.500     1.625  \\\n",
       "growth_rate_C                                                               \n",
       "0.0013         2.135918  2.145148  2.144972  2.145939  2.146693  2.139953   \n",
       "\n",
       "alpha             1.750     1.875     2.000     2.125  ...     2.875  \\\n",
       "growth_rate_C                                          ...             \n",
       "0.0013         2.123846  2.101956  2.078972  2.083718  ...  2.052031   \n",
       "\n",
       "alpha             3.000    3.125     3.250     3.375     3.500     3.625  \\\n",
       "growth_rate_C                                                              \n",
       "0.0013         2.040444  2.03808  2.050182  2.042196  2.042491  2.024837   \n",
       "\n",
       "alpha             3.750     3.875     4.000  \n",
       "growth_rate_C                                \n",
       "0.0013         2.040958  2.033518  2.047321  \n",
       "\n",
       "[1 rows x 25 columns]"
      ]
     },
     "execution_count": 31,
     "metadata": {},
     "output_type": "execute_result"
    }
   ],
   "source": [
    "\n",
    "test = all_clusters.loc[:,['growth_rate_C','alpha','fractal_dimension']].drop_duplicates().pivot(index='growth_rate_C', columns='alpha', values='fractal_dimension')\n",
    "test"
   ]
  },
  {
   "cell_type": "code",
   "execution_count": null,
   "metadata": {},
   "outputs": [],
   "source": []
  }
 ],
 "metadata": {
  "kernelspec": {
   "display_name": "Python 3 (ipykernel)",
   "language": "python",
   "name": "python3"
  },
  "language_info": {
   "codemirror_mode": {
    "name": "ipython",
    "version": 3
   },
   "file_extension": ".py",
   "mimetype": "text/x-python",
   "name": "python",
   "nbconvert_exporter": "python",
   "pygments_lexer": "ipython3",
   "version": "3.9.13"
  }
 },
 "nbformat": 4,
 "nbformat_minor": 4
}
