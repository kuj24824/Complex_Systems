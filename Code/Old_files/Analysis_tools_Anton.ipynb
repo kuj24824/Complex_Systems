{
 "cells": [
  {
   "cell_type": "code",
   "execution_count": 1,
   "id": "dac11bc1",
   "metadata": {
    "tags": []
   },
   "outputs": [
    {
     "name": "stdout",
     "output_type": "stream",
     "text": [
      "Intel MKL WARNING: Support of Intel(R) Streaming SIMD Extensions 4.2 (Intel(R) SSE4.2) enabled only processors has been deprecated. Intel oneAPI Math Kernel Library 2025.0 will require Intel(R) Advanced Vector Extensions (Intel(R) AVX) instructions.\n",
      "Intel MKL WARNING: Support of Intel(R) Streaming SIMD Extensions 4.2 (Intel(R) SSE4.2) enabled only processors has been deprecated. Intel oneAPI Math Kernel Library 2025.0 will require Intel(R) Advanced Vector Extensions (Intel(R) AVX) instructions.\n"
     ]
    }
   ],
   "source": [
    "import numpy as np\n",
    "import math\n",
    "import matplotlib.pyplot as plt\n",
    "import pandas as pd\n",
    "import powerlaw\n"
   ]
  },
  {
   "cell_type": "code",
   "execution_count": 2,
   "id": "0a3e6b94-b23c-4393-9b4b-afab2ac14f13",
   "metadata": {
    "tags": []
   },
   "outputs": [],
   "source": [
    "# Hoshen-Kopelman Clustering algorithm\n",
    "#https://en.wikipedia.org/wiki/Hoshen–Kopelman_algorithm"
   ]
  },
  {
   "cell_type": "code",
   "execution_count": 3,
   "id": "956f1c7c-cd73-4d17-af51-be45e8321f19",
   "metadata": {
    "tags": []
   },
   "outputs": [
    {
     "name": "stdout",
     "output_type": "stream",
     "text": [
      "[[2 1 1 1 0 0 2 2 3 1]\n",
      " [0 1 1 0 1 1 2 3 3 1]\n",
      " [0 0 0 1 2 3 1 1 3 2]\n",
      " [0 2 2 1 0 1 3 3 0 3]\n",
      " [2 3 2 3 2 1 0 3 1 2]\n",
      " [2 3 1 2 0 0 2 0 1 1]\n",
      " [1 3 2 1 1 1 3 3 2 2]\n",
      " [0 2 0 1 1 1 1 1 3 1]\n",
      " [2 2 0 0 1 2 3 3 0 1]\n",
      " [3 3 3 2 3 2 3 1 2 1]]\n",
      "[[ 0.  1.  1.  1.  0.  0.  0.  0.  0.  2.]\n",
      " [ 0.  1.  1.  0.  3.  3.  0.  0.  0.  2.]\n",
      " [ 0.  0.  0.  4.  0.  0.  5.  5.  0.  0.]\n",
      " [ 0.  0.  0.  4.  0.  6.  0.  0.  0.  0.]\n",
      " [ 0.  0.  0.  0.  0.  6.  0.  0.  7.  0.]\n",
      " [ 0.  0.  8.  0.  0.  0.  0.  0.  7.  7.]\n",
      " [ 9.  0.  0. 10. 10. 10.  0.  0.  0.  0.]\n",
      " [ 0.  0.  0. 10. 10. 10. 10. 10.  0. 11.]\n",
      " [ 0.  0.  0.  0. 10.  0.  0.  0.  0. 11.]\n",
      " [ 0.  0.  0.  0.  0.  0.  0. 12.  0. 11.]]\n",
      "[[ 1.  0.  0.  0.  0.  0.  2.  2.  0.  0.]\n",
      " [ 0.  0.  0.  0.  0.  0.  2.  0.  0.  0.]\n",
      " [ 0.  0.  0.  0.  3.  0.  0.  0.  0.  4.]\n",
      " [ 0.  5.  5.  0.  0.  0.  0.  0.  0.  0.]\n",
      " [ 6.  0.  5.  0.  7.  0.  0.  0.  0.  8.]\n",
      " [ 6.  0.  0.  9.  0.  0. 10.  0.  0.  0.]\n",
      " [ 0.  0. 11.  0.  0.  0.  0.  0. 12. 12.]\n",
      " [ 0. 13.  0.  0.  0.  0.  0.  0.  0.  0.]\n",
      " [13. 13.  0.  0.  0. 15.  0.  0.  0.  0.]\n",
      " [ 0.  0.  0. 16.  0. 15.  0.  0. 17.  0.]]\n",
      "[[ 0.  0.  0.  0.  0.  0.  0.  0.  1.  0.]\n",
      " [ 0.  0.  0.  0.  0.  0.  0.  1.  1.  0.]\n",
      " [ 0.  0.  0.  0.  0.  3.  0.  0.  1.  0.]\n",
      " [ 0.  0.  0.  0.  0.  0.  4.  4.  0.  5.]\n",
      " [ 0.  6.  0.  7.  0.  0.  0.  4.  0.  0.]\n",
      " [ 0.  6.  0.  0.  0.  0.  0.  0.  0.  0.]\n",
      " [ 0.  6.  0.  0.  0.  0.  8.  8.  0.  0.]\n",
      " [ 0.  0.  0.  0.  0.  0.  0.  0.  9.  0.]\n",
      " [ 0.  0.  0.  0.  0.  0. 10. 10.  0.  0.]\n",
      " [11. 11. 11.  0. 12.  0. 10.  0.  0.  0.]]\n",
      "   Cluster_size  Cluster_count  cell_type\n",
      "0           1.0            3.0        1.0\n",
      "1           2.0            5.0        1.0\n",
      "2           3.0            2.0        1.0\n",
      "3           5.0            1.0        1.0\n",
      "4           9.0            1.0        1.0\n",
      "0           1.0           10.0        2.0\n",
      "1           2.0            3.0        2.0\n",
      "2           3.0            3.0        2.0\n",
      "0           1.0            5.0        3.0\n",
      "1           2.0            1.0        3.0\n",
      "2           3.0            4.0        3.0\n",
      "3           4.0            1.0        3.0\n"
     ]
    },
    {
     "data": {
      "image/png": "[encoded data removed]",
      "text/plain": [
       "<Figure size 640x480 with 1 Axes>"
      ]
     },
     "metadata": {},
     "output_type": "display_data"
    }
   ],
   "source": [
    "def clustering(m, rtype):\n",
    "    \"\"\" Algorithm for finding clusters and labeling them. \n",
    "    INPUT: Matrix m with occupied 1 and unoccupied 0\"\"\"\n",
    "    assert type(rtype) == int\n",
    "    assert m.shape[0] == m.shape[1]\n",
    "    \n",
    "    dim = m.shape[0]\n",
    "    largest_label = 0\n",
    "    label = np.zeros([dim, dim])\n",
    "    for x in range(dim):\n",
    "        for y in range(dim):\n",
    "            above = m[x-1, y]\n",
    "            left = m[x, y-1]\n",
    "            # For the boundary conditions, set above and left to zero.\n",
    "            if x == 0:\n",
    "                above = 0\n",
    "            if y == 0:\n",
    "                left = 0\n",
    "            # Assign cluster IDs according to neighbours   \n",
    "            if m[x,y] == rtype:\n",
    "                if above != rtype and left != rtype: # no neighbors, new cluster id\n",
    "                    largest_label += 1\n",
    "                    label[x,y] = largest_label\n",
    "                elif above == rtype and left != rtype: # cluster extends from above, change id\n",
    "                    label[x,y] = label[x-1,y]\n",
    "                elif above != rtype and left == rtype: # cluster extends from left, change id\n",
    "                    label[x,y] = label[x,y-1]\n",
    "                elif above == rtype and left == rtype: # both belong to cluster, make a union\n",
    "                    m, label = cluster_union(m, label, x, y)             \n",
    "    return label\n",
    "            \n",
    "def cluster_union(m, label, x, y):\n",
    "    \"\"\"\n",
    "    Union the two clusters and labels both clusters the same.\n",
    "    \"\"\"\n",
    "    if label[x-1,y] == label[x,y-1]: # If labels are the same, then set x,y as same label\n",
    "        label[x,y] = label[x-1,y]\n",
    "        return m, label\n",
    "    else: # else different clusters so rename one\n",
    "        new_id, old_id = np.min([label[x-1,y], label[x,y-1]]), np.max([label[x-1,y], label[x,y-1]])\n",
    "        label[x,y] = new_id # set label of current x,y\n",
    "        label[label == old_id] = new_id # change all old IDs to the new one\n",
    "    return m, label\n",
    "\n",
    "def run_clustering(m):\n",
    "    \"\"\"\n",
    "    Runs the clustering algorithm for each of the cell types, returns a pandas dataframe with the columns cluster size, count, id.\n",
    "    INPUT: the matrix with the different IDs in the cells. \n",
    "    \"\"\"\n",
    "    clusters = pd.DataFrame()\n",
    "    # Run each of the cluster types in a loop\n",
    "    for i in np.unique(m)[1:]: # not the zeros\n",
    "        cluster_ids = clustering(m, int(i))\n",
    "        cluster_size = np.unique(cluster_ids, return_counts=True) # count size of clusters in matrix of cell types\n",
    "        size, count = np.unique(cluster_size[1][1:], return_counts=True) # select only the cells that contain something (first element is empty)\n",
    "        # f\n",
    "        clusters = pd.concat([clusters, pd.DataFrame([size, count, i * np.ones(len(count))]).T], axis = 0)\n",
    "        print(cluster_ids)\n",
    "    clusters.columns = ['Cluster_size','Cluster_count','cell_type']\n",
    "    return clusters\n",
    "\n",
    "m = np.random.randint(0,4, (10,10), dtype=int)\n",
    "print(m)\n",
    "x = run_clustering(m)\n",
    "print(x)\n",
    "# Just testing the log plotting\n",
    "plt.scatter(x.Cluster_size, x.Cluster_count)\n",
    "plt.yscale('log'), plt.xscale('log')\n",
    "plt.show()\n",
    "\n",
    "\n",
    "\n",
    "\n"
   ]
  },
  {
   "cell_type": "code",
   "execution_count": 6,
   "id": "79f22575-fec3-4427-b715-0023455d104b",
   "metadata": {
    "tags": []
   },
   "outputs": [
    {
     "ename": "NameError",
     "evalue": "name 'xx' is not defined",
     "output_type": "error",
     "traceback": [
      "\u001b[0;31m---------------------------------------------------------------------------\u001b[0m",
      "\u001b[0;31mNameError\u001b[0m                                 Traceback (most recent call last)",
      "Cell \u001b[0;32mIn[6], line 4\u001b[0m\n\u001b[1;32m      1\u001b[0m \u001b[38;5;28;01mdef\u001b[39;00m \u001b[38;5;21mpower_law\u001b[39m(x, a, b):\n\u001b[1;32m      2\u001b[0m     \u001b[38;5;28;01mreturn\u001b[39;00m a\u001b[38;5;241m*\u001b[39mnp\u001b[38;5;241m.\u001b[39mpower(x, b)\n\u001b[0;32m----> 4\u001b[0m pars, cov \u001b[38;5;241m=\u001b[39m curve_fit(f\u001b[38;5;241m=\u001b[39mpower_law, ydata\u001b[38;5;241m=\u001b[39mnp\u001b[38;5;241m.\u001b[39mlog(\u001b[43mxx\u001b[49m\u001b[38;5;241m.\u001b[39mCluster_size), xdata\u001b[38;5;241m=\u001b[39mnp\u001b[38;5;241m.\u001b[39mlog(xx\u001b[38;5;241m.\u001b[39mCluster_count), p0\u001b[38;5;241m=\u001b[39m[\u001b[38;5;241m0\u001b[39m, \u001b[38;5;241m0\u001b[39m], bounds\u001b[38;5;241m=\u001b[39m(\u001b[38;5;241m-\u001b[39mnp\u001b[38;5;241m.\u001b[39minf, np\u001b[38;5;241m.\u001b[39minf))\n\u001b[1;32m      5\u001b[0m \u001b[38;5;28mprint\u001b[39m(pars, cov)\n\u001b[1;32m      6\u001b[0m xx \u001b[38;5;241m=\u001b[39m x[x\u001b[38;5;241m.\u001b[39mcell_type \u001b[38;5;241m==\u001b[39m \u001b[38;5;241m1\u001b[39m]\n",
      "\u001b[0;31mNameError\u001b[0m: name 'xx' is not defined"
     ]
    }
   ],
   "source": [
    "def power_law(x, a, b):\n",
    "    return a*np.power(x, b)\n",
    "\n",
    "pars, cov = curve_fit(f=power_law, ydata=np.log(xx.Cluster_size), xdata=np.log(xx.Cluster_count), p0=[0, 0], bounds=(-np.inf, np.inf))\n",
    "print(pars, cov)\n",
    "xx = x[x.cell_type == 1]\n",
    "\n",
    "np.log(xx.Cluster_count)"
   ]
  },
  {
   "cell_type": "code",
   "execution_count": null,
   "id": "8be33c7d-28d0-47ad-8d76-a1f0a5fb616b",
   "metadata": {
    "jupyter": {
     "source_hidden": true
    },
    "tags": []
   },
   "outputs": [],
   "source": [
    "# Fractal Dimension from occupancy rate and radius from centre.\n",
    "from scipy.optimize import least_squares\n",
    "\n",
    "\n",
    "def fractal_dimension(m, centre, radius):\n",
    "    \"\"\"\n",
    "    Calculates the fractal dimension of the occupancy for each radius\n",
    "    \"\"\"\n",
    "    dim = m.shape[0] # get the array dimension\n",
    "    distance = np.zeros([dim,dim])\n",
    "    radius = np.zeros(10,2)\n",
    "    radius[:,0] = range(10) # sets the range to loop over for occupancy\n",
    "    for i in range(dim):\n",
    "        for j in range(dim):\n",
    "            distance[i,j] = np.sqrt((centre[0] - i) ** 2 + (centre[1] - j) ** 2)\n",
    "    # logic is to filter spots within distance, then multiply with m matrix to find spots where there are occupants\n",
    "    # assuming empty spots are marked with zero and sum the spots within raidus and with occupants.\n",
    "    for r in radius[:,0]: \n",
    "        current_distance = np.where(distance < radius, 1, 0)\n",
    "        radius[r,1] = (current_distance * m).sum()\n",
    "    \n",
    "    fractal_d = least_squares(np.log(radius[:,1]), np.log(radius[:,0])).x[1] # area is y axis and radius on x, returns coef\n",
    "    return fractal_d"
   ]
  },
  {
   "cell_type": "code",
   "execution_count": null,
   "id": "8e64412b-c295-40a0-8297-f786b031a0b2",
   "metadata": {},
   "outputs": [],
   "source": []
  },
  {
   "cell_type": "code",
   "execution_count": 5,
   "id": "3d456677-1c9a-4e65-8470-0917eeb7be14",
   "metadata": {
    "tags": []
   },
   "outputs": [
    {
     "ename": "NameError",
     "evalue": "name 'xx' is not defined",
     "output_type": "error",
     "traceback": [
      "\u001b[0;31m---------------------------------------------------------------------------\u001b[0m",
      "\u001b[0;31mNameError\u001b[0m                                 Traceback (most recent call last)",
      "Cell \u001b[0;32mIn[5], line 6\u001b[0m\n\u001b[1;32m      3\u001b[0m \u001b[38;5;28;01mdef\u001b[39;00m \u001b[38;5;21mpower_law\u001b[39m(x, a, b):\n\u001b[1;32m      4\u001b[0m     \u001b[38;5;28;01mreturn\u001b[39;00m a\u001b[38;5;241m*\u001b[39mnp\u001b[38;5;241m.\u001b[39mpower(x, b)\n\u001b[0;32m----> 6\u001b[0m pars, cov \u001b[38;5;241m=\u001b[39m curve_fit(f\u001b[38;5;241m=\u001b[39mpower_law, xdata\u001b[38;5;241m=\u001b[39m\u001b[43mxx\u001b[49m\u001b[38;5;241m.\u001b[39mCluster_size, ydata\u001b[38;5;241m=\u001b[39mxx\u001b[38;5;241m.\u001b[39mCluster_count, p0\u001b[38;5;241m=\u001b[39m[\u001b[38;5;241m300\u001b[39m, \u001b[38;5;241m-\u001b[39m\u001b[38;5;241m1.8\u001b[39m], bounds\u001b[38;5;241m=\u001b[39m(\u001b[38;5;241m-\u001b[39mnp\u001b[38;5;241m.\u001b[39minf, np\u001b[38;5;241m.\u001b[39minf))\n\u001b[1;32m      8\u001b[0m \u001b[38;5;28mprint\u001b[39m(pars)\n",
      "\u001b[0;31mNameError\u001b[0m: name 'xx' is not defined"
     ]
    }
   ],
   "source": [
    "from scipy.optimize import curve_fit\n",
    "\n",
    "def power_law(x, a, b):\n",
    "    return a*np.power(x, b)\n",
    "\n",
    "pars, cov = curve_fit(f=power_law, xdata=xx.Cluster_size, ydata=xx.Cluster_count, p0=[300, -1.8], bounds=(-np.inf, np.inf))\n",
    "\n",
    "print(pars)"
   ]
  },
  {
   "cell_type": "code",
   "execution_count": null,
   "id": "c32e6f7e-f41c-4c74-9ed9-023c2ee94af9",
   "metadata": {
    "tags": []
   },
   "outputs": [],
   "source": [
    "m = np.random.randint(0,2, (51,51), dtype=int)\n",
    "m"
   ]
  },
  {
   "cell_type": "code",
   "execution_count": 42,
   "id": "345a5233-ddaa-43f5-ba21-f2641aead767",
   "metadata": {
    "tags": []
   },
   "outputs": [
    {
     "name": "stdout",
     "output_type": "stream",
     "text": [
      "Intel MKL WARNING: Support of Intel(R) Streaming SIMD Extensions 4.2 (Intel(R) SSE4.2) enabled only processors has been deprecated. Intel oneAPI Math Kernel Library 2025.0 will require Intel(R) Advanced Vector Extensions (Intel(R) AVX) instructions.\n"
     ]
    },
    {
     "data": {
      "image/png": "[encoded data removed]",
      "text/plain": [
       "<Figure size 640x480 with 1 Axes>"
      ]
     },
     "metadata": {},
     "output_type": "display_data"
    },
    {
     "data": {
      "text/plain": [
       "(array([3.03754274, 2.00799205]), array([2.01023138, 1.1031438 ]))"
      ]
     },
     "execution_count": 42,
     "metadata": {},
     "output_type": "execute_result"
    }
   ],
   "source": [
    "# Fractal Dimension from occupancy rate and radius from centre.\n",
    "from scipy.optimize import curve_fit\n",
    "\n",
    "def fractal_dimension(m):\n",
    "    \"\"\"\n",
    "    Calculates the fractal dimension of the occupancy for each radius\n",
    "    \"\"\"\n",
    "    center = m.shape[0] // 2\n",
    "    dim = m.shape[0] # get the array dimension\n",
    "    distance = np.zeros([dim,dim])\n",
    "    m = np.where(m > 0, 1, 0)\n",
    "    \n",
    "    radius = np.array(range(1, center)) # sets the range to loop over for occupancy\n",
    "    occupied_cells = np.zeros(center - 1)\n",
    "    for i in range(dim):\n",
    "        for j in range(dim):\n",
    "            distance[i,j] = np.sqrt((center - i) ** 2 + (center - j) ** 2)\n",
    "    # logic is to filter spots within distance, then multiply with m matrix to find spots where there are occupants\n",
    "    # assuming empty spots are marked with zero and sum the spots within raidus and with occupants.\n",
    "\n",
    "    for r in range(len(radius)): # loop through radiuses and chekc which ones are within area and then count cells occupied.\n",
    "        current_distance = np.where(distance < radius[r], 1, 0)\n",
    "        area = (current_distance * m).sum()\n",
    "        occupied_cells[r] = area\n",
    "        #print((current_distance ).sum(), radius[r])\n",
    "    pars, cov = curve_fit(f=power_law, xdata=radius, ydata=occupied_cells, p0=[0, 0]) # gives higher weight to large values\n",
    "    fractal_d = np.polyfit(np.log(radius[15:]), np.log(occupied_cells[15:]), 1) # gives higher weight to small values\n",
    "    return fractal_d, occupied_cells, radius, pars\n",
    "\n",
    "def run_fractal_analysis(grid):\n",
    "    fractal_d, occupied_cells, radius, pars = fractal_dimension(grid)\n",
    "\n",
    "    plt.scatter(radius[3:], occupied_cells[3:], s = 12, marker = 'x')\n",
    "    #plt.plot(radius, fractal_d[1] + radius ** fractal_d[0], c = 'orange')\n",
    "    plt.plot(radius[3:], pars[0] * radius[3:] ** pars[1], c = 'orange')\n",
    "    plt.xlabel('Radius'), plt.ylabel('Occupied Cells')\n",
    "    plt.yscale('log'), plt.xscale('log')\n",
    "    plt.show()\n",
    "    return pars, fractal_d\n",
    "    \n",
    "    \n",
    "    \n",
    "run_fractal_analysis(np.random.randint(1,2, (101,101), dtype=int))"
   ]
  },
  {
   "cell_type": "code",
   "execution_count": 25,
   "id": "85157087-d506-4c79-a012-3a3fae40d79c",
   "metadata": {
    "tags": []
   },
   "outputs": [
    {
     "data": {
      "text/plain": [
       "array([[1, 1, 1, ..., 1, 1, 1],\n",
       "       [1, 1, 1, ..., 1, 1, 1],\n",
       "       [1, 1, 1, ..., 1, 1, 1],\n",
       "       ...,\n",
       "       [1, 1, 1, ..., 1, 1, 1],\n",
       "       [1, 1, 1, ..., 1, 1, 1],\n",
       "       [1, 1, 1, ..., 1, 1, 1]])"
      ]
     },
     "execution_count": 25,
     "metadata": {},
     "output_type": "execute_result"
    }
   ],
   "source": [
    "np.random.randint(1,2, (51,51), dtype=int)"
   ]
  },
  {
   "cell_type": "code",
   "execution_count": 40,
   "id": "738717cc-79c7-49ca-b724-3ae9351e6d31",
   "metadata": {
    "tags": []
   },
   "outputs": [
    {
     "ename": "NameError",
     "evalue": "name 'track_grid' is not defined",
     "output_type": "error",
     "traceback": [
      "\u001b[0;31m---------------------------------------------------------------------------\u001b[0m",
      "\u001b[0;31mNameError\u001b[0m                                 Traceback (most recent call last)",
      "Cell \u001b[0;32mIn[40], line 31\u001b[0m\n\u001b[1;32m     28\u001b[0m     writer \u001b[38;5;241m=\u001b[39m animation\u001b[38;5;241m.\u001b[39mPillowWriter(fps\u001b[38;5;241m=\u001b[39m\u001b[38;5;241m4\u001b[39m, metadata\u001b[38;5;241m=\u001b[39m\u001b[38;5;28mdict\u001b[39m(artist\u001b[38;5;241m=\u001b[39m\u001b[38;5;124m'\u001b[39m\u001b[38;5;124mMe\u001b[39m\u001b[38;5;124m'\u001b[39m), bitrate\u001b[38;5;241m=\u001b[39m\u001b[38;5;241m1800\u001b[39m)\n\u001b[1;32m     29\u001b[0m     anim\u001b[38;5;241m.\u001b[39msave(\u001b[38;5;124m\"\u001b[39m\u001b[38;5;124mtest.gif\u001b[39m\u001b[38;5;124m\"\u001b[39m, writer\u001b[38;5;241m=\u001b[39mwriter)\n\u001b[0;32m---> 31\u001b[0m gs_animation(\u001b[38;5;241m50\u001b[39m, \u001b[43mtrack_grid\u001b[49m)\n",
      "\u001b[0;31mNameError\u001b[0m: name 'track_grid' is not defined"
     ]
    }
   ],
   "source": [
    "from matplotlib import animation\n",
    "\n",
    "def gs_animation(frames, track_grid):\n",
    "    \"\"\"\n",
    "    INPUT: frames - how many frames to animate over.\n",
    "    \"\"\"\n",
    "    def init():\n",
    "        plt.clf()\n",
    "        plt.imshow(track_grid[0], cmap = cmap, vmin = 0, vmax = 3)\n",
    "        plt.colorbar(ticks=[0, 1, 2, 3], label='Land Use')\n",
    "        \n",
    "    # animation function.  This is called sequentially\n",
    "    def animate(i):\n",
    "        plt.clf()\n",
    "        plt.imshow(track_grid[i], cmap = cmap, vmin = 0, vmax = 3)\n",
    "        plt.colorbar(ticks=[0, 1, 2, 3], label='Land Use')\n",
    "        \n",
    "    # First set up the figure, the axis, and the plot element we want to animate    \n",
    "    fig = plt.figure()\n",
    "    cmap = plt.cm.colors.ListedColormap(['white', 'skyblue', 'grey', 'orange'])\n",
    "    plt.imshow(track_grid[0], cmap = cmap, vmin = 0, vmax = 3)\n",
    "    plt.colorbar(ticks=[0, 1, 2, 3], label='Land Use')\n",
    "    \n",
    "    # call the animator. blit=True means only re-draw the parts that have changed.\n",
    "    # Frames refers to how many images it will use in the animation. \n",
    "    anim = animation.FuncAnimation(fig, animate, init_func=init,\n",
    "                                   frames=frames, interval=5, blit = False)\n",
    "    writer = animation.PillowWriter(fps=4, metadata=dict(artist='Me'), bitrate=1800)\n",
    "    anim.save(\"test.gif\", writer=writer)\n",
    "    \n",
    "gs_animation(50, track_grid)"
   ]
  },
  {
   "cell_type": "code",
   "execution_count": null,
   "id": "4c716db0-3bb9-4d36-b4b7-f60062eca4f7",
   "metadata": {},
   "outputs": [],
   "source": []
  }
 ],
 "metadata": {
  "kernelspec": {
   "display_name": "Python 3 (ipykernel)",
   "language": "python",
   "name": "python3"
  },
  "language_info": {
   "codemirror_mode": {
    "name": "ipython",
    "version": 3
   },
   "file_extension": ".py",
   "mimetype": "text/x-python",
   "name": "python",
   "nbconvert_exporter": "python",
   "pygments_lexer": "ipython3",
   "version": "3.9.13"
  }
 },
 "nbformat": 4,
 "nbformat_minor": 5
}
