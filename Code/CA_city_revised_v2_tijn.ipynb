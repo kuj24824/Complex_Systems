{
 "cells": [
  {
   "cell_type": "code",
   "execution_count": 2,
   "metadata": {},
   "outputs": [],
   "source": [
    "import math\n",
    "import numpy as np\n",
    "import matplotlib.pyplot as plt\n",
    "import pandas as pd\n",
    "from scipy.optimize import curve_fit\n",
    "import powerlaw\n",
    "import sys\n"
   ]
  },
  {
   "cell_type": "code",
   "execution_count": 10,
   "metadata": {},
   "outputs": [],
   "source": [
    "#!pip install --target=/D:/tijn2 pysal\n",
    "#from pysal.explore import esda\n",
    "#from pysal.lib import weights"
   ]
  },
  {
   "cell_type": "code",
   "execution_count": 11,
   "metadata": {},
   "outputs": [],
   "source": [
    "\n",
    "# Constants\n",
    "grid_size = 100\n",
    "states = {'V': 0, 'H': 1, 'I': 2, 'C': 3}  # V: vacant, H: housing, I: industrial, C: commercial\n",
    " \n",
    "num_iterations = 30  # Number of iterations\n",
    "\n",
    "# Initialize the grid and counts\n",
    "\n",
    "counts = {0: grid_size * grid_size, 1: 0, 2: 0, 3: 0}\n",
    "\n",
    "def initial_land_use(seed_number, grid_size, plot=True):\n",
    "    np.random.seed(seed_number)\n",
    "    \n",
    "    grid = np.zeros((grid_size, grid_size), dtype=int)\n",
    "\n",
    "    # Define initial conditions\n",
    "    center_x, center_y = grid_size // 2, grid_size // 2\n",
    "    \n",
    "    # Randomly select positions for commercial cells\n",
    "    commercial_cells = []\n",
    "    num_commercial = 3\n",
    "    min_dist_commercial = 1  # Minimum distance from center\n",
    "    \n",
    "    while len(commercial_cells) < num_commercial:\n",
    "        x = np.random.randint(center_x - min_dist_commercial, center_x + min_dist_commercial + 1)\n",
    "        y = np.random.randint(center_y - min_dist_commercial, center_y + min_dist_commercial + 1)\n",
    "        if (x, y) not in commercial_cells:\n",
    "            commercial_cells.append((x, y))\n",
    "\n",
    "    residential_cells = []\n",
    "    num_residential = 25\n",
    "    min_dist = 3  # Minimum distance from commercial cells\n",
    "\n",
    "    industrial_cells = []\n",
    "    num_industrial = 4\n",
    "    min_dist_industrial = 3  # Minimum distance from commercial cells\n",
    "\n",
    "    # Generate random residential cells around the commercial area\n",
    "    while len(residential_cells) < num_residential:\n",
    "        x = np.random.randint(center_x - min_dist, center_x + min_dist + 1)\n",
    "        y = np.random.randint(center_y - min_dist, center_y + min_dist + 1)\n",
    "        if (x, y) not in commercial_cells:\n",
    "            residential_cells.append((x, y))\n",
    "\n",
    "    # Generate random industrial cells around the commercial area\n",
    "    while len(industrial_cells) < num_industrial:\n",
    "        x = np.random.randint(center_x - min_dist_industrial, center_x + min_dist_industrial + 1)\n",
    "        y = np.random.randint(center_y - min_dist_industrial, center_y + min_dist_industrial + 1)\n",
    "        if (x, y) not in commercial_cells:\n",
    "            industrial_cells.append((x, y))\n",
    "\n",
    "    # Assign initial land use types\n",
    "    for x, y in commercial_cells:\n",
    "        grid[x, y] = states['C']  # Commercial\n",
    "    for x, y in residential_cells:\n",
    "        grid[x, y] = states['H']  # Residential\n",
    "    for x, y in industrial_cells:\n",
    "        grid[x, y] = states['I']  # Industrial\n",
    "\n",
    "    if plot:\n",
    "        # Set the figure size\n",
    "        plt.figure(figsize=(7, 7))\n",
    "        cmap = plt.cm.colors.ListedColormap(['white', 'skyblue', 'grey', 'orange'])\n",
    "        plt.imshow(grid, cmap=cmap, origin='lower', vmin=0, vmax=3)\n",
    "        plt.colorbar(ticks=[0, 1, 2, 3], label='Land Use')\n",
    "        plt.title('Initial Land Use')\n",
    "        plt.show()\n",
    "\n",
    "    return grid\n",
    "\n"
   ]
  },
  {
   "cell_type": "code",
   "execution_count": 12,
   "metadata": {},
   "outputs": [
    {
     "name": "stdout",
     "output_type": "stream",
     "text": [
      "The weight for transition=Vacant_Commerce, cell_type=H, distance_zone=1 is 3.5\n"
     ]
    }
   ],
   "source": [
    "weights_table = {\n",
    "    'Vacant_Commerce': {\n",
    "        'C': [25, 25, 25, -1, -1, -1, -1, -1, -1, -1, -1, -1, -1, -1, -1, -1, -1, -1],\n",
    "        'I': [0]*18,\n",
    "        'H': [4, 3.5, 3, 2.5, 2, 2, 2, 1.5, 1.5, 1.5, 1.5, 1, 1, 1, 1, 1, 1, 1],\n",
    "        'V': [0]*18\n",
    "    },\n",
    "    'Vacant_Industry': {\n",
    "        'C': [0]*18,\n",
    "        'I': [3, 3, 2, 1, 0, 0.2, 0.2, 0.2, 0.2, 0.2, 0.2, 0.2, 0.2, 0.2, 0.2, 0.2, 0.2, 0.2],\n",
    "        'H': [-1, -1, 0] + [0]*15,\n",
    "        'V': [0]*18\n",
    "    },\n",
    "    'Vacant_Housing': {\n",
    "        'C': [-2, -1, 2, 1, 1, 1, 0.5, 0.5, 0.4, 0.3, 0.2, 0.1, 0.1, 0.1, 0, 0, 0, 0],\n",
    "        'I': [-10, -10, -5, -3, -1] + [0]*13,\n",
    "        'H': [2, 2, 1.5, 1.5, 1, 1, 1, 1, 0.5, 0.5, 0.5, 0.5, 0.5, 0.1, 0.1, 0.1, 0.1, 0.1],\n",
    "        'V': [0]*18\n",
    "    },\n",
    "    'Industry_Commerce': {\n",
    "        'C': [25, 25, 25, -2, -2, -2, -2, -2, -2, -2, -2, -2, -2, -2, -2, -2, -2, -2],\n",
    "        'I': [-2, -2, -2] + [0]*15,\n",
    "        'H': [4, 3.5, 3, 2.5, 2, 2, 2, 1.5, 1.5, 1.5, 1.5, 1, 1, 1, 1, 1, 1, 1],\n",
    "        'V': [0]*18\n",
    "    },\n",
    "    'Industry_Industry': {\n",
    "        'C': [0]*18,\n",
    "        'I': [0]*18,\n",
    "        'H': [0]*18,\n",
    "        'V': [0]*18\n",
    "    },\n",
    "    'Industry_Housing': {\n",
    "        'C': [0]*18,\n",
    "        'I': [0]*18,\n",
    "        'H': [0]*18,\n",
    "        'V': [0]*18\n",
    "    },\n",
    "    'Housing_Commerce': {\n",
    "        'C': [25, 25, 25, -2, -2, -2, -2, -2, -2, -2, -2, -2, -2, -2, -2, -2, -2, -2],\n",
    "        'I': [-10, -10, -5, -3, -1] + [0]*13,\n",
    "        'H': [4, 3.5, 3, 2.5, 2, 2, 2, 1.5, 1.5, 1.5, 1.5, 1, 1, 1, 1, 1, 1, 1],\n",
    "        'V': [0]*18\n",
    "    },\n",
    "    'Housing_Industry': {\n",
    "        'C': [0]*18,\n",
    "        'I': [3, 3, 2, 1, 0, 0.2, 0.2, 0.2, 0.2, 0.2, 0.2, 0.2, 0.2, 0.2, 0.2, 0.2, 0.2, 0.2],\n",
    "        'H': [-1, -1, 0] + [0]*15,\n",
    "        'V': [0]*18\n",
    "    },\n",
    "    'Housing_Housing': {\n",
    "        'C': [0]*18,\n",
    "        'I': [0]*18,\n",
    "        'H': [0]*18,\n",
    "        'V': [0]*18\n",
    "    },\n",
    "}\n",
    "\n",
    "# Test of accessing a weight:\n",
    "transition = 'Vacant_Commerce'\n",
    "cell_type = 'H'\n",
    "distance_zone = 1\n",
    "# This is distance zone is from 0 to 17\n",
    "weight = weights_table[transition][cell_type][distance_zone]\n",
    "print(f\"The weight for transition={transition}, cell_type={cell_type}, distance_zone={distance_zone} is {weight}\")\n"
   ]
  },
  {
   "cell_type": "code",
   "execution_count": 13,
   "metadata": {},
   "outputs": [],
   "source": [
    "\n",
    "def get_distance_zone(distance):\n",
    "    zone_mapping = {0: 1, 1: 1.4, 2: 2, 3: 2.2, 4: 2.8, 5: 3, 6: 3.2, 7: 3.6, 8: 4, 9: 4.1, 10: 4.2, 11: 4.5, 12: 5, 13: 5.1, 14: 5.4, 15: 5.7, 16: 5.8, 17: 6}\n",
    "    for zone, max_distance in reversed(list(zone_mapping.items())):\n",
    "        if distance >= max_distance:\n",
    "            return zone\n",
    "    return 0  # Return 0 if distance is less than the minimum specified distance\n",
    "\n",
    "def get_neighbourhood(grid, row, col, radius):\n",
    "    rows, cols = grid.shape\n",
    "    square_row_range = range(max(0, row - radius), min(rows, row + radius + 1))\n",
    "    square_col_range = range(max(0, col - radius), min(cols, col + radius + 1))\n",
    "    square_neighbourhood = grid[np.ix_(square_row_range, square_col_range)]\n",
    "    circle_mask = np.zeros_like(square_neighbourhood, dtype=bool)\n",
    "    distance_zones = np.zeros_like(square_neighbourhood, dtype=int)\n",
    "    # Adjusted center coordinates inside the neighbourhood\n",
    "    center = min(row, radius), min(col, radius)\n",
    "    for i in range(square_neighbourhood.shape[0]):\n",
    "        for j in range(square_neighbourhood.shape[1]):\n",
    "            distance = np.sqrt((center[0] - i) ** 2 + (center[1] - j) ** 2)\n",
    "            if distance <= radius:\n",
    "                circle_mask[i, j] = True\n",
    "                distance_zones[i, j] = get_distance_zone(distance)\n",
    "    circle_mask[center] = False  # Exclude the center cell\n",
    "    return square_neighbourhood[circle_mask], distance_zones[circle_mask]\n",
    "\n",
    "\n",
    "def cell_type_to_states(state):\n",
    "    if state == 'Vacant':\n",
    "        return 0\n",
    "    elif state == 'Housing':\n",
    "        return 1\n",
    "    elif state == 'Industry':\n",
    "        return 2\n",
    "    elif state == 'Commerce':\n",
    "        return 3\n",
    "\n",
    "def states_to_cell_type(state):\n",
    "    if state == 0:\n",
    "        return 'V'\n",
    "    elif state == 1:\n",
    "        return 'H'\n",
    "    elif state == 2:\n",
    "        return 'I'\n",
    "    elif state == 3:\n",
    "        return 'C'\n",
    "\n",
    "\n",
    "def calculate_transition_potentials(grid, alpha, weights_table, radius):\n",
    "    transition_potentials = np.zeros((grid.shape[0], grid.shape[1], 4))  # 4 possible states\n",
    "    transitions = ['Vacant_Commerce', 'Vacant_Industry', 'Vacant_Housing', 'Industry_Commerce', 'Industry_Industry',\n",
    "                   'Industry_Housing', 'Housing_Commerce', 'Housing_Industry', 'Housing_Housing']\n",
    "    \n",
    "    for i in range(grid.shape[0]):\n",
    "        for j in range(grid.shape[1]):\n",
    "            neighbourhood, distance_zones = get_neighbourhood(grid, i, j, radius)\n",
    "            for transition in transitions:\n",
    "                # Extract the current state and desired state from the transition string\n",
    "                current_state, desired_state = transition.split('_')\n",
    "                \n",
    "                current_state_num = cell_type_to_states(current_state)\n",
    "                desired_state_num = cell_type_to_states(desired_state)\n",
    "                \n",
    "            \n",
    "                if grid[i, j] == current_state_num:\n",
    "                    sum_weights = 0\n",
    "                    for neighbor_state, distance_zone in zip(neighbourhood, distance_zones):\n",
    "                        \n",
    "                        neighbor_type = states_to_cell_type(neighbor_state)\n",
    "                        \n",
    "                        m_kd = weights_table[transition][neighbor_type][distance_zone]\n",
    "\n",
    "                        if neighbor_state == desired_state_num:\n",
    "                            sum_weights += m_kd\n",
    "\n",
    "                    \n",
    "                    R = np.random.uniform(0, 1)\n",
    "                    S = 1 + (-math.log(R))**alpha\n",
    "                    transition_potentials[i, j, desired_state_num] = S * (1 + sum_weights)\n",
    "    return transition_potentials"
   ]
  },
  {
   "cell_type": "code",
   "execution_count": 14,
   "metadata": {},
   "outputs": [
    {
     "name": "stdout",
     "output_type": "stream",
     "text": [
      "Transition Potentials:\n",
      "[[[ 0.          0.          0.          0.        ]\n",
      "  [ 0.          6.65934082  1.30032197 68.48462587]\n",
      "  [ 0.         11.50724477  5.06545111 28.01540142]\n",
      "  [ 0.          7.11076386  1.77535095  1.90420066]\n",
      "  [ 0.          4.1383159   2.66950762  2.33986774]]\n",
      "\n",
      " [[ 0.          7.0255622   7.81501935 99.2177416 ]\n",
      "  [ 0.          4.64577695  8.52185782 93.64484363]\n",
      "  [ 0.          1.46646227  8.59308694  1.6223694 ]\n",
      "  [ 0.          1.78894695 11.94020374  1.05766268]\n",
      "  [ 0.          9.27711949  1.27523111  2.7165633 ]]\n",
      "\n",
      " [[ 0.         36.49945867  3.39569613 47.24275412]\n",
      "  [ 0.          1.48169477  5.27154332  1.36764729]\n",
      "  [ 0.          1.83021558  1.12249358  2.16908488]\n",
      "  [ 0.          3.20530437  6.45769837  1.82034823]\n",
      "  [ 0.         17.6681501   4.50044653  2.43935391]]\n",
      "\n",
      " [[ 0.          8.04585287  1.78530515  2.48743513]\n",
      "  [ 0.          1.35024987  5.06952108  4.62857491]\n",
      "  [ 0.          2.15791921  9.20111645  1.36812721]\n",
      "  [ 0.          1.21790182  5.808758    1.16747376]\n",
      "  [ 0.         14.41906227  2.10663371  1.13641047]]\n",
      "\n",
      " [[ 0.          3.42965956  1.79990487  1.15943556]\n",
      "  [ 0.         13.76274291  2.05760913  1.68664432]\n",
      "  [ 0.         10.58300411  3.69368002  1.42147745]\n",
      "  [ 0.          7.1192616   1.60117247  3.29087411]\n",
      "  [ 0.          4.59803863  3.77110053  1.7893525 ]]]\n"
     ]
    }
   ],
   "source": [
    "test_grid = np.array([\n",
    "    [3, 0, 0, 0, 0],\n",
    "    [0, 1, 1, 1, 0],\n",
    "    [0, 1, 2, 1, 0],\n",
    "    [0, 1, 1, 1, 0],\n",
    "    [0, 0, 0, 0, 0],\n",
    "])\n",
    "\n",
    "\n",
    "alpha = 1\n",
    "\n",
    "transition_potentials_test = calculate_transition_potentials(test_grid, alpha, weights_table, 2)\n",
    "print(\"Transition Potentials:\")\n",
    "print(transition_potentials_test)\n",
    "\n",
    "\n"
   ]
  },
  {
   "cell_type": "code",
   "execution_count": 36,
   "metadata": {},
   "outputs": [
    {
     "data": {
      "image/png": "[encoded data removed]",
      "text/plain": [
       "<Figure size 504x504 with 2 Axes>"
      ]
     },
     "metadata": {
      "needs_background": "light"
     },
     "output_type": "display_data"
    },
    {
     "name": "stdout",
     "output_type": "stream",
     "text": [
      "Initial counts: {0: 9976, 1: 17, 2: 4, 3: 3}\n",
      "Running iteration 1...\n",
      "Counts at iteration 1: {0: 9871, 1: 85, 2: 39, 3: 5}\n",
      "Running iteration 2...\n",
      "Counts at iteration 2: {0: 9767, 1: 152, 2: 74, 3: 7}\n",
      "Running iteration 3...\n",
      "Counts at iteration 3: {0: 9661, 1: 221, 2: 109, 3: 9}\n",
      "Running iteration 4...\n",
      "Counts at iteration 4: {0: 9558, 1: 288, 2: 143, 3: 11}\n",
      "Running iteration 5...\n",
      "Counts at iteration 5: {0: 9458, 1: 351, 2: 178, 3: 13}\n",
      "Running iteration 6...\n",
      "Counts at iteration 6: {0: 9353, 1: 419, 2: 213, 3: 15}\n",
      "Running iteration 7...\n",
      "Counts at iteration 7: {0: 9253, 1: 484, 2: 246, 3: 17}\n",
      "Running iteration 8...\n",
      "Counts at iteration 8: {0: 9148, 1: 553, 2: 280, 3: 19}\n",
      "Running iteration 9...\n",
      "Counts at iteration 9: {0: 9045, 1: 619, 2: 315, 3: 21}\n",
      "Running iteration 10...\n",
      "Counts at iteration 10: {0: 8943, 1: 684, 2: 350, 3: 23}\n",
      "Running iteration 11...\n",
      "Counts at iteration 11: {0: 8842, 1: 749, 2: 384, 3: 25}\n",
      "Running iteration 12...\n",
      "Counts at iteration 12: {0: 8740, 1: 815, 2: 418, 3: 27}\n",
      "Running iteration 13...\n",
      "Counts at iteration 13: {0: 8638, 1: 880, 2: 453, 3: 29}\n",
      "Running iteration 14...\n",
      "Counts at iteration 14: {0: 8539, 1: 944, 2: 486, 3: 31}\n",
      "Running iteration 15...\n",
      "Counts at iteration 15: {0: 8444, 1: 1004, 2: 519, 3: 33}\n",
      "Running iteration 16...\n",
      "Counts at iteration 16: {0: 8340, 1: 1071, 2: 554, 3: 35}\n",
      "Running iteration 17...\n",
      "Counts at iteration 17: {0: 8239, 1: 1135, 2: 589, 3: 37}\n",
      "Running iteration 18...\n",
      "Counts at iteration 18: {0: 8139, 1: 1200, 2: 622, 3: 39}\n",
      "Running iteration 19...\n",
      "Counts at iteration 19: {0: 8041, 1: 1261, 2: 657, 3: 41}\n",
      "Running iteration 20...\n",
      "Counts at iteration 20: {0: 7943, 1: 1323, 2: 691, 3: 43}\n",
      "Running iteration 21...\n",
      "Counts at iteration 21: {0: 7843, 1: 1387, 2: 725, 3: 45}\n",
      "Running iteration 22...\n",
      "Counts at iteration 22: {0: 7745, 1: 1448, 2: 760, 3: 47}\n",
      "Running iteration 23...\n",
      "Counts at iteration 23: {0: 7646, 1: 1511, 2: 794, 3: 49}\n",
      "Running iteration 24...\n",
      "Counts at iteration 24: {0: 7544, 1: 1576, 2: 829, 3: 51}\n",
      "Running iteration 25...\n",
      "Counts at iteration 25: {0: 7444, 1: 1639, 2: 864, 3: 53}\n",
      "Running iteration 26...\n",
      "Counts at iteration 26: {0: 7350, 1: 1697, 2: 898, 3: 55}\n",
      "Running iteration 27...\n",
      "Counts at iteration 27: {0: 7254, 1: 1757, 2: 932, 3: 57}\n",
      "Running iteration 28...\n",
      "Counts at iteration 28: {0: 7155, 1: 1819, 2: 967, 3: 59}\n",
      "Running iteration 29...\n",
      "Counts at iteration 29: {0: 7058, 1: 1880, 2: 1001, 3: 61}\n",
      "Running iteration 30...\n",
      "Counts at iteration 30: {0: 6959, 1: 1942, 2: 1036, 3: 63}\n",
      "Running iteration 31...\n",
      "Counts at iteration 31: {0: 6862, 1: 2002, 2: 1071, 3: 65}\n",
      "Running iteration 32...\n",
      "Counts at iteration 32: {0: 6760, 1: 2068, 2: 1105, 3: 67}\n",
      "Running iteration 33...\n",
      "Counts at iteration 33: {0: 6665, 1: 2127, 2: 1139, 3: 69}\n",
      "Running iteration 34...\n",
      "Counts at iteration 34: {0: 6568, 1: 2188, 2: 1173, 3: 71}\n",
      "Running iteration 35...\n",
      "Counts at iteration 35: {0: 6467, 1: 2253, 2: 1207, 3: 73}\n",
      "Running iteration 36...\n",
      "Counts at iteration 36: {0: 6371, 1: 2313, 2: 1241, 3: 75}\n",
      "Running iteration 37...\n",
      "Counts at iteration 37: {0: 6276, 1: 2373, 2: 1274, 3: 77}\n",
      "Running iteration 38...\n",
      "Counts at iteration 38: {0: 6176, 1: 2437, 2: 1308, 3: 79}\n",
      "Running iteration 39...\n",
      "Counts at iteration 39: {0: 6085, 1: 2493, 2: 1341, 3: 81}\n",
      "Running iteration 40...\n",
      "Counts at iteration 40: {0: 5985, 1: 2556, 2: 1376, 3: 83}\n"
     ]
    },
    {
     "data": {
      "image/png": "[encoded data removed]",
      "text/plain": [
       "<Figure size 504x504 with 2 Axes>"
      ]
     },
     "metadata": {
      "needs_background": "light"
     },
     "output_type": "display_data"
    }
   ],
   "source": [
    "def run_simulation(grid, weights_table, alpha, growth_rates, radius, seed, num_iterations):\n",
    "    np.random.seed(seed)\n",
    "    grid_size = grid.shape[0]\n",
    "    \n",
    "\n",
    "    counts = {0: 0, 1: 0, 2: 0, 3: 0}\n",
    "    for i in range(grid_size):\n",
    "        for j in range(grid_size):\n",
    "            counts[grid[i, j]] += 1\n",
    "\n",
    "    print(f\"Initial counts: {counts}\")\n",
    "\n",
    "    for iteration in range(num_iterations):\n",
    "        print(f\"Running iteration {iteration+1}...\")\n",
    "        transition_potentials = calculate_transition_potentials(grid, alpha, weights_table, radius)\n",
    "\n",
    "        highest_potentials = {}\n",
    "        for i in range(grid_size):\n",
    "            for j in range(grid_size):\n",
    "                if grid[i, j] == states['V']:\n",
    "                    potential_states = ['H', 'I', 'C']\n",
    "                elif grid[i, j] == states['H']:\n",
    "                    potential_states = ['I', 'C']\n",
    "                elif grid[i, j] == states['I']:\n",
    "                    potential_states = ['C']\n",
    "                else:\n",
    "                    potential_states = []\n",
    "                    \n",
    "                if potential_states:\n",
    "                    highest_potentials[(i, j)] = max(potential_states, key=lambda state: transition_potentials[i, j, states[state]])\n",
    "\n",
    "        for new_state_key in sorted(states, key=lambda k: states[k], reverse=True):\n",
    "            new_state = states[new_state_key]\n",
    "            if new_state_key != 'V':\n",
    "                num_to_convert = int(grid_size * grid_size * growth_rates[new_state_key])\n",
    "                potential_cells = [(i, j) for i, j in highest_potentials.keys() if highest_potentials[(i, j)] == new_state_key]\n",
    "                potential_cells.sort(key=lambda cell: transition_potentials[cell[0], cell[1], states[highest_potentials[cell]]], reverse=True)\n",
    "                \n",
    "                for cell in potential_cells[:num_to_convert]:\n",
    "                    counts[grid[cell]] -= 1\n",
    "                    counts[new_state] += 1\n",
    "                    grid[cell] = new_state\n",
    "\n",
    "        print(f\"Counts at iteration {iteration+1}: {counts}\")\n",
    "\n",
    "    plt.figure(figsize=(7, 7))\n",
    "    cmap = plt.cm.colors.ListedColormap(['white', 'skyblue', 'grey', 'orange'])\n",
    "    plt.imshow(grid, cmap=cmap, origin='lower', vmin=0, vmax=3)\n",
    "    plt.colorbar(ticks=[0, 1, 2, 3], label='Land Use')\n",
    "    plt.title('Final Land Use')\n",
    "    plt.show()\n",
    "\n",
    "\n",
    "growth_rates = {\n",
    "    'H': 0.007,  \n",
    "    'I': 0.0035,\n",
    "    'C': 0.0002,\n",
    "}\n",
    "\n",
    "\n",
    "num_iterations = 40\n",
    "# Run the simulation\n",
    "grid = initial_land_use(seed_number=0, grid_size=100, plot=True)\n",
    "run_simulation(grid, weights_table, alpha=2.5, growth_rates=growth_rates, radius = 6, seed=3, num_iterations=num_iterations)\n"
   ]
  },
  {
   "cell_type": "code",
   "execution_count": null,
   "metadata": {},
   "outputs": [],
   "source": [
    "# make a plot of counts vs iterations\n"
   ]
  },
  {
   "cell_type": "code",
   "execution_count": 14,
   "metadata": {},
   "outputs": [],
   "source": [
    "def clustering(m, rtype):\n",
    "    \"\"\" Algorithm for finding clusters and labeling them. \n",
    "    INPUT: Matrix m with occupied 1 and unoccupied 0\"\"\"\n",
    "    assert type(rtype) == int\n",
    "    assert m.shape[0] == m.shape[1]\n",
    "    \n",
    "    dim = m.shape[0]\n",
    "    largest_label = 0;\n",
    "    label = np.zeros([dim, dim])\n",
    "    for x in range(dim):\n",
    "        for y in range(dim):\n",
    "            above = m[x-1, y]\n",
    "            left = m[x, y-1]\n",
    "            # For the boundary conditions, set above and left to zero.\n",
    "            if x == 0:\n",
    "                above = 0\n",
    "            if y == 0:\n",
    "                left = 0\n",
    "            # Assign cluster IDs according to neighbours   \n",
    "            if m[x,y] == rtype:\n",
    "                if above != rtype and left != rtype: # no neighbors, new cluster id\n",
    "                    largest_label += 1\n",
    "                    label[x,y] = largest_label\n",
    "                elif above == rtype and left != rtype: # cluster extends from above, change id\n",
    "                    label[x,y] = label[x-1,y]\n",
    "                elif above != rtype and left == rtype: # cluster extends from left, change id\n",
    "                    label[x,y] = label[x,y-1]\n",
    "                elif above == rtype and left == rtype: # both belong to cluster, make a union\n",
    "                    m, label = cluster_union(m, label, x, y)             \n",
    "    return label\n",
    "            \n",
    "def cluster_union(m, label, x, y):\n",
    "    \"\"\"\n",
    "    Union the two clusters and labels both clusters the same.\n",
    "    \"\"\"\n",
    "    if label[x-1,y] == label[x,y-1]: # If labels are the same, then set x,y as same label\n",
    "        label[x,y] = label[x-1,y]\n",
    "        return m, label\n",
    "    else: # else different clusters so rename one\n",
    "        new_id, old_id = np.min([label[x-1,y], label[x,y-1]]), np.max([label[x-1,y], label[x,y-1]])\n",
    "        label[x,y] = new_id # set label of current x,y\n",
    "        label[label == old_id] = new_id # change all old IDs to the new one\n",
    "    return m, label\n",
    "\n",
    "def run_clustering(m):\n",
    "    \"\"\"\n",
    "    Runs the clustering algorithm for each of the cell types, returns a pandas dataframe with the columns cluster size, count, id.\n",
    "    INPUT: the matrix with the different IDs in the cells. \n",
    "    \"\"\"\n",
    "    clusters = pd.DataFrame()\n",
    "    # Run each of the cluster types in a loop\n",
    "    for i in np.unique(m)[1:]: # not the zeros\n",
    "        cluster_ids = clustering(m, int(i))\n",
    "        cluster_size = np.unique(cluster_ids, return_counts=True) # count size of clusters in matrix of cell types\n",
    "        size, count = np.unique(cluster_size[1][1:], return_counts=True) # select only the cells that contain something (first element is empty)\n",
    "        # f\n",
    "        clusters = pd.concat([clusters, pd.DataFrame([size, count, i * np.ones(len(count))]).T], axis = 0)\n",
    "        \n",
    "    clusters.columns = ['Cluster_size','Cluster_count','cell_type']\n",
    "    return clusters\n",
    "\n",
    "\n",
    "def test_powerlaw():\n",
    "    \"\"\"\n",
    "    Function to statistically test the power law relationships\n",
    "    Jeff Alstott, Ed Bullmore, Dietmar Plenz. (2014). powerlaw: a Python package for analysis of heavy-tailed distributions. PLoS ONE 9(1): e85777\n",
    "    \"\"\"\n",
    "    fit = powerlaw.Fit(empirical_data) # Fits the data to a power law parameter\n",
    "    # Then test if it is more likely to be a powerlaw or exponential or lognormal.\n",
    "    test1 = fit.distribution_compare('power_law', 'exponential')\n",
    "    test2 = fit.distribution_compare('power_law', 'lognormal')\n",
    "    return [fit, test1, test2]\n"
   ]
  },
  {
   "cell_type": "code",
   "execution_count": 15,
   "metadata": {},
   "outputs": [
    {
     "name": "stdout",
     "output_type": "stream",
     "text": [
      "    Cluster_size  Cluster_count  cell_type\n",
      "0            1.0          205.0        1.0\n",
      "1            2.0           37.0        1.0\n",
      "2            3.0           17.0        1.0\n",
      "3            4.0            7.0        1.0\n",
      "4            5.0            9.0        1.0\n",
      "5            6.0            2.0        1.0\n",
      "6            7.0            3.0        1.0\n",
      "7            8.0            1.0        1.0\n",
      "8           10.0            1.0        1.0\n",
      "9           13.0            1.0        1.0\n",
      "10          14.0            1.0        1.0\n",
      "11          22.0            1.0        1.0\n",
      "12          28.0            1.0        1.0\n",
      "13          34.0            1.0        1.0\n",
      "14          36.0            1.0        1.0\n",
      "15          37.0            1.0        1.0\n",
      "16          48.0            1.0        1.0\n",
      "17          53.0            1.0        1.0\n",
      "18          56.0            1.0        1.0\n",
      "19          67.0            1.0        1.0\n",
      "20         115.0            1.0        1.0\n",
      "21        1579.0            1.0        1.0\n",
      "0            1.0          173.0        2.0\n",
      "1            2.0           22.0        2.0\n",
      "2            3.0            9.0        2.0\n",
      "3            4.0           13.0        2.0\n",
      "4            5.0            5.0        2.0\n",
      "5            6.0            2.0        2.0\n",
      "6            7.0            4.0        2.0\n",
      "7            8.0            7.0        2.0\n",
      "8            9.0            2.0        2.0\n",
      "9           11.0            1.0        2.0\n",
      "10          12.0            1.0        2.0\n",
      "11          13.0            1.0        2.0\n",
      "12          14.0            1.0        2.0\n",
      "13          33.0            1.0        2.0\n",
      "14          36.0            1.0        2.0\n",
      "15          48.0            2.0        2.0\n",
      "16          49.0            1.0        2.0\n",
      "17          51.0            1.0        2.0\n",
      "18          57.0            1.0        2.0\n",
      "19          63.0            1.0        2.0\n",
      "20          65.0            1.0        2.0\n",
      "21          69.0            1.0        2.0\n",
      "22          86.0            1.0        2.0\n",
      "23          91.0            1.0        2.0\n",
      "24          95.0            1.0        2.0\n",
      "25         100.0            1.0        2.0\n",
      "0           25.0            1.0        3.0\n",
      "1           58.0            1.0        3.0\n"
     ]
    },
    {
     "data": {
      "image/png": "[encoded data removed]",
      "text/plain": [
       "<Figure size 432x288 with 1 Axes>"
      ]
     },
     "metadata": {
      "needs_background": "light"
     },
     "output_type": "display_data"
    }
   ],
   "source": [
    "x = run_clustering(grid)\n",
    "print(x)\n",
    "# Just testing the log plotting\n",
    "plt.scatter(x.Cluster_size, x.Cluster_count)\n",
    "plt.yscale('log'), plt.xscale('log')\n",
    "plt.show()"
   ]
  },
  {
   "cell_type": "code",
   "execution_count": 18,
   "metadata": {},
   "outputs": [
    {
     "name": "stdout",
     "output_type": "stream",
     "text": [
      "Calculating best minimal value for power law fit\n",
      "xmin progress: 00%\r",
      "xmin progress: 14%\r",
      "xmin progress: 28%\r",
      "xmin progress: 42%\r",
      "xmin progress: 57%\r",
      "xmin progress: 71%\r",
      "xmin progress: 85%\r",
      "Calculating best minimal value for power law fit\n",
      "xmin progress: 00%\r",
      "xmin progress: 12%\r",
      "xmin progress: 25%\r",
      "xmin progress: 37%\r",
      "xmin progress: 50%\r",
      "xmin progress: 62%\r",
      "xmin progress: 75%\r",
      "xmin progress: 87%\r",
      "Calculating best minimal value for power law fit\n"
     ]
    },
    {
     "name": "stderr",
     "output_type": "stream",
     "text": [
      "Less than 2 unique data values left after xmin and xmax options! Cannot fit. Returning nans.\n"
     ]
    }
   ],
   "source": [
    "res = x[x.cell_type == 1].Cluster_count\n",
    "ind = x[x.cell_type == 2].Cluster_count\n",
    "com = x[x.cell_type == 3].Cluster_count\n",
    "results_res = powerlaw.Fit(res)\n",
    "results_ind = powerlaw.Fit(ind)\n",
    "results_com = powerlaw.Fit(com)\n",
    "#print(res)"
   ]
  },
  {
   "cell_type": "code",
   "execution_count": 19,
   "metadata": {},
   "outputs": [],
   "source": [
    "def power_law(x, a, b):\n",
    "    return a*np.power(x, b)\n"
   ]
  },
  {
   "cell_type": "code",
   "execution_count": 20,
   "metadata": {},
   "outputs": [
    {
     "name": "stdout",
     "output_type": "stream",
     "text": [
      "[204.79375582  -2.38272394]\n"
     ]
    }
   ],
   "source": [
    "pars, cov = curve_fit(f=power_law, xdata=x[x.cell_type == 1].Cluster_size, ydata=res, p0=[300, -1.8], bounds=(-np.inf, np.inf))\n",
    "\n",
    "print(pars)"
   ]
  },
  {
   "cell_type": "code",
   "execution_count": 21,
   "metadata": {},
   "outputs": [
    {
     "data": {
      "image/png": "[encoded data removed]",
      "text/plain": [
       "<Figure size 432x288 with 1 Axes>"
      ]
     },
     "metadata": {
      "needs_background": "light"
     },
     "output_type": "display_data"
    }
   ],
   "source": [
    "r = np.arange(1,30)\n",
    "xx = x[x.cell_type == 1]\n",
    "plt.scatter(xx.Cluster_size, xx.Cluster_count)\n",
    "plt.plot(r, power_law(r, pars[0], pars[1]), c= 'grey')\n",
    "\n",
    "plt.yscale('log'), plt.xscale('log')\n",
    "plt.show()"
   ]
  },
  {
   "cell_type": "code",
   "execution_count": 16,
   "metadata": {},
   "outputs": [
    {
     "name": "stdout",
     "output_type": "stream",
     "text": [
      "Collecting lempel-ziv-complexity\n",
      "  Downloading lempel_ziv_complexity-0.2.2-py2.py3-none-any.whl (5.2 kB)\n",
      "Installing collected packages: lempel-ziv-complexity\n",
      "Successfully installed lempel-ziv-complexity-0.2.2\n",
      "Note: you may need to restart the kernel to use updated packages.\n"
     ]
    },
    {
     "name": "stderr",
     "output_type": "stream",
     "text": [
      "\n",
      "[notice] A new release of pip available: 22.3.1 -> 23.1.2\n",
      "[notice] To update, run: C:\\Users\\tijn2\\AppData\\Local\\Programs\\Python\\Python37\\python.exe -m pip install --upgrade pip\n"
     ]
    }
   ],
   "source": [
    "pip install lempel-ziv-complexity"
   ]
  },
  {
   "cell_type": "code",
   "execution_count": 17,
   "metadata": {},
   "outputs": [
    {
     "data": {
      "text/plain": [
       "8"
      ]
     },
     "execution_count": 17,
     "metadata": {},
     "output_type": "execute_result"
    }
   ],
   "source": [
    "from lempel_ziv_complexity import lempel_ziv_complexity\n",
    "s = '1001111011000010'\n",
    "lempel_ziv_complexity(s)"
   ]
  },
  {
   "cell_type": "code",
   "execution_count": 22,
   "metadata": {},
   "outputs": [
    {
     "data": {
      "text/plain": [
       "17784"
      ]
     },
     "execution_count": 22,
     "metadata": {},
     "output_type": "execute_result"
    }
   ],
   "source": [
    "# def lempel_ziv_complexity_2d(ca_grid):\n",
    "#     dictionary = {}\n",
    "#     substring_count = 0\n",
    "\n",
    "#     encoded_rows = []\n",
    "#     for row in ca_grid:\n",
    "#         encoded_rows.append(\"\".join(str(cell) for cell in row))\n",
    "\n",
    "#     encoded_columns = []\n",
    "#     for col_idx in range(len(ca_grid[0])):\n",
    "#         column = [row[col_idx] for row in ca_grid]\n",
    "#         encoded_columns.append(\"\".join(str(cell) for cell in column))\n",
    "\n",
    "#     encoded_strings = encoded_rows + encoded_columns\n",
    "\n",
    "#     for encoded_string in encoded_strings:\n",
    "#         for i in range(len(encoded_string)):\n",
    "#             current_substring = encoded_string[:i + 1]\n",
    "\n",
    "#             if current_substring not in dictionary:\n",
    "#                 dictionary[current_substring] = True\n",
    "#                 substring_count += 1\n",
    "\n",
    "#     return substring_count\n",
    "\n",
    "# lempel_ziv_complexity_2d(grid)"
   ]
  },
  {
   "cell_type": "code",
   "execution_count": 24,
   "metadata": {},
   "outputs": [
    {
     "name": "stdout",
     "output_type": "stream",
     "text": [
      "Conditional Entropy: 4.565872226445261\n"
     ]
    }
   ],
   "source": [
    "# def calculate_joint_probability(ca_grid):\n",
    "#     joint_counts = np.zeros((4, 4))  # 4x4 matrix to store joint counts\n",
    "#     height, width = ca_grid.shape\n",
    "\n",
    "#     # Count the occurrences of pairs of states in the CA grid\n",
    "#     for i in range(height):\n",
    "#         for j in range(width):\n",
    "#             if i < height - 1:\n",
    "#                 x = ca_grid[i, j]\n",
    "#                 y = ca_grid[i + 1, j]\n",
    "#                 joint_counts[x, y] += 1\n",
    "#             if j < width - 1:\n",
    "#                 x = ca_grid[i, j]\n",
    "#                 y = ca_grid[i, j + 1]\n",
    "#                 joint_counts[x, y] += 1\n",
    "\n",
    "#     # Compute joint probabilities by dividing by the total number of pairs\n",
    "#     joint_probabilities = joint_counts / (height * width)\n",
    "#     return joint_probabilities\n",
    "\n",
    "# def calculate_conditional_probability(joint_probabilities):\n",
    "#     marginal_probabilities = np.sum(joint_probabilities, axis=1)\n",
    "#     conditional_probabilities = joint_probabilities / marginal_probabilities[:, np.newaxis]\n",
    "#     return conditional_probabilities\n",
    "\n",
    "# def calculate_conditional_entropy(conditional_probabilities):\n",
    "#     conditional_entropy = -np.sum(conditional_probabilities * np.log2(conditional_probabilities))\n",
    "#     return conditional_entropy\n",
    "\n",
    "\n",
    "# joint_probs = calculate_joint_probability(grid)\n",
    "# conditional_probs = calculate_conditional_probability(joint_probs)\n",
    "# conditional_entropy = calculate_conditional_entropy(conditional_probs)\n",
    "\n",
    "# print(\"Conditional Entropy:\", conditional_entropy)\n"
   ]
  },
  {
   "cell_type": "code",
   "execution_count": 32,
   "metadata": {},
   "outputs": [
    {
     "name": "stdout",
     "output_type": "stream",
     "text": [
      "Conditional Entropy: 1.397376712107437\n"
     ]
    }
   ],
   "source": [
    "from collections import Counter\n",
    "\n",
    "def conditional_entropy(grid):\n",
    "    counter = Counter()\n",
    "    total_count = 0\n",
    "\n",
    "    for i in range(grid.shape[0]):\n",
    "        for j in range(grid.shape[1]):\n",
    "            state = grid[i, j]\n",
    "            counter[state] += 1\n",
    "            total_count += 1\n",
    "\n",
    "    conditional_entropy = 0\n",
    "    for state, count in counter.items():\n",
    "        probability = count / total_count\n",
    "        conditional_entropy -= probability * np.log2(probability)\n",
    "\n",
    "    return conditional_entropy\n",
    "\n"
   ]
  },
  {
   "cell_type": "code",
   "execution_count": 41,
   "metadata": {},
   "outputs": [
    {
     "name": "stdout",
     "output_type": "stream",
     "text": [
      "1.397376712107437\n",
      "Conditional Entropy: 1.9999313821448854\n",
      "Conditional Entropy: 0.0\n"
     ]
    }
   ],
   "source": [
    "entropy = conditional_entropy(grid)\n",
    "print(entropy)\n",
    "\n",
    "grid1 = np.random.randint(0, 4, size=(100, 100))\n",
    "entropy1 = conditional_entropy(grid1)\n",
    "print(\"Conditional Entropy:\", entropy1)\n",
    "\n",
    "grid2 = np.random.randint(0, 1, size=(100, 100))\n",
    "entropy2 = conditional_entropy(grid2)\n",
    "print(\"Conditional Entropy:\", entropy2)"
   ]
  },
  {
   "cell_type": "code",
   "execution_count": 20,
   "metadata": {},
   "outputs": [
    {
     "name": "stdout",
     "output_type": "stream",
     "text": [
      "Running simulation with seed 39309...\n"
     ]
    },
    {
     "data": {
      "image/png": "[encoded data removed]",
      "text/plain": [
       "<Figure size 576x576 with 2 Axes>"
      ]
     },
     "metadata": {
      "needs_background": "light"
     },
     "output_type": "display_data"
    },
    {
     "name": "stdout",
     "output_type": "stream",
     "text": [
      "Running iteration 1...\n",
      "Running iteration 2...\n",
      "Running iteration 3...\n",
      "Running iteration 4...\n",
      "Running iteration 5...\n",
      "Running iteration 6...\n",
      "Running iteration 7...\n",
      "Running iteration 8...\n",
      "Running iteration 9...\n",
      "Running iteration 10...\n",
      "Running iteration 11...\n",
      "Running iteration 12...\n",
      "Running iteration 13...\n",
      "Running iteration 14...\n",
      "Running iteration 15...\n",
      "Running iteration 16...\n",
      "Running iteration 17...\n",
      "Running iteration 18...\n",
      "Running iteration 19...\n",
      "Running iteration 20...\n",
      "Running iteration 21...\n",
      "Running iteration 22...\n",
      "Running iteration 23...\n",
      "Running iteration 24...\n",
      "Running iteration 25...\n",
      "Running iteration 26...\n",
      "Running iteration 27...\n",
      "Running iteration 28...\n",
      "Running iteration 29...\n",
      "Running iteration 30...\n",
      "Running iteration 31...\n",
      "Running iteration 32...\n",
      "Running iteration 33...\n",
      "Running iteration 34...\n",
      "Running iteration 35...\n",
      "Running iteration 36...\n",
      "Running iteration 37...\n",
      "Running iteration 38...\n",
      "Running iteration 39...\n",
      "Running iteration 40...\n",
      "Running iteration 41...\n",
      "Running iteration 42...\n",
      "Running iteration 43...\n",
      "Running iteration 44...\n",
      "Running iteration 45...\n",
      "Running iteration 46...\n",
      "Running iteration 47...\n",
      "Running iteration 48...\n",
      "Running iteration 49...\n",
      "Running iteration 50...\n"
     ]
    },
    {
     "data": {
      "image/png": "[encoded data removed]",
      "text/plain": [
       "<Figure size 720x720 with 2 Axes>"
      ]
     },
     "metadata": {
      "needs_background": "light"
     },
     "output_type": "display_data"
    },
    {
     "name": "stdout",
     "output_type": "stream",
     "text": [
      "Simulation completed.\n",
      "\n",
      "Running simulation with seed 24381...\n"
     ]
    },
    {
     "data": {
      "image/png": "[encoded data removed]",
      "text/plain": [
       "<Figure size 576x576 with 2 Axes>"
      ]
     },
     "metadata": {
      "needs_background": "light"
     },
     "output_type": "display_data"
    },
    {
     "name": "stdout",
     "output_type": "stream",
     "text": [
      "Running iteration 1...\n",
      "Running iteration 2...\n",
      "Running iteration 3...\n",
      "Running iteration 4...\n",
      "Running iteration 5...\n",
      "Running iteration 6...\n",
      "Running iteration 7...\n",
      "Running iteration 8...\n",
      "Running iteration 9...\n",
      "Running iteration 10...\n",
      "Running iteration 11...\n",
      "Running iteration 12...\n",
      "Running iteration 13...\n",
      "Running iteration 14...\n",
      "Running iteration 15...\n",
      "Running iteration 16...\n",
      "Running iteration 17...\n",
      "Running iteration 18...\n",
      "Running iteration 19...\n",
      "Running iteration 20...\n",
      "Running iteration 21...\n",
      "Running iteration 22...\n",
      "Running iteration 23...\n",
      "Running iteration 24...\n",
      "Running iteration 25...\n",
      "Running iteration 26...\n",
      "Running iteration 27...\n",
      "Running iteration 28...\n",
      "Running iteration 29...\n",
      "Running iteration 30...\n",
      "Running iteration 31...\n",
      "Running iteration 32...\n",
      "Running iteration 33...\n",
      "Running iteration 34...\n",
      "Running iteration 35...\n",
      "Running iteration 36...\n",
      "Running iteration 37...\n",
      "Running iteration 38...\n",
      "Running iteration 39...\n",
      "Running iteration 40...\n",
      "Running iteration 41...\n",
      "Running iteration 42...\n",
      "Running iteration 43...\n",
      "Running iteration 44...\n",
      "Running iteration 45...\n",
      "Running iteration 46...\n",
      "Running iteration 47...\n",
      "Running iteration 48...\n",
      "Running iteration 49...\n",
      "Running iteration 50...\n"
     ]
    },
    {
     "data": {
      "image/png": "[encoded data removed]",
      "text/plain": [
       "<Figure size 720x720 with 2 Axes>"
      ]
     },
     "metadata": {
      "needs_background": "light"
     },
     "output_type": "display_data"
    },
    {
     "name": "stdout",
     "output_type": "stream",
     "text": [
      "Simulation completed.\n",
      "\n",
      "Running simulation with seed 12973...\n"
     ]
    },
    {
     "data": {
      "image/png": "[encoded data removed]",
      "text/plain": [
       "<Figure size 576x576 with 2 Axes>"
      ]
     },
     "metadata": {
      "needs_background": "light"
     },
     "output_type": "display_data"
    },
    {
     "name": "stdout",
     "output_type": "stream",
     "text": [
      "Running iteration 1...\n",
      "Running iteration 2...\n",
      "Running iteration 3...\n",
      "Running iteration 4...\n",
      "Running iteration 5...\n",
      "Running iteration 6...\n",
      "Running iteration 7...\n",
      "Running iteration 8...\n",
      "Running iteration 9...\n",
      "Running iteration 10...\n",
      "Running iteration 11...\n",
      "Running iteration 12...\n",
      "Running iteration 13...\n",
      "Running iteration 14...\n",
      "Running iteration 15...\n",
      "Running iteration 16...\n",
      "Running iteration 17...\n",
      "Running iteration 18...\n",
      "Running iteration 19...\n",
      "Running iteration 20...\n",
      "Running iteration 21...\n",
      "Running iteration 22...\n",
      "Running iteration 23...\n",
      "Running iteration 24...\n",
      "Running iteration 25...\n",
      "Running iteration 26...\n",
      "Running iteration 27...\n",
      "Running iteration 28...\n",
      "Running iteration 29...\n",
      "Running iteration 30...\n",
      "Running iteration 31...\n",
      "Running iteration 32...\n",
      "Running iteration 33...\n",
      "Running iteration 34...\n",
      "Running iteration 35...\n",
      "Running iteration 36...\n",
      "Running iteration 37...\n",
      "Running iteration 38...\n",
      "Running iteration 39...\n",
      "Running iteration 40...\n",
      "Running iteration 41...\n",
      "Running iteration 42...\n",
      "Running iteration 43...\n",
      "Running iteration 44...\n",
      "Running iteration 45...\n",
      "Running iteration 46...\n",
      "Running iteration 47...\n",
      "Running iteration 48...\n",
      "Running iteration 49...\n",
      "Running iteration 50...\n"
     ]
    },
    {
     "data": {
      "image/png": "[encoded data removed]",
      "text/plain": [
       "<Figure size 720x720 with 2 Axes>"
      ]
     },
     "metadata": {
      "needs_background": "light"
     },
     "output_type": "display_data"
    },
    {
     "name": "stdout",
     "output_type": "stream",
     "text": [
      "Simulation completed.\n",
      "\n",
      "Running simulation with seed 10430...\n"
     ]
    },
    {
     "data": {
      "image/png": "[encoded data removed]",
      "text/plain": [
       "<Figure size 576x576 with 2 Axes>"
      ]
     },
     "metadata": {
      "needs_background": "light"
     },
     "output_type": "display_data"
    },
    {
     "name": "stdout",
     "output_type": "stream",
     "text": [
      "Running iteration 1...\n",
      "Running iteration 2...\n",
      "Running iteration 3...\n",
      "Running iteration 4...\n",
      "Running iteration 5...\n",
      "Running iteration 6...\n",
      "Running iteration 7...\n",
      "Running iteration 8...\n",
      "Running iteration 9...\n",
      "Running iteration 10...\n",
      "Running iteration 11...\n",
      "Running iteration 12...\n",
      "Running iteration 13...\n",
      "Running iteration 14...\n",
      "Running iteration 15...\n",
      "Running iteration 16...\n",
      "Running iteration 17...\n",
      "Running iteration 18...\n",
      "Running iteration 19...\n",
      "Running iteration 20...\n",
      "Running iteration 21...\n",
      "Running iteration 22...\n",
      "Running iteration 23...\n",
      "Running iteration 24...\n",
      "Running iteration 25...\n",
      "Running iteration 26...\n",
      "Running iteration 27...\n",
      "Running iteration 28...\n",
      "Running iteration 29...\n",
      "Running iteration 30...\n",
      "Running iteration 31...\n",
      "Running iteration 32...\n",
      "Running iteration 33...\n",
      "Running iteration 34...\n",
      "Running iteration 35...\n",
      "Running iteration 36...\n",
      "Running iteration 37...\n",
      "Running iteration 38...\n",
      "Running iteration 39...\n",
      "Running iteration 40...\n",
      "Running iteration 41...\n",
      "Running iteration 42...\n",
      "Running iteration 43...\n",
      "Running iteration 44...\n",
      "Running iteration 45...\n",
      "Running iteration 46...\n",
      "Running iteration 47...\n",
      "Running iteration 48...\n",
      "Running iteration 49...\n",
      "Running iteration 50...\n"
     ]
    },
    {
     "data": {
      "image/png": "[encoded data removed]",
      "text/plain": [
       "<Figure size 720x720 with 2 Axes>"
      ]
     },
     "metadata": {
      "needs_background": "light"
     },
     "output_type": "display_data"
    },
    {
     "name": "stdout",
     "output_type": "stream",
     "text": [
      "Simulation completed.\n",
      "\n",
      "Running simulation with seed 40712...\n"
     ]
    },
    {
     "data": {
      "image/png": "[encoded data removed]",
      "text/plain": [
       "<Figure size 576x576 with 2 Axes>"
      ]
     },
     "metadata": {
      "needs_background": "light"
     },
     "output_type": "display_data"
    },
    {
     "name": "stdout",
     "output_type": "stream",
     "text": [
      "Running iteration 1...\n",
      "Running iteration 2...\n",
      "Running iteration 3...\n",
      "Running iteration 4...\n",
      "Running iteration 5...\n",
      "Running iteration 6...\n",
      "Running iteration 7...\n",
      "Running iteration 8...\n",
      "Running iteration 9...\n",
      "Running iteration 10...\n",
      "Running iteration 11...\n",
      "Running iteration 12...\n",
      "Running iteration 13...\n",
      "Running iteration 14...\n",
      "Running iteration 15...\n",
      "Running iteration 16...\n",
      "Running iteration 17...\n",
      "Running iteration 18...\n",
      "Running iteration 19...\n",
      "Running iteration 20...\n",
      "Running iteration 21...\n",
      "Running iteration 22...\n",
      "Running iteration 23...\n",
      "Running iteration 24...\n",
      "Running iteration 25...\n",
      "Running iteration 26...\n",
      "Running iteration 27...\n",
      "Running iteration 28...\n",
      "Running iteration 29...\n",
      "Running iteration 30...\n",
      "Running iteration 31...\n",
      "Running iteration 32...\n",
      "Running iteration 33...\n",
      "Running iteration 34...\n",
      "Running iteration 35...\n",
      "Running iteration 36...\n",
      "Running iteration 37...\n",
      "Running iteration 38...\n",
      "Running iteration 39...\n",
      "Running iteration 40...\n",
      "Running iteration 41...\n",
      "Running iteration 42...\n",
      "Running iteration 43...\n",
      "Running iteration 44...\n",
      "Running iteration 45...\n",
      "Running iteration 46...\n",
      "Running iteration 47...\n",
      "Running iteration 48...\n",
      "Running iteration 49...\n",
      "Running iteration 50...\n"
     ]
    },
    {
     "data": {
      "image/png": "[encoded data removed]",
      "text/plain": [
       "<Figure size 720x720 with 2 Axes>"
      ]
     },
     "metadata": {
      "needs_background": "light"
     },
     "output_type": "display_data"
    },
    {
     "name": "stdout",
     "output_type": "stream",
     "text": [
      "Simulation completed.\n",
      "\n",
      "Running simulation with seed 10151...\n"
     ]
    },
    {
     "data": {
      "image/png": "[encoded data removed]",
      "text/plain": [
       "<Figure size 576x576 with 2 Axes>"
      ]
     },
     "metadata": {
      "needs_background": "light"
     },
     "output_type": "display_data"
    },
    {
     "name": "stdout",
     "output_type": "stream",
     "text": [
      "Running iteration 1...\n",
      "Running iteration 2...\n",
      "Running iteration 3...\n",
      "Running iteration 4...\n",
      "Running iteration 5...\n",
      "Running iteration 6...\n",
      "Running iteration 7...\n",
      "Running iteration 8...\n",
      "Running iteration 9...\n",
      "Running iteration 10...\n",
      "Running iteration 11...\n",
      "Running iteration 12...\n",
      "Running iteration 13...\n",
      "Running iteration 14...\n",
      "Running iteration 15...\n",
      "Running iteration 16...\n",
      "Running iteration 17...\n",
      "Running iteration 18...\n",
      "Running iteration 19...\n",
      "Running iteration 20...\n",
      "Running iteration 21...\n",
      "Running iteration 22...\n",
      "Running iteration 23...\n",
      "Running iteration 24...\n",
      "Running iteration 25...\n",
      "Running iteration 26...\n",
      "Running iteration 27...\n",
      "Running iteration 28...\n",
      "Running iteration 29...\n",
      "Running iteration 30...\n",
      "Running iteration 31...\n",
      "Running iteration 32...\n",
      "Running iteration 33...\n",
      "Running iteration 34...\n",
      "Running iteration 35...\n",
      "Running iteration 36...\n",
      "Running iteration 37...\n",
      "Running iteration 38...\n",
      "Running iteration 39...\n",
      "Running iteration 40...\n",
      "Running iteration 41...\n",
      "Running iteration 42...\n",
      "Running iteration 43...\n",
      "Running iteration 44...\n",
      "Running iteration 45...\n",
      "Running iteration 46...\n",
      "Running iteration 47...\n",
      "Running iteration 48...\n",
      "Running iteration 49...\n",
      "Running iteration 50...\n"
     ]
    },
    {
     "data": {
      "image/png": "[encoded data removed]",
      "text/plain": [
       "<Figure size 720x720 with 2 Axes>"
      ]
     },
     "metadata": {
      "needs_background": "light"
     },
     "output_type": "display_data"
    },
    {
     "name": "stdout",
     "output_type": "stream",
     "text": [
      "Simulation completed.\n",
      "\n",
      "Running simulation with seed 48186...\n"
     ]
    },
    {
     "data": {
      "image/png": "[encoded data removed]",
      "text/plain": [
       "<Figure size 576x576 with 2 Axes>"
      ]
     },
     "metadata": {
      "needs_background": "light"
     },
     "output_type": "display_data"
    },
    {
     "name": "stdout",
     "output_type": "stream",
     "text": [
      "Running iteration 1...\n",
      "Running iteration 2...\n",
      "Running iteration 3...\n",
      "Running iteration 4...\n",
      "Running iteration 5...\n",
      "Running iteration 6...\n",
      "Running iteration 7...\n",
      "Running iteration 8...\n",
      "Running iteration 9...\n",
      "Running iteration 10...\n",
      "Running iteration 11...\n",
      "Running iteration 12...\n",
      "Running iteration 13...\n",
      "Running iteration 14...\n",
      "Running iteration 15...\n",
      "Running iteration 16...\n",
      "Running iteration 17...\n",
      "Running iteration 18...\n",
      "Running iteration 19...\n",
      "Running iteration 20...\n",
      "Running iteration 21...\n",
      "Running iteration 22...\n",
      "Running iteration 23...\n",
      "Running iteration 24...\n",
      "Running iteration 25...\n",
      "Running iteration 26...\n",
      "Running iteration 27...\n",
      "Running iteration 28...\n",
      "Running iteration 29...\n",
      "Running iteration 30...\n",
      "Running iteration 31...\n",
      "Running iteration 32...\n",
      "Running iteration 33...\n",
      "Running iteration 34...\n",
      "Running iteration 35...\n",
      "Running iteration 36...\n",
      "Running iteration 37...\n",
      "Running iteration 38...\n",
      "Running iteration 39...\n",
      "Running iteration 40...\n",
      "Running iteration 41...\n",
      "Running iteration 42...\n",
      "Running iteration 43...\n",
      "Running iteration 44...\n",
      "Running iteration 45...\n",
      "Running iteration 46...\n",
      "Running iteration 47...\n",
      "Running iteration 48...\n",
      "Running iteration 49...\n",
      "Running iteration 50...\n"
     ]
    },
    {
     "data": {
      "image/png": "[encoded data removed]",
      "text/plain": [
       "<Figure size 720x720 with 2 Axes>"
      ]
     },
     "metadata": {
      "needs_background": "light"
     },
     "output_type": "display_data"
    },
    {
     "name": "stdout",
     "output_type": "stream",
     "text": [
      "Simulation completed.\n",
      "\n",
      "Running simulation with seed 22592...\n"
     ]
    },
    {
     "data": {
      "image/png": "[encoded data removed]",
      "text/plain": [
       "<Figure size 576x576 with 2 Axes>"
      ]
     },
     "metadata": {
      "needs_background": "light"
     },
     "output_type": "display_data"
    },
    {
     "name": "stdout",
     "output_type": "stream",
     "text": [
      "Running iteration 1...\n",
      "Running iteration 2...\n",
      "Running iteration 3...\n",
      "Running iteration 4...\n",
      "Running iteration 5...\n",
      "Running iteration 6...\n",
      "Running iteration 7...\n",
      "Running iteration 8...\n",
      "Running iteration 9...\n",
      "Running iteration 10...\n",
      "Running iteration 11...\n",
      "Running iteration 12...\n",
      "Running iteration 13...\n",
      "Running iteration 14...\n",
      "Running iteration 15...\n",
      "Running iteration 16...\n",
      "Running iteration 17...\n",
      "Running iteration 18...\n",
      "Running iteration 19...\n",
      "Running iteration 20...\n",
      "Running iteration 21...\n",
      "Running iteration 22...\n",
      "Running iteration 23...\n",
      "Running iteration 24...\n",
      "Running iteration 25...\n",
      "Running iteration 26...\n",
      "Running iteration 27...\n",
      "Running iteration 28...\n",
      "Running iteration 29...\n",
      "Running iteration 30...\n",
      "Running iteration 31...\n",
      "Running iteration 32...\n",
      "Running iteration 33...\n",
      "Running iteration 34...\n",
      "Running iteration 35...\n",
      "Running iteration 36...\n",
      "Running iteration 37...\n",
      "Running iteration 38...\n",
      "Running iteration 39...\n",
      "Running iteration 40...\n",
      "Running iteration 41...\n",
      "Running iteration 42...\n",
      "Running iteration 43...\n",
      "Running iteration 44...\n",
      "Running iteration 45...\n",
      "Running iteration 46...\n",
      "Running iteration 47...\n",
      "Running iteration 48...\n",
      "Running iteration 49...\n",
      "Running iteration 50...\n"
     ]
    },
    {
     "data": {
      "image/png": "[encoded data removed]",
      "text/plain": [
       "<Figure size 720x720 with 2 Axes>"
      ]
     },
     "metadata": {
      "needs_background": "light"
     },
     "output_type": "display_data"
    },
    {
     "name": "stdout",
     "output_type": "stream",
     "text": [
      "Simulation completed.\n",
      "\n",
      "Running simulation with seed 27099...\n"
     ]
    },
    {
     "data": {
      "image/png": "[encoded data removed]",
      "text/plain": [
       "<Figure size 576x576 with 2 Axes>"
      ]
     },
     "metadata": {
      "needs_background": "light"
     },
     "output_type": "display_data"
    },
    {
     "name": "stdout",
     "output_type": "stream",
     "text": [
      "Running iteration 1...\n",
      "Running iteration 2...\n",
      "Running iteration 3...\n",
      "Running iteration 4...\n",
      "Running iteration 5...\n",
      "Running iteration 6...\n",
      "Running iteration 7...\n",
      "Running iteration 8...\n",
      "Running iteration 9...\n",
      "Running iteration 10...\n",
      "Running iteration 11...\n",
      "Running iteration 12...\n",
      "Running iteration 13...\n",
      "Running iteration 14...\n",
      "Running iteration 15...\n",
      "Running iteration 16...\n",
      "Running iteration 17...\n",
      "Running iteration 18...\n",
      "Running iteration 19...\n",
      "Running iteration 20...\n",
      "Running iteration 21...\n",
      "Running iteration 22...\n",
      "Running iteration 23...\n",
      "Running iteration 24...\n",
      "Running iteration 25...\n",
      "Running iteration 26...\n",
      "Running iteration 27...\n",
      "Running iteration 28...\n",
      "Running iteration 29...\n",
      "Running iteration 30...\n",
      "Running iteration 31...\n",
      "Running iteration 32...\n",
      "Running iteration 33...\n",
      "Running iteration 34...\n",
      "Running iteration 35...\n",
      "Running iteration 36...\n",
      "Running iteration 37...\n",
      "Running iteration 38...\n",
      "Running iteration 39...\n",
      "Running iteration 40...\n",
      "Running iteration 41...\n",
      "Running iteration 42...\n",
      "Running iteration 43...\n",
      "Running iteration 44...\n",
      "Running iteration 45...\n",
      "Running iteration 46...\n",
      "Running iteration 47...\n",
      "Running iteration 48...\n",
      "Running iteration 49...\n",
      "Running iteration 50...\n"
     ]
    },
    {
     "data": {
      "image/png": "[encoded data removed]",
      "text/plain": [
       "<Figure size 720x720 with 2 Axes>"
      ]
     },
     "metadata": {
      "needs_background": "light"
     },
     "output_type": "display_data"
    },
    {
     "name": "stdout",
     "output_type": "stream",
     "text": [
      "Simulation completed.\n",
      "\n",
      "Running simulation with seed 55714...\n"
     ]
    },
    {
     "data": {
      "image/png": "[encoded data removed]",
      "text/plain": [
       "<Figure size 576x576 with 2 Axes>"
      ]
     },
     "metadata": {
      "needs_background": "light"
     },
     "output_type": "display_data"
    },
    {
     "name": "stdout",
     "output_type": "stream",
     "text": [
      "Running iteration 1...\n",
      "Running iteration 2...\n",
      "Running iteration 3...\n",
      "Running iteration 4...\n",
      "Running iteration 5...\n",
      "Running iteration 6...\n",
      "Running iteration 7...\n",
      "Running iteration 8...\n",
      "Running iteration 9...\n",
      "Running iteration 10...\n",
      "Running iteration 11...\n",
      "Running iteration 12...\n",
      "Running iteration 13...\n",
      "Running iteration 14...\n",
      "Running iteration 15...\n",
      "Running iteration 16...\n",
      "Running iteration 17...\n",
      "Running iteration 18...\n",
      "Running iteration 19...\n",
      "Running iteration 20...\n",
      "Running iteration 21...\n",
      "Running iteration 22...\n",
      "Running iteration 23...\n",
      "Running iteration 24...\n",
      "Running iteration 25...\n",
      "Running iteration 26...\n",
      "Running iteration 27...\n",
      "Running iteration 28...\n",
      "Running iteration 29...\n",
      "Running iteration 30...\n",
      "Running iteration 31...\n",
      "Running iteration 32...\n",
      "Running iteration 33...\n",
      "Running iteration 34...\n",
      "Running iteration 35...\n",
      "Running iteration 36...\n",
      "Running iteration 37...\n",
      "Running iteration 38...\n",
      "Running iteration 39...\n",
      "Running iteration 40...\n",
      "Running iteration 41...\n",
      "Running iteration 42...\n",
      "Running iteration 43...\n",
      "Running iteration 44...\n",
      "Running iteration 45...\n",
      "Running iteration 46...\n",
      "Running iteration 47...\n",
      "Running iteration 48...\n",
      "Running iteration 49...\n",
      "Running iteration 50...\n"
     ]
    },
    {
     "data": {
      "image/png": "[encoded data removed]",
      "text/plain": [
       "<Figure size 720x720 with 2 Axes>"
      ]
     },
     "metadata": {
      "needs_background": "light"
     },
     "output_type": "display_data"
    },
    {
     "name": "stdout",
     "output_type": "stream",
     "text": [
      "Simulation completed.\n",
      "\n"
     ]
    }
   ],
   "source": [
    "def run_simulation_multiple(grid, weights_table, alpha, growth_rates, radius, seed, num_iterations):\n",
    "    np.random.seed(seed)\n",
    "    \n",
    "    grid_size = grid.shape[0]\n",
    "\n",
    "\n",
    "\n",
    "    for iteration in range(num_iterations):\n",
    "        print(f\"Running iteration {iteration+1}...\")\n",
    "        transition_potentials = calculate_transition_potentials(grid, alpha, weights_table, radius)\n",
    "\n",
    "        highest_potentials = {}\n",
    "        for i in range(grid_size):\n",
    "            for j in range(grid_size):\n",
    "                if grid[i, j] == states['V']:\n",
    "                    potential_states = ['H', 'I', 'C']\n",
    "                elif grid[i, j] == states['H']:\n",
    "                    potential_states = ['I', 'C']\n",
    "                elif grid[i, j] == states['I']:\n",
    "                    potential_states = ['C']\n",
    "                else:\n",
    "                    potential_states = []\n",
    "                    \n",
    "                if potential_states:\n",
    "                    highest_potentials[(i, j)] = max(potential_states, key=lambda state: transition_potentials[i, j, states[state]])\n",
    "\n",
    "        for new_state_key in sorted(states, key=lambda k: states[k], reverse=True):\n",
    "            new_state = states[new_state_key]\n",
    "            if new_state_key != 'V':\n",
    "                num_to_convert = int(grid_size * grid_size * growth_rates[new_state_key])\n",
    "                potential_cells = [(i, j) for i, j in highest_potentials.keys() if highest_potentials[(i, j)] == new_state_key]\n",
    "                potential_cells.sort(key=lambda cell: transition_potentials[cell[0], cell[1], states[highest_potentials[cell]]], reverse=True)\n",
    "                \n",
    "                for cell in potential_cells[:num_to_convert]:\n",
    "                    \n",
    "                    grid[cell] = new_state\n",
    "\n",
    "        \n",
    "\n",
    "    plt.figure(figsize=(10, 10))\n",
    "    cmap = plt.cm.colors.ListedColormap(['white', 'skyblue', 'grey', 'orange'])\n",
    "    plt.imshow(grid, cmap=cmap, origin='lower', vmin=0, vmax=3)\n",
    "    plt.colorbar(ticks=[0, 1, 2, 3], label='Land Use')\n",
    "    plt.title('Final Land Use')\n",
    "    plt.show()\n",
    "\n",
    "# make seed to be 10 random integers from 0 to 100000\n",
    "seeds = np.random.randint(0, 100000, 10)\n",
    "\n",
    "growth_rates = {\n",
    "    'H': 0.007,  \n",
    "    'I': 0.002,\n",
    "    'C': 0.0005,\n",
    "}\n",
    "num_iterations = 50\n",
    "\n",
    "for seed in seeds:\n",
    "    print(f\"Running simulation with seed {seed}...\")\n",
    "    new_grid = initial_land_use(seed_number=seed, grid_size=grid_size, plot=True)\n",
    "    run_simulation_multiple(new_grid, weights_table, alpha=2.5, growth_rates=growth_rates, radius=6, seed=seed, num_iterations=num_iterations)\n",
    "    print(\"Simulation completed.\\n\")\n",
    "\n"
   ]
  }
 ],
 "metadata": {
  "kernelspec": {
   "display_name": "Python 3",
   "language": "python",
   "name": "python3"
  },
  "language_info": {
   "codemirror_mode": {
    "name": "ipython",
    "version": 3
   },
   "file_extension": ".py",
   "mimetype": "text/x-python",
   "name": "python",
   "nbconvert_exporter": "python",
   "pygments_lexer": "ipython3",
   "version": "3.7.7"
  }
 },
 "nbformat": 4,
 "nbformat_minor": 2
}
