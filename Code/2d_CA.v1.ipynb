{
 "cells": [
  {
   "cell_type": "code",
   "execution_count": 1,
   "id": "1324348e",
   "metadata": {},
   "outputs": [],
   "source": [
    "import numpy as np\n",
    "import matplotlib.pyplot as plt \n",
    "import matplotlib.animation as animation\n"
   ]
  },
  {
   "cell_type": "code",
   "execution_count": 2,
   "id": "35895651",
   "metadata": {},
   "outputs": [
    {
     "data": {
      "image/png": "[encoded data removed]",
      "text/plain": [
       "<Figure size 432x288 with 1 Axes>"
      ]
     },
     "metadata": {
      "needs_background": "light"
     },
     "output_type": "display_data"
    },
    {
     "name": "stderr",
     "output_type": "stream",
     "text": [
      "C:\\ProgramData\\Anaconda3\\lib\\site-packages\\matplotlib\\animation.py:889: UserWarning: Animation was deleted without rendering anything. This is most likely not intended. To prevent deletion, assign the Animation to a variable, e.g. `anim`, that exists until you have outputted the Animation using `plt.show()` or `anim.save()`.\n",
      "  warnings.warn(\n"
     ]
    }
   ],
   "source": [
    "\n",
    "\n",
    "# Cellular automaton rules\n",
    "def update(frameNum, img, grid, N):\n",
    "    newGrid = grid.copy()\n",
    "    for i in range(N):\n",
    "        for j in range(N):\n",
    "            total = int((grid[i, (j-1)%N] + grid[i, (j+1)%N] +\n",
    "                         grid[(i-1)%N, j] + grid[(i+1)%N, j] +\n",
    "                         grid[(i-1)%N, (j-1)%N] + grid[(i-1)%N, (j+1)%N] +\n",
    "                         grid[(i+1)%N, (j-1)%N] + grid[(i+1)%N, (j+1)%N]) / 255)\n",
    "            if grid[i, j]  == ON:\n",
    "                if (total < 2) or (total > 3):\n",
    "                    newGrid[i, j] = OFF\n",
    "            else:\n",
    "                if total == 3:\n",
    "                    newGrid[i, j] = ON\n",
    "    img.set_data(newGrid)\n",
    "    grid[:] = newGrid[:]\n",
    "    return img,\n",
    "\n",
    "# main() function\n",
    "\n",
    "def main():\n",
    "    N = 100\n",
    "    global grid, ON, OFF, vals\n",
    "    ON = 255\n",
    "    OFF = 0\n",
    "    vals = [ON, OFF]\n",
    "\n",
    "    # populate grid with random on/off - more off than on\n",
    "    grid = np.random.choice(vals, N*N, p=[0.2, 0.8]).reshape(N, N)\n",
    "\n",
    "    # set up animation\n",
    "    fig, ax = plt.subplots()\n",
    "    img = ax.imshow(grid, interpolation='nearest')\n",
    "    ani = animation.FuncAnimation(fig, update, fargs=(img, grid, N, ),\n",
    "                                  frames = 10,\n",
    "                                  interval=50,\n",
    "                                  save_count=50)\n",
    "\n",
    "    plt.show()\n",
    "\n",
    "\n",
    "main()\n"
   ]
  },
  {
   "cell_type": "code",
   "execution_count": null,
   "id": "53b35ce8",
   "metadata": {},
   "outputs": [],
   "source": []
  },
  {
   "cell_type": "code",
   "execution_count": null,
   "id": "3e266c20",
   "metadata": {},
   "outputs": [],
   "source": []
  },
  {
   "cell_type": "code",
   "execution_count": null,
   "id": "0f2a3b6f",
   "metadata": {},
   "outputs": [],
   "source": []
  }
 ],
 "metadata": {
  "kernelspec": {
   "display_name": "Python 3 (ipykernel)",
   "language": "python",
   "name": "python3"
  },
  "language_info": {
   "codemirror_mode": {
    "name": "ipython",
    "version": 3
   },
   "file_extension": ".py",
   "mimetype": "text/x-python",
   "name": "python",
   "nbconvert_exporter": "python",
   "pygments_lexer": "ipython3",
   "version": "3.9.12"
  }
 },
 "nbformat": 4,
 "nbformat_minor": 5
}
