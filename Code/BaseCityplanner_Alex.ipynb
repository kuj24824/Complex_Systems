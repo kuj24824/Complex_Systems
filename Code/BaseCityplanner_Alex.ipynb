{
 "cells": [
  {
   "cell_type": "code",
   "execution_count": 199,
   "id": "dac11bc1",
   "metadata": {
    "tags": []
   },
   "outputs": [],
   "source": [
    "import numpy as np\n",
    "import math\n",
    "import matplotlib.pyplot as plt"
   ]
  },
  {
   "cell_type": "code",
   "execution_count": 200,
   "id": "d4ef8d40",
   "metadata": {
    "tags": []
   },
   "outputs": [],
   "source": [
    "translation_rates_bkp = np.array([[[[0,0,0,0,0,0],[0,0,0,0,0,0],[0,0,0,0,0,0]],            #Transition from V to V based on V,R,C neighbor\n",
    "                     [[0,0,0,0,0,0],[ 2, 1.5, 1, 0.5,0.5,0.1],[-2,2, 1, 0.4, 0.1, 0]], #Transition from V to R based on V,R,C neighbor\n",
    "                     [[0,0,0,0,0,0],[4, 3, 2, 1.5, 1, 1],[25, 5, -1, -1, -1, -1]]],    #Transition from V to C based on V,R,C neighbor\n",
    "                     [[[0,0,0,0,0,0],[ -2, -1.5, -1, -0.5,-0.5,-0.1],[2,-2, -1, -0.4, -0.1, 0]],                   #Transition from R to V based on V,R,C neighbor\n",
    "                     [[0,0,0,0,0,0],[0,0,0,0,0,0],[0,0,0,0,0,0]],                      #Transition from R to R based on V,R,C neighbor\n",
    "                     [[0,0,0,0,0,0],[4, 3, 2, 1.5, 1, 1],[25, 5, -2, -2, -2, -2]]],   #Transition from R to C based on V,R,C neighbor\n",
    "                     [[[0,0,0,0,0,0],[-4, -3, -2, -1.5, -1, -1],[-25,-5, 2, 2, 2, 2]],                     #Transition from C to V based on V,R,C neighbor\n",
    "                     [[0,0,0,0,0,0],[-4, -3, -2, -1.5, -1, -1],[-25,-5, 2, 2, 2, 2]],                      #Transition from C to R based on V,R,C neighbor\n",
    "                      [[0,0,0,0,0,0],[0,0,0,0,0,0],[0,0,0,0,0,0]]]]                    #Transition from C to C based on V,R,C neighbor\n",
    "                            )\n",
    "\n",
    "translation_rates = np.array([[[[0,0,0,0,0,0],[0,0,0,0,0,0],[0,0,0,0,0,0]],            #Transition from V to V based on V,R,C neighbor\n",
    "                     [[0,0,0,0,0,0],[ 2, 1.5, 1, 0.5,0.5,0.1],[-2,2, 1, 0.4, 0.1, 0]], #Transition from V to R based on V,R,C neighbor\n",
    "                     [[0,0,0,0,0,0],[4, 3, 2, 1.5, 1, 1],[25, 25, -1, -1, -1, -1]]],    #Transition from V to C based on V,R,C neighbor\n",
    "                     [[[0,0,0,0,0,0],[0,0,0,0,0,0],[0,0,0,0,0,0]],                   #Transition from R to V based on V,R,C neighbor\n",
    "                     [[0,0,0,0,0,0],[0,0,0,0,0,0],[0,0,0,0,0,0]],                      #Transition from R to R based on V,R,C neighbor\n",
    "                     [[0,0,0,0,0,0],[4, 3, 2, 1.5, 1, 1],[25, 25, -2, -2, -2, -2]]],   #Transition from R to C based on V,R,C neighbor\n",
    "                     [[[0,0,0,0,0,0],[0,0,0,0,0,0],[0,0,0,0,0,0]],                     #Transition from C to V based on V,R,C neighbor\n",
    "                     [[0,0,0,0,0,0],[0,0,0,0,0,0],[0,0,0,0,0,0]],                      #Transition from C to R based on V,R,C neighbor\n",
    "                      [[0,0,0,0,0,0],[0,0,0,0,0,0],[0,0,0,0,0,0]]]]                    #Transition from C to C based on V,R,C neighbor\n",
    "                            )\n",
    "\n",
    "translation_rates[0][1][:]=translation_rates[0][1][:] * 1.5 #Amplify occurance of R\n",
    "translation_rates[0][2][1]=translation_rates[0][2][1] * 0.01 #Amplify occurance of C from R\n",
    "translation_rates[0][2][2]=translation_rates[0][2][2] * 0.1 #Amplify occurance of C from C\n",
    "translation_rates[1][2][1]=translation_rates[1][2][1] * 0.01 #Amplify occurance of C from R\n",
    "translation_rates[1][2][2]=translation_rates[1][2][2] * 0.1 #Amplify occurance of C from C\n",
    "\n",
    "def mincelfun(inarr, params = 3,preservance = 300,perturbation=2.5,base = 1):\n",
    "    \"\"\"\n",
    "    The function takes a timeslice of the array and calculates of proportions of each neighbour in Moore neighbourhood.\n",
    "    \"\"\"\n",
    "    retprob = np.zeros(params) \n",
    "    totsum = 0\n",
    "    map_center = int(math.floor(len(inarr)/2))\n",
    "    center_param = int(inarr[map_center][map_center][0])\n",
    "    retprob[center_param] = preservance\n",
    "    for i, rowarr in enumerate(inarr):\n",
    "        for j, val in enumerate(rowarr):\n",
    "            mooredist = min([abs(i-map_center),abs(j-map_center)])-1\n",
    "            if mooredist ==0:\n",
    "                continue\n",
    "            n_param = int(val[0])\n",
    "            translations = [translation_rates[center_param][towards][n_param][mooredist]for towards in range(params)]\n",
    "            retprob += translations # Uses value to index type of cell and increase value in prob array.\n",
    "    totsum = sum(retprob)\n",
    "    for g in range(params):\n",
    "        if retprob[g]<0:\n",
    "            retprob[g]=0\n",
    "        else:\n",
    "            stochastic_perturbation = 1 + (-1* np.log(np.random.rand()))**perturbation\n",
    "            retprob[g] = stochastic_perturbation * retprob[g]\n",
    "    \n",
    "    totsum = sum(retprob)\n",
    "    if (totsum <= 0): # Is this correct? totsum is only 0 if the function is passed an empty matrix. \n",
    "        retprob = np.zeros(params)\n",
    "        retprob[center_param] = 1\n",
    "        return retprob\n",
    "    \n",
    "    return retprob / float(totsum)\n",
    "\n",
    "\n",
    "\n",
    "def mincelfunbkp(inarr, params = 3):\n",
    "    \"\"\"\n",
    "    The function takes a timeslice of the array and calculates of proportions of each neighbour in Moore neighbourhood.\n",
    "    \"\"\"\n",
    "    retprob = np.zeros(params)\n",
    "    totsum = 0\n",
    "    map_center = int(math.floor(len(inarr)/2))\n",
    "    center_param = int(inarr[map_center][map_center][0])\n",
    "    for i, rowarr in enumerate(inarr):\n",
    "        for j, val in enumerate(rowarr):\n",
    "            mooredist = min([abs(i-map_center),abs(j-map_center)])-1\n",
    "            if mooredist ==0:\n",
    "                continue\n",
    "            n_param = int(val[0])\n",
    "            translations = [translation_rates[center_param][towards][n_param][mooredist]for towards in range(params)]\n",
    "            totsum += sum(translations) # Increases the total sum of cells that have some state\n",
    "            retprob += translations # Uses value to index type of cell and increase value in prob array.\n",
    "    if (totsum <= 0): # Is this correct? totsum is only 0 if the function is passed an empty matrix. \n",
    "        retprob = np.zeros(params)\n",
    "        retprob[center_param] = 1\n",
    "        return retprob\n",
    "    negative_part = 0\n",
    "    for g in range(params):\n",
    "        if retprob[g]<0:\n",
    "            totsum += (-1 *retprob[g])\n",
    "            retprob[g]=0\n",
    "    return retprob / float(totsum)\n",
    "\n",
    "def CA_city(init_mat, moore_n = 6, params = 3, debug = False):\n",
    "    \"\"\"\n",
    "    Loops through each cell and calculates its prob of changing state, then changes the state randomly.\n",
    "    \"\"\"\n",
    "    # Assumes initmat is of shape N,N,2 \n",
    "    init_dimx,init_dimy,init_pars = np.shape(init_mat)\n",
    "    \n",
    "    workgrid = np.zeros((init_dimx + 2 * moore_n, init_dimy + 2 * moore_n, init_pars)).astype(np.int8)\n",
    "    retgrid = init_mat.astype(np.int8)\n",
    "    workgrid[moore_n:-moore_n, moore_n:-moore_n] = init_mat.astype(np.int8)\n",
    "    # Loops through the matrix dimensions, calls mincelfun() to find the values of neighbour cells. \n",
    "    for i,rowarr in enumerate(init_mat):\n",
    "        for j,val in enumerate(rowarr):\n",
    "            probs = mincelfun(workgrid[i:i+1 + 2*moore_n,j:j+1+2*moore_n], params = params)\n",
    "            increase_param = np.random.choice(list(range(params)), 1, p = probs)\n",
    "            # if/else checks which value was randomly selected in previous line and updates matrix accordingly.\n",
    "            if increase_param == 0:\n",
    "                continue\n",
    "            elif increase_param == workgrid[i+moore_n, j+moore_n, 0]:\n",
    "                retgrid[i,j,1] += 1\n",
    "            else:\n",
    "                retgrid[i,j] = [increase_param,1]\n",
    "    return retgrid\n",
    "\n",
    "\n",
    "def init_grid(N,params):\n",
    "    \"\"\"\n",
    "    The function creates the initial state of the matrix and sets its values.\n",
    "    Takes the dimensions of the grid and parameters as arguments and returns initial condition of matrix.\n",
    "    \"\"\"\n",
    "    retgrid = np.zeros((N,N,2)).astype(np.int8)\n",
    "    center = math.floor(N/2) # finds the center of the grid\n",
    "    retgrid[:,:,1] = 1 # sets the center of the grid as a 1.\n",
    "    retgrid[center,center,0] =1\n",
    "    \n",
    "    return retgrid"
   ]
  },
  {
   "cell_type": "code",
   "execution_count": 201,
   "id": "41d80bc4",
   "metadata": {
    "tags": []
   },
   "outputs": [
    {
     "name": "stderr",
     "output_type": "stream",
     "text": [
      "C:\\Users\\alexk\\AppData\\Local\\Temp\\ipykernel_11904\\166609773.py:113: DeprecationWarning: setting an array element with a sequence. This was supported in some cases where the elements are arrays with a single element. For example `np.array([1, np.array([2])], dtype=int)`. In the future this will raise the same ValueError as `np.array([1, [2]], dtype=int)`.\n",
      "  retgrid[i,j] = [increase_param,1]\n"
     ]
    }
   ],
   "source": [
    "dimensions = 100\n",
    "time = 15\n",
    "solution_dev = np.empty((time,dimensions,dimensions,2))\n",
    "init_city = init_grid(dimensions,3)\n",
    "solution_dev[0] = init_city\n",
    "solution_dev[1] = CA_city(solution_dev[0],moore_n=6)\n",
    "for step in range(2,time):\n",
    "    solution_dev[step] = CA_city(solution_dev[step-1],moore_n=6)\n",
    "    "
   ]
  },
  {
   "cell_type": "code",
   "execution_count": 207,
   "id": "bddc9fba",
   "metadata": {
    "tags": []
   },
   "outputs": [
    {
     "data": {
      "text/plain": [
       "<matplotlib.image.AxesImage at 0x12d22266520>"
      ]
     },
     "execution_count": 207,
     "metadata": {},
     "output_type": "execute_result"
    },
    {
     "data": {
      "image/png": "[encoded data removed]",
      "text/plain": [
       "<Figure size 640x480 with 1 Axes>"
      ]
     },
     "metadata": {},
     "output_type": "display_data"
    }
   ],
   "source": [
    "plt.imshow(solution_dev[14,:,:,0], cmap = 'nipy_spectral', vmin = 0, vmax = 2)"
   ]
  },
  {
   "cell_type": "code",
   "execution_count": 203,
   "id": "cc7912c5",
   "metadata": {},
   "outputs": [
    {
     "data": {
      "text/plain": [
       "array([[ 0.  ,  0.  ,  0.  ,  0.  ,  0.  ,  0.  ],\n",
       "       [ 3.  ,  2.25,  1.5 ,  0.75,  0.75,  0.15],\n",
       "       [-3.  ,  3.  ,  1.5 ,  0.6 ,  0.15,  0.  ]])"
      ]
     },
     "execution_count": 203,
     "metadata": {},
     "output_type": "execute_result"
    }
   ],
   "source": [
    "translation_rates[0][1][:]"
   ]
  },
  {
   "cell_type": "code",
   "execution_count": 204,
   "id": "d694aa2f",
   "metadata": {},
   "outputs": [
    {
     "data": {
      "text/plain": [
       "array([[0., 0., 0., ..., 0., 0., 0.],\n",
       "       [0., 0., 0., ..., 0., 0., 0.],\n",
       "       [0., 0., 0., ..., 0., 0., 0.],\n",
       "       ...,\n",
       "       [0., 0., 0., ..., 1., 0., 0.],\n",
       "       [0., 0., 0., ..., 0., 0., 0.],\n",
       "       [0., 0., 0., ..., 0., 0., 0.]])"
      ]
     },
     "execution_count": 204,
     "metadata": {},
     "output_type": "execute_result"
    }
   ],
   "source": [
    "solution_dev[8,20:60,20:60,0]"
   ]
  },
  {
   "cell_type": "code",
   "execution_count": null,
   "id": "c9239eb4",
   "metadata": {},
   "outputs": [],
   "source": []
  },
  {
   "cell_type": "code",
   "execution_count": 209,
   "id": "26ca2d00",
   "metadata": {},
   "outputs": [
    {
     "data": {
      "text/plain": [
       "[(array([0., 1.]), array([9999,    1], dtype=int64)),\n",
       " (array([0., 1.]), array([9998,    2], dtype=int64)),\n",
       " (array([0., 1., 2.]), array([9996,    3,    1], dtype=int64)),\n",
       " (array([0., 1., 2.]), array([9987,   12,    1], dtype=int64)),\n",
       " (array([0., 1., 2.]), array([9967,   32,    1], dtype=int64)),\n",
       " (array([0., 1., 2.]), array([9940,   58,    2], dtype=int64)),\n",
       " (array([0., 1., 2.]), array([9885,  109,    6], dtype=int64)),\n",
       " (array([0., 1., 2.]), array([9808,  184,    8], dtype=int64)),\n",
       " (array([0., 1., 2.]), array([9690,  296,   14], dtype=int64)),\n",
       " (array([0., 1., 2.]), array([9535,  439,   26], dtype=int64)),\n",
       " (array([0., 1., 2.]), array([9324,  627,   49], dtype=int64)),\n",
       " (array([0., 1., 2.]), array([9045,  874,   81], dtype=int64)),\n",
       " (array([0., 1., 2.]), array([8713, 1149,  138], dtype=int64)),\n",
       " (array([0., 1., 2.]), array([8310, 1471,  219], dtype=int64)),\n",
       " (array([0., 1., 2.]), array([7862, 1820,  318], dtype=int64))]"
      ]
     },
     "execution_count": 209,
     "metadata": {},
     "output_type": "execute_result"
    }
   ],
   "source": [
    "state_occurrence = [np.unique(solution_dev[i,:,:,0], return_counts=True) for i in range(time)]\n",
    "state_occurrence[0:15]"
   ]
  },
  {
   "cell_type": "code",
   "execution_count": 210,
   "id": "2eaf9063",
   "metadata": {},
   "outputs": [],
   "source": [
    "total_cells = solution_dev[14,:,:,0].size\n",
    "state_ratio = [state_occurrence[i][1] / total_cells for i in range(2,time)]\n"
   ]
  },
  {
   "cell_type": "code",
   "execution_count": 211,
   "id": "ac16b4c9",
   "metadata": {},
   "outputs": [
    {
     "data": {
      "text/plain": [
       "[<matplotlib.lines.Line2D at 0x12d20739340>,\n",
       " <matplotlib.lines.Line2D at 0x12d207393a0>,\n",
       " <matplotlib.lines.Line2D at 0x12d207394c0>]"
      ]
     },
     "execution_count": 211,
     "metadata": {},
     "output_type": "execute_result"
    },
    {
     "data": {
      "image/png": "[encoded data removed]",
      "text/plain": [
       "<Figure size 640x480 with 1 Axes>"
      ]
     },
     "metadata": {},
     "output_type": "display_data"
    }
   ],
   "source": [
    "plt.plot(state_ratio)"
   ]
  },
  {
   "cell_type": "code",
   "execution_count": null,
   "id": "419d6b6b",
   "metadata": {},
   "outputs": [],
   "source": []
  },
  {
   "cell_type": "code",
   "execution_count": null,
   "id": "4db1e064",
   "metadata": {},
   "outputs": [],
   "source": []
  },
  {
   "cell_type": "code",
   "execution_count": null,
   "id": "8fba27b8",
   "metadata": {},
   "outputs": [],
   "source": []
  }
 ],
 "metadata": {
  "kernelspec": {
   "display_name": "Python 3 (ipykernel)",
   "language": "python",
   "name": "python3"
  },
  "language_info": {
   "codemirror_mode": {
    "name": "ipython",
    "version": 3
   },
   "file_extension": ".py",
   "mimetype": "text/x-python",
   "name": "python",
   "nbconvert_exporter": "python",
   "pygments_lexer": "ipython3",
   "version": "3.9.13"
  }
 },
 "nbformat": 4,
 "nbformat_minor": 5
}
