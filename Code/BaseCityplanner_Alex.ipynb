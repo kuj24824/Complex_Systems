{
 "cells": [
  {
   "cell_type": "code",
   "execution_count": 7,
   "id": "dac11bc1",
   "metadata": {
    "scrolled": true,
    "tags": []
   },
   "outputs": [
    {
     "name": "stderr",
     "output_type": "stream",
     "text": [
      "C:\\Users\\HP\\AppData\\Local\\Temp\\ipykernel_25512\\41549537.py:13: DeprecationWarning: Please use `binary_dilation` from the `scipy.ndimage` namespace, the `scipy.ndimage.morphology` namespace is deprecated.\n",
      "  from scipy.ndimage.morphology import binary_dilation\n",
      "City_planner.py:9: DeprecationWarning: Please use `binary_dilation` from the `scipy.ndimage` namespace, the `scipy.ndimage.morphology` namespace is deprecated.\n",
      "  from scipy.ndimage.morphology import binary_dilation\n"
     ]
    }
   ],
   "source": [
    "#------------------------\n",
    "# Libraries and files to import\n",
    "#------------------------\n",
    "\n",
    "import numpy as np\n",
    "import math\n",
    "import matplotlib.pyplot as plt\n",
    "import pandas as pd\n",
    "import powerlaw\n",
    "import csv\n",
    "from collections import Counter\n",
    "from scipy.ndimage import label, find_objects, generate_binary_structure\n",
    "from scipy.ndimage.morphology import binary_dilation\n",
    "from scipy.optimize import curve_fit\n",
    "from scipy.optimize import least_squares\n",
    "execfile(\"City_planner.py\")\n",
    "\n",
    "save_folder = \"sim_res\""
   ]
  },
  {
   "cell_type": "code",
   "execution_count": null,
   "id": "bddc9fba",
   "metadata": {
    "tags": []
   },
   "outputs": [
    {
     "name": "stderr",
     "output_type": "stream",
     "text": [
      "City_planner.py:104: DeprecationWarning: setting an array element with a sequence. This was supported in some cases where the elements are arrays with a single element. For example `np.array([1, np.array([2])], dtype=int)`. In the future this will raise the same ValueError as `np.array([1, [2]], dtype=int)`.\n",
      "  retgrid[i,j] = [increase_param,1]\n"
     ]
    }
   ],
   "source": [
    "#------------------------\n",
    "#Basic Simulation run for our model\n",
    "#------------------------\n",
    "\n",
    "#Parameter Definition \n",
    "time = 30\n",
    "grid_size = 100\n",
    "cust_cmap = plt.cm.colors.ListedColormap(['white', 'skyblue', 'grey', 'orange'])\n",
    "\n",
    "#Actual Calculation\n",
    "solution_dev = simulate_CA_city(grid_size,time,alpha = 2.2, amplify_c=5, amplify_i=200)\n",
    "\n",
    "#Plotting\n",
    "base_sol_plot = plt.imshow(solution_dev[time-1,:,:,0], vmin = 0, vmax = 3, cmap = cust_cmap)\n",
    "cbar = plt.colorbar(ticks=[0,1,2, 3], label='Land Use')\n",
    "cbar.set_ticklabels(['Vacant','Housing','Commercial', 'Industry'])\n",
    "plt.title(\"Our model after 40 iterations Grid 100x100\")\n",
    "plt.xlabel(\"X-Axis\")\n",
    "plt.ylabel(\"Y-Axis\")\n",
    "plt.show()"
   ]
  },
  {
   "cell_type": "code",
   "execution_count": null,
   "id": "77d2ecdc",
   "metadata": {},
   "outputs": [],
   "source": [
    "#------------------------\n",
    "#creating a run with differing alpha and c_groth values\n",
    "#------------------------\n",
    "\n",
    "#Parameter Definition\n",
    "time = 25\n",
    "grid_size = 75\n",
    "simulation_grid_repeats = 3\n",
    "alpha_start = 0\n",
    "alpha_stop = 4\n",
    "alpha_step = (alpha_stop-alpha_start)/(simulation_grid_repeats-1)\n",
    "simulation_results_grid = np.zeros((simulation_grid_repeats,simulation_grid_repeats,grid_size,grid_size)).astype(np.int8)\n",
    "\n",
    "\n",
    "#loop over 2^x scale for commercial growth rate 0.25-256\n",
    "growth_arr = np.arange(-1,4,5/simulation_grid_repeats)\n",
    "for i in range(simulation_grid_repeats):\n",
    "    c_growth = 2**growth_arr[i]\n",
    "    print(c_growth)\n",
    "    \n",
    "    #Loop over  alpha from 0.0 to 3.0 in 0.333 steps\n",
    "    for j,loc_alpha in enumerate(np.arange(alpha_start,alpha_stop+0.01,alpha_step)):\n",
    "        \n",
    "        #Actual Simulation\n",
    "        simulation_results_grid[i][j] = simulate_CA_city(grid_size,time,alpha = loc_alpha, amplify_c=c_growth)[time-1,:,:,0]\n",
    "        \n",
    "        #Saving the files\n",
    "        with open(save_folder+'/alpha_%.2f' % loc_alpha +'_c_growth_%.2f' % c_growth+'v3.csv', 'w',encoding=\"utf8\") as f:\n",
    "            writer = csv.writer(f)\n",
    "            for row in simulation_results_grid[i][j]:\n",
    "                rowhandle = ','.join(str(int(x)) for x in row)\n",
    "                writer.writerow(rowhandle)"
   ]
  },
  {
   "cell_type": "code",
   "execution_count": null,
   "id": "8cb9207e",
   "metadata": {},
   "outputs": [],
   "source": [
    "#------------------------\n",
    "#OPTIONAL!! Load the data from savefiles\n",
    "#------------------------\n",
    "\n",
    "#loop over 2^x scale for commercial growth rate 0.25-256\n",
    "#\"\"\"\n",
    "simulation_results_grid = np.zeros((simulation_grid_repeats,simulation_grid_repeats,grid_size,grid_size)).astype(np.int8)\n",
    "for i in range(simulation_grid_repeats):\n",
    "    c_growth = 2**growth_arr[i]\n",
    "    \n",
    "    #Loop over  alpha from 0.0 to 3.0 in 0.333 steps\n",
    "    for j,loc_alpha in enumerate(np.arange(alpha_start,alpha_stop+0.01,alpha_step)):\n",
    "        \n",
    "        #Load the data\n",
    "        with open(save_folder+'/alpha_%.2f' % loc_alpha +'_c_growth_%.2f' % c_growth+'v3.csv', 'r',encoding=\"utf8\") as f:\n",
    "            data_raw = list(csv.reader(f))\n",
    "            data = np.empty((grid_size,grid_size))\n",
    "            reduce = 0\n",
    "            for k,row in enumerate(data_raw):\n",
    "                if row != []:\n",
    "                    data[k-reduce] = list(filter(lambda character: character != ',', row))\n",
    "                else:\n",
    "                    reduce +=1\n",
    "            simulation_results_grid[i,j,:,:]= data\n",
    "#\"\"\""
   ]
  },
  {
   "cell_type": "code",
   "execution_count": null,
   "id": "2e06f592",
   "metadata": {},
   "outputs": [],
   "source": [
    "#------------------------\n",
    "#Perform a fractal dimension and conditional entropy analysis on the data\n",
    "#------------------------\n",
    "\n",
    "#Alocate the variables\n",
    "heat_map_fr_dim_probabilistic = np.zeros((simulation_grid_repeats,simulation_grid_repeats,2))\n",
    "heat_map_cond_ent_probabilistic = np.zeros((simulation_grid_repeats,simulation_grid_repeats))\n",
    "\n",
    "#loop over 2^x scale for commercial growth rate\n",
    "for i in range(simulation_grid_repeats):\n",
    "    \n",
    "    #Loop over  alpha\n",
    "    for j in range(simulation_grid_repeats):\n",
    "        #calculate Fractal Dimension\n",
    "        heat_map_fr_dim_probabilistic[i][j] = fractal_dimension( simulation_results_grid[i][j])[0]\n",
    "        \n",
    "        #Calculate Conditional entropy\n",
    "        heat_map_cond_ent_probabilistic[i][j] = conditional_entropy( simulation_results_grid[i][j])\n"
   ]
  },
  {
   "cell_type": "code",
   "execution_count": null,
   "id": "edea13f0",
   "metadata": {},
   "outputs": [],
   "source": [
    "#------------------------\n",
    "#plot the fractional dimension and conditional entropy Analysis\n",
    "#------------------------\n",
    "\n",
    "#Plot Fractal dimension\n",
    "fr_dim_plt = plt.imshow(heat_map_fr_dim_probabilistic[:,:,0])\n",
    "plt.title(\"Fractal Dimension\")\n",
    "plt.xlabel(\"alpha\")\n",
    "plt.xticks(list(range(simulation_grid_repeats))[::5], ['%.2f' % alph for alph in np.arange(alpha_start,alpha_stop+0.01,alpha_step)][::5])\n",
    "plt.ylabel(\"Comm. growth\")\n",
    "plt.yticks(list(range(simulation_grid_repeats)), ['%.2f' % 2**i for i in growth_arr])\n",
    "plt.colorbar(fr_dim_plt)\n",
    "plt.show()\n",
    "\n",
    "#Plot conditional entropy\n",
    "cond_ent_plt = plt.imshow(heat_map_cond_ent_probabilistic)\n",
    "plt.title(\"Conditional Entropy\")\n",
    "plt.xlabel(\"alpha\")\n",
    "plt.xticks(list(range(simulation_grid_repeats))[::5], ['%.2f' % alph for alph in np.arange(alpha_start,alpha_stop+0.01,alpha_step)][::5])\n",
    "plt.ylabel(\"Comm. growth\")\n",
    "plt.yticks(list(range(simulation_grid_repeats)), ['%.2f' % 2**i for i in growth_arr])\n",
    "plt.colorbar(cond_ent_plt)\n",
    "plt.show()"
   ]
  },
  {
   "cell_type": "code",
   "execution_count": null,
   "id": "736d5647",
   "metadata": {},
   "outputs": [],
   "source": []
  }
 ],
 "metadata": {
  "kernelspec": {
   "display_name": "Python 3 (ipykernel)",
   "language": "python",
   "name": "python3"
  },
  "language_info": {
   "codemirror_mode": {
    "name": "ipython",
    "version": 3
   },
   "file_extension": ".py",
   "mimetype": "text/x-python",
   "name": "python",
   "nbconvert_exporter": "python",
   "pygments_lexer": "ipython3",
   "version": "3.9.12"
  }
 },
 "nbformat": 4,
 "nbformat_minor": 5
}
