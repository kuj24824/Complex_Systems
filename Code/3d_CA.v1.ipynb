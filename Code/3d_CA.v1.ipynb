{
 "cells": [
  {
   "cell_type": "code",
   "execution_count": null,
   "id": "be9bb319",
   "metadata": {},
   "outputs": [],
   "source": [
    "import numpy as np\n",
    "\n",
    "import matplotlib.pyplot as plt"
   ]
  },
  {
   "cell_type": "code",
   "execution_count": null,
   "id": "e47d59ec",
   "metadata": {},
   "outputs": [],
   "source": [
    "#size of experiment\n",
    "size_of_exp = 50\n",
    "\n",
    "baseline = np.zeros(size_of_exp)\n",
    "#alter baseline\n",
    "baseline[size_of_exp-1] =1\n",
    "\n",
    "retarr = np.empty((size_of_exp,size_of_exp))\n",
    "retarr[0]=baseline\n",
    "\n",
    "def periodbound1D(vec):\n",
    "    #set the last entry before the first, and the first after the last.\n",
    "    ret_vec = np.append(np.append(vec[-1],vec),vec[0])\n",
    "    \n",
    "    return ret_vec\n",
    "def periodbound1D(vec):\n",
    "    #set the last entry before the first, and the first after the last.\n",
    "    ret_vec = np.append(np.append(vec[-1],vec),vec[0])\n",
    "    \n",
    "    return ret_vec\n",
    "def periodbound1D(vec):\n",
    "    #set the last entry before the first, and the first after the last.\n",
    "    ret_vec = np.append(np.append(vec[-1],vec),vec[0])\n",
    "    \n",
    "    return ret_vec\n",
    "\n",
    "def cellular_automata_iterator(in_baseline , rulepattern = np.zeros(size_of_exp)):\n",
    "    loc_baseline = periodbound1D(in_baseline)\n",
    "    ret_baseline = np.empty(len(in_baseline))\n",
    "    for i in range(len(in_baseline)):\n",
    "        rule = 0\n",
    "        if loc_baseline[i] ==1:\n",
    "            rule +=4\n",
    "        if loc_baseline[i+1] ==1:\n",
    "            rule +=2\n",
    "        if loc_baseline[i+2] ==1:\n",
    "            rule +=1\n",
    "        ret_baseline[i] =rulepattern[rule]\n",
    "    return ret_baseline\n"
   ]
  }
 ],
 "metadata": {
  "kernelspec": {
   "display_name": "Python 3 (ipykernel)",
   "language": "python",
   "name": "python3"
  },
  "language_info": {
   "codemirror_mode": {
    "name": "ipython",
    "version": 3
   },
   "file_extension": ".py",
   "mimetype": "text/x-python",
   "name": "python",
   "nbconvert_exporter": "python",
   "pygments_lexer": "ipython3",
   "version": "3.9.12"
  }
 },
 "nbformat": 4,
 "nbformat_minor": 5
}
