{
 "cells": [
  {
   "cell_type": "code",
   "execution_count": 2,
   "id": "dac11bc1",
   "metadata": {
    "tags": []
   },
   "outputs": [
    {
     "name": "stdout",
     "output_type": "stream",
     "text": [
      "Intel MKL WARNING: Support of Intel(R) Streaming SIMD Extensions 4.2 (Intel(R) SSE4.2) enabled only processors has been deprecated. Intel oneAPI Math Kernel Library 2025.0 will require Intel(R) Advanced Vector Extensions (Intel(R) AVX) instructions.\n",
      "Intel MKL WARNING: Support of Intel(R) Streaming SIMD Extensions 4.2 (Intel(R) SSE4.2) enabled only processors has been deprecated. Intel oneAPI Math Kernel Library 2025.0 will require Intel(R) Advanced Vector Extensions (Intel(R) AVX) instructions.\n"
     ]
    }
   ],
   "source": [
    "import numpy as np\n",
    "import math\n",
    "import matplotlib.pyplot as plt\n",
    "#np.uint8(22)"
   ]
  },
  {
   "cell_type": "code",
   "execution_count": 30,
   "id": "d4ef8d40",
   "metadata": {
    "tags": []
   },
   "outputs": [],
   "source": [
    "def mincelfun(inarr, params = 3):\n",
    "    \"\"\"\n",
    "    The function takes a timeslice of the array and calculates of proportions of each neighbour in Moore neighbourhood.\n",
    "    \"\"\"\n",
    "    retprob = np.zeros(params)\n",
    "    totsum = 0\n",
    "    for rowarr in inarr:\n",
    "        for val in rowarr:\n",
    "            totsum += val[1] # Increases the total sum of cells that have some state\n",
    "            try:\n",
    "                retprob[int(val[0])] += float(val[1]) # Uses value to index type of cell and increase value in prob array.\n",
    "            except:\n",
    "                print(rowarr)\n",
    "    if (totsum == 0): # Is this correct? totsum is only 0 if the function is passed an empty matrix. \n",
    "        retprob = np.zeros(params)\n",
    "        retprob[0] = 1\n",
    "        return retprob\n",
    "    return retprob / float(totsum)\n",
    "\n",
    "def CA_city(init_mat, moore_n = 1, params = 3, debug = False):\n",
    "    \"\"\"\n",
    "    Loops through each cell and calculates its prob of changing state, then changes the state randomly.\n",
    "    \"\"\"\n",
    "    # Assumes initmat is of shape N,N,2 \n",
    "    init_dimx, init_dimy, init_pars = np.shape(init_mat)\n",
    "    \n",
    "    workgrid = np.zeros((init_dimx + 2 * moore_n, init_dimy + 2 * moore_n, init_pars))\n",
    "    retgrid = init_mat.copy()\n",
    "    workgrid[moore_n:-moore_n, moore_n:-moore_n] = init_mat\n",
    "    # Loops through the matrix dimensions, calls mincelfun() to find the values of neighbour cells. \n",
    "    for i,rowarr in enumerate(init_mat):\n",
    "        for j,val in enumerate(rowarr):\n",
    "            probs = mincelfun(workgrid[i:i+1 + 2*moore_n,j:j+1+2*moore_n], params = 3)\n",
    "            increase_param = np.random.choice(list(range(params)), 1, p = probs)\n",
    "            # if/else checks which value was randomly selected in previous line and updates matrix accordingly.\n",
    "            if increase_param == 0:\n",
    "                continue\n",
    "            elif increase_param == workgrid[i+moore_n, j+moore_n, 0]:\n",
    "                retgrid[i,j,1] += 1\n",
    "            else:\n",
    "                retgrid[i,j] = [increase_param,1]\n",
    "    return retgrid\n",
    "\n",
    "\n",
    "def init_grid(N, params, init_housing_nr, init_type):\n",
    "    \"\"\"\n",
    "    The function creates the initial state of the matrix and sets its values.\n",
    "    Takes the dimensions of the grid and parameters as arguments and returns initial condition of matrix.\n",
    "    INPUT: N - Grid size/dimension, init_housing_nr - initial cells that are housing, init_type - \"random\" or \"deterministic\"\n",
    "    OUTPUT: initial grid is returned\n",
    "    \"\"\"\n",
    "    assert init_housing_nr > 0\n",
    "    assert init_type in ['random', 'center']\n",
    "    \n",
    "    retgrid = np.zeros((2,N,N))\n",
    "    if init_type == \"center\": # sets center of grid as initial cell with housing\n",
    "        center = math.floor(N/2) # finds the center of the grid\n",
    "        retgrid[0,center,center] = 1\n",
    "    elif init_type == \"random\": # sets several cells as housing in the initial grid.\n",
    "        init_xy = np.random.randint(0, N, [init_housing_nr,2])\n",
    "        for i in range(init_housing_nr): # loops through random numbers and sets cells as housing.\n",
    "            retgrid[0,init_xy[i][0], init_xy[i][1]] = 1\n",
    "    return retgrid"
   ]
  },
  {
   "cell_type": "code",
   "execution_count": 53,
   "id": "41d80bc4",
   "metadata": {
    "tags": []
   },
   "outputs": [],
   "source": [
    "dimensions = 40\n",
    "time = 20\n",
    "solution_dev = np.empty((time, 2, dimensions, dimensions))\n",
    "init_city = init_grid(dimensions,2,5,'random')\n",
    "\n",
    "solution_dev[0] = init_city\n",
    "#solution_dev[1] = CA_city(solution_dev[0])\n",
    "\n",
    "for step in range(1,time):\n",
    "    solution_dev[step] = CA_city(solution_dev[step-1])\n",
    "    "
   ]
  },
  {
   "cell_type": "code",
   "execution_count": 54,
   "id": "bddc9fba",
   "metadata": {
    "tags": []
   },
   "outputs": [
    {
     "data": {
      "text/plain": [
       "<matplotlib.image.AxesImage at 0x7fbef8a7bbb0>"
      ]
     },
     "execution_count": 54,
     "metadata": {},
     "output_type": "execute_result"
    },
    {
     "data": {
      "image/png": "[encoded data removed]",
      "text/plain": [
       "<Figure size 640x480 with 1 Axes>"
      ]
     },
     "metadata": {},
     "output_type": "display_data"
    }
   ],
   "source": [
    "plt.imshow(solution_dev[-1][0], cmap = 'nipy_spectral', vmin = 0, vmax = 60)"
   ]
  },
  {
   "cell_type": "code",
   "execution_count": null,
   "id": "4bf4b47a-7a6e-4d76-8aa4-22379cb6f7f8",
   "metadata": {
    "tags": []
   },
   "outputs": [],
   "source": []
  },
  {
   "cell_type": "code",
   "execution_count": 72,
   "id": "0a3e6b94-b23c-4393-9b4b-afab2ac14f13",
   "metadata": {
    "tags": []
   },
   "outputs": [],
   "source": [
    "# Hoshen-Kopelman Clustering algorithm\n",
    "#https://en.wikipedia.org/wiki/Hoshen–Kopelman_algorithm"
   ]
  },
  {
   "cell_type": "code",
   "execution_count": 127,
   "id": "956f1c7c-cd73-4d17-af51-be45e8321f19",
   "metadata": {
    "tags": []
   },
   "outputs": [
    {
     "name": "stdout",
     "output_type": "stream",
     "text": [
      "[[1 0 1 0 1 1 1 0 1 1]\n",
      " [1 0 1 1 1 0 1 1 1 1]\n",
      " [1 1 1 1 0 1 0 1 1 1]\n",
      " [1 1 1 1 0 1 1 1 1 0]\n",
      " [1 0 1 0 0 0 1 1 1 1]\n",
      " [0 1 0 1 1 0 1 1 1 0]\n",
      " [1 0 0 0 0 1 1 0 0 0]\n",
      " [0 1 0 0 1 1 0 0 1 0]\n",
      " [1 0 1 1 0 0 1 1 1 0]\n",
      " [1 0 1 0 1 1 0 0 1 0]]\n"
     ]
    },
    {
     "data": {
      "text/plain": [
       "array([[ 1.,  0.,  1.,  0.,  1.,  1.,  1.,  0.,  1.,  1.],\n",
       "       [ 1.,  0.,  1.,  1.,  1.,  0.,  1.,  1.,  1.,  1.],\n",
       "       [ 1.,  1.,  1.,  1.,  0.,  1.,  0.,  1.,  1.,  1.],\n",
       "       [ 1.,  1.,  1.,  1.,  0.,  1.,  1.,  1.,  1.,  0.],\n",
       "       [ 1.,  0.,  1.,  0.,  0.,  0.,  1.,  1.,  1.,  1.],\n",
       "       [ 0.,  6.,  0.,  7.,  7.,  0.,  1.,  1.,  1.,  0.],\n",
       "       [ 8.,  0.,  0.,  0.,  0.,  1.,  1.,  0.,  0.,  0.],\n",
       "       [ 0., 10.,  0.,  0.,  1.,  1.,  0.,  0., 12.,  0.],\n",
       "       [13.,  0., 14., 14.,  0.,  0., 12., 12., 12.,  0.],\n",
       "       [13.,  0., 14.,  0., 16., 16.,  0.,  0., 12.,  0.]])"
      ]
     },
     "execution_count": 127,
     "metadata": {},
     "output_type": "execute_result"
    }
   ],
   "source": [
    "def clustering(m):\n",
    "    \"\"\" Algorithm for finding clusters and labeling them. \n",
    "    INPUT: Matrix m with occupied 1 and unoccupied 0\"\"\"\n",
    "    dim = m.shape[0]\n",
    "    largest_label = 0;\n",
    "    label = np.zeros([dim, dim])\n",
    "    for x in range(dim):\n",
    "        for y in range(dim):\n",
    "            above = m[x-1, y]\n",
    "            left = m[x, y-1]\n",
    "            # For the boundary conditions, set above and left to zero.\n",
    "            if x == 0:\n",
    "                above = 0\n",
    "            if y == 0:\n",
    "                left = 0\n",
    "            # Assign cluster IDs according to neighbours   \n",
    "            if m[x,y] == 1:\n",
    "                if above == 0 and left == 0: # no neighbors, new cluster id\n",
    "                    largest_label += 1\n",
    "                    label[x,y] = largest_label\n",
    "                elif above == 1 and left == 0: # cluster extends from above, change id\n",
    "                    label[x,y] = label[x-1,y]\n",
    "                elif above == 0 and left == 1: # cluster extends from left, change id\n",
    "                    label[x,y] = label[x,y-1]\n",
    "                elif above == 1 and left == 1: # both belong to cluster, make a union\n",
    "                    m, label = cluster_union(m, label, x, y)\n",
    "                    \n",
    "    return label\n",
    "            \n",
    "def cluster_union(m, label, x, y):\n",
    "    \"\"\"\n",
    "    Union the two clusters and labels both clusters the same\n",
    "    \"\"\"\n",
    "    if label[x-1,y] == label[x,y-1]:\n",
    "        label[x,y] = label[x-1,y]\n",
    "        return m, label\n",
    "    else: # else different clusters so rename one\n",
    "        new_id, old_id = np.min([label[x-1,y], label[x,y-1]]), np.max([label[x-1,y], label[x,y-1]])\n",
    "        label[x,y] = new_id # set label of current x,y\n",
    "        label[label == old_id] = new_id # change all old IDs to the new one\n",
    "    return m, label\n",
    "\n",
    "m = np.random.randint(0,2, (10,10), dtype=int)\n",
    "print(m)\n",
    "clustering(m)"
   ]
  },
  {
   "cell_type": "code",
   "execution_count": null,
   "id": "8be33c7d-28d0-47ad-8d76-a1f0a5fb616b",
   "metadata": {},
   "outputs": [],
   "source": [
    "# Fractal Dimension from occupancy rate and radius from centre.\n",
    "from scipy.optimize import least_squares\n",
    "\n",
    "\n",
    "def fractal_dimension(m, centre, radius):\n",
    "    \"\"\"\n",
    "    Calculates the fractal dimension of the occupancy for each radius\n",
    "    \"\"\"\n",
    "    dim = m.shape[0] # get the array dimension\n",
    "    distance = np.zeros([dim,dim])\n",
    "    radius = np.zeros(10,2)\n",
    "    radius[:,0] = range(10) # sets the range to loop over for occupancy\n",
    "    for i in range(dim):\n",
    "        for j in range(dim):\n",
    "            distance[i,j] = np.sqrt((centre[0] - i) ** 2 + (centre[1] - j) ** 2)\n",
    "    # logic is to filter spots within distance, then multiply with m matrix to find spots where there are occupants\n",
    "    # assuming empty spots are marked with zero and sum the spots within raidus and with occupants.\n",
    "    for r in radius[:,0]: \n",
    "        current_distance = np.where(distance < radius, 1, 0)\n",
    "        radius[r,1] = (current_distance * m).sum()\n",
    "    \n",
    "    fractal_d = least_squares(np.log(radius[:,1]), np.log(radius[:,0])).x[1] # area is y axis and radius on x, returns coef\n",
    "    return fractal_d"
   ]
  },
  {
   "cell_type": "code",
   "execution_count": null,
   "id": "ce2d9fe0-47fe-49f6-ae24-405dfecc8a05",
   "metadata": {},
   "outputs": [],
   "source": []
  },
  {
   "cell_type": "code",
   "execution_count": null,
   "id": "e3898071-15e2-4aec-9773-e5b94d9810f0",
   "metadata": {},
   "outputs": [],
   "source": []
  }
 ],
 "metadata": {
  "kernelspec": {
   "display_name": "Python 3 (ipykernel)",
   "language": "python",
   "name": "python3"
  },
  "language_info": {
   "codemirror_mode": {
    "name": "ipython",
    "version": 3
   },
   "file_extension": ".py",
   "mimetype": "text/x-python",
   "name": "python",
   "nbconvert_exporter": "python",
   "pygments_lexer": "ipython3",
   "version": "3.9.13"
  }
 },
 "nbformat": 4,
 "nbformat_minor": 5
}
